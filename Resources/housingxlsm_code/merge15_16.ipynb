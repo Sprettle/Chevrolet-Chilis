{
 "metadata": {
  "language_info": {
   "codemirror_mode": {
    "name": "ipython",
    "version": 3
   },
   "file_extension": ".py",
   "mimetype": "text/x-python",
   "name": "python",
   "nbconvert_exporter": "python",
   "pygments_lexer": "ipython3",
   "version": "3.6.10-final"
  },
  "orig_nbformat": 2,
  "kernelspec": {
   "name": "python3",
   "display_name": "Python 3",
   "language": "python"
  }
 },
 "nbformat": 4,
 "nbformat_minor": 2,
 "cells": [
  {
   "cell_type": "code",
   "execution_count": 1,
   "metadata": {},
   "outputs": [
    {
     "output_type": "stream",
     "name": "stdout",
     "text": [
      "Requirement already satisfied: openpyxl in /Users/annabelcheong/opt/anaconda3/envs/PythonData/lib/python3.6/site-packages (3.0.6)\n",
      "Requirement already satisfied: jdcal in /Users/annabelcheong/opt/anaconda3/envs/PythonData/lib/python3.6/site-packages (from openpyxl) (1.4.1)\n",
      "Requirement already satisfied: et-xmlfile in /Users/annabelcheong/opt/anaconda3/envs/PythonData/lib/python3.6/site-packages (from openpyxl) (1.0.1)\n",
      "Note: you may need to restart the kernel to use updated packages.\n"
     ]
    }
   ],
   "source": [
    "pip install openpyxl"
   ]
  },
  {
   "cell_type": "code",
   "execution_count": 2,
   "metadata": {},
   "outputs": [],
   "source": [
    "import pandas as pd"
   ]
  },
  {
   "cell_type": "code",
   "execution_count": 3,
   "metadata": {},
   "outputs": [
    {
     "output_type": "execute_result",
     "data": {
      "text/plain": [
       "               City          Suburb  Sales Q3 2015  Median Q3 2015\n",
       "0          ADELAIDE        ADELAIDE            5.0        600000.0\n",
       "1          ADELAIDE  NORTH ADELAIDE            6.0       1370000.0\n",
       "2    ADELAIDE HILLS         ALDGATE            6.0        802500.0\n",
       "3    ADELAIDE HILLS          ASHTON            NaN             NaN\n",
       "4    ADELAIDE HILLS    BASKET RANGE            NaN             NaN\n",
       "..              ...             ...            ...             ...\n",
       "472    WEST TORRENS       THEBARTON            3.0        546000.0\n",
       "473    WEST TORRENS    TORRENSVILLE           12.0        602500.0\n",
       "474    WEST TORRENS       UNDERDALE            7.0        580000.0\n",
       "475    WEST TORRENS      WEST BEACH            8.0        728000.0\n",
       "476    WEST TORRENS   WEST RICHMOND            3.0        392500.0\n",
       "\n",
       "[477 rows x 4 columns]"
      ],
      "text/html": "<div>\n<style scoped>\n    .dataframe tbody tr th:only-of-type {\n        vertical-align: middle;\n    }\n\n    .dataframe tbody tr th {\n        vertical-align: top;\n    }\n\n    .dataframe thead th {\n        text-align: right;\n    }\n</style>\n<table border=\"1\" class=\"dataframe\">\n  <thead>\n    <tr style=\"text-align: right;\">\n      <th></th>\n      <th>City</th>\n      <th>Suburb</th>\n      <th>Sales Q3 2015</th>\n      <th>Median Q3 2015</th>\n    </tr>\n  </thead>\n  <tbody>\n    <tr>\n      <th>0</th>\n      <td>ADELAIDE</td>\n      <td>ADELAIDE</td>\n      <td>5.0</td>\n      <td>600000.0</td>\n    </tr>\n    <tr>\n      <th>1</th>\n      <td>ADELAIDE</td>\n      <td>NORTH ADELAIDE</td>\n      <td>6.0</td>\n      <td>1370000.0</td>\n    </tr>\n    <tr>\n      <th>2</th>\n      <td>ADELAIDE HILLS</td>\n      <td>ALDGATE</td>\n      <td>6.0</td>\n      <td>802500.0</td>\n    </tr>\n    <tr>\n      <th>3</th>\n      <td>ADELAIDE HILLS</td>\n      <td>ASHTON</td>\n      <td>NaN</td>\n      <td>NaN</td>\n    </tr>\n    <tr>\n      <th>4</th>\n      <td>ADELAIDE HILLS</td>\n      <td>BASKET RANGE</td>\n      <td>NaN</td>\n      <td>NaN</td>\n    </tr>\n    <tr>\n      <th>...</th>\n      <td>...</td>\n      <td>...</td>\n      <td>...</td>\n      <td>...</td>\n    </tr>\n    <tr>\n      <th>472</th>\n      <td>WEST TORRENS</td>\n      <td>THEBARTON</td>\n      <td>3.0</td>\n      <td>546000.0</td>\n    </tr>\n    <tr>\n      <th>473</th>\n      <td>WEST TORRENS</td>\n      <td>TORRENSVILLE</td>\n      <td>12.0</td>\n      <td>602500.0</td>\n    </tr>\n    <tr>\n      <th>474</th>\n      <td>WEST TORRENS</td>\n      <td>UNDERDALE</td>\n      <td>7.0</td>\n      <td>580000.0</td>\n    </tr>\n    <tr>\n      <th>475</th>\n      <td>WEST TORRENS</td>\n      <td>WEST BEACH</td>\n      <td>8.0</td>\n      <td>728000.0</td>\n    </tr>\n    <tr>\n      <th>476</th>\n      <td>WEST TORRENS</td>\n      <td>WEST RICHMOND</td>\n      <td>3.0</td>\n      <td>392500.0</td>\n    </tr>\n  </tbody>\n</table>\n<p>477 rows × 4 columns</p>\n</div>"
     },
     "metadata": {},
     "execution_count": 3
    }
   ],
   "source": [
    "q32015 = \"../housingcsv/2015q3.xlsx\"\n",
    "df1 = pd.read_excel(q32015,engine='openpyxl')\n",
    "refine1 = df1.drop(['Sales\\n3Q 2014', 'Median\\n3Q 2014', 'Median\\nChange'], axis=1)\n",
    "refine1 = refine1.rename(columns={'Sales\\n3Q 2015': 'Sales Q3 2015', 'Median\\n3Q 2015': 'Median Q3 2015'})\n",
    "refine1"
   ]
  },
  {
   "cell_type": "code",
   "execution_count": 4,
   "metadata": {},
   "outputs": [
    {
     "output_type": "execute_result",
     "data": {
      "text/plain": [
       "               City          Suburb  Sales Q4 2015  Median Q4 2015\n",
       "0          ADELAIDE        ADELAIDE            5.0        320000.0\n",
       "1          ADELAIDE  NORTH ADELAIDE            4.0       1300000.0\n",
       "2    ADELAIDE HILLS         ALDGATE            7.0        668750.0\n",
       "3    ADELAIDE HILLS          ASHTON            NaN             NaN\n",
       "4    ADELAIDE HILLS    BASKET RANGE            NaN             NaN\n",
       "..              ...             ...            ...             ...\n",
       "473    WEST TORRENS    TORRENSVILLE           10.0        576250.0\n",
       "474    WEST TORRENS       UNDERDALE            3.0        511000.0\n",
       "475    WEST TORRENS      WEST BEACH            8.0        633500.0\n",
       "476    WEST TORRENS   WEST RICHMOND            4.0        353000.0\n",
       "477             NaN             NaN            NaN             NaN\n",
       "\n",
       "[478 rows x 4 columns]"
      ],
      "text/html": "<div>\n<style scoped>\n    .dataframe tbody tr th:only-of-type {\n        vertical-align: middle;\n    }\n\n    .dataframe tbody tr th {\n        vertical-align: top;\n    }\n\n    .dataframe thead th {\n        text-align: right;\n    }\n</style>\n<table border=\"1\" class=\"dataframe\">\n  <thead>\n    <tr style=\"text-align: right;\">\n      <th></th>\n      <th>City</th>\n      <th>Suburb</th>\n      <th>Sales Q4 2015</th>\n      <th>Median Q4 2015</th>\n    </tr>\n  </thead>\n  <tbody>\n    <tr>\n      <th>0</th>\n      <td>ADELAIDE</td>\n      <td>ADELAIDE</td>\n      <td>5.0</td>\n      <td>320000.0</td>\n    </tr>\n    <tr>\n      <th>1</th>\n      <td>ADELAIDE</td>\n      <td>NORTH ADELAIDE</td>\n      <td>4.0</td>\n      <td>1300000.0</td>\n    </tr>\n    <tr>\n      <th>2</th>\n      <td>ADELAIDE HILLS</td>\n      <td>ALDGATE</td>\n      <td>7.0</td>\n      <td>668750.0</td>\n    </tr>\n    <tr>\n      <th>3</th>\n      <td>ADELAIDE HILLS</td>\n      <td>ASHTON</td>\n      <td>NaN</td>\n      <td>NaN</td>\n    </tr>\n    <tr>\n      <th>4</th>\n      <td>ADELAIDE HILLS</td>\n      <td>BASKET RANGE</td>\n      <td>NaN</td>\n      <td>NaN</td>\n    </tr>\n    <tr>\n      <th>...</th>\n      <td>...</td>\n      <td>...</td>\n      <td>...</td>\n      <td>...</td>\n    </tr>\n    <tr>\n      <th>473</th>\n      <td>WEST TORRENS</td>\n      <td>TORRENSVILLE</td>\n      <td>10.0</td>\n      <td>576250.0</td>\n    </tr>\n    <tr>\n      <th>474</th>\n      <td>WEST TORRENS</td>\n      <td>UNDERDALE</td>\n      <td>3.0</td>\n      <td>511000.0</td>\n    </tr>\n    <tr>\n      <th>475</th>\n      <td>WEST TORRENS</td>\n      <td>WEST BEACH</td>\n      <td>8.0</td>\n      <td>633500.0</td>\n    </tr>\n    <tr>\n      <th>476</th>\n      <td>WEST TORRENS</td>\n      <td>WEST RICHMOND</td>\n      <td>4.0</td>\n      <td>353000.0</td>\n    </tr>\n    <tr>\n      <th>477</th>\n      <td>NaN</td>\n      <td>NaN</td>\n      <td>NaN</td>\n      <td>NaN</td>\n    </tr>\n  </tbody>\n</table>\n<p>478 rows × 4 columns</p>\n</div>"
     },
     "metadata": {},
     "execution_count": 4
    }
   ],
   "source": [
    "q42015 = '../housingcsv/2015q4.xlsx'\n",
    "df2 = pd.read_excel(q42015,engine='openpyxl')\n",
    "refine2 = df2.drop(['Sales\\n4Q 2014', 'Median\\n4Q 2014', 'Median\\nChange'], axis=1)\n",
    "refine2 = refine2.rename(columns={'Sales\\n4Q 2015': 'Sales Q4 2015', 'Median\\n4Q 2015': 'Median Q4 2015'})\n",
    "refine2"
   ]
  },
  {
   "cell_type": "code",
   "execution_count": 5,
   "metadata": {},
   "outputs": [
    {
     "output_type": "execute_result",
     "data": {
      "text/plain": [
       "               City          Suburb  Sales Q1 2016  Median Q1 2016\n",
       "0          ADELAIDE        ADELAIDE            3.0        750000.0\n",
       "1          ADELAIDE  NORTH ADELAIDE           10.0        900500.0\n",
       "2    ADELAIDE HILLS         ALDGATE           13.0        715000.0\n",
       "3    ADELAIDE HILLS          ASHTON            NaN             NaN\n",
       "4    ADELAIDE HILLS    BASKET RANGE            NaN             NaN\n",
       "..              ...             ...            ...             ...\n",
       "473    WEST TORRENS    TORRENSVILLE            7.0        537500.0\n",
       "474    WEST TORRENS       UNDERDALE            3.0        533000.0\n",
       "475    WEST TORRENS      WEST BEACH            7.0        825000.0\n",
       "476    WEST TORRENS   WEST RICHMOND            3.0        410000.0\n",
       "477             NaN             NaN            NaN             NaN\n",
       "\n",
       "[478 rows x 4 columns]"
      ],
      "text/html": "<div>\n<style scoped>\n    .dataframe tbody tr th:only-of-type {\n        vertical-align: middle;\n    }\n\n    .dataframe tbody tr th {\n        vertical-align: top;\n    }\n\n    .dataframe thead th {\n        text-align: right;\n    }\n</style>\n<table border=\"1\" class=\"dataframe\">\n  <thead>\n    <tr style=\"text-align: right;\">\n      <th></th>\n      <th>City</th>\n      <th>Suburb</th>\n      <th>Sales Q1 2016</th>\n      <th>Median Q1 2016</th>\n    </tr>\n  </thead>\n  <tbody>\n    <tr>\n      <th>0</th>\n      <td>ADELAIDE</td>\n      <td>ADELAIDE</td>\n      <td>3.0</td>\n      <td>750000.0</td>\n    </tr>\n    <tr>\n      <th>1</th>\n      <td>ADELAIDE</td>\n      <td>NORTH ADELAIDE</td>\n      <td>10.0</td>\n      <td>900500.0</td>\n    </tr>\n    <tr>\n      <th>2</th>\n      <td>ADELAIDE HILLS</td>\n      <td>ALDGATE</td>\n      <td>13.0</td>\n      <td>715000.0</td>\n    </tr>\n    <tr>\n      <th>3</th>\n      <td>ADELAIDE HILLS</td>\n      <td>ASHTON</td>\n      <td>NaN</td>\n      <td>NaN</td>\n    </tr>\n    <tr>\n      <th>4</th>\n      <td>ADELAIDE HILLS</td>\n      <td>BASKET RANGE</td>\n      <td>NaN</td>\n      <td>NaN</td>\n    </tr>\n    <tr>\n      <th>...</th>\n      <td>...</td>\n      <td>...</td>\n      <td>...</td>\n      <td>...</td>\n    </tr>\n    <tr>\n      <th>473</th>\n      <td>WEST TORRENS</td>\n      <td>TORRENSVILLE</td>\n      <td>7.0</td>\n      <td>537500.0</td>\n    </tr>\n    <tr>\n      <th>474</th>\n      <td>WEST TORRENS</td>\n      <td>UNDERDALE</td>\n      <td>3.0</td>\n      <td>533000.0</td>\n    </tr>\n    <tr>\n      <th>475</th>\n      <td>WEST TORRENS</td>\n      <td>WEST BEACH</td>\n      <td>7.0</td>\n      <td>825000.0</td>\n    </tr>\n    <tr>\n      <th>476</th>\n      <td>WEST TORRENS</td>\n      <td>WEST RICHMOND</td>\n      <td>3.0</td>\n      <td>410000.0</td>\n    </tr>\n    <tr>\n      <th>477</th>\n      <td>NaN</td>\n      <td>NaN</td>\n      <td>NaN</td>\n      <td>NaN</td>\n    </tr>\n  </tbody>\n</table>\n<p>478 rows × 4 columns</p>\n</div>"
     },
     "metadata": {},
     "execution_count": 5
    }
   ],
   "source": [
    "q12016 = '../housingcsv/2016q1.xlsx'\n",
    "df3 = pd.read_excel(q12016,engine='openpyxl')\n",
    "refine3 = df3.drop(['Sales\\n1Q 2015', 'Median\\n1Q 2015', 'Median\\nChange'], axis=1)\n",
    "refine3 = refine3.rename(columns={'Sales\\n1Q 2016': 'Sales Q1 2016', 'Median\\n1Q 2016': 'Median Q1 2016'})\n",
    "refine3"
   ]
  },
  {
   "cell_type": "code",
   "execution_count": 6,
   "metadata": {},
   "outputs": [
    {
     "output_type": "execute_result",
     "data": {
      "text/plain": [
       "               City          Suburb  Sales Q2 2016  Median Q2 2016\n",
       "0          ADELAIDE        ADELAIDE            NaN             NaN\n",
       "1          ADELAIDE  NORTH ADELAIDE           14.0        892500.0\n",
       "2    ADELAIDE HILLS         ALDGATE           16.0        750000.0\n",
       "3    ADELAIDE HILLS          ASHTON            NaN             NaN\n",
       "4    ADELAIDE HILLS    BASKET RANGE            NaN             NaN\n",
       "..              ...             ...            ...             ...\n",
       "473    WEST TORRENS       THEBARTON            6.0        498750.0\n",
       "474    WEST TORRENS    TORRENSVILLE            7.0        627500.0\n",
       "475    WEST TORRENS       UNDERDALE            8.0        529000.0\n",
       "476    WEST TORRENS      WEST BEACH            7.0        706000.0\n",
       "477    WEST TORRENS   WEST RICHMOND            1.0        390000.0\n",
       "\n",
       "[478 rows x 4 columns]"
      ],
      "text/html": "<div>\n<style scoped>\n    .dataframe tbody tr th:only-of-type {\n        vertical-align: middle;\n    }\n\n    .dataframe tbody tr th {\n        vertical-align: top;\n    }\n\n    .dataframe thead th {\n        text-align: right;\n    }\n</style>\n<table border=\"1\" class=\"dataframe\">\n  <thead>\n    <tr style=\"text-align: right;\">\n      <th></th>\n      <th>City</th>\n      <th>Suburb</th>\n      <th>Sales Q2 2016</th>\n      <th>Median Q2 2016</th>\n    </tr>\n  </thead>\n  <tbody>\n    <tr>\n      <th>0</th>\n      <td>ADELAIDE</td>\n      <td>ADELAIDE</td>\n      <td>NaN</td>\n      <td>NaN</td>\n    </tr>\n    <tr>\n      <th>1</th>\n      <td>ADELAIDE</td>\n      <td>NORTH ADELAIDE</td>\n      <td>14.0</td>\n      <td>892500.0</td>\n    </tr>\n    <tr>\n      <th>2</th>\n      <td>ADELAIDE HILLS</td>\n      <td>ALDGATE</td>\n      <td>16.0</td>\n      <td>750000.0</td>\n    </tr>\n    <tr>\n      <th>3</th>\n      <td>ADELAIDE HILLS</td>\n      <td>ASHTON</td>\n      <td>NaN</td>\n      <td>NaN</td>\n    </tr>\n    <tr>\n      <th>4</th>\n      <td>ADELAIDE HILLS</td>\n      <td>BASKET RANGE</td>\n      <td>NaN</td>\n      <td>NaN</td>\n    </tr>\n    <tr>\n      <th>...</th>\n      <td>...</td>\n      <td>...</td>\n      <td>...</td>\n      <td>...</td>\n    </tr>\n    <tr>\n      <th>473</th>\n      <td>WEST TORRENS</td>\n      <td>THEBARTON</td>\n      <td>6.0</td>\n      <td>498750.0</td>\n    </tr>\n    <tr>\n      <th>474</th>\n      <td>WEST TORRENS</td>\n      <td>TORRENSVILLE</td>\n      <td>7.0</td>\n      <td>627500.0</td>\n    </tr>\n    <tr>\n      <th>475</th>\n      <td>WEST TORRENS</td>\n      <td>UNDERDALE</td>\n      <td>8.0</td>\n      <td>529000.0</td>\n    </tr>\n    <tr>\n      <th>476</th>\n      <td>WEST TORRENS</td>\n      <td>WEST BEACH</td>\n      <td>7.0</td>\n      <td>706000.0</td>\n    </tr>\n    <tr>\n      <th>477</th>\n      <td>WEST TORRENS</td>\n      <td>WEST RICHMOND</td>\n      <td>1.0</td>\n      <td>390000.0</td>\n    </tr>\n  </tbody>\n</table>\n<p>478 rows × 4 columns</p>\n</div>"
     },
     "metadata": {},
     "execution_count": 6
    }
   ],
   "source": [
    "q22016 = '../housingcsv/2016q2.xlsx'\n",
    "df4 = pd.read_excel(q22016,engine='openpyxl')\n",
    "refine4 = df4.drop(['Sales\\n2Q 2015', 'Median\\n2Q 2015', 'Median\\nChange'], axis=1)\n",
    "refine4 = refine4.rename(columns={'Sales\\n2Q 2016': 'Sales Q2 2016', 'Median\\n2Q 2016': 'Median Q2 2016'})\n",
    "refine4"
   ]
  },
  {
   "cell_type": "code",
   "execution_count": 7,
   "metadata": {},
   "outputs": [
    {
     "output_type": "execute_result",
     "data": {
      "text/plain": [
       "               City          Suburb  Sales Q3 2015  Median Q3 2015  \\\n",
       "1          ADELAIDE  NORTH ADELAIDE            6.0       1370000.0   \n",
       "2    ADELAIDE HILLS         ALDGATE            6.0        802500.0   \n",
       "5    ADELAIDE HILLS          BELAIR           23.0        540000.0   \n",
       "7    ADELAIDE HILLS     BRIDGEWATER           16.0        465000.0   \n",
       "12   ADELAIDE HILLS         CRAFERS            7.0        617500.0   \n",
       "..              ...             ...            ...             ...   \n",
       "471    WEST TORRENS        RICHMOND            9.0        420000.0   \n",
       "473    WEST TORRENS    TORRENSVILLE           12.0        602500.0   \n",
       "474    WEST TORRENS       UNDERDALE            7.0        580000.0   \n",
       "475    WEST TORRENS      WEST BEACH            8.0        728000.0   \n",
       "476    WEST TORRENS   WEST RICHMOND            3.0        392500.0   \n",
       "\n",
       "     Sales Q4 2015  Median Q4 2015  Sales Q1 2016  Median Q1 2016  \\\n",
       "1              4.0       1300000.0           10.0        900500.0   \n",
       "2              7.0        668750.0           13.0        715000.0   \n",
       "5             16.0        550000.0           13.0        577500.0   \n",
       "7             12.0        477000.0           16.0        475000.0   \n",
       "12             3.0        678250.0            8.0        640500.0   \n",
       "..             ...             ...            ...             ...   \n",
       "471            4.0        526500.0           11.0        456500.0   \n",
       "473           10.0        576250.0            7.0        537500.0   \n",
       "474            3.0        511000.0            3.0        533000.0   \n",
       "475            8.0        633500.0            7.0        825000.0   \n",
       "476            4.0        353000.0            3.0        410000.0   \n",
       "\n",
       "     Sales Q2 2016  Median Q2 2016  \n",
       "1             14.0        892500.0  \n",
       "2             16.0        750000.0  \n",
       "5             15.0        561000.0  \n",
       "7             18.0        432000.0  \n",
       "12             3.0        537000.0  \n",
       "..             ...             ...  \n",
       "471           10.0        546000.0  \n",
       "473            7.0        627500.0  \n",
       "474            8.0        529000.0  \n",
       "475            7.0        706000.0  \n",
       "476            1.0        390000.0  \n",
       "\n",
       "[327 rows x 10 columns]"
      ],
      "text/html": "<div>\n<style scoped>\n    .dataframe tbody tr th:only-of-type {\n        vertical-align: middle;\n    }\n\n    .dataframe tbody tr th {\n        vertical-align: top;\n    }\n\n    .dataframe thead th {\n        text-align: right;\n    }\n</style>\n<table border=\"1\" class=\"dataframe\">\n  <thead>\n    <tr style=\"text-align: right;\">\n      <th></th>\n      <th>City</th>\n      <th>Suburb</th>\n      <th>Sales Q3 2015</th>\n      <th>Median Q3 2015</th>\n      <th>Sales Q4 2015</th>\n      <th>Median Q4 2015</th>\n      <th>Sales Q1 2016</th>\n      <th>Median Q1 2016</th>\n      <th>Sales Q2 2016</th>\n      <th>Median Q2 2016</th>\n    </tr>\n  </thead>\n  <tbody>\n    <tr>\n      <th>1</th>\n      <td>ADELAIDE</td>\n      <td>NORTH ADELAIDE</td>\n      <td>6.0</td>\n      <td>1370000.0</td>\n      <td>4.0</td>\n      <td>1300000.0</td>\n      <td>10.0</td>\n      <td>900500.0</td>\n      <td>14.0</td>\n      <td>892500.0</td>\n    </tr>\n    <tr>\n      <th>2</th>\n      <td>ADELAIDE HILLS</td>\n      <td>ALDGATE</td>\n      <td>6.0</td>\n      <td>802500.0</td>\n      <td>7.0</td>\n      <td>668750.0</td>\n      <td>13.0</td>\n      <td>715000.0</td>\n      <td>16.0</td>\n      <td>750000.0</td>\n    </tr>\n    <tr>\n      <th>5</th>\n      <td>ADELAIDE HILLS</td>\n      <td>BELAIR</td>\n      <td>23.0</td>\n      <td>540000.0</td>\n      <td>16.0</td>\n      <td>550000.0</td>\n      <td>13.0</td>\n      <td>577500.0</td>\n      <td>15.0</td>\n      <td>561000.0</td>\n    </tr>\n    <tr>\n      <th>7</th>\n      <td>ADELAIDE HILLS</td>\n      <td>BRIDGEWATER</td>\n      <td>16.0</td>\n      <td>465000.0</td>\n      <td>12.0</td>\n      <td>477000.0</td>\n      <td>16.0</td>\n      <td>475000.0</td>\n      <td>18.0</td>\n      <td>432000.0</td>\n    </tr>\n    <tr>\n      <th>12</th>\n      <td>ADELAIDE HILLS</td>\n      <td>CRAFERS</td>\n      <td>7.0</td>\n      <td>617500.0</td>\n      <td>3.0</td>\n      <td>678250.0</td>\n      <td>8.0</td>\n      <td>640500.0</td>\n      <td>3.0</td>\n      <td>537000.0</td>\n    </tr>\n    <tr>\n      <th>...</th>\n      <td>...</td>\n      <td>...</td>\n      <td>...</td>\n      <td>...</td>\n      <td>...</td>\n      <td>...</td>\n      <td>...</td>\n      <td>...</td>\n      <td>...</td>\n      <td>...</td>\n    </tr>\n    <tr>\n      <th>471</th>\n      <td>WEST TORRENS</td>\n      <td>RICHMOND</td>\n      <td>9.0</td>\n      <td>420000.0</td>\n      <td>4.0</td>\n      <td>526500.0</td>\n      <td>11.0</td>\n      <td>456500.0</td>\n      <td>10.0</td>\n      <td>546000.0</td>\n    </tr>\n    <tr>\n      <th>473</th>\n      <td>WEST TORRENS</td>\n      <td>TORRENSVILLE</td>\n      <td>12.0</td>\n      <td>602500.0</td>\n      <td>10.0</td>\n      <td>576250.0</td>\n      <td>7.0</td>\n      <td>537500.0</td>\n      <td>7.0</td>\n      <td>627500.0</td>\n    </tr>\n    <tr>\n      <th>474</th>\n      <td>WEST TORRENS</td>\n      <td>UNDERDALE</td>\n      <td>7.0</td>\n      <td>580000.0</td>\n      <td>3.0</td>\n      <td>511000.0</td>\n      <td>3.0</td>\n      <td>533000.0</td>\n      <td>8.0</td>\n      <td>529000.0</td>\n    </tr>\n    <tr>\n      <th>475</th>\n      <td>WEST TORRENS</td>\n      <td>WEST BEACH</td>\n      <td>8.0</td>\n      <td>728000.0</td>\n      <td>8.0</td>\n      <td>633500.0</td>\n      <td>7.0</td>\n      <td>825000.0</td>\n      <td>7.0</td>\n      <td>706000.0</td>\n    </tr>\n    <tr>\n      <th>476</th>\n      <td>WEST TORRENS</td>\n      <td>WEST RICHMOND</td>\n      <td>3.0</td>\n      <td>392500.0</td>\n      <td>4.0</td>\n      <td>353000.0</td>\n      <td>3.0</td>\n      <td>410000.0</td>\n      <td>1.0</td>\n      <td>390000.0</td>\n    </tr>\n  </tbody>\n</table>\n<p>327 rows × 10 columns</p>\n</div>"
     },
     "metadata": {},
     "execution_count": 7
    }
   ],
   "source": [
    "merged1 = pd.merge(refine1,refine2)\n",
    "merged2 = pd.merge(refine3,refine4)\n",
    "final = pd.merge(merged1,merged2)\n",
    "final = final.dropna(how='any')\n",
    "final"
   ]
  },
  {
   "cell_type": "code",
   "execution_count": 8,
   "metadata": {},
   "outputs": [],
   "source": [
    "final.to_csv(\"y15_16_house.csv\")"
   ]
  }
 ]
}