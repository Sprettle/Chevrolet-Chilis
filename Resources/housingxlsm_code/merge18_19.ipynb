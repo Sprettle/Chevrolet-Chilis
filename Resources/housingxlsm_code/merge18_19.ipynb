{
 "metadata": {
  "language_info": {
   "codemirror_mode": {
    "name": "ipython",
    "version": 3
   },
   "file_extension": ".py",
   "mimetype": "text/x-python",
   "name": "python",
   "nbconvert_exporter": "python",
   "pygments_lexer": "ipython3",
   "version": "3.6.10-final"
  },
  "orig_nbformat": 2,
  "kernelspec": {
   "name": "python3",
   "display_name": "Python 3",
   "language": "python"
  }
 },
 "nbformat": 4,
 "nbformat_minor": 2,
 "cells": [
  {
   "cell_type": "code",
   "execution_count": 9,
   "metadata": {},
   "outputs": [
    {
     "output_type": "stream",
     "name": "stdout",
     "text": [
      "Requirement already satisfied: openpyxl in /Users/annabelcheong/opt/anaconda3/envs/PythonData/lib/python3.6/site-packages (3.0.6)\n",
      "Requirement already satisfied: et-xmlfile in /Users/annabelcheong/opt/anaconda3/envs/PythonData/lib/python3.6/site-packages (from openpyxl) (1.0.1)\n",
      "Requirement already satisfied: jdcal in /Users/annabelcheong/opt/anaconda3/envs/PythonData/lib/python3.6/site-packages (from openpyxl) (1.4.1)\n",
      "Note: you may need to restart the kernel to use updated packages.\n"
     ]
    }
   ],
   "source": [
    "pip install openpyxl"
   ]
  },
  {
   "cell_type": "code",
   "execution_count": 10,
   "metadata": {},
   "outputs": [],
   "source": [
    "import pandas as pd "
   ]
  },
  {
   "cell_type": "code",
   "execution_count": 11,
   "metadata": {},
   "outputs": [
    {
     "output_type": "execute_result",
     "data": {
      "text/plain": [
       "               City          Suburb  Sales Q3 2018  Median\\n3Q 2018\n",
       "0          ADELAIDE        ADELAIDE            1.0         960000.0\n",
       "1          ADELAIDE  NORTH ADELAIDE            9.0        1520000.0\n",
       "2    ADELAIDE HILLS         ALDGATE            6.0         770000.0\n",
       "3    ADELAIDE HILLS          ASHTON            1.0         600000.0\n",
       "4    ADELAIDE HILLS    BASKET RANGE            NaN              NaN\n",
       "..              ...             ...            ...              ...\n",
       "474    WEST TORRENS       THEBARTON            4.0         586000.0\n",
       "475    WEST TORRENS    TORRENSVILLE           12.0         620000.0\n",
       "476    WEST TORRENS       UNDERDALE            6.0         655000.0\n",
       "477    WEST TORRENS      WEST BEACH           14.0         904000.0\n",
       "478    WEST TORRENS   WEST RICHMOND            1.0         490000.0\n",
       "\n",
       "[479 rows x 4 columns]"
      ],
      "text/html": "<div>\n<style scoped>\n    .dataframe tbody tr th:only-of-type {\n        vertical-align: middle;\n    }\n\n    .dataframe tbody tr th {\n        vertical-align: top;\n    }\n\n    .dataframe thead th {\n        text-align: right;\n    }\n</style>\n<table border=\"1\" class=\"dataframe\">\n  <thead>\n    <tr style=\"text-align: right;\">\n      <th></th>\n      <th>City</th>\n      <th>Suburb</th>\n      <th>Sales Q3 2018</th>\n      <th>Median\\n3Q 2018</th>\n    </tr>\n  </thead>\n  <tbody>\n    <tr>\n      <th>0</th>\n      <td>ADELAIDE</td>\n      <td>ADELAIDE</td>\n      <td>1.0</td>\n      <td>960000.0</td>\n    </tr>\n    <tr>\n      <th>1</th>\n      <td>ADELAIDE</td>\n      <td>NORTH ADELAIDE</td>\n      <td>9.0</td>\n      <td>1520000.0</td>\n    </tr>\n    <tr>\n      <th>2</th>\n      <td>ADELAIDE HILLS</td>\n      <td>ALDGATE</td>\n      <td>6.0</td>\n      <td>770000.0</td>\n    </tr>\n    <tr>\n      <th>3</th>\n      <td>ADELAIDE HILLS</td>\n      <td>ASHTON</td>\n      <td>1.0</td>\n      <td>600000.0</td>\n    </tr>\n    <tr>\n      <th>4</th>\n      <td>ADELAIDE HILLS</td>\n      <td>BASKET RANGE</td>\n      <td>NaN</td>\n      <td>NaN</td>\n    </tr>\n    <tr>\n      <th>...</th>\n      <td>...</td>\n      <td>...</td>\n      <td>...</td>\n      <td>...</td>\n    </tr>\n    <tr>\n      <th>474</th>\n      <td>WEST TORRENS</td>\n      <td>THEBARTON</td>\n      <td>4.0</td>\n      <td>586000.0</td>\n    </tr>\n    <tr>\n      <th>475</th>\n      <td>WEST TORRENS</td>\n      <td>TORRENSVILLE</td>\n      <td>12.0</td>\n      <td>620000.0</td>\n    </tr>\n    <tr>\n      <th>476</th>\n      <td>WEST TORRENS</td>\n      <td>UNDERDALE</td>\n      <td>6.0</td>\n      <td>655000.0</td>\n    </tr>\n    <tr>\n      <th>477</th>\n      <td>WEST TORRENS</td>\n      <td>WEST BEACH</td>\n      <td>14.0</td>\n      <td>904000.0</td>\n    </tr>\n    <tr>\n      <th>478</th>\n      <td>WEST TORRENS</td>\n      <td>WEST RICHMOND</td>\n      <td>1.0</td>\n      <td>490000.0</td>\n    </tr>\n  </tbody>\n</table>\n<p>479 rows × 4 columns</p>\n</div>"
     },
     "metadata": {},
     "execution_count": 11
    }
   ],
   "source": [
    "q32018 = \"../housingcsv/2018q3.xlsx\"\n",
    "df1 = pd.read_excel(q32018,engine='openpyxl')\n",
    "refine1 = df1.drop(['Sales\\n3Q 2017', 'Median\\n3Q 2017', 'Median\\nChange'], axis=1)\n",
    "refine1= refine1.rename(columns={'Sales\\n3Q 2018': 'Sales Q3 2018', 'Median\\nQ3 2018': 'Median Q3 2018'})\n",
    "refine1"
   ]
  },
  {
   "cell_type": "code",
   "execution_count": 12,
   "metadata": {},
   "outputs": [
    {
     "output_type": "execute_result",
     "data": {
      "text/plain": [
       "               City          Suburb  Sales Q4 2018  Median Q4 2018\n",
       "0          ADELAIDE        ADELAIDE            4.0       1660750.0\n",
       "1          ADELAIDE  NORTH ADELAIDE            9.0       1395000.0\n",
       "2    ADELAIDE HILLS         ALDGATE            9.0        747500.0\n",
       "3    ADELAIDE HILLS          ASHTON            NaN             NaN\n",
       "4    ADELAIDE HILLS    BASKET RANGE            1.0        640000.0\n",
       "..              ...             ...            ...             ...\n",
       "474    WEST TORRENS       THEBARTON            5.0        642500.0\n",
       "475    WEST TORRENS    TORRENSVILLE            7.0        525000.0\n",
       "476    WEST TORRENS       UNDERDALE            5.0        660000.0\n",
       "477    WEST TORRENS      WEST BEACH           13.0        751000.0\n",
       "478    WEST TORRENS   WEST RICHMOND            2.0        500000.0\n",
       "\n",
       "[479 rows x 4 columns]"
      ],
      "text/html": "<div>\n<style scoped>\n    .dataframe tbody tr th:only-of-type {\n        vertical-align: middle;\n    }\n\n    .dataframe tbody tr th {\n        vertical-align: top;\n    }\n\n    .dataframe thead th {\n        text-align: right;\n    }\n</style>\n<table border=\"1\" class=\"dataframe\">\n  <thead>\n    <tr style=\"text-align: right;\">\n      <th></th>\n      <th>City</th>\n      <th>Suburb</th>\n      <th>Sales Q4 2018</th>\n      <th>Median Q4 2018</th>\n    </tr>\n  </thead>\n  <tbody>\n    <tr>\n      <th>0</th>\n      <td>ADELAIDE</td>\n      <td>ADELAIDE</td>\n      <td>4.0</td>\n      <td>1660750.0</td>\n    </tr>\n    <tr>\n      <th>1</th>\n      <td>ADELAIDE</td>\n      <td>NORTH ADELAIDE</td>\n      <td>9.0</td>\n      <td>1395000.0</td>\n    </tr>\n    <tr>\n      <th>2</th>\n      <td>ADELAIDE HILLS</td>\n      <td>ALDGATE</td>\n      <td>9.0</td>\n      <td>747500.0</td>\n    </tr>\n    <tr>\n      <th>3</th>\n      <td>ADELAIDE HILLS</td>\n      <td>ASHTON</td>\n      <td>NaN</td>\n      <td>NaN</td>\n    </tr>\n    <tr>\n      <th>4</th>\n      <td>ADELAIDE HILLS</td>\n      <td>BASKET RANGE</td>\n      <td>1.0</td>\n      <td>640000.0</td>\n    </tr>\n    <tr>\n      <th>...</th>\n      <td>...</td>\n      <td>...</td>\n      <td>...</td>\n      <td>...</td>\n    </tr>\n    <tr>\n      <th>474</th>\n      <td>WEST TORRENS</td>\n      <td>THEBARTON</td>\n      <td>5.0</td>\n      <td>642500.0</td>\n    </tr>\n    <tr>\n      <th>475</th>\n      <td>WEST TORRENS</td>\n      <td>TORRENSVILLE</td>\n      <td>7.0</td>\n      <td>525000.0</td>\n    </tr>\n    <tr>\n      <th>476</th>\n      <td>WEST TORRENS</td>\n      <td>UNDERDALE</td>\n      <td>5.0</td>\n      <td>660000.0</td>\n    </tr>\n    <tr>\n      <th>477</th>\n      <td>WEST TORRENS</td>\n      <td>WEST BEACH</td>\n      <td>13.0</td>\n      <td>751000.0</td>\n    </tr>\n    <tr>\n      <th>478</th>\n      <td>WEST TORRENS</td>\n      <td>WEST RICHMOND</td>\n      <td>2.0</td>\n      <td>500000.0</td>\n    </tr>\n  </tbody>\n</table>\n<p>479 rows × 4 columns</p>\n</div>"
     },
     "metadata": {},
     "execution_count": 12
    }
   ],
   "source": [
    "q42018 = \"../housingcsv/2018q4.xlsx\"\n",
    "df2 = pd.read_excel(q42018,engine='openpyxl')\n",
    "refine2 = df2.drop(['Sales\\n4Q 2017', 'Median\\n4Q 2017', 'Median\\nChange'], axis=1)\n",
    "refine2 = refine2.rename(columns={'Sales\\n4Q 2018':'Sales Q4 2018', 'Median\\n4Q 2018': 'Median Q4 2018'})\n",
    "refine2"
   ]
  },
  {
   "cell_type": "code",
   "execution_count": 13,
   "metadata": {},
   "outputs": [
    {
     "output_type": "execute_result",
     "data": {
      "text/plain": [
       "               City          Suburb  Sales Q1 2019  Median Q1 2019\n",
       "0          ADELAIDE        ADELAIDE            4.0       1002500.0\n",
       "1          ADELAIDE  NORTH ADELAIDE           10.0        972000.0\n",
       "2    ADELAIDE HILLS         ALDGATE           16.0        830000.0\n",
       "3    ADELAIDE HILLS          ASHTON            NaN             NaN\n",
       "4    ADELAIDE HILLS    BASKET RANGE            NaN             NaN\n",
       "..              ...             ...            ...             ...\n",
       "474    WEST TORRENS       THEBARTON            NaN             NaN\n",
       "475    WEST TORRENS    TORRENSVILLE            7.0        588000.0\n",
       "476    WEST TORRENS       UNDERDALE            5.0        700000.0\n",
       "477    WEST TORRENS      WEST BEACH           16.0        852500.0\n",
       "478    WEST TORRENS   WEST RICHMOND            4.0        510000.0\n",
       "\n",
       "[479 rows x 4 columns]"
      ],
      "text/html": "<div>\n<style scoped>\n    .dataframe tbody tr th:only-of-type {\n        vertical-align: middle;\n    }\n\n    .dataframe tbody tr th {\n        vertical-align: top;\n    }\n\n    .dataframe thead th {\n        text-align: right;\n    }\n</style>\n<table border=\"1\" class=\"dataframe\">\n  <thead>\n    <tr style=\"text-align: right;\">\n      <th></th>\n      <th>City</th>\n      <th>Suburb</th>\n      <th>Sales Q1 2019</th>\n      <th>Median Q1 2019</th>\n    </tr>\n  </thead>\n  <tbody>\n    <tr>\n      <th>0</th>\n      <td>ADELAIDE</td>\n      <td>ADELAIDE</td>\n      <td>4.0</td>\n      <td>1002500.0</td>\n    </tr>\n    <tr>\n      <th>1</th>\n      <td>ADELAIDE</td>\n      <td>NORTH ADELAIDE</td>\n      <td>10.0</td>\n      <td>972000.0</td>\n    </tr>\n    <tr>\n      <th>2</th>\n      <td>ADELAIDE HILLS</td>\n      <td>ALDGATE</td>\n      <td>16.0</td>\n      <td>830000.0</td>\n    </tr>\n    <tr>\n      <th>3</th>\n      <td>ADELAIDE HILLS</td>\n      <td>ASHTON</td>\n      <td>NaN</td>\n      <td>NaN</td>\n    </tr>\n    <tr>\n      <th>4</th>\n      <td>ADELAIDE HILLS</td>\n      <td>BASKET RANGE</td>\n      <td>NaN</td>\n      <td>NaN</td>\n    </tr>\n    <tr>\n      <th>...</th>\n      <td>...</td>\n      <td>...</td>\n      <td>...</td>\n      <td>...</td>\n    </tr>\n    <tr>\n      <th>474</th>\n      <td>WEST TORRENS</td>\n      <td>THEBARTON</td>\n      <td>NaN</td>\n      <td>NaN</td>\n    </tr>\n    <tr>\n      <th>475</th>\n      <td>WEST TORRENS</td>\n      <td>TORRENSVILLE</td>\n      <td>7.0</td>\n      <td>588000.0</td>\n    </tr>\n    <tr>\n      <th>476</th>\n      <td>WEST TORRENS</td>\n      <td>UNDERDALE</td>\n      <td>5.0</td>\n      <td>700000.0</td>\n    </tr>\n    <tr>\n      <th>477</th>\n      <td>WEST TORRENS</td>\n      <td>WEST BEACH</td>\n      <td>16.0</td>\n      <td>852500.0</td>\n    </tr>\n    <tr>\n      <th>478</th>\n      <td>WEST TORRENS</td>\n      <td>WEST RICHMOND</td>\n      <td>4.0</td>\n      <td>510000.0</td>\n    </tr>\n  </tbody>\n</table>\n<p>479 rows × 4 columns</p>\n</div>"
     },
     "metadata": {},
     "execution_count": 13
    }
   ],
   "source": [
    "q12019 = \"../housingcsv/2019q1.xlsx\"\n",
    "df3 = pd.read_excel(q12019,engine='openpyxl')\n",
    "refine3 = df3.drop(['Sales\\n1Q 2018', 'Median\\n1Q 2018', 'Median\\nChange'], axis=1)\n",
    "refine3 = refine3.rename(columns={'Sales\\n1Q 2019':'Sales Q1 2019', 'Median\\n1Q 2019': 'Median Q1 2019'})\n",
    "refine3"
   ]
  },
  {
   "cell_type": "code",
   "execution_count": 14,
   "metadata": {},
   "outputs": [
    {
     "output_type": "execute_result",
     "data": {
      "text/plain": [
       "               City          Suburb  Sales Q2 2019  Median Q2 2019\n",
       "0          ADELAIDE        ADELAIDE            4.0        677500.0\n",
       "1          ADELAIDE  NORTH ADELAIDE            6.0       1634250.0\n",
       "2    ADELAIDE HILLS         ALDGATE           15.0        950000.0\n",
       "3    ADELAIDE HILLS          ASHTON            NaN             NaN\n",
       "4    ADELAIDE HILLS    BASKET RANGE            NaN             NaN\n",
       "..              ...             ...            ...             ...\n",
       "474    WEST TORRENS       THEBARTON            4.0        607500.0\n",
       "475    WEST TORRENS    TORRENSVILLE           10.0        690000.0\n",
       "476    WEST TORRENS       UNDERDALE            4.0        630000.0\n",
       "477    WEST TORRENS      WEST BEACH           14.0        686000.0\n",
       "478    WEST TORRENS   WEST RICHMOND            5.0        455000.0\n",
       "\n",
       "[479 rows x 4 columns]"
      ],
      "text/html": "<div>\n<style scoped>\n    .dataframe tbody tr th:only-of-type {\n        vertical-align: middle;\n    }\n\n    .dataframe tbody tr th {\n        vertical-align: top;\n    }\n\n    .dataframe thead th {\n        text-align: right;\n    }\n</style>\n<table border=\"1\" class=\"dataframe\">\n  <thead>\n    <tr style=\"text-align: right;\">\n      <th></th>\n      <th>City</th>\n      <th>Suburb</th>\n      <th>Sales Q2 2019</th>\n      <th>Median Q2 2019</th>\n    </tr>\n  </thead>\n  <tbody>\n    <tr>\n      <th>0</th>\n      <td>ADELAIDE</td>\n      <td>ADELAIDE</td>\n      <td>4.0</td>\n      <td>677500.0</td>\n    </tr>\n    <tr>\n      <th>1</th>\n      <td>ADELAIDE</td>\n      <td>NORTH ADELAIDE</td>\n      <td>6.0</td>\n      <td>1634250.0</td>\n    </tr>\n    <tr>\n      <th>2</th>\n      <td>ADELAIDE HILLS</td>\n      <td>ALDGATE</td>\n      <td>15.0</td>\n      <td>950000.0</td>\n    </tr>\n    <tr>\n      <th>3</th>\n      <td>ADELAIDE HILLS</td>\n      <td>ASHTON</td>\n      <td>NaN</td>\n      <td>NaN</td>\n    </tr>\n    <tr>\n      <th>4</th>\n      <td>ADELAIDE HILLS</td>\n      <td>BASKET RANGE</td>\n      <td>NaN</td>\n      <td>NaN</td>\n    </tr>\n    <tr>\n      <th>...</th>\n      <td>...</td>\n      <td>...</td>\n      <td>...</td>\n      <td>...</td>\n    </tr>\n    <tr>\n      <th>474</th>\n      <td>WEST TORRENS</td>\n      <td>THEBARTON</td>\n      <td>4.0</td>\n      <td>607500.0</td>\n    </tr>\n    <tr>\n      <th>475</th>\n      <td>WEST TORRENS</td>\n      <td>TORRENSVILLE</td>\n      <td>10.0</td>\n      <td>690000.0</td>\n    </tr>\n    <tr>\n      <th>476</th>\n      <td>WEST TORRENS</td>\n      <td>UNDERDALE</td>\n      <td>4.0</td>\n      <td>630000.0</td>\n    </tr>\n    <tr>\n      <th>477</th>\n      <td>WEST TORRENS</td>\n      <td>WEST BEACH</td>\n      <td>14.0</td>\n      <td>686000.0</td>\n    </tr>\n    <tr>\n      <th>478</th>\n      <td>WEST TORRENS</td>\n      <td>WEST RICHMOND</td>\n      <td>5.0</td>\n      <td>455000.0</td>\n    </tr>\n  </tbody>\n</table>\n<p>479 rows × 4 columns</p>\n</div>"
     },
     "metadata": {},
     "execution_count": 14
    }
   ],
   "source": [
    "q22019 = '../housingcsv/2019q2.xlsx'\n",
    "df4 = pd.read_excel(q22019,engine='openpyxl')\n",
    "refine4 = df4.drop(['Sales\\n2Q 2018', 'Median\\n2Q 2018', 'Median\\nChange'], axis=1)\n",
    "refine4 = refine4.rename(columns={'Sales\\n2Q 2019': 'Sales Q2 2019', 'Median\\n2Q 2019': 'Median Q2 2019'})\n",
    "refine4"
   ]
  },
  {
   "cell_type": "code",
   "execution_count": 15,
   "metadata": {},
   "outputs": [
    {
     "output_type": "execute_result",
     "data": {
      "text/plain": [
       "               City          Suburb  Sales Q3 2018  Median\\n3Q 2018  \\\n",
       "0          ADELAIDE        ADELAIDE            1.0         960000.0   \n",
       "1          ADELAIDE  NORTH ADELAIDE            9.0        1520000.0   \n",
       "2    ADELAIDE HILLS         ALDGATE            6.0         770000.0   \n",
       "5    ADELAIDE HILLS          BELAIR            9.0         737000.0   \n",
       "7    ADELAIDE HILLS     BRIDGEWATER           19.0         535000.0   \n",
       "..              ...             ...            ...              ...   \n",
       "473    WEST TORRENS        RICHMOND           10.0         550000.0   \n",
       "475    WEST TORRENS    TORRENSVILLE           12.0         620000.0   \n",
       "476    WEST TORRENS       UNDERDALE            6.0         655000.0   \n",
       "477    WEST TORRENS      WEST BEACH           14.0         904000.0   \n",
       "478    WEST TORRENS   WEST RICHMOND            1.0         490000.0   \n",
       "\n",
       "     Sales Q4 2018  Median Q4 2018  Sales Q1 2019  Median Q1 2019  \\\n",
       "0              4.0       1660750.0            4.0       1002500.0   \n",
       "1              9.0       1395000.0           10.0        972000.0   \n",
       "2              9.0        747500.0           16.0        830000.0   \n",
       "5             19.0        670000.0           15.0        657500.0   \n",
       "7             15.0        470000.0           14.0        568750.0   \n",
       "..             ...             ...            ...             ...   \n",
       "473           12.0        580000.0            7.0        487000.0   \n",
       "475            7.0        525000.0            7.0        588000.0   \n",
       "476            5.0        660000.0            5.0        700000.0   \n",
       "477           13.0        751000.0           16.0        852500.0   \n",
       "478            2.0        500000.0            4.0        510000.0   \n",
       "\n",
       "     Sales Q2 2019  Median Q2 2019  \n",
       "0              4.0        677500.0  \n",
       "1              6.0       1634250.0  \n",
       "2             15.0        950000.0  \n",
       "5             17.0        541250.0  \n",
       "7             20.0        483500.0  \n",
       "..             ...             ...  \n",
       "473            9.0        574500.0  \n",
       "475           10.0        690000.0  \n",
       "476            4.0        630000.0  \n",
       "477           14.0        686000.0  \n",
       "478            5.0        455000.0  \n",
       "\n",
       "[358 rows x 10 columns]"
      ],
      "text/html": "<div>\n<style scoped>\n    .dataframe tbody tr th:only-of-type {\n        vertical-align: middle;\n    }\n\n    .dataframe tbody tr th {\n        vertical-align: top;\n    }\n\n    .dataframe thead th {\n        text-align: right;\n    }\n</style>\n<table border=\"1\" class=\"dataframe\">\n  <thead>\n    <tr style=\"text-align: right;\">\n      <th></th>\n      <th>City</th>\n      <th>Suburb</th>\n      <th>Sales Q3 2018</th>\n      <th>Median\\n3Q 2018</th>\n      <th>Sales Q4 2018</th>\n      <th>Median Q4 2018</th>\n      <th>Sales Q1 2019</th>\n      <th>Median Q1 2019</th>\n      <th>Sales Q2 2019</th>\n      <th>Median Q2 2019</th>\n    </tr>\n  </thead>\n  <tbody>\n    <tr>\n      <th>0</th>\n      <td>ADELAIDE</td>\n      <td>ADELAIDE</td>\n      <td>1.0</td>\n      <td>960000.0</td>\n      <td>4.0</td>\n      <td>1660750.0</td>\n      <td>4.0</td>\n      <td>1002500.0</td>\n      <td>4.0</td>\n      <td>677500.0</td>\n    </tr>\n    <tr>\n      <th>1</th>\n      <td>ADELAIDE</td>\n      <td>NORTH ADELAIDE</td>\n      <td>9.0</td>\n      <td>1520000.0</td>\n      <td>9.0</td>\n      <td>1395000.0</td>\n      <td>10.0</td>\n      <td>972000.0</td>\n      <td>6.0</td>\n      <td>1634250.0</td>\n    </tr>\n    <tr>\n      <th>2</th>\n      <td>ADELAIDE HILLS</td>\n      <td>ALDGATE</td>\n      <td>6.0</td>\n      <td>770000.0</td>\n      <td>9.0</td>\n      <td>747500.0</td>\n      <td>16.0</td>\n      <td>830000.0</td>\n      <td>15.0</td>\n      <td>950000.0</td>\n    </tr>\n    <tr>\n      <th>5</th>\n      <td>ADELAIDE HILLS</td>\n      <td>BELAIR</td>\n      <td>9.0</td>\n      <td>737000.0</td>\n      <td>19.0</td>\n      <td>670000.0</td>\n      <td>15.0</td>\n      <td>657500.0</td>\n      <td>17.0</td>\n      <td>541250.0</td>\n    </tr>\n    <tr>\n      <th>7</th>\n      <td>ADELAIDE HILLS</td>\n      <td>BRIDGEWATER</td>\n      <td>19.0</td>\n      <td>535000.0</td>\n      <td>15.0</td>\n      <td>470000.0</td>\n      <td>14.0</td>\n      <td>568750.0</td>\n      <td>20.0</td>\n      <td>483500.0</td>\n    </tr>\n    <tr>\n      <th>...</th>\n      <td>...</td>\n      <td>...</td>\n      <td>...</td>\n      <td>...</td>\n      <td>...</td>\n      <td>...</td>\n      <td>...</td>\n      <td>...</td>\n      <td>...</td>\n      <td>...</td>\n    </tr>\n    <tr>\n      <th>473</th>\n      <td>WEST TORRENS</td>\n      <td>RICHMOND</td>\n      <td>10.0</td>\n      <td>550000.0</td>\n      <td>12.0</td>\n      <td>580000.0</td>\n      <td>7.0</td>\n      <td>487000.0</td>\n      <td>9.0</td>\n      <td>574500.0</td>\n    </tr>\n    <tr>\n      <th>475</th>\n      <td>WEST TORRENS</td>\n      <td>TORRENSVILLE</td>\n      <td>12.0</td>\n      <td>620000.0</td>\n      <td>7.0</td>\n      <td>525000.0</td>\n      <td>7.0</td>\n      <td>588000.0</td>\n      <td>10.0</td>\n      <td>690000.0</td>\n    </tr>\n    <tr>\n      <th>476</th>\n      <td>WEST TORRENS</td>\n      <td>UNDERDALE</td>\n      <td>6.0</td>\n      <td>655000.0</td>\n      <td>5.0</td>\n      <td>660000.0</td>\n      <td>5.0</td>\n      <td>700000.0</td>\n      <td>4.0</td>\n      <td>630000.0</td>\n    </tr>\n    <tr>\n      <th>477</th>\n      <td>WEST TORRENS</td>\n      <td>WEST BEACH</td>\n      <td>14.0</td>\n      <td>904000.0</td>\n      <td>13.0</td>\n      <td>751000.0</td>\n      <td>16.0</td>\n      <td>852500.0</td>\n      <td>14.0</td>\n      <td>686000.0</td>\n    </tr>\n    <tr>\n      <th>478</th>\n      <td>WEST TORRENS</td>\n      <td>WEST RICHMOND</td>\n      <td>1.0</td>\n      <td>490000.0</td>\n      <td>2.0</td>\n      <td>500000.0</td>\n      <td>4.0</td>\n      <td>510000.0</td>\n      <td>5.0</td>\n      <td>455000.0</td>\n    </tr>\n  </tbody>\n</table>\n<p>358 rows × 10 columns</p>\n</div>"
     },
     "metadata": {},
     "execution_count": 15
    }
   ],
   "source": [
    "merged1 = pd.merge(refine1,refine2)\n",
    "merged2 = pd.merge(refine3,refine4)\n",
    "final = pd.merge(merged1,merged2)\n",
    "final = final.dropna(how='any')\n",
    "final"
   ]
  },
  {
   "cell_type": "code",
   "execution_count": 16,
   "metadata": {},
   "outputs": [],
   "source": [
    "final.to_csv('y18_19_house.csv')"
   ]
  },
  {
   "cell_type": "code",
   "execution_count": null,
   "metadata": {},
   "outputs": [],
   "source": []
  }
 ]
}