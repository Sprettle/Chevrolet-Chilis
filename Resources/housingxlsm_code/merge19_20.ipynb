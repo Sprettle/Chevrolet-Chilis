{
 "metadata": {
  "language_info": {
   "codemirror_mode": {
    "name": "ipython",
    "version": 3
   },
   "file_extension": ".py",
   "mimetype": "text/x-python",
   "name": "python",
   "nbconvert_exporter": "python",
   "pygments_lexer": "ipython3",
   "version": "3.6.10-final"
  },
  "orig_nbformat": 2,
  "kernelspec": {
   "name": "python3",
   "display_name": "Python 3",
   "language": "python"
  }
 },
 "nbformat": 4,
 "nbformat_minor": 2,
 "cells": [
  {
   "cell_type": "code",
   "execution_count": 1,
   "metadata": {},
   "outputs": [
    {
     "output_type": "stream",
     "name": "stdout",
     "text": [
      "Requirement already satisfied: openpyxl in /Users/annabelcheong/opt/anaconda3/envs/PythonData/lib/python3.6/site-packages (3.0.6)\n",
      "Requirement already satisfied: jdcal in /Users/annabelcheong/opt/anaconda3/envs/PythonData/lib/python3.6/site-packages (from openpyxl) (1.4.1)\n",
      "Requirement already satisfied: et-xmlfile in /Users/annabelcheong/opt/anaconda3/envs/PythonData/lib/python3.6/site-packages (from openpyxl) (1.0.1)\n",
      "Note: you may need to restart the kernel to use updated packages.\n"
     ]
    }
   ],
   "source": [
    "pip install openpyxl"
   ]
  },
  {
   "cell_type": "code",
   "execution_count": 2,
   "metadata": {},
   "outputs": [],
   "source": [
    "import pandas as pd "
   ]
  },
  {
   "cell_type": "code",
   "execution_count": 3,
   "metadata": {},
   "outputs": [
    {
     "output_type": "execute_result",
     "data": {
      "text/plain": [
       "               City          Suburb  Sales Q3 2019  Median\\n3Q 2019\n",
       "0          ADELAIDE        ADELAIDE            4.0         775000.0\n",
       "1          ADELAIDE  NORTH ADELAIDE           12.0        1170000.0\n",
       "2    ADELAIDE HILLS         ALDGATE            9.0         697500.0\n",
       "3    ADELAIDE HILLS          ASHTON            NaN              NaN\n",
       "4    ADELAIDE HILLS    BASKET RANGE            NaN              NaN\n",
       "..              ...             ...            ...              ...\n",
       "474    WEST TORRENS       THEBARTON            2.0         673500.0\n",
       "475    WEST TORRENS    TORRENSVILLE            6.0         651500.0\n",
       "476    WEST TORRENS       UNDERDALE            4.0         515000.0\n",
       "477    WEST TORRENS      WEST BEACH           13.0         780000.0\n",
       "478    WEST TORRENS   WEST RICHMOND            6.0         427500.0\n",
       "\n",
       "[479 rows x 4 columns]"
      ],
      "text/html": "<div>\n<style scoped>\n    .dataframe tbody tr th:only-of-type {\n        vertical-align: middle;\n    }\n\n    .dataframe tbody tr th {\n        vertical-align: top;\n    }\n\n    .dataframe thead th {\n        text-align: right;\n    }\n</style>\n<table border=\"1\" class=\"dataframe\">\n  <thead>\n    <tr style=\"text-align: right;\">\n      <th></th>\n      <th>City</th>\n      <th>Suburb</th>\n      <th>Sales Q3 2019</th>\n      <th>Median\\n3Q 2019</th>\n    </tr>\n  </thead>\n  <tbody>\n    <tr>\n      <th>0</th>\n      <td>ADELAIDE</td>\n      <td>ADELAIDE</td>\n      <td>4.0</td>\n      <td>775000.0</td>\n    </tr>\n    <tr>\n      <th>1</th>\n      <td>ADELAIDE</td>\n      <td>NORTH ADELAIDE</td>\n      <td>12.0</td>\n      <td>1170000.0</td>\n    </tr>\n    <tr>\n      <th>2</th>\n      <td>ADELAIDE HILLS</td>\n      <td>ALDGATE</td>\n      <td>9.0</td>\n      <td>697500.0</td>\n    </tr>\n    <tr>\n      <th>3</th>\n      <td>ADELAIDE HILLS</td>\n      <td>ASHTON</td>\n      <td>NaN</td>\n      <td>NaN</td>\n    </tr>\n    <tr>\n      <th>4</th>\n      <td>ADELAIDE HILLS</td>\n      <td>BASKET RANGE</td>\n      <td>NaN</td>\n      <td>NaN</td>\n    </tr>\n    <tr>\n      <th>...</th>\n      <td>...</td>\n      <td>...</td>\n      <td>...</td>\n      <td>...</td>\n    </tr>\n    <tr>\n      <th>474</th>\n      <td>WEST TORRENS</td>\n      <td>THEBARTON</td>\n      <td>2.0</td>\n      <td>673500.0</td>\n    </tr>\n    <tr>\n      <th>475</th>\n      <td>WEST TORRENS</td>\n      <td>TORRENSVILLE</td>\n      <td>6.0</td>\n      <td>651500.0</td>\n    </tr>\n    <tr>\n      <th>476</th>\n      <td>WEST TORRENS</td>\n      <td>UNDERDALE</td>\n      <td>4.0</td>\n      <td>515000.0</td>\n    </tr>\n    <tr>\n      <th>477</th>\n      <td>WEST TORRENS</td>\n      <td>WEST BEACH</td>\n      <td>13.0</td>\n      <td>780000.0</td>\n    </tr>\n    <tr>\n      <th>478</th>\n      <td>WEST TORRENS</td>\n      <td>WEST RICHMOND</td>\n      <td>6.0</td>\n      <td>427500.0</td>\n    </tr>\n  </tbody>\n</table>\n<p>479 rows × 4 columns</p>\n</div>"
     },
     "metadata": {},
     "execution_count": 3
    }
   ],
   "source": [
    "q32019 = \"../housingcsv/2019q3.xlsx\"\n",
    "df1 = pd.read_excel(q32019,engine='openpyxl')\n",
    "refine1 = df1.drop(['Sales\\n3Q 2018', 'Median\\n3Q 2018', 'Median\\nChange'], axis=1)\n",
    "refine1= refine1.rename(columns={'Sales\\n3Q 2019': 'Sales Q3 2019', 'Median\\nQ3 2019': 'Median Q3 2019'})\n",
    "refine1"
   ]
  },
  {
   "cell_type": "code",
   "execution_count": 4,
   "metadata": {},
   "outputs": [
    {
     "output_type": "execute_result",
     "data": {
      "text/plain": [
       "               City          Suburb  Sales Q4 2019  Median Q4 2019\n",
       "0          ADELAIDE        ADELAIDE            4.0        770117.0\n",
       "1          ADELAIDE  NORTH ADELAIDE           10.0       1352500.0\n",
       "2    ADELAIDE HILLS         ALDGATE           14.0        753250.0\n",
       "3    ADELAIDE HILLS          ASHTON            NaN             NaN\n",
       "4    ADELAIDE HILLS    BASKET RANGE            1.0        375000.0\n",
       "..              ...             ...            ...             ...\n",
       "474    WEST TORRENS       THEBARTON            2.0        752500.0\n",
       "475    WEST TORRENS    TORRENSVILLE           15.0        670000.0\n",
       "476    WEST TORRENS       UNDERDALE            7.0        601000.0\n",
       "477    WEST TORRENS      WEST BEACH           11.0        811000.0\n",
       "478    WEST TORRENS   WEST RICHMOND            NaN             NaN\n",
       "\n",
       "[479 rows x 4 columns]"
      ],
      "text/html": "<div>\n<style scoped>\n    .dataframe tbody tr th:only-of-type {\n        vertical-align: middle;\n    }\n\n    .dataframe tbody tr th {\n        vertical-align: top;\n    }\n\n    .dataframe thead th {\n        text-align: right;\n    }\n</style>\n<table border=\"1\" class=\"dataframe\">\n  <thead>\n    <tr style=\"text-align: right;\">\n      <th></th>\n      <th>City</th>\n      <th>Suburb</th>\n      <th>Sales Q4 2019</th>\n      <th>Median Q4 2019</th>\n    </tr>\n  </thead>\n  <tbody>\n    <tr>\n      <th>0</th>\n      <td>ADELAIDE</td>\n      <td>ADELAIDE</td>\n      <td>4.0</td>\n      <td>770117.0</td>\n    </tr>\n    <tr>\n      <th>1</th>\n      <td>ADELAIDE</td>\n      <td>NORTH ADELAIDE</td>\n      <td>10.0</td>\n      <td>1352500.0</td>\n    </tr>\n    <tr>\n      <th>2</th>\n      <td>ADELAIDE HILLS</td>\n      <td>ALDGATE</td>\n      <td>14.0</td>\n      <td>753250.0</td>\n    </tr>\n    <tr>\n      <th>3</th>\n      <td>ADELAIDE HILLS</td>\n      <td>ASHTON</td>\n      <td>NaN</td>\n      <td>NaN</td>\n    </tr>\n    <tr>\n      <th>4</th>\n      <td>ADELAIDE HILLS</td>\n      <td>BASKET RANGE</td>\n      <td>1.0</td>\n      <td>375000.0</td>\n    </tr>\n    <tr>\n      <th>...</th>\n      <td>...</td>\n      <td>...</td>\n      <td>...</td>\n      <td>...</td>\n    </tr>\n    <tr>\n      <th>474</th>\n      <td>WEST TORRENS</td>\n      <td>THEBARTON</td>\n      <td>2.0</td>\n      <td>752500.0</td>\n    </tr>\n    <tr>\n      <th>475</th>\n      <td>WEST TORRENS</td>\n      <td>TORRENSVILLE</td>\n      <td>15.0</td>\n      <td>670000.0</td>\n    </tr>\n    <tr>\n      <th>476</th>\n      <td>WEST TORRENS</td>\n      <td>UNDERDALE</td>\n      <td>7.0</td>\n      <td>601000.0</td>\n    </tr>\n    <tr>\n      <th>477</th>\n      <td>WEST TORRENS</td>\n      <td>WEST BEACH</td>\n      <td>11.0</td>\n      <td>811000.0</td>\n    </tr>\n    <tr>\n      <th>478</th>\n      <td>WEST TORRENS</td>\n      <td>WEST RICHMOND</td>\n      <td>NaN</td>\n      <td>NaN</td>\n    </tr>\n  </tbody>\n</table>\n<p>479 rows × 4 columns</p>\n</div>"
     },
     "metadata": {},
     "execution_count": 4
    }
   ],
   "source": [
    "q42019 = \"../housingcsv/2019q4.xlsx\"\n",
    "df2 = pd.read_excel(q42019,engine='openpyxl')\n",
    "refine2 = df2.drop(['Sales\\n4Q 2018', 'Median\\n4Q 2018', 'Median\\nChange'], axis=1)\n",
    "refine2 = refine2.rename(columns={'Sales\\n4Q 2019':'Sales Q4 2019', 'Median\\n4Q 2019': 'Median Q4 2019'})\n",
    "refine2"
   ]
  },
  {
   "cell_type": "code",
   "execution_count": 5,
   "metadata": {},
   "outputs": [
    {
     "output_type": "execute_result",
     "data": {
      "text/plain": [
       "               City          Suburb  Sales Q1 2020  Median Q1 2020\n",
       "0          ADELAIDE        ADELAIDE            6.0        810000.0\n",
       "1          ADELAIDE  NORTH ADELAIDE           15.0       1360000.0\n",
       "2    ADELAIDE HILLS         ALDGATE           10.0        797500.0\n",
       "3    ADELAIDE HILLS          ASHTON            NaN             NaN\n",
       "4    ADELAIDE HILLS    BASKET RANGE            NaN             NaN\n",
       "..              ...             ...            ...             ...\n",
       "474    WEST TORRENS       THEBARTON            2.0        745000.0\n",
       "475    WEST TORRENS    TORRENSVILLE           10.0        653000.0\n",
       "476    WEST TORRENS       UNDERDALE            9.0        660000.0\n",
       "477    WEST TORRENS      WEST BEACH           15.0        872500.0\n",
       "478    WEST TORRENS   WEST RICHMOND            3.0        462500.0\n",
       "\n",
       "[479 rows x 4 columns]"
      ],
      "text/html": "<div>\n<style scoped>\n    .dataframe tbody tr th:only-of-type {\n        vertical-align: middle;\n    }\n\n    .dataframe tbody tr th {\n        vertical-align: top;\n    }\n\n    .dataframe thead th {\n        text-align: right;\n    }\n</style>\n<table border=\"1\" class=\"dataframe\">\n  <thead>\n    <tr style=\"text-align: right;\">\n      <th></th>\n      <th>City</th>\n      <th>Suburb</th>\n      <th>Sales Q1 2020</th>\n      <th>Median Q1 2020</th>\n    </tr>\n  </thead>\n  <tbody>\n    <tr>\n      <th>0</th>\n      <td>ADELAIDE</td>\n      <td>ADELAIDE</td>\n      <td>6.0</td>\n      <td>810000.0</td>\n    </tr>\n    <tr>\n      <th>1</th>\n      <td>ADELAIDE</td>\n      <td>NORTH ADELAIDE</td>\n      <td>15.0</td>\n      <td>1360000.0</td>\n    </tr>\n    <tr>\n      <th>2</th>\n      <td>ADELAIDE HILLS</td>\n      <td>ALDGATE</td>\n      <td>10.0</td>\n      <td>797500.0</td>\n    </tr>\n    <tr>\n      <th>3</th>\n      <td>ADELAIDE HILLS</td>\n      <td>ASHTON</td>\n      <td>NaN</td>\n      <td>NaN</td>\n    </tr>\n    <tr>\n      <th>4</th>\n      <td>ADELAIDE HILLS</td>\n      <td>BASKET RANGE</td>\n      <td>NaN</td>\n      <td>NaN</td>\n    </tr>\n    <tr>\n      <th>...</th>\n      <td>...</td>\n      <td>...</td>\n      <td>...</td>\n      <td>...</td>\n    </tr>\n    <tr>\n      <th>474</th>\n      <td>WEST TORRENS</td>\n      <td>THEBARTON</td>\n      <td>2.0</td>\n      <td>745000.0</td>\n    </tr>\n    <tr>\n      <th>475</th>\n      <td>WEST TORRENS</td>\n      <td>TORRENSVILLE</td>\n      <td>10.0</td>\n      <td>653000.0</td>\n    </tr>\n    <tr>\n      <th>476</th>\n      <td>WEST TORRENS</td>\n      <td>UNDERDALE</td>\n      <td>9.0</td>\n      <td>660000.0</td>\n    </tr>\n    <tr>\n      <th>477</th>\n      <td>WEST TORRENS</td>\n      <td>WEST BEACH</td>\n      <td>15.0</td>\n      <td>872500.0</td>\n    </tr>\n    <tr>\n      <th>478</th>\n      <td>WEST TORRENS</td>\n      <td>WEST RICHMOND</td>\n      <td>3.0</td>\n      <td>462500.0</td>\n    </tr>\n  </tbody>\n</table>\n<p>479 rows × 4 columns</p>\n</div>"
     },
     "metadata": {},
     "execution_count": 5
    }
   ],
   "source": [
    "q12020 = \"../housingcsv/2020q1.xlsx\"\n",
    "df3 = pd.read_excel(q12020,engine='openpyxl')\n",
    "refine3 = df3.drop(['Sales\\n1Q 2019', 'Median\\n1Q 2019', 'Median\\nChange'], axis=1)\n",
    "refine3 = refine3.rename(columns={'Sales\\n1Q 2020':'Sales Q1 2020', 'Median\\n1Q 2020': 'Median Q1 2020'})\n",
    "refine3"
   ]
  },
  {
   "cell_type": "code",
   "execution_count": 6,
   "metadata": {},
   "outputs": [
    {
     "output_type": "execute_result",
     "data": {
      "text/plain": [
       "               City          Suburb  Sales Q2 2020  Median Q2 2020\n",
       "0          ADELAIDE        ADELAIDE           11.0        850000.0\n",
       "1          ADELAIDE  NORTH ADELAIDE            6.0        945000.0\n",
       "2    ADELAIDE HILLS         ALDGATE            9.0        795000.0\n",
       "3    ADELAIDE HILLS          ASHTON            NaN             NaN\n",
       "4    ADELAIDE HILLS    BASKET RANGE            1.0        616000.0\n",
       "..              ...             ...            ...             ...\n",
       "474    WEST TORRENS       THEBARTON            2.0        795000.0\n",
       "475    WEST TORRENS    TORRENSVILLE            8.0        662000.0\n",
       "476    WEST TORRENS       UNDERDALE            6.0        630000.0\n",
       "477    WEST TORRENS      WEST BEACH           10.0        932500.0\n",
       "478    WEST TORRENS   WEST RICHMOND            5.0        525000.0\n",
       "\n",
       "[479 rows x 4 columns]"
      ],
      "text/html": "<div>\n<style scoped>\n    .dataframe tbody tr th:only-of-type {\n        vertical-align: middle;\n    }\n\n    .dataframe tbody tr th {\n        vertical-align: top;\n    }\n\n    .dataframe thead th {\n        text-align: right;\n    }\n</style>\n<table border=\"1\" class=\"dataframe\">\n  <thead>\n    <tr style=\"text-align: right;\">\n      <th></th>\n      <th>City</th>\n      <th>Suburb</th>\n      <th>Sales Q2 2020</th>\n      <th>Median Q2 2020</th>\n    </tr>\n  </thead>\n  <tbody>\n    <tr>\n      <th>0</th>\n      <td>ADELAIDE</td>\n      <td>ADELAIDE</td>\n      <td>11.0</td>\n      <td>850000.0</td>\n    </tr>\n    <tr>\n      <th>1</th>\n      <td>ADELAIDE</td>\n      <td>NORTH ADELAIDE</td>\n      <td>6.0</td>\n      <td>945000.0</td>\n    </tr>\n    <tr>\n      <th>2</th>\n      <td>ADELAIDE HILLS</td>\n      <td>ALDGATE</td>\n      <td>9.0</td>\n      <td>795000.0</td>\n    </tr>\n    <tr>\n      <th>3</th>\n      <td>ADELAIDE HILLS</td>\n      <td>ASHTON</td>\n      <td>NaN</td>\n      <td>NaN</td>\n    </tr>\n    <tr>\n      <th>4</th>\n      <td>ADELAIDE HILLS</td>\n      <td>BASKET RANGE</td>\n      <td>1.0</td>\n      <td>616000.0</td>\n    </tr>\n    <tr>\n      <th>...</th>\n      <td>...</td>\n      <td>...</td>\n      <td>...</td>\n      <td>...</td>\n    </tr>\n    <tr>\n      <th>474</th>\n      <td>WEST TORRENS</td>\n      <td>THEBARTON</td>\n      <td>2.0</td>\n      <td>795000.0</td>\n    </tr>\n    <tr>\n      <th>475</th>\n      <td>WEST TORRENS</td>\n      <td>TORRENSVILLE</td>\n      <td>8.0</td>\n      <td>662000.0</td>\n    </tr>\n    <tr>\n      <th>476</th>\n      <td>WEST TORRENS</td>\n      <td>UNDERDALE</td>\n      <td>6.0</td>\n      <td>630000.0</td>\n    </tr>\n    <tr>\n      <th>477</th>\n      <td>WEST TORRENS</td>\n      <td>WEST BEACH</td>\n      <td>10.0</td>\n      <td>932500.0</td>\n    </tr>\n    <tr>\n      <th>478</th>\n      <td>WEST TORRENS</td>\n      <td>WEST RICHMOND</td>\n      <td>5.0</td>\n      <td>525000.0</td>\n    </tr>\n  </tbody>\n</table>\n<p>479 rows × 4 columns</p>\n</div>"
     },
     "metadata": {},
     "execution_count": 6
    }
   ],
   "source": [
    "q22020 = '../housingcsv/2020q2.xlsx'\n",
    "df4 = pd.read_excel(q22020,engine='openpyxl')\n",
    "refine4 = df4.drop(['Sales\\n2Q 2019', 'Median\\n2Q 2019', 'Median\\nChange'], axis=1)\n",
    "refine4 = refine4.rename(columns={'Sales\\n2Q 2020': 'Sales Q2 2020', 'Median\\n2Q 2020': 'Median Q2 2020'})\n",
    "refine4"
   ]
  },
  {
   "cell_type": "code",
   "execution_count": 7,
   "metadata": {},
   "outputs": [
    {
     "output_type": "execute_result",
     "data": {
      "text/plain": [
       "               City          Suburb  Sales Q3 2019  Median\\n3Q 2019  \\\n",
       "0          ADELAIDE        ADELAIDE            4.0         775000.0   \n",
       "1          ADELAIDE  NORTH ADELAIDE           12.0        1170000.0   \n",
       "2    ADELAIDE HILLS         ALDGATE            9.0         697500.0   \n",
       "5    ADELAIDE HILLS          BELAIR           18.0         629000.0   \n",
       "7    ADELAIDE HILLS     BRIDGEWATER           20.0         505250.0   \n",
       "..              ...             ...            ...              ...   \n",
       "473    WEST TORRENS        RICHMOND           15.0         546000.0   \n",
       "474    WEST TORRENS       THEBARTON            2.0         673500.0   \n",
       "475    WEST TORRENS    TORRENSVILLE            6.0         651500.0   \n",
       "476    WEST TORRENS       UNDERDALE            4.0         515000.0   \n",
       "477    WEST TORRENS      WEST BEACH           13.0         780000.0   \n",
       "\n",
       "     Sales Q4 2019  Median Q4 2019  Sales Q1 2020  Median Q1 2020  \\\n",
       "0              4.0        770117.0            6.0        810000.0   \n",
       "1             10.0       1352500.0           15.0       1360000.0   \n",
       "2             14.0        753250.0           10.0        797500.0   \n",
       "5             12.0        775505.5           13.0        775000.0   \n",
       "7             15.0        515000.0           13.0        505000.0   \n",
       "..             ...             ...            ...             ...   \n",
       "473            7.0        580000.0            5.0        520000.0   \n",
       "474            2.0        752500.0            2.0        745000.0   \n",
       "475           15.0        670000.0           10.0        653000.0   \n",
       "476            7.0        601000.0            9.0        660000.0   \n",
       "477           11.0        811000.0           15.0        872500.0   \n",
       "\n",
       "     Sales Q2 2020  Median Q2 2020  \n",
       "0             11.0        850000.0  \n",
       "1              6.0        945000.0  \n",
       "2              9.0        795000.0  \n",
       "5             12.0        672500.0  \n",
       "7             11.0        485000.0  \n",
       "..             ...             ...  \n",
       "473            8.0        577500.0  \n",
       "474            2.0        795000.0  \n",
       "475            8.0        662000.0  \n",
       "476            6.0        630000.0  \n",
       "477           10.0        932500.0  \n",
       "\n",
       "[360 rows x 10 columns]"
      ],
      "text/html": "<div>\n<style scoped>\n    .dataframe tbody tr th:only-of-type {\n        vertical-align: middle;\n    }\n\n    .dataframe tbody tr th {\n        vertical-align: top;\n    }\n\n    .dataframe thead th {\n        text-align: right;\n    }\n</style>\n<table border=\"1\" class=\"dataframe\">\n  <thead>\n    <tr style=\"text-align: right;\">\n      <th></th>\n      <th>City</th>\n      <th>Suburb</th>\n      <th>Sales Q3 2019</th>\n      <th>Median\\n3Q 2019</th>\n      <th>Sales Q4 2019</th>\n      <th>Median Q4 2019</th>\n      <th>Sales Q1 2020</th>\n      <th>Median Q1 2020</th>\n      <th>Sales Q2 2020</th>\n      <th>Median Q2 2020</th>\n    </tr>\n  </thead>\n  <tbody>\n    <tr>\n      <th>0</th>\n      <td>ADELAIDE</td>\n      <td>ADELAIDE</td>\n      <td>4.0</td>\n      <td>775000.0</td>\n      <td>4.0</td>\n      <td>770117.0</td>\n      <td>6.0</td>\n      <td>810000.0</td>\n      <td>11.0</td>\n      <td>850000.0</td>\n    </tr>\n    <tr>\n      <th>1</th>\n      <td>ADELAIDE</td>\n      <td>NORTH ADELAIDE</td>\n      <td>12.0</td>\n      <td>1170000.0</td>\n      <td>10.0</td>\n      <td>1352500.0</td>\n      <td>15.0</td>\n      <td>1360000.0</td>\n      <td>6.0</td>\n      <td>945000.0</td>\n    </tr>\n    <tr>\n      <th>2</th>\n      <td>ADELAIDE HILLS</td>\n      <td>ALDGATE</td>\n      <td>9.0</td>\n      <td>697500.0</td>\n      <td>14.0</td>\n      <td>753250.0</td>\n      <td>10.0</td>\n      <td>797500.0</td>\n      <td>9.0</td>\n      <td>795000.0</td>\n    </tr>\n    <tr>\n      <th>5</th>\n      <td>ADELAIDE HILLS</td>\n      <td>BELAIR</td>\n      <td>18.0</td>\n      <td>629000.0</td>\n      <td>12.0</td>\n      <td>775505.5</td>\n      <td>13.0</td>\n      <td>775000.0</td>\n      <td>12.0</td>\n      <td>672500.0</td>\n    </tr>\n    <tr>\n      <th>7</th>\n      <td>ADELAIDE HILLS</td>\n      <td>BRIDGEWATER</td>\n      <td>20.0</td>\n      <td>505250.0</td>\n      <td>15.0</td>\n      <td>515000.0</td>\n      <td>13.0</td>\n      <td>505000.0</td>\n      <td>11.0</td>\n      <td>485000.0</td>\n    </tr>\n    <tr>\n      <th>...</th>\n      <td>...</td>\n      <td>...</td>\n      <td>...</td>\n      <td>...</td>\n      <td>...</td>\n      <td>...</td>\n      <td>...</td>\n      <td>...</td>\n      <td>...</td>\n      <td>...</td>\n    </tr>\n    <tr>\n      <th>473</th>\n      <td>WEST TORRENS</td>\n      <td>RICHMOND</td>\n      <td>15.0</td>\n      <td>546000.0</td>\n      <td>7.0</td>\n      <td>580000.0</td>\n      <td>5.0</td>\n      <td>520000.0</td>\n      <td>8.0</td>\n      <td>577500.0</td>\n    </tr>\n    <tr>\n      <th>474</th>\n      <td>WEST TORRENS</td>\n      <td>THEBARTON</td>\n      <td>2.0</td>\n      <td>673500.0</td>\n      <td>2.0</td>\n      <td>752500.0</td>\n      <td>2.0</td>\n      <td>745000.0</td>\n      <td>2.0</td>\n      <td>795000.0</td>\n    </tr>\n    <tr>\n      <th>475</th>\n      <td>WEST TORRENS</td>\n      <td>TORRENSVILLE</td>\n      <td>6.0</td>\n      <td>651500.0</td>\n      <td>15.0</td>\n      <td>670000.0</td>\n      <td>10.0</td>\n      <td>653000.0</td>\n      <td>8.0</td>\n      <td>662000.0</td>\n    </tr>\n    <tr>\n      <th>476</th>\n      <td>WEST TORRENS</td>\n      <td>UNDERDALE</td>\n      <td>4.0</td>\n      <td>515000.0</td>\n      <td>7.0</td>\n      <td>601000.0</td>\n      <td>9.0</td>\n      <td>660000.0</td>\n      <td>6.0</td>\n      <td>630000.0</td>\n    </tr>\n    <tr>\n      <th>477</th>\n      <td>WEST TORRENS</td>\n      <td>WEST BEACH</td>\n      <td>13.0</td>\n      <td>780000.0</td>\n      <td>11.0</td>\n      <td>811000.0</td>\n      <td>15.0</td>\n      <td>872500.0</td>\n      <td>10.0</td>\n      <td>932500.0</td>\n    </tr>\n  </tbody>\n</table>\n<p>360 rows × 10 columns</p>\n</div>"
     },
     "metadata": {},
     "execution_count": 7
    }
   ],
   "source": [
    "merged1 = pd.merge(refine1,refine2)\n",
    "merged2 = pd.merge(refine3,refine4)\n",
    "final = pd.merge(merged1,merged2)\n",
    "final = final.dropna(how='any')\n",
    "final"
   ]
  },
  {
   "cell_type": "code",
   "execution_count": 8,
   "metadata": {},
   "outputs": [
    {
     "output_type": "execute_result",
     "data": {
      "text/plain": [
       "               City          Suburb  Sales Q3 2019  Median\\n3Q 2019  \\\n",
       "0          ADELAIDE        ADELAIDE            4.0         775000.0   \n",
       "1          ADELAIDE  NORTH ADELAIDE           12.0        1170000.0   \n",
       "2    ADELAIDE HILLS         ALDGATE            9.0         697500.0   \n",
       "5    ADELAIDE HILLS          BELAIR           18.0         629000.0   \n",
       "7    ADELAIDE HILLS     BRIDGEWATER           20.0         505250.0   \n",
       "..              ...             ...            ...              ...   \n",
       "473    WEST TORRENS        RICHMOND           15.0         546000.0   \n",
       "474    WEST TORRENS       THEBARTON            2.0         673500.0   \n",
       "475    WEST TORRENS    TORRENSVILLE            6.0         651500.0   \n",
       "476    WEST TORRENS       UNDERDALE            4.0         515000.0   \n",
       "477    WEST TORRENS      WEST BEACH           13.0         780000.0   \n",
       "\n",
       "     Sales Q4 2019  Median Q4 2019  Sales Q1 2020  Median Q1 2020  \\\n",
       "0              4.0        770117.0            6.0        810000.0   \n",
       "1             10.0       1352500.0           15.0       1360000.0   \n",
       "2             14.0        753250.0           10.0        797500.0   \n",
       "5             12.0        775505.5           13.0        775000.0   \n",
       "7             15.0        515000.0           13.0        505000.0   \n",
       "..             ...             ...            ...             ...   \n",
       "473            7.0        580000.0            5.0        520000.0   \n",
       "474            2.0        752500.0            2.0        745000.0   \n",
       "475           15.0        670000.0           10.0        653000.0   \n",
       "476            7.0        601000.0            9.0        660000.0   \n",
       "477           11.0        811000.0           15.0        872500.0   \n",
       "\n",
       "     Sales Q2 2020  Median Q2 2020  y19_20_price  \n",
       "0             11.0        850000.0    801279.250  \n",
       "1              6.0        945000.0   1206875.000  \n",
       "2              9.0        795000.0    760812.500  \n",
       "5             12.0        672500.0    713001.375  \n",
       "7             11.0        485000.0    502562.500  \n",
       "..             ...             ...           ...  \n",
       "473            8.0        577500.0    555875.000  \n",
       "474            2.0        795000.0    741500.000  \n",
       "475            8.0        662000.0    659125.000  \n",
       "476            6.0        630000.0    601500.000  \n",
       "477           10.0        932500.0    849000.000  \n",
       "\n",
       "[360 rows x 11 columns]"
      ],
      "text/html": "<div>\n<style scoped>\n    .dataframe tbody tr th:only-of-type {\n        vertical-align: middle;\n    }\n\n    .dataframe tbody tr th {\n        vertical-align: top;\n    }\n\n    .dataframe thead th {\n        text-align: right;\n    }\n</style>\n<table border=\"1\" class=\"dataframe\">\n  <thead>\n    <tr style=\"text-align: right;\">\n      <th></th>\n      <th>City</th>\n      <th>Suburb</th>\n      <th>Sales Q3 2019</th>\n      <th>Median\\n3Q 2019</th>\n      <th>Sales Q4 2019</th>\n      <th>Median Q4 2019</th>\n      <th>Sales Q1 2020</th>\n      <th>Median Q1 2020</th>\n      <th>Sales Q2 2020</th>\n      <th>Median Q2 2020</th>\n      <th>y19_20_price</th>\n    </tr>\n  </thead>\n  <tbody>\n    <tr>\n      <th>0</th>\n      <td>ADELAIDE</td>\n      <td>ADELAIDE</td>\n      <td>4.0</td>\n      <td>775000.0</td>\n      <td>4.0</td>\n      <td>770117.0</td>\n      <td>6.0</td>\n      <td>810000.0</td>\n      <td>11.0</td>\n      <td>850000.0</td>\n      <td>801279.250</td>\n    </tr>\n    <tr>\n      <th>1</th>\n      <td>ADELAIDE</td>\n      <td>NORTH ADELAIDE</td>\n      <td>12.0</td>\n      <td>1170000.0</td>\n      <td>10.0</td>\n      <td>1352500.0</td>\n      <td>15.0</td>\n      <td>1360000.0</td>\n      <td>6.0</td>\n      <td>945000.0</td>\n      <td>1206875.000</td>\n    </tr>\n    <tr>\n      <th>2</th>\n      <td>ADELAIDE HILLS</td>\n      <td>ALDGATE</td>\n      <td>9.0</td>\n      <td>697500.0</td>\n      <td>14.0</td>\n      <td>753250.0</td>\n      <td>10.0</td>\n      <td>797500.0</td>\n      <td>9.0</td>\n      <td>795000.0</td>\n      <td>760812.500</td>\n    </tr>\n    <tr>\n      <th>5</th>\n      <td>ADELAIDE HILLS</td>\n      <td>BELAIR</td>\n      <td>18.0</td>\n      <td>629000.0</td>\n      <td>12.0</td>\n      <td>775505.5</td>\n      <td>13.0</td>\n      <td>775000.0</td>\n      <td>12.0</td>\n      <td>672500.0</td>\n      <td>713001.375</td>\n    </tr>\n    <tr>\n      <th>7</th>\n      <td>ADELAIDE HILLS</td>\n      <td>BRIDGEWATER</td>\n      <td>20.0</td>\n      <td>505250.0</td>\n      <td>15.0</td>\n      <td>515000.0</td>\n      <td>13.0</td>\n      <td>505000.0</td>\n      <td>11.0</td>\n      <td>485000.0</td>\n      <td>502562.500</td>\n    </tr>\n    <tr>\n      <th>...</th>\n      <td>...</td>\n      <td>...</td>\n      <td>...</td>\n      <td>...</td>\n      <td>...</td>\n      <td>...</td>\n      <td>...</td>\n      <td>...</td>\n      <td>...</td>\n      <td>...</td>\n      <td>...</td>\n    </tr>\n    <tr>\n      <th>473</th>\n      <td>WEST TORRENS</td>\n      <td>RICHMOND</td>\n      <td>15.0</td>\n      <td>546000.0</td>\n      <td>7.0</td>\n      <td>580000.0</td>\n      <td>5.0</td>\n      <td>520000.0</td>\n      <td>8.0</td>\n      <td>577500.0</td>\n      <td>555875.000</td>\n    </tr>\n    <tr>\n      <th>474</th>\n      <td>WEST TORRENS</td>\n      <td>THEBARTON</td>\n      <td>2.0</td>\n      <td>673500.0</td>\n      <td>2.0</td>\n      <td>752500.0</td>\n      <td>2.0</td>\n      <td>745000.0</td>\n      <td>2.0</td>\n      <td>795000.0</td>\n      <td>741500.000</td>\n    </tr>\n    <tr>\n      <th>475</th>\n      <td>WEST TORRENS</td>\n      <td>TORRENSVILLE</td>\n      <td>6.0</td>\n      <td>651500.0</td>\n      <td>15.0</td>\n      <td>670000.0</td>\n      <td>10.0</td>\n      <td>653000.0</td>\n      <td>8.0</td>\n      <td>662000.0</td>\n      <td>659125.000</td>\n    </tr>\n    <tr>\n      <th>476</th>\n      <td>WEST TORRENS</td>\n      <td>UNDERDALE</td>\n      <td>4.0</td>\n      <td>515000.0</td>\n      <td>7.0</td>\n      <td>601000.0</td>\n      <td>9.0</td>\n      <td>660000.0</td>\n      <td>6.0</td>\n      <td>630000.0</td>\n      <td>601500.000</td>\n    </tr>\n    <tr>\n      <th>477</th>\n      <td>WEST TORRENS</td>\n      <td>WEST BEACH</td>\n      <td>13.0</td>\n      <td>780000.0</td>\n      <td>11.0</td>\n      <td>811000.0</td>\n      <td>15.0</td>\n      <td>872500.0</td>\n      <td>10.0</td>\n      <td>932500.0</td>\n      <td>849000.000</td>\n    </tr>\n  </tbody>\n</table>\n<p>360 rows × 11 columns</p>\n</div>"
     },
     "metadata": {},
     "execution_count": 8
    }
   ],
   "source": [
    "#Create column for value of propety prices by suburb for finanical year\n",
    "new_col=[\"\"]\n",
    "final[\"y19_20_price\"]=(final[\"Median\\n3Q 2019\"]+final[\"Median Q4 2019\"]+final[\"Median Q1 2020\"]+final[\"Median Q2 2020\"])/4\n",
    "final\n",
    "y19_20_price=final\n",
    "y19_20_price"
   ]
  },
  {
   "cell_type": "code",
   "execution_count": 9,
   "metadata": {},
   "outputs": [],
   "source": [
    "final.to_csv(\"y19_20_house.csv\")"
   ]
  },
  {
   "cell_type": "code",
   "execution_count": 10,
   "metadata": {},
   "outputs": [
    {
     "output_type": "stream",
     "name": "stderr",
     "text": [
      "UsageError: Unknown variable 'yr19_20_price'\n"
     ]
    }
   ],
   "source": [
    "#Store variable for use in another ipynb\n",
    "%store yr19_20_price\n"
   ]
  },
  {
   "cell_type": "code",
   "execution_count": null,
   "metadata": {},
   "outputs": [],
   "source": []
  }
 ]
}