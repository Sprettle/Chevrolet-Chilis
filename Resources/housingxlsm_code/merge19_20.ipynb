{
 "metadata": {
  "language_info": {
   "codemirror_mode": {
    "name": "ipython",
    "version": 3
   },
   "file_extension": ".py",
   "mimetype": "text/x-python",
   "name": "python",
   "nbconvert_exporter": "python",
   "pygments_lexer": "ipython3",
   "version": "3.8.5-final"
  },
  "orig_nbformat": 2,
  "kernelspec": {
   "name": "python3",
   "display_name": "Python 3",
   "language": "python"
  }
 },
 "nbformat": 4,
 "nbformat_minor": 2,
 "cells": [
  {
   "cell_type": "code",
   "execution_count": null,
   "metadata": {},
   "outputs": [],
   "source": [
    "import pandas as pd "
   ]
  },
  {
   "cell_type": "code",
   "execution_count": null,
   "metadata": {},
   "outputs": [],
   "source": [
    "q32019 = \"2019q3.xlsx\"\n",
    "df1 = pd.read_excel(q32019)\n",
    "refine1 = df1.drop(['Sales\\n3Q 2018', 'Median\\n3Q 2018', 'Median\\nChange'], axis=1)\n",
    "refine1= refine1.rename(columns={'Sales\\n3Q 2019': 'Sales Q3 2019', 'Median\\nQ3 2019': 'Median Q3 2019'})\n",
    "refine1"
   ]
  },
  {
   "cell_type": "code",
   "execution_count": null,
   "metadata": {},
   "outputs": [],
   "source": [
    "q42019 = \"2019q4.xlsx\"\n",
    "df2 = pd.read_excel(q42019)\n",
    "refine2 = df2.drop(['Sales\\n4Q 2018', 'Median\\n4Q 2018', 'Median\\nChange'], axis=1)\n",
    "refine2 = refine2.rename(columns={'Sales\\n4Q 2019':'Sales Q4 2019', 'Median\\n4Q 2019': 'Median Q4 2019'})\n",
    "refine2"
   ]
  },
  {
   "cell_type": "code",
   "execution_count": null,
   "metadata": {},
   "outputs": [],
   "source": [
    "q12020 = \"2020q1.xlsx\"\n",
    "df3 = pd.read_excel(q12020)\n",
    "refine3 = df3.drop(['Sales\\n1Q 2019', 'Median\\n1Q 2019', 'Median\\nChange'], axis=1)\n",
    "refine3 = refine3.rename(columns={'Sales\\n1Q 2020':'Sales Q1 2020', 'Median\\n1Q 2020': 'Median Q1 2020'})\n",
    "refine3"
   ]
  },
  {
   "cell_type": "code",
   "execution_count": null,
   "metadata": {},
   "outputs": [],
   "source": [
    "q22020 = '2020q2.xlsx'\n",
    "df4 = pd.read_excel(q22020)\n",
    "refine4 = df4.drop(['Sales\\n2Q 2019', 'Median\\n2Q 2019', 'Median\\nChange'], axis=1)\n",
    "refine4 = refine4.rename(columns={'Sales\\n2Q 2020': 'Sales Q2 2020', 'Median\\n2Q 2020': 'Median Q2 2020'})\n",
    "refine4"
   ]
  },
  {
   "cell_type": "code",
   "execution_count": null,
   "metadata": {},
   "outputs": [],
   "source": [
    "merged1 = pd.merge(refine1,refine2)\n",
    "merged2 = pd.merge(refine3,refine4)\n",
    "final = pd.merge(merged1,merged2)\n",
    "final = final.dropna(how='any')\n",
    "final"
   ]
  },
  {
   "cell_type": "code",
   "execution_count": null,
   "metadata": {},
   "outputs": [],
   "source": [
    "final.to_csv(\"y19_20_house.csv\")"
   ]
  },
  {
   "cell_type": "code",
   "execution_count": null,
   "metadata": {},
   "outputs": [],
   "source": []
  }
 ]
}