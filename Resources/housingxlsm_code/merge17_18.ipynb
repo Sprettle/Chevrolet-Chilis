{
 "metadata": {
  "language_info": {
   "codemirror_mode": {
    "name": "ipython",
    "version": 3
   },
   "file_extension": ".py",
   "mimetype": "text/x-python",
   "name": "python",
   "nbconvert_exporter": "python",
   "pygments_lexer": "ipython3",
   "version": "3.8.5-final"
  },
  "orig_nbformat": 2,
  "kernelspec": {
   "name": "python3",
   "display_name": "Python 3",
   "language": "python"
  }
 },
 "nbformat": 4,
 "nbformat_minor": 2,
 "cells": [
  {
   "cell_type": "code",
   "execution_count": 2,
   "metadata": {},
   "outputs": [],
   "source": [
    "import pandas as pd "
   ]
  },
  {
   "cell_type": "code",
   "execution_count": 4,
   "metadata": {},
   "outputs": [
    {
     "output_type": "execute_result",
     "data": {
      "text/plain": [
       "               City          Suburb  Sales Q3 2017  Median\\n3Q 2017\n",
       "0          ADELAIDE        ADELAIDE            4.0         695000.0\n",
       "1          ADELAIDE  NORTH ADELAIDE            9.0        1375000.0\n",
       "2    ADELAIDE HILLS         ALDGATE           12.0         735000.0\n",
       "3    ADELAIDE HILLS          ASHTON            NaN              NaN\n",
       "4    ADELAIDE HILLS    BASKET RANGE            1.0         488000.0\n",
       "..              ...             ...            ...              ...\n",
       "473    WEST TORRENS       THEBARTON            2.0         536250.0\n",
       "474    WEST TORRENS    TORRENSVILLE            8.0         525000.0\n",
       "475    WEST TORRENS       UNDERDALE            7.0         565000.0\n",
       "476    WEST TORRENS      WEST BEACH           14.0         770000.0\n",
       "477    WEST TORRENS   WEST RICHMOND            4.0         379500.0\n",
       "\n",
       "[478 rows x 4 columns]"
      ],
      "text/html": "<div>\n<style scoped>\n    .dataframe tbody tr th:only-of-type {\n        vertical-align: middle;\n    }\n\n    .dataframe tbody tr th {\n        vertical-align: top;\n    }\n\n    .dataframe thead th {\n        text-align: right;\n    }\n</style>\n<table border=\"1\" class=\"dataframe\">\n  <thead>\n    <tr style=\"text-align: right;\">\n      <th></th>\n      <th>City</th>\n      <th>Suburb</th>\n      <th>Sales Q3 2017</th>\n      <th>Median\\n3Q 2017</th>\n    </tr>\n  </thead>\n  <tbody>\n    <tr>\n      <th>0</th>\n      <td>ADELAIDE</td>\n      <td>ADELAIDE</td>\n      <td>4.0</td>\n      <td>695000.0</td>\n    </tr>\n    <tr>\n      <th>1</th>\n      <td>ADELAIDE</td>\n      <td>NORTH ADELAIDE</td>\n      <td>9.0</td>\n      <td>1375000.0</td>\n    </tr>\n    <tr>\n      <th>2</th>\n      <td>ADELAIDE HILLS</td>\n      <td>ALDGATE</td>\n      <td>12.0</td>\n      <td>735000.0</td>\n    </tr>\n    <tr>\n      <th>3</th>\n      <td>ADELAIDE HILLS</td>\n      <td>ASHTON</td>\n      <td>NaN</td>\n      <td>NaN</td>\n    </tr>\n    <tr>\n      <th>4</th>\n      <td>ADELAIDE HILLS</td>\n      <td>BASKET RANGE</td>\n      <td>1.0</td>\n      <td>488000.0</td>\n    </tr>\n    <tr>\n      <th>...</th>\n      <td>...</td>\n      <td>...</td>\n      <td>...</td>\n      <td>...</td>\n    </tr>\n    <tr>\n      <th>473</th>\n      <td>WEST TORRENS</td>\n      <td>THEBARTON</td>\n      <td>2.0</td>\n      <td>536250.0</td>\n    </tr>\n    <tr>\n      <th>474</th>\n      <td>WEST TORRENS</td>\n      <td>TORRENSVILLE</td>\n      <td>8.0</td>\n      <td>525000.0</td>\n    </tr>\n    <tr>\n      <th>475</th>\n      <td>WEST TORRENS</td>\n      <td>UNDERDALE</td>\n      <td>7.0</td>\n      <td>565000.0</td>\n    </tr>\n    <tr>\n      <th>476</th>\n      <td>WEST TORRENS</td>\n      <td>WEST BEACH</td>\n      <td>14.0</td>\n      <td>770000.0</td>\n    </tr>\n    <tr>\n      <th>477</th>\n      <td>WEST TORRENS</td>\n      <td>WEST RICHMOND</td>\n      <td>4.0</td>\n      <td>379500.0</td>\n    </tr>\n  </tbody>\n</table>\n<p>478 rows × 4 columns</p>\n</div>"
     },
     "metadata": {},
     "execution_count": 4
    }
   ],
   "source": [
    "q32017 = '2017q3.xlsx'\n",
    "df1 = pd.read_excel(q32017)\n",
    "refine1 = refine1 = df1.drop(['Sales\\n3Q 2016', 'Median\\n3Q 2016', 'Median\\nChange'], axis=1)\n",
    "refine1= refine1.rename(columns={'Sales\\n3Q 2017': 'Sales Q3 2017', 'Median\\nQ3 2017': 'Median Q3 2017'})\n",
    "refine1"
   ]
  },
  {
   "cell_type": "code",
   "execution_count": 5,
   "metadata": {},
   "outputs": [
    {
     "output_type": "execute_result",
     "data": {
      "text/plain": [
       "               City          Suburb  Sales Q4 2017  Median Q4 2017\n",
       "0          ADELAIDE        ADELAIDE            6.0        780500.0\n",
       "1          ADELAIDE  NORTH ADELAIDE            5.0       1095000.0\n",
       "2    ADELAIDE HILLS         ALDGATE           10.0        675000.0\n",
       "3    ADELAIDE HILLS          ASHTON            NaN             NaN\n",
       "4    ADELAIDE HILLS    BASKET RANGE            NaN             NaN\n",
       "..              ...             ...            ...             ...\n",
       "474    WEST TORRENS       THEBARTON            6.0        588650.0\n",
       "475    WEST TORRENS    TORRENSVILLE           10.0        635000.0\n",
       "476    WEST TORRENS       UNDERDALE            8.0        650000.0\n",
       "477    WEST TORRENS      WEST BEACH            8.0        712500.0\n",
       "478    WEST TORRENS   WEST RICHMOND            2.0        495000.0\n",
       "\n",
       "[479 rows x 4 columns]"
      ],
      "text/html": "<div>\n<style scoped>\n    .dataframe tbody tr th:only-of-type {\n        vertical-align: middle;\n    }\n\n    .dataframe tbody tr th {\n        vertical-align: top;\n    }\n\n    .dataframe thead th {\n        text-align: right;\n    }\n</style>\n<table border=\"1\" class=\"dataframe\">\n  <thead>\n    <tr style=\"text-align: right;\">\n      <th></th>\n      <th>City</th>\n      <th>Suburb</th>\n      <th>Sales Q4 2017</th>\n      <th>Median Q4 2017</th>\n    </tr>\n  </thead>\n  <tbody>\n    <tr>\n      <th>0</th>\n      <td>ADELAIDE</td>\n      <td>ADELAIDE</td>\n      <td>6.0</td>\n      <td>780500.0</td>\n    </tr>\n    <tr>\n      <th>1</th>\n      <td>ADELAIDE</td>\n      <td>NORTH ADELAIDE</td>\n      <td>5.0</td>\n      <td>1095000.0</td>\n    </tr>\n    <tr>\n      <th>2</th>\n      <td>ADELAIDE HILLS</td>\n      <td>ALDGATE</td>\n      <td>10.0</td>\n      <td>675000.0</td>\n    </tr>\n    <tr>\n      <th>3</th>\n      <td>ADELAIDE HILLS</td>\n      <td>ASHTON</td>\n      <td>NaN</td>\n      <td>NaN</td>\n    </tr>\n    <tr>\n      <th>4</th>\n      <td>ADELAIDE HILLS</td>\n      <td>BASKET RANGE</td>\n      <td>NaN</td>\n      <td>NaN</td>\n    </tr>\n    <tr>\n      <th>...</th>\n      <td>...</td>\n      <td>...</td>\n      <td>...</td>\n      <td>...</td>\n    </tr>\n    <tr>\n      <th>474</th>\n      <td>WEST TORRENS</td>\n      <td>THEBARTON</td>\n      <td>6.0</td>\n      <td>588650.0</td>\n    </tr>\n    <tr>\n      <th>475</th>\n      <td>WEST TORRENS</td>\n      <td>TORRENSVILLE</td>\n      <td>10.0</td>\n      <td>635000.0</td>\n    </tr>\n    <tr>\n      <th>476</th>\n      <td>WEST TORRENS</td>\n      <td>UNDERDALE</td>\n      <td>8.0</td>\n      <td>650000.0</td>\n    </tr>\n    <tr>\n      <th>477</th>\n      <td>WEST TORRENS</td>\n      <td>WEST BEACH</td>\n      <td>8.0</td>\n      <td>712500.0</td>\n    </tr>\n    <tr>\n      <th>478</th>\n      <td>WEST TORRENS</td>\n      <td>WEST RICHMOND</td>\n      <td>2.0</td>\n      <td>495000.0</td>\n    </tr>\n  </tbody>\n</table>\n<p>479 rows × 4 columns</p>\n</div>"
     },
     "metadata": {},
     "execution_count": 5
    }
   ],
   "source": [
    "q42017 = \"2017q4.xlsx\"\n",
    "df2 = pd.read_excel(q42017)\n",
    "refine2 = df2.drop(['Sales\\n4Q 2016', 'Median\\n4Q 2016', 'Median\\nChange'], axis=1)\n",
    "refine2 = refine2.rename(columns={'Sales\\n4Q 2017':'Sales Q4 2017', 'Median\\n4Q 2017': 'Median Q4 2017'})\n",
    "refine2"
   ]
  },
  {
   "cell_type": "code",
   "execution_count": 6,
   "metadata": {},
   "outputs": [
    {
     "output_type": "execute_result",
     "data": {
      "text/plain": [
       "               City          Suburb  Sales Q1 2018  Median Q1 2018\n",
       "0          ADELAIDE        ADELAIDE            5.0        861000.0\n",
       "1          ADELAIDE  NORTH ADELAIDE            2.0       2195500.0\n",
       "2    ADELAIDE HILLS         ALDGATE           17.0        696000.0\n",
       "3    ADELAIDE HILLS          ASHTON            3.0        681200.0\n",
       "4    ADELAIDE HILLS    BASKET RANGE            NaN             NaN\n",
       "..              ...             ...            ...             ...\n",
       "474    WEST TORRENS       THEBARTON            4.0        560000.0\n",
       "475    WEST TORRENS    TORRENSVILLE           15.0        545000.0\n",
       "476    WEST TORRENS       UNDERDALE            8.0        610500.0\n",
       "477    WEST TORRENS      WEST BEACH           13.0        691250.0\n",
       "478    WEST TORRENS   WEST RICHMOND            7.0        430000.0\n",
       "\n",
       "[479 rows x 4 columns]"
      ],
      "text/html": "<div>\n<style scoped>\n    .dataframe tbody tr th:only-of-type {\n        vertical-align: middle;\n    }\n\n    .dataframe tbody tr th {\n        vertical-align: top;\n    }\n\n    .dataframe thead th {\n        text-align: right;\n    }\n</style>\n<table border=\"1\" class=\"dataframe\">\n  <thead>\n    <tr style=\"text-align: right;\">\n      <th></th>\n      <th>City</th>\n      <th>Suburb</th>\n      <th>Sales Q1 2018</th>\n      <th>Median Q1 2018</th>\n    </tr>\n  </thead>\n  <tbody>\n    <tr>\n      <th>0</th>\n      <td>ADELAIDE</td>\n      <td>ADELAIDE</td>\n      <td>5.0</td>\n      <td>861000.0</td>\n    </tr>\n    <tr>\n      <th>1</th>\n      <td>ADELAIDE</td>\n      <td>NORTH ADELAIDE</td>\n      <td>2.0</td>\n      <td>2195500.0</td>\n    </tr>\n    <tr>\n      <th>2</th>\n      <td>ADELAIDE HILLS</td>\n      <td>ALDGATE</td>\n      <td>17.0</td>\n      <td>696000.0</td>\n    </tr>\n    <tr>\n      <th>3</th>\n      <td>ADELAIDE HILLS</td>\n      <td>ASHTON</td>\n      <td>3.0</td>\n      <td>681200.0</td>\n    </tr>\n    <tr>\n      <th>4</th>\n      <td>ADELAIDE HILLS</td>\n      <td>BASKET RANGE</td>\n      <td>NaN</td>\n      <td>NaN</td>\n    </tr>\n    <tr>\n      <th>...</th>\n      <td>...</td>\n      <td>...</td>\n      <td>...</td>\n      <td>...</td>\n    </tr>\n    <tr>\n      <th>474</th>\n      <td>WEST TORRENS</td>\n      <td>THEBARTON</td>\n      <td>4.0</td>\n      <td>560000.0</td>\n    </tr>\n    <tr>\n      <th>475</th>\n      <td>WEST TORRENS</td>\n      <td>TORRENSVILLE</td>\n      <td>15.0</td>\n      <td>545000.0</td>\n    </tr>\n    <tr>\n      <th>476</th>\n      <td>WEST TORRENS</td>\n      <td>UNDERDALE</td>\n      <td>8.0</td>\n      <td>610500.0</td>\n    </tr>\n    <tr>\n      <th>477</th>\n      <td>WEST TORRENS</td>\n      <td>WEST BEACH</td>\n      <td>13.0</td>\n      <td>691250.0</td>\n    </tr>\n    <tr>\n      <th>478</th>\n      <td>WEST TORRENS</td>\n      <td>WEST RICHMOND</td>\n      <td>7.0</td>\n      <td>430000.0</td>\n    </tr>\n  </tbody>\n</table>\n<p>479 rows × 4 columns</p>\n</div>"
     },
     "metadata": {},
     "execution_count": 6
    }
   ],
   "source": [
    "q12018 = \"2018q1.xlsx\"\n",
    "df3 = pd.read_excel(q12018)\n",
    "refine3 = df3.drop(['Sales\\n1Q 2017', 'Median\\n1Q 2017', 'Median\\nChange'], axis=1)\n",
    "refine3 = refine3.rename(columns={'Sales\\n1Q 2018':'Sales Q1 2018', 'Median\\n1Q 2018': 'Median Q1 2018'})\n",
    "refine3"
   ]
  },
  {
   "cell_type": "code",
   "execution_count": 7,
   "metadata": {},
   "outputs": [
    {
     "output_type": "execute_result",
     "data": {
      "text/plain": [
       "               City          Suburb  Sales Q2 2018  Median Q2 2018\n",
       "0          ADELAIDE        ADELAIDE            5.0        696000.0\n",
       "1          ADELAIDE  NORTH ADELAIDE            6.0       1510000.0\n",
       "2    ADELAIDE HILLS         ALDGATE           15.0        820000.0\n",
       "3    ADELAIDE HILLS          ASHTON            1.0        505000.0\n",
       "4    ADELAIDE HILLS    BASKET RANGE            1.0        532500.0\n",
       "..              ...             ...            ...             ...\n",
       "474    WEST TORRENS       THEBARTON            3.0        510000.0\n",
       "475    WEST TORRENS    TORRENSVILLE           10.0        552500.0\n",
       "476    WEST TORRENS       UNDERDALE            8.0        627500.0\n",
       "477    WEST TORRENS      WEST BEACH           12.0        706250.0\n",
       "478    WEST TORRENS   WEST RICHMOND            2.0        450500.0\n",
       "\n",
       "[479 rows x 4 columns]"
      ],
      "text/html": "<div>\n<style scoped>\n    .dataframe tbody tr th:only-of-type {\n        vertical-align: middle;\n    }\n\n    .dataframe tbody tr th {\n        vertical-align: top;\n    }\n\n    .dataframe thead th {\n        text-align: right;\n    }\n</style>\n<table border=\"1\" class=\"dataframe\">\n  <thead>\n    <tr style=\"text-align: right;\">\n      <th></th>\n      <th>City</th>\n      <th>Suburb</th>\n      <th>Sales Q2 2018</th>\n      <th>Median Q2 2018</th>\n    </tr>\n  </thead>\n  <tbody>\n    <tr>\n      <th>0</th>\n      <td>ADELAIDE</td>\n      <td>ADELAIDE</td>\n      <td>5.0</td>\n      <td>696000.0</td>\n    </tr>\n    <tr>\n      <th>1</th>\n      <td>ADELAIDE</td>\n      <td>NORTH ADELAIDE</td>\n      <td>6.0</td>\n      <td>1510000.0</td>\n    </tr>\n    <tr>\n      <th>2</th>\n      <td>ADELAIDE HILLS</td>\n      <td>ALDGATE</td>\n      <td>15.0</td>\n      <td>820000.0</td>\n    </tr>\n    <tr>\n      <th>3</th>\n      <td>ADELAIDE HILLS</td>\n      <td>ASHTON</td>\n      <td>1.0</td>\n      <td>505000.0</td>\n    </tr>\n    <tr>\n      <th>4</th>\n      <td>ADELAIDE HILLS</td>\n      <td>BASKET RANGE</td>\n      <td>1.0</td>\n      <td>532500.0</td>\n    </tr>\n    <tr>\n      <th>...</th>\n      <td>...</td>\n      <td>...</td>\n      <td>...</td>\n      <td>...</td>\n    </tr>\n    <tr>\n      <th>474</th>\n      <td>WEST TORRENS</td>\n      <td>THEBARTON</td>\n      <td>3.0</td>\n      <td>510000.0</td>\n    </tr>\n    <tr>\n      <th>475</th>\n      <td>WEST TORRENS</td>\n      <td>TORRENSVILLE</td>\n      <td>10.0</td>\n      <td>552500.0</td>\n    </tr>\n    <tr>\n      <th>476</th>\n      <td>WEST TORRENS</td>\n      <td>UNDERDALE</td>\n      <td>8.0</td>\n      <td>627500.0</td>\n    </tr>\n    <tr>\n      <th>477</th>\n      <td>WEST TORRENS</td>\n      <td>WEST BEACH</td>\n      <td>12.0</td>\n      <td>706250.0</td>\n    </tr>\n    <tr>\n      <th>478</th>\n      <td>WEST TORRENS</td>\n      <td>WEST RICHMOND</td>\n      <td>2.0</td>\n      <td>450500.0</td>\n    </tr>\n  </tbody>\n</table>\n<p>479 rows × 4 columns</p>\n</div>"
     },
     "metadata": {},
     "execution_count": 7
    }
   ],
   "source": [
    "q22018 = '2018q2.xlsx'\n",
    "df4 = pd.read_excel(q22018)\n",
    "refine4 = df4.drop(['Sales\\n2Q 2017', 'Median\\n2Q 2017', 'Median\\nChange'], axis=1)\n",
    "refine4 = refine4.rename(columns={'Sales\\n2Q 2018': 'Sales Q2 2018', 'Median\\n2Q 2018': 'Median Q2 2018'})\n",
    "refine4"
   ]
  },
  {
   "cell_type": "code",
   "execution_count": 8,
   "metadata": {},
   "outputs": [
    {
     "output_type": "execute_result",
     "data": {
      "text/plain": [
       "               City          Suburb  Sales Q3 2017  Median\\n3Q 2017  \\\n",
       "0          ADELAIDE        ADELAIDE            4.0         695000.0   \n",
       "1          ADELAIDE  NORTH ADELAIDE            9.0        1375000.0   \n",
       "2    ADELAIDE HILLS         ALDGATE           12.0         735000.0   \n",
       "5    ADELAIDE HILLS          BELAIR           21.0         613000.0   \n",
       "7    ADELAIDE HILLS     BRIDGEWATER           24.0         465000.0   \n",
       "..              ...             ...            ...              ...   \n",
       "473    WEST TORRENS       THEBARTON            2.0         536250.0   \n",
       "474    WEST TORRENS    TORRENSVILLE            8.0         525000.0   \n",
       "475    WEST TORRENS       UNDERDALE            7.0         565000.0   \n",
       "476    WEST TORRENS      WEST BEACH           14.0         770000.0   \n",
       "477    WEST TORRENS   WEST RICHMOND            4.0         379500.0   \n",
       "\n",
       "     Sales Q4 2017  Median Q4 2017  Sales Q1 2018  Median Q1 2018  \\\n",
       "0              6.0        780500.0            5.0        861000.0   \n",
       "1              5.0       1095000.0            2.0       2195500.0   \n",
       "2             10.0        675000.0           17.0        696000.0   \n",
       "5             14.0        570000.0           14.0        585000.0   \n",
       "7             18.0        448000.0           18.0        490000.0   \n",
       "..             ...             ...            ...             ...   \n",
       "473            6.0        588650.0            4.0        560000.0   \n",
       "474           10.0        635000.0           15.0        545000.0   \n",
       "475            8.0        650000.0            8.0        610500.0   \n",
       "476            8.0        712500.0           13.0        691250.0   \n",
       "477            2.0        495000.0            7.0        430000.0   \n",
       "\n",
       "     Sales Q2 2018  Median Q2 2018  \n",
       "0              5.0        696000.0  \n",
       "1              6.0       1510000.0  \n",
       "2             15.0        820000.0  \n",
       "5             14.0        577500.0  \n",
       "7             19.0        535000.0  \n",
       "..             ...             ...  \n",
       "473            3.0        510000.0  \n",
       "474           10.0        552500.0  \n",
       "475            8.0        627500.0  \n",
       "476           12.0        706250.0  \n",
       "477            2.0        450500.0  \n",
       "\n",
       "[367 rows x 10 columns]"
      ],
      "text/html": "<div>\n<style scoped>\n    .dataframe tbody tr th:only-of-type {\n        vertical-align: middle;\n    }\n\n    .dataframe tbody tr th {\n        vertical-align: top;\n    }\n\n    .dataframe thead th {\n        text-align: right;\n    }\n</style>\n<table border=\"1\" class=\"dataframe\">\n  <thead>\n    <tr style=\"text-align: right;\">\n      <th></th>\n      <th>City</th>\n      <th>Suburb</th>\n      <th>Sales Q3 2017</th>\n      <th>Median\\n3Q 2017</th>\n      <th>Sales Q4 2017</th>\n      <th>Median Q4 2017</th>\n      <th>Sales Q1 2018</th>\n      <th>Median Q1 2018</th>\n      <th>Sales Q2 2018</th>\n      <th>Median Q2 2018</th>\n    </tr>\n  </thead>\n  <tbody>\n    <tr>\n      <th>0</th>\n      <td>ADELAIDE</td>\n      <td>ADELAIDE</td>\n      <td>4.0</td>\n      <td>695000.0</td>\n      <td>6.0</td>\n      <td>780500.0</td>\n      <td>5.0</td>\n      <td>861000.0</td>\n      <td>5.0</td>\n      <td>696000.0</td>\n    </tr>\n    <tr>\n      <th>1</th>\n      <td>ADELAIDE</td>\n      <td>NORTH ADELAIDE</td>\n      <td>9.0</td>\n      <td>1375000.0</td>\n      <td>5.0</td>\n      <td>1095000.0</td>\n      <td>2.0</td>\n      <td>2195500.0</td>\n      <td>6.0</td>\n      <td>1510000.0</td>\n    </tr>\n    <tr>\n      <th>2</th>\n      <td>ADELAIDE HILLS</td>\n      <td>ALDGATE</td>\n      <td>12.0</td>\n      <td>735000.0</td>\n      <td>10.0</td>\n      <td>675000.0</td>\n      <td>17.0</td>\n      <td>696000.0</td>\n      <td>15.0</td>\n      <td>820000.0</td>\n    </tr>\n    <tr>\n      <th>5</th>\n      <td>ADELAIDE HILLS</td>\n      <td>BELAIR</td>\n      <td>21.0</td>\n      <td>613000.0</td>\n      <td>14.0</td>\n      <td>570000.0</td>\n      <td>14.0</td>\n      <td>585000.0</td>\n      <td>14.0</td>\n      <td>577500.0</td>\n    </tr>\n    <tr>\n      <th>7</th>\n      <td>ADELAIDE HILLS</td>\n      <td>BRIDGEWATER</td>\n      <td>24.0</td>\n      <td>465000.0</td>\n      <td>18.0</td>\n      <td>448000.0</td>\n      <td>18.0</td>\n      <td>490000.0</td>\n      <td>19.0</td>\n      <td>535000.0</td>\n    </tr>\n    <tr>\n      <th>...</th>\n      <td>...</td>\n      <td>...</td>\n      <td>...</td>\n      <td>...</td>\n      <td>...</td>\n      <td>...</td>\n      <td>...</td>\n      <td>...</td>\n      <td>...</td>\n      <td>...</td>\n    </tr>\n    <tr>\n      <th>473</th>\n      <td>WEST TORRENS</td>\n      <td>THEBARTON</td>\n      <td>2.0</td>\n      <td>536250.0</td>\n      <td>6.0</td>\n      <td>588650.0</td>\n      <td>4.0</td>\n      <td>560000.0</td>\n      <td>3.0</td>\n      <td>510000.0</td>\n    </tr>\n    <tr>\n      <th>474</th>\n      <td>WEST TORRENS</td>\n      <td>TORRENSVILLE</td>\n      <td>8.0</td>\n      <td>525000.0</td>\n      <td>10.0</td>\n      <td>635000.0</td>\n      <td>15.0</td>\n      <td>545000.0</td>\n      <td>10.0</td>\n      <td>552500.0</td>\n    </tr>\n    <tr>\n      <th>475</th>\n      <td>WEST TORRENS</td>\n      <td>UNDERDALE</td>\n      <td>7.0</td>\n      <td>565000.0</td>\n      <td>8.0</td>\n      <td>650000.0</td>\n      <td>8.0</td>\n      <td>610500.0</td>\n      <td>8.0</td>\n      <td>627500.0</td>\n    </tr>\n    <tr>\n      <th>476</th>\n      <td>WEST TORRENS</td>\n      <td>WEST BEACH</td>\n      <td>14.0</td>\n      <td>770000.0</td>\n      <td>8.0</td>\n      <td>712500.0</td>\n      <td>13.0</td>\n      <td>691250.0</td>\n      <td>12.0</td>\n      <td>706250.0</td>\n    </tr>\n    <tr>\n      <th>477</th>\n      <td>WEST TORRENS</td>\n      <td>WEST RICHMOND</td>\n      <td>4.0</td>\n      <td>379500.0</td>\n      <td>2.0</td>\n      <td>495000.0</td>\n      <td>7.0</td>\n      <td>430000.0</td>\n      <td>2.0</td>\n      <td>450500.0</td>\n    </tr>\n  </tbody>\n</table>\n<p>367 rows × 10 columns</p>\n</div>"
     },
     "metadata": {},
     "execution_count": 8
    }
   ],
   "source": [
    "merged1 = pd.merge(refine1,refine2)\n",
    "merged2 = pd.merge(refine3,refine4)\n",
    "final = pd.merge(merged1,merged2)\n",
    "final = final.dropna(how='any')\n",
    "final"
   ]
  },
  {
   "cell_type": "code",
   "execution_count": 10,
   "metadata": {},
   "outputs": [],
   "source": [
    "final.to_csv(\"y17_18_house.csv\")"
   ]
  },
  {
   "cell_type": "code",
   "execution_count": null,
   "metadata": {},
   "outputs": [],
   "source": []
  }
 ]
}