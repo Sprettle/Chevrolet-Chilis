{
 "metadata": {
  "language_info": {
   "codemirror_mode": {
    "name": "ipython",
    "version": 3
   },
   "file_extension": ".py",
   "mimetype": "text/x-python",
   "name": "python",
   "nbconvert_exporter": "python",
   "pygments_lexer": "ipython3",
   "version": "3.8.5-final"
  },
  "orig_nbformat": 2,
  "kernelspec": {
   "name": "python3",
   "display_name": "Python 3",
   "language": "python"
  }
 },
 "nbformat": 4,
 "nbformat_minor": 2,
 "cells": [
  {
   "cell_type": "code",
   "execution_count": 2,
   "metadata": {},
   "outputs": [
    {
     "output_type": "stream",
     "name": "stdout",
     "text": [
      "Requirement already satisfied: openpyxl in c:\\users\\miki_\\anaconda3\\lib\\site-packages (3.0.5)\nRequirement already satisfied: jdcal in c:\\users\\miki_\\anaconda3\\lib\\site-packages (from openpyxl) (1.4.1)\nRequirement already satisfied: et-xmlfile in c:\\users\\miki_\\anaconda3\\lib\\site-packages (from openpyxl) (1.0.1)\nNote: you may need to restart the kernel to use updated packages.\n"
     ]
    }
   ],
   "source": [
    "pip install openpyxl"
   ]
  },
  {
   "cell_type": "code",
   "execution_count": 3,
   "metadata": {},
   "outputs": [],
   "source": [
    "import pandas as pd "
   ]
  },
  {
   "cell_type": "code",
   "execution_count": 4,
   "metadata": {},
   "outputs": [
    {
     "output_type": "execute_result",
     "data": {
      "text/plain": [
       "               City          Suburb  Sales Q3 2016  Median\\n3Q 2016\n",
       "0          ADELAIDE        ADELAIDE            6.0         747500.0\n",
       "1          ADELAIDE  NORTH ADELAIDE            6.0         932000.0\n",
       "2    ADELAIDE HILLS         ALDGATE           13.0         665000.0\n",
       "3    ADELAIDE HILLS          ASHTON            NaN              NaN\n",
       "4    ADELAIDE HILLS    BASKET RANGE            NaN              NaN\n",
       "..              ...             ...            ...              ...\n",
       "473    WEST TORRENS       THEBARTON            2.0         516000.0\n",
       "474    WEST TORRENS    TORRENSVILLE            6.0         605000.0\n",
       "475    WEST TORRENS       UNDERDALE            6.0         521500.0\n",
       "476    WEST TORRENS      WEST BEACH           18.0         660000.0\n",
       "477    WEST TORRENS   WEST RICHMOND            2.0         468500.0\n",
       "\n",
       "[478 rows x 4 columns]"
      ],
      "text/html": "<div>\n<style scoped>\n    .dataframe tbody tr th:only-of-type {\n        vertical-align: middle;\n    }\n\n    .dataframe tbody tr th {\n        vertical-align: top;\n    }\n\n    .dataframe thead th {\n        text-align: right;\n    }\n</style>\n<table border=\"1\" class=\"dataframe\">\n  <thead>\n    <tr style=\"text-align: right;\">\n      <th></th>\n      <th>City</th>\n      <th>Suburb</th>\n      <th>Sales Q3 2016</th>\n      <th>Median\\n3Q 2016</th>\n    </tr>\n  </thead>\n  <tbody>\n    <tr>\n      <th>0</th>\n      <td>ADELAIDE</td>\n      <td>ADELAIDE</td>\n      <td>6.0</td>\n      <td>747500.0</td>\n    </tr>\n    <tr>\n      <th>1</th>\n      <td>ADELAIDE</td>\n      <td>NORTH ADELAIDE</td>\n      <td>6.0</td>\n      <td>932000.0</td>\n    </tr>\n    <tr>\n      <th>2</th>\n      <td>ADELAIDE HILLS</td>\n      <td>ALDGATE</td>\n      <td>13.0</td>\n      <td>665000.0</td>\n    </tr>\n    <tr>\n      <th>3</th>\n      <td>ADELAIDE HILLS</td>\n      <td>ASHTON</td>\n      <td>NaN</td>\n      <td>NaN</td>\n    </tr>\n    <tr>\n      <th>4</th>\n      <td>ADELAIDE HILLS</td>\n      <td>BASKET RANGE</td>\n      <td>NaN</td>\n      <td>NaN</td>\n    </tr>\n    <tr>\n      <th>...</th>\n      <td>...</td>\n      <td>...</td>\n      <td>...</td>\n      <td>...</td>\n    </tr>\n    <tr>\n      <th>473</th>\n      <td>WEST TORRENS</td>\n      <td>THEBARTON</td>\n      <td>2.0</td>\n      <td>516000.0</td>\n    </tr>\n    <tr>\n      <th>474</th>\n      <td>WEST TORRENS</td>\n      <td>TORRENSVILLE</td>\n      <td>6.0</td>\n      <td>605000.0</td>\n    </tr>\n    <tr>\n      <th>475</th>\n      <td>WEST TORRENS</td>\n      <td>UNDERDALE</td>\n      <td>6.0</td>\n      <td>521500.0</td>\n    </tr>\n    <tr>\n      <th>476</th>\n      <td>WEST TORRENS</td>\n      <td>WEST BEACH</td>\n      <td>18.0</td>\n      <td>660000.0</td>\n    </tr>\n    <tr>\n      <th>477</th>\n      <td>WEST TORRENS</td>\n      <td>WEST RICHMOND</td>\n      <td>2.0</td>\n      <td>468500.0</td>\n    </tr>\n  </tbody>\n</table>\n<p>478 rows × 4 columns</p>\n</div>"
     },
     "metadata": {},
     "execution_count": 4
    }
   ],
   "source": [
    "q32016 = \"../housingcsv/2016q3.xlsx\"\n",
    "df1 = pd.read_excel(q32016,engine='openpyxl')\n",
    "refine1 = df1.drop(['Sales\\n3Q 2015', 'Median\\n3Q 2015', 'Median\\nChange'], axis=1)\n",
    "refine1= refine1.rename(columns={'Sales\\n3Q 2016': 'Sales Q3 2016', 'Median\\nQ3 2016': 'Median Q3 2016'})\n",
    "refine1"
   ]
  },
  {
   "cell_type": "code",
   "execution_count": 5,
   "metadata": {},
   "outputs": [
    {
     "output_type": "execute_result",
     "data": {
      "text/plain": [
       "               City          Suburb  Sales Q4 2016  Median Q4 2016\n",
       "0          ADELAIDE        ADELAIDE            6.0        683000.0\n",
       "1          ADELAIDE  NORTH ADELAIDE            6.0       1231000.0\n",
       "2    ADELAIDE HILLS         ALDGATE           10.0        695000.0\n",
       "3    ADELAIDE HILLS          ASHTON            NaN             NaN\n",
       "4    ADELAIDE HILLS    BASKET RANGE            NaN             NaN\n",
       "..              ...             ...            ...             ...\n",
       "472    WEST TORRENS       THEBARTON            6.0        510000.0\n",
       "473    WEST TORRENS    TORRENSVILLE           10.0        588000.0\n",
       "474    WEST TORRENS       UNDERDALE            4.0        567500.0\n",
       "475    WEST TORRENS      WEST BEACH           11.0        575000.0\n",
       "476    WEST TORRENS   WEST RICHMOND            8.0        417500.0\n",
       "\n",
       "[477 rows x 4 columns]"
      ],
      "text/html": "<div>\n<style scoped>\n    .dataframe tbody tr th:only-of-type {\n        vertical-align: middle;\n    }\n\n    .dataframe tbody tr th {\n        vertical-align: top;\n    }\n\n    .dataframe thead th {\n        text-align: right;\n    }\n</style>\n<table border=\"1\" class=\"dataframe\">\n  <thead>\n    <tr style=\"text-align: right;\">\n      <th></th>\n      <th>City</th>\n      <th>Suburb</th>\n      <th>Sales Q4 2016</th>\n      <th>Median Q4 2016</th>\n    </tr>\n  </thead>\n  <tbody>\n    <tr>\n      <th>0</th>\n      <td>ADELAIDE</td>\n      <td>ADELAIDE</td>\n      <td>6.0</td>\n      <td>683000.0</td>\n    </tr>\n    <tr>\n      <th>1</th>\n      <td>ADELAIDE</td>\n      <td>NORTH ADELAIDE</td>\n      <td>6.0</td>\n      <td>1231000.0</td>\n    </tr>\n    <tr>\n      <th>2</th>\n      <td>ADELAIDE HILLS</td>\n      <td>ALDGATE</td>\n      <td>10.0</td>\n      <td>695000.0</td>\n    </tr>\n    <tr>\n      <th>3</th>\n      <td>ADELAIDE HILLS</td>\n      <td>ASHTON</td>\n      <td>NaN</td>\n      <td>NaN</td>\n    </tr>\n    <tr>\n      <th>4</th>\n      <td>ADELAIDE HILLS</td>\n      <td>BASKET RANGE</td>\n      <td>NaN</td>\n      <td>NaN</td>\n    </tr>\n    <tr>\n      <th>...</th>\n      <td>...</td>\n      <td>...</td>\n      <td>...</td>\n      <td>...</td>\n    </tr>\n    <tr>\n      <th>472</th>\n      <td>WEST TORRENS</td>\n      <td>THEBARTON</td>\n      <td>6.0</td>\n      <td>510000.0</td>\n    </tr>\n    <tr>\n      <th>473</th>\n      <td>WEST TORRENS</td>\n      <td>TORRENSVILLE</td>\n      <td>10.0</td>\n      <td>588000.0</td>\n    </tr>\n    <tr>\n      <th>474</th>\n      <td>WEST TORRENS</td>\n      <td>UNDERDALE</td>\n      <td>4.0</td>\n      <td>567500.0</td>\n    </tr>\n    <tr>\n      <th>475</th>\n      <td>WEST TORRENS</td>\n      <td>WEST BEACH</td>\n      <td>11.0</td>\n      <td>575000.0</td>\n    </tr>\n    <tr>\n      <th>476</th>\n      <td>WEST TORRENS</td>\n      <td>WEST RICHMOND</td>\n      <td>8.0</td>\n      <td>417500.0</td>\n    </tr>\n  </tbody>\n</table>\n<p>477 rows × 4 columns</p>\n</div>"
     },
     "metadata": {},
     "execution_count": 5
    }
   ],
   "source": [
    "q42016 = \"../housingcsv/2016q4.xlsx\"\n",
    "df2 = pd.read_excel(q42016,engine='openpyxl')\n",
    "refine2 = df2.drop(['Sales\\n4Q 2015', 'Median\\n4Q 2015', 'Median\\nChange'], axis=1)\n",
    "refine2 = refine2.rename(columns={'Sales\\n4Q 2016':'Sales Q4 2016', 'Median\\n4Q 2016': 'Median Q4 2016'})\n",
    "refine2"
   ]
  },
  {
   "cell_type": "code",
   "execution_count": 6,
   "metadata": {},
   "outputs": [
    {
     "output_type": "execute_result",
     "data": {
      "text/plain": [
       "               City          Suburb  Sales Q1 2017  Median Q1 2017\n",
       "0          ADELAIDE        ADELAIDE            6.0        627500.0\n",
       "1          ADELAIDE  NORTH ADELAIDE            6.0        992500.0\n",
       "2    ADELAIDE HILLS         ALDGATE           14.0        695000.0\n",
       "3    ADELAIDE HILLS          ASHTON            1.0        415000.0\n",
       "4    ADELAIDE HILLS    BASKET RANGE            1.0        470000.0\n",
       "..              ...             ...            ...             ...\n",
       "473    WEST TORRENS       THEBARTON            3.0        568000.0\n",
       "474    WEST TORRENS    TORRENSVILLE           12.0        532000.0\n",
       "475    WEST TORRENS       UNDERDALE            5.0        540000.0\n",
       "476    WEST TORRENS      WEST BEACH           12.0        670000.0\n",
       "477    WEST TORRENS   WEST RICHMOND            2.0        419600.0\n",
       "\n",
       "[478 rows x 4 columns]"
      ],
      "text/html": "<div>\n<style scoped>\n    .dataframe tbody tr th:only-of-type {\n        vertical-align: middle;\n    }\n\n    .dataframe tbody tr th {\n        vertical-align: top;\n    }\n\n    .dataframe thead th {\n        text-align: right;\n    }\n</style>\n<table border=\"1\" class=\"dataframe\">\n  <thead>\n    <tr style=\"text-align: right;\">\n      <th></th>\n      <th>City</th>\n      <th>Suburb</th>\n      <th>Sales Q1 2017</th>\n      <th>Median Q1 2017</th>\n    </tr>\n  </thead>\n  <tbody>\n    <tr>\n      <th>0</th>\n      <td>ADELAIDE</td>\n      <td>ADELAIDE</td>\n      <td>6.0</td>\n      <td>627500.0</td>\n    </tr>\n    <tr>\n      <th>1</th>\n      <td>ADELAIDE</td>\n      <td>NORTH ADELAIDE</td>\n      <td>6.0</td>\n      <td>992500.0</td>\n    </tr>\n    <tr>\n      <th>2</th>\n      <td>ADELAIDE HILLS</td>\n      <td>ALDGATE</td>\n      <td>14.0</td>\n      <td>695000.0</td>\n    </tr>\n    <tr>\n      <th>3</th>\n      <td>ADELAIDE HILLS</td>\n      <td>ASHTON</td>\n      <td>1.0</td>\n      <td>415000.0</td>\n    </tr>\n    <tr>\n      <th>4</th>\n      <td>ADELAIDE HILLS</td>\n      <td>BASKET RANGE</td>\n      <td>1.0</td>\n      <td>470000.0</td>\n    </tr>\n    <tr>\n      <th>...</th>\n      <td>...</td>\n      <td>...</td>\n      <td>...</td>\n      <td>...</td>\n    </tr>\n    <tr>\n      <th>473</th>\n      <td>WEST TORRENS</td>\n      <td>THEBARTON</td>\n      <td>3.0</td>\n      <td>568000.0</td>\n    </tr>\n    <tr>\n      <th>474</th>\n      <td>WEST TORRENS</td>\n      <td>TORRENSVILLE</td>\n      <td>12.0</td>\n      <td>532000.0</td>\n    </tr>\n    <tr>\n      <th>475</th>\n      <td>WEST TORRENS</td>\n      <td>UNDERDALE</td>\n      <td>5.0</td>\n      <td>540000.0</td>\n    </tr>\n    <tr>\n      <th>476</th>\n      <td>WEST TORRENS</td>\n      <td>WEST BEACH</td>\n      <td>12.0</td>\n      <td>670000.0</td>\n    </tr>\n    <tr>\n      <th>477</th>\n      <td>WEST TORRENS</td>\n      <td>WEST RICHMOND</td>\n      <td>2.0</td>\n      <td>419600.0</td>\n    </tr>\n  </tbody>\n</table>\n<p>478 rows × 4 columns</p>\n</div>"
     },
     "metadata": {},
     "execution_count": 6
    }
   ],
   "source": [
    "q12017 = \"../housingcsv/2017q1.xlsx\"\n",
    "df3 = pd.read_excel(q12017,engine='openpyxl')\n",
    "refine3 = df3.drop(['Sales\\n1Q 2016', 'Median\\n1Q 2016', 'Median\\nChange'], axis=1)\n",
    "refine3 = refine3.rename(columns={'Sales\\n1Q 2017':'Sales Q1 2017', 'Median\\n1Q 2017': 'Median Q1 2017'})\n",
    "refine3"
   ]
  },
  {
   "cell_type": "code",
   "execution_count": 7,
   "metadata": {},
   "outputs": [
    {
     "output_type": "execute_result",
     "data": {
      "text/plain": [
       "               City          Suburb  Sales Q2 2017  Median Q2 2017\n",
       "0          ADELAIDE        ADELAIDE            6.0        900000.0\n",
       "1          ADELAIDE  NORTH ADELAIDE            6.0       1451000.0\n",
       "2    ADELAIDE HILLS         ALDGATE           20.0        756000.0\n",
       "3    ADELAIDE HILLS          ASHTON            NaN             NaN\n",
       "4    ADELAIDE HILLS    BASKET RANGE            2.0        619500.0\n",
       "..              ...             ...            ...             ...\n",
       "473    WEST TORRENS       THEBARTON            3.0        682000.0\n",
       "474    WEST TORRENS    TORRENSVILLE           11.0        597500.0\n",
       "475    WEST TORRENS       UNDERDALE            4.0        737500.0\n",
       "476    WEST TORRENS      WEST BEACH           13.0        740000.0\n",
       "477    WEST TORRENS   WEST RICHMOND            4.0        452500.0\n",
       "\n",
       "[478 rows x 4 columns]"
      ],
      "text/html": "<div>\n<style scoped>\n    .dataframe tbody tr th:only-of-type {\n        vertical-align: middle;\n    }\n\n    .dataframe tbody tr th {\n        vertical-align: top;\n    }\n\n    .dataframe thead th {\n        text-align: right;\n    }\n</style>\n<table border=\"1\" class=\"dataframe\">\n  <thead>\n    <tr style=\"text-align: right;\">\n      <th></th>\n      <th>City</th>\n      <th>Suburb</th>\n      <th>Sales Q2 2017</th>\n      <th>Median Q2 2017</th>\n    </tr>\n  </thead>\n  <tbody>\n    <tr>\n      <th>0</th>\n      <td>ADELAIDE</td>\n      <td>ADELAIDE</td>\n      <td>6.0</td>\n      <td>900000.0</td>\n    </tr>\n    <tr>\n      <th>1</th>\n      <td>ADELAIDE</td>\n      <td>NORTH ADELAIDE</td>\n      <td>6.0</td>\n      <td>1451000.0</td>\n    </tr>\n    <tr>\n      <th>2</th>\n      <td>ADELAIDE HILLS</td>\n      <td>ALDGATE</td>\n      <td>20.0</td>\n      <td>756000.0</td>\n    </tr>\n    <tr>\n      <th>3</th>\n      <td>ADELAIDE HILLS</td>\n      <td>ASHTON</td>\n      <td>NaN</td>\n      <td>NaN</td>\n    </tr>\n    <tr>\n      <th>4</th>\n      <td>ADELAIDE HILLS</td>\n      <td>BASKET RANGE</td>\n      <td>2.0</td>\n      <td>619500.0</td>\n    </tr>\n    <tr>\n      <th>...</th>\n      <td>...</td>\n      <td>...</td>\n      <td>...</td>\n      <td>...</td>\n    </tr>\n    <tr>\n      <th>473</th>\n      <td>WEST TORRENS</td>\n      <td>THEBARTON</td>\n      <td>3.0</td>\n      <td>682000.0</td>\n    </tr>\n    <tr>\n      <th>474</th>\n      <td>WEST TORRENS</td>\n      <td>TORRENSVILLE</td>\n      <td>11.0</td>\n      <td>597500.0</td>\n    </tr>\n    <tr>\n      <th>475</th>\n      <td>WEST TORRENS</td>\n      <td>UNDERDALE</td>\n      <td>4.0</td>\n      <td>737500.0</td>\n    </tr>\n    <tr>\n      <th>476</th>\n      <td>WEST TORRENS</td>\n      <td>WEST BEACH</td>\n      <td>13.0</td>\n      <td>740000.0</td>\n    </tr>\n    <tr>\n      <th>477</th>\n      <td>WEST TORRENS</td>\n      <td>WEST RICHMOND</td>\n      <td>4.0</td>\n      <td>452500.0</td>\n    </tr>\n  </tbody>\n</table>\n<p>478 rows × 4 columns</p>\n</div>"
     },
     "metadata": {},
     "execution_count": 7
    }
   ],
   "source": [
    "q22017 = '../housingcsv/2017q2.xlsx'\n",
    "df4 = pd.read_excel(q22017,engine='openpyxl')\n",
    "refine4 = df4.drop(['Sales\\n2Q 2016', 'Median\\n2Q 2016', 'Median\\nChange'], axis=1)\n",
    "refine4 = refine4.rename(columns={'Sales\\n2Q 2017': 'Sales Q2 2017', 'Median\\n2Q 2017': 'Median Q2 2017'})\n",
    "refine4"
   ]
  },
  {
   "cell_type": "code",
   "execution_count": 8,
   "metadata": {},
   "outputs": [
    {
     "output_type": "execute_result",
     "data": {
      "text/plain": [
       "               City          Suburb  Sales Q3 2016  Median\\n3Q 2016  \\\n",
       "0          ADELAIDE        ADELAIDE            6.0         747500.0   \n",
       "1          ADELAIDE  NORTH ADELAIDE            6.0         932000.0   \n",
       "2    ADELAIDE HILLS         ALDGATE           13.0         665000.0   \n",
       "5    ADELAIDE HILLS          BELAIR            8.0         605000.0   \n",
       "7    ADELAIDE HILLS     BRIDGEWATER           16.0         536250.0   \n",
       "..              ...             ...            ...              ...   \n",
       "472    WEST TORRENS       THEBARTON            2.0         516000.0   \n",
       "473    WEST TORRENS    TORRENSVILLE            6.0         605000.0   \n",
       "474    WEST TORRENS       UNDERDALE            6.0         521500.0   \n",
       "475    WEST TORRENS      WEST BEACH           18.0         660000.0   \n",
       "476    WEST TORRENS   WEST RICHMOND            2.0         468500.0   \n",
       "\n",
       "     Sales Q4 2016  Median Q4 2016  Sales Q1 2017  Median Q1 2017  \\\n",
       "0              6.0        683000.0            6.0        627500.0   \n",
       "1              6.0       1231000.0            6.0        992500.0   \n",
       "2             10.0        695000.0           14.0        695000.0   \n",
       "5             18.0        623000.0           18.0        700000.0   \n",
       "7             12.0        490500.0           18.0        435475.0   \n",
       "..             ...             ...            ...             ...   \n",
       "472            6.0        510000.0            3.0        568000.0   \n",
       "473           10.0        588000.0           12.0        532000.0   \n",
       "474            4.0        567500.0            5.0        540000.0   \n",
       "475           11.0        575000.0           12.0        670000.0   \n",
       "476            8.0        417500.0            2.0        419600.0   \n",
       "\n",
       "     Sales Q2 2017  Median Q2 2017  \n",
       "0              6.0        900000.0  \n",
       "1              6.0       1451000.0  \n",
       "2             20.0        756000.0  \n",
       "5             19.0        658250.0  \n",
       "7             19.0        475000.0  \n",
       "..             ...             ...  \n",
       "472            3.0        682000.0  \n",
       "473           11.0        597500.0  \n",
       "474            4.0        737500.0  \n",
       "475           13.0        740000.0  \n",
       "476            4.0        452500.0  \n",
       "\n",
       "[354 rows x 10 columns]"
      ],
      "text/html": "<div>\n<style scoped>\n    .dataframe tbody tr th:only-of-type {\n        vertical-align: middle;\n    }\n\n    .dataframe tbody tr th {\n        vertical-align: top;\n    }\n\n    .dataframe thead th {\n        text-align: right;\n    }\n</style>\n<table border=\"1\" class=\"dataframe\">\n  <thead>\n    <tr style=\"text-align: right;\">\n      <th></th>\n      <th>City</th>\n      <th>Suburb</th>\n      <th>Sales Q3 2016</th>\n      <th>Median\\n3Q 2016</th>\n      <th>Sales Q4 2016</th>\n      <th>Median Q4 2016</th>\n      <th>Sales Q1 2017</th>\n      <th>Median Q1 2017</th>\n      <th>Sales Q2 2017</th>\n      <th>Median Q2 2017</th>\n    </tr>\n  </thead>\n  <tbody>\n    <tr>\n      <th>0</th>\n      <td>ADELAIDE</td>\n      <td>ADELAIDE</td>\n      <td>6.0</td>\n      <td>747500.0</td>\n      <td>6.0</td>\n      <td>683000.0</td>\n      <td>6.0</td>\n      <td>627500.0</td>\n      <td>6.0</td>\n      <td>900000.0</td>\n    </tr>\n    <tr>\n      <th>1</th>\n      <td>ADELAIDE</td>\n      <td>NORTH ADELAIDE</td>\n      <td>6.0</td>\n      <td>932000.0</td>\n      <td>6.0</td>\n      <td>1231000.0</td>\n      <td>6.0</td>\n      <td>992500.0</td>\n      <td>6.0</td>\n      <td>1451000.0</td>\n    </tr>\n    <tr>\n      <th>2</th>\n      <td>ADELAIDE HILLS</td>\n      <td>ALDGATE</td>\n      <td>13.0</td>\n      <td>665000.0</td>\n      <td>10.0</td>\n      <td>695000.0</td>\n      <td>14.0</td>\n      <td>695000.0</td>\n      <td>20.0</td>\n      <td>756000.0</td>\n    </tr>\n    <tr>\n      <th>5</th>\n      <td>ADELAIDE HILLS</td>\n      <td>BELAIR</td>\n      <td>8.0</td>\n      <td>605000.0</td>\n      <td>18.0</td>\n      <td>623000.0</td>\n      <td>18.0</td>\n      <td>700000.0</td>\n      <td>19.0</td>\n      <td>658250.0</td>\n    </tr>\n    <tr>\n      <th>7</th>\n      <td>ADELAIDE HILLS</td>\n      <td>BRIDGEWATER</td>\n      <td>16.0</td>\n      <td>536250.0</td>\n      <td>12.0</td>\n      <td>490500.0</td>\n      <td>18.0</td>\n      <td>435475.0</td>\n      <td>19.0</td>\n      <td>475000.0</td>\n    </tr>\n    <tr>\n      <th>...</th>\n      <td>...</td>\n      <td>...</td>\n      <td>...</td>\n      <td>...</td>\n      <td>...</td>\n      <td>...</td>\n      <td>...</td>\n      <td>...</td>\n      <td>...</td>\n      <td>...</td>\n    </tr>\n    <tr>\n      <th>472</th>\n      <td>WEST TORRENS</td>\n      <td>THEBARTON</td>\n      <td>2.0</td>\n      <td>516000.0</td>\n      <td>6.0</td>\n      <td>510000.0</td>\n      <td>3.0</td>\n      <td>568000.0</td>\n      <td>3.0</td>\n      <td>682000.0</td>\n    </tr>\n    <tr>\n      <th>473</th>\n      <td>WEST TORRENS</td>\n      <td>TORRENSVILLE</td>\n      <td>6.0</td>\n      <td>605000.0</td>\n      <td>10.0</td>\n      <td>588000.0</td>\n      <td>12.0</td>\n      <td>532000.0</td>\n      <td>11.0</td>\n      <td>597500.0</td>\n    </tr>\n    <tr>\n      <th>474</th>\n      <td>WEST TORRENS</td>\n      <td>UNDERDALE</td>\n      <td>6.0</td>\n      <td>521500.0</td>\n      <td>4.0</td>\n      <td>567500.0</td>\n      <td>5.0</td>\n      <td>540000.0</td>\n      <td>4.0</td>\n      <td>737500.0</td>\n    </tr>\n    <tr>\n      <th>475</th>\n      <td>WEST TORRENS</td>\n      <td>WEST BEACH</td>\n      <td>18.0</td>\n      <td>660000.0</td>\n      <td>11.0</td>\n      <td>575000.0</td>\n      <td>12.0</td>\n      <td>670000.0</td>\n      <td>13.0</td>\n      <td>740000.0</td>\n    </tr>\n    <tr>\n      <th>476</th>\n      <td>WEST TORRENS</td>\n      <td>WEST RICHMOND</td>\n      <td>2.0</td>\n      <td>468500.0</td>\n      <td>8.0</td>\n      <td>417500.0</td>\n      <td>2.0</td>\n      <td>419600.0</td>\n      <td>4.0</td>\n      <td>452500.0</td>\n    </tr>\n  </tbody>\n</table>\n<p>354 rows × 10 columns</p>\n</div>"
     },
     "metadata": {},
     "execution_count": 8
    }
   ],
   "source": [
    "merged1 = pd.merge(refine1,refine2)\n",
    "merged2 = pd.merge(refine3,refine4)\n",
    "final = pd.merge(merged1,merged2)\n",
    "final = final.dropna(how='any')\n",
    "final"
   ]
  },
  {
   "cell_type": "code",
   "execution_count": 9,
   "metadata": {},
   "outputs": [
    {
     "output_type": "execute_result",
     "data": {
      "text/plain": [
       "               City          Suburb  Sales Q3 2016  Median\\n3Q 2016  \\\n",
       "0          ADELAIDE        ADELAIDE            6.0         747500.0   \n",
       "1          ADELAIDE  NORTH ADELAIDE            6.0         932000.0   \n",
       "2    ADELAIDE HILLS         ALDGATE           13.0         665000.0   \n",
       "5    ADELAIDE HILLS          BELAIR            8.0         605000.0   \n",
       "7    ADELAIDE HILLS     BRIDGEWATER           16.0         536250.0   \n",
       "..              ...             ...            ...              ...   \n",
       "472    WEST TORRENS       THEBARTON            2.0         516000.0   \n",
       "473    WEST TORRENS    TORRENSVILLE            6.0         605000.0   \n",
       "474    WEST TORRENS       UNDERDALE            6.0         521500.0   \n",
       "475    WEST TORRENS      WEST BEACH           18.0         660000.0   \n",
       "476    WEST TORRENS   WEST RICHMOND            2.0         468500.0   \n",
       "\n",
       "     Sales Q4 2016  Median Q4 2016  Sales Q1 2017  Median Q1 2017  \\\n",
       "0              6.0        683000.0            6.0        627500.0   \n",
       "1              6.0       1231000.0            6.0        992500.0   \n",
       "2             10.0        695000.0           14.0        695000.0   \n",
       "5             18.0        623000.0           18.0        700000.0   \n",
       "7             12.0        490500.0           18.0        435475.0   \n",
       "..             ...             ...            ...             ...   \n",
       "472            6.0        510000.0            3.0        568000.0   \n",
       "473           10.0        588000.0           12.0        532000.0   \n",
       "474            4.0        567500.0            5.0        540000.0   \n",
       "475           11.0        575000.0           12.0        670000.0   \n",
       "476            8.0        417500.0            2.0        419600.0   \n",
       "\n",
       "     Sales Q2 2017  Median Q2 2017  y16_17_price  sales_16_17  \n",
       "0              6.0        900000.0     739500.00         24.0  \n",
       "1              6.0       1451000.0    1151625.00         24.0  \n",
       "2             20.0        756000.0     702750.00         57.0  \n",
       "5             19.0        658250.0     646562.50         63.0  \n",
       "7             19.0        475000.0     484306.25         65.0  \n",
       "..             ...             ...           ...          ...  \n",
       "472            3.0        682000.0     569000.00         14.0  \n",
       "473           11.0        597500.0     580625.00         39.0  \n",
       "474            4.0        737500.0     591625.00         19.0  \n",
       "475           13.0        740000.0     661250.00         54.0  \n",
       "476            4.0        452500.0     439525.00         16.0  \n",
       "\n",
       "[354 rows x 12 columns]"
      ],
      "text/html": "<div>\n<style scoped>\n    .dataframe tbody tr th:only-of-type {\n        vertical-align: middle;\n    }\n\n    .dataframe tbody tr th {\n        vertical-align: top;\n    }\n\n    .dataframe thead th {\n        text-align: right;\n    }\n</style>\n<table border=\"1\" class=\"dataframe\">\n  <thead>\n    <tr style=\"text-align: right;\">\n      <th></th>\n      <th>City</th>\n      <th>Suburb</th>\n      <th>Sales Q3 2016</th>\n      <th>Median\\n3Q 2016</th>\n      <th>Sales Q4 2016</th>\n      <th>Median Q4 2016</th>\n      <th>Sales Q1 2017</th>\n      <th>Median Q1 2017</th>\n      <th>Sales Q2 2017</th>\n      <th>Median Q2 2017</th>\n      <th>y16_17_price</th>\n      <th>sales_16_17</th>\n    </tr>\n  </thead>\n  <tbody>\n    <tr>\n      <th>0</th>\n      <td>ADELAIDE</td>\n      <td>ADELAIDE</td>\n      <td>6.0</td>\n      <td>747500.0</td>\n      <td>6.0</td>\n      <td>683000.0</td>\n      <td>6.0</td>\n      <td>627500.0</td>\n      <td>6.0</td>\n      <td>900000.0</td>\n      <td>739500.00</td>\n      <td>24.0</td>\n    </tr>\n    <tr>\n      <th>1</th>\n      <td>ADELAIDE</td>\n      <td>NORTH ADELAIDE</td>\n      <td>6.0</td>\n      <td>932000.0</td>\n      <td>6.0</td>\n      <td>1231000.0</td>\n      <td>6.0</td>\n      <td>992500.0</td>\n      <td>6.0</td>\n      <td>1451000.0</td>\n      <td>1151625.00</td>\n      <td>24.0</td>\n    </tr>\n    <tr>\n      <th>2</th>\n      <td>ADELAIDE HILLS</td>\n      <td>ALDGATE</td>\n      <td>13.0</td>\n      <td>665000.0</td>\n      <td>10.0</td>\n      <td>695000.0</td>\n      <td>14.0</td>\n      <td>695000.0</td>\n      <td>20.0</td>\n      <td>756000.0</td>\n      <td>702750.00</td>\n      <td>57.0</td>\n    </tr>\n    <tr>\n      <th>5</th>\n      <td>ADELAIDE HILLS</td>\n      <td>BELAIR</td>\n      <td>8.0</td>\n      <td>605000.0</td>\n      <td>18.0</td>\n      <td>623000.0</td>\n      <td>18.0</td>\n      <td>700000.0</td>\n      <td>19.0</td>\n      <td>658250.0</td>\n      <td>646562.50</td>\n      <td>63.0</td>\n    </tr>\n    <tr>\n      <th>7</th>\n      <td>ADELAIDE HILLS</td>\n      <td>BRIDGEWATER</td>\n      <td>16.0</td>\n      <td>536250.0</td>\n      <td>12.0</td>\n      <td>490500.0</td>\n      <td>18.0</td>\n      <td>435475.0</td>\n      <td>19.0</td>\n      <td>475000.0</td>\n      <td>484306.25</td>\n      <td>65.0</td>\n    </tr>\n    <tr>\n      <th>...</th>\n      <td>...</td>\n      <td>...</td>\n      <td>...</td>\n      <td>...</td>\n      <td>...</td>\n      <td>...</td>\n      <td>...</td>\n      <td>...</td>\n      <td>...</td>\n      <td>...</td>\n      <td>...</td>\n      <td>...</td>\n    </tr>\n    <tr>\n      <th>472</th>\n      <td>WEST TORRENS</td>\n      <td>THEBARTON</td>\n      <td>2.0</td>\n      <td>516000.0</td>\n      <td>6.0</td>\n      <td>510000.0</td>\n      <td>3.0</td>\n      <td>568000.0</td>\n      <td>3.0</td>\n      <td>682000.0</td>\n      <td>569000.00</td>\n      <td>14.0</td>\n    </tr>\n    <tr>\n      <th>473</th>\n      <td>WEST TORRENS</td>\n      <td>TORRENSVILLE</td>\n      <td>6.0</td>\n      <td>605000.0</td>\n      <td>10.0</td>\n      <td>588000.0</td>\n      <td>12.0</td>\n      <td>532000.0</td>\n      <td>11.0</td>\n      <td>597500.0</td>\n      <td>580625.00</td>\n      <td>39.0</td>\n    </tr>\n    <tr>\n      <th>474</th>\n      <td>WEST TORRENS</td>\n      <td>UNDERDALE</td>\n      <td>6.0</td>\n      <td>521500.0</td>\n      <td>4.0</td>\n      <td>567500.0</td>\n      <td>5.0</td>\n      <td>540000.0</td>\n      <td>4.0</td>\n      <td>737500.0</td>\n      <td>591625.00</td>\n      <td>19.0</td>\n    </tr>\n    <tr>\n      <th>475</th>\n      <td>WEST TORRENS</td>\n      <td>WEST BEACH</td>\n      <td>18.0</td>\n      <td>660000.0</td>\n      <td>11.0</td>\n      <td>575000.0</td>\n      <td>12.0</td>\n      <td>670000.0</td>\n      <td>13.0</td>\n      <td>740000.0</td>\n      <td>661250.00</td>\n      <td>54.0</td>\n    </tr>\n    <tr>\n      <th>476</th>\n      <td>WEST TORRENS</td>\n      <td>WEST RICHMOND</td>\n      <td>2.0</td>\n      <td>468500.0</td>\n      <td>8.0</td>\n      <td>417500.0</td>\n      <td>2.0</td>\n      <td>419600.0</td>\n      <td>4.0</td>\n      <td>452500.0</td>\n      <td>439525.00</td>\n      <td>16.0</td>\n    </tr>\n  </tbody>\n</table>\n<p>354 rows × 12 columns</p>\n</div>"
     },
     "metadata": {},
     "execution_count": 9
    }
   ],
   "source": [
    "# add a new column to hold medianprice for the year\n",
    "new_col=[\"\"]\n",
    "final[\"y16_17_price\"]=(final[\"Median\\n3Q 2016\"]+final[\"Median Q4 2016\"]+final[\"Median Q1 2017\"]+final[\"Median Q2 2017\"])/4\n",
    "final\n",
    "y16_17_price=final\n",
    "y16_17_price\n",
    "\n",
    "#add new column to hold total sales for whole year\n",
    "new_col=[\"\"]\n",
    "final[\"sales_16_17\"]=(final[\"Sales Q3 2016\"]+final[\"Sales Q4 2016\"]+final[\"Sales Q1 2017\"]+final[\"Sales Q2 2017\"])\n",
    "y19_20_price=final\n",
    "y19_20_price"
   ]
  },
  {
   "cell_type": "code",
   "execution_count": 10,
   "metadata": {},
   "outputs": [],
   "source": [
    "final.to_csv(\"y16_17_house.csv\")"
   ]
  },
  {
   "cell_type": "code",
   "execution_count": 11,
   "metadata": {},
   "outputs": [
    {
     "output_type": "stream",
     "name": "stdout",
     "text": [
      "Stored 'y16_17_price' (DataFrame)\n"
     ]
    }
   ],
   "source": [
    "%store y16_17_price"
   ]
  },
  {
   "cell_type": "code",
   "execution_count": 12,
   "metadata": {},
   "outputs": [
    {
     "output_type": "execute_result",
     "data": {
      "text/plain": [
       "             Suburb y16_17_price sales_16_17\n",
       "0          ADELAIDE       739500          24\n",
       "1    NORTH ADELAIDE  1.15162e+06          24\n",
       "2           ALDGATE       702750          57\n",
       "5            BELAIR       646562          63\n",
       "7       BRIDGEWATER       484306          65\n",
       "..              ...          ...         ...\n",
       "472       THEBARTON       569000          14\n",
       "473    TORRENSVILLE       580625          39\n",
       "474       UNDERDALE       591625          19\n",
       "475      WEST BEACH       661250          54\n",
       "476   WEST RICHMOND       439525          16\n",
       "\n",
       "[354 rows x 3 columns]"
      ],
      "text/html": "<div>\n<style scoped>\n    .dataframe tbody tr th:only-of-type {\n        vertical-align: middle;\n    }\n\n    .dataframe tbody tr th {\n        vertical-align: top;\n    }\n\n    .dataframe thead th {\n        text-align: right;\n    }\n</style>\n<table border=\"1\" class=\"dataframe\">\n  <thead>\n    <tr style=\"text-align: right;\">\n      <th></th>\n      <th>Suburb</th>\n      <th>y16_17_price</th>\n      <th>sales_16_17</th>\n    </tr>\n  </thead>\n  <tbody>\n    <tr>\n      <th>0</th>\n      <td>ADELAIDE</td>\n      <td>739500</td>\n      <td>24</td>\n    </tr>\n    <tr>\n      <th>1</th>\n      <td>NORTH ADELAIDE</td>\n      <td>1.15162e+06</td>\n      <td>24</td>\n    </tr>\n    <tr>\n      <th>2</th>\n      <td>ALDGATE</td>\n      <td>702750</td>\n      <td>57</td>\n    </tr>\n    <tr>\n      <th>5</th>\n      <td>BELAIR</td>\n      <td>646562</td>\n      <td>63</td>\n    </tr>\n    <tr>\n      <th>7</th>\n      <td>BRIDGEWATER</td>\n      <td>484306</td>\n      <td>65</td>\n    </tr>\n    <tr>\n      <th>...</th>\n      <td>...</td>\n      <td>...</td>\n      <td>...</td>\n    </tr>\n    <tr>\n      <th>472</th>\n      <td>THEBARTON</td>\n      <td>569000</td>\n      <td>14</td>\n    </tr>\n    <tr>\n      <th>473</th>\n      <td>TORRENSVILLE</td>\n      <td>580625</td>\n      <td>39</td>\n    </tr>\n    <tr>\n      <th>474</th>\n      <td>UNDERDALE</td>\n      <td>591625</td>\n      <td>19</td>\n    </tr>\n    <tr>\n      <th>475</th>\n      <td>WEST BEACH</td>\n      <td>661250</td>\n      <td>54</td>\n    </tr>\n    <tr>\n      <th>476</th>\n      <td>WEST RICHMOND</td>\n      <td>439525</td>\n      <td>16</td>\n    </tr>\n  </tbody>\n</table>\n<p>354 rows × 3 columns</p>\n</div>"
     },
     "metadata": {},
     "execution_count": 12
    }
   ],
   "source": [
    "# set up a new datafram to hold just suburb, sales count and median price for scatter plot\n",
    "refined_Y1617=pd.DataFrame([y16_17_price.Suburb,y16_17_price.y16_17_price,y16_17_price.sales_16_17]).transpose()\n",
    "refined_Y1617"
   ]
  },
  {
   "cell_type": "code",
   "execution_count": 13,
   "metadata": {},
   "outputs": [
    {
     "output_type": "stream",
     "name": "stdout",
     "text": [
      "Bottom 10 ranking in median price Suburbs\n                Suburb y16_17_price sales_16_17\n279       DAVOREN PARK    182,812.5          83\n304  SMITHFIELD PLAINS    184,000.0          55\n283    ELIZABETH DOWNS    199,375.0          67\n286    ELIZABETH NORTH    200,125.0          38\n284     ELIZABETH EAST    217,187.5          54\n288    ELIZABETH SOUTH    217,375.0          34\n285    ELIZABETH GROVE    218,937.5          23\n287     ELIZABETH PARK    221,375.0          58\n282          ELIZABETH    233,750.0          18\n289     ELIZABETH VALE    239,000.0          57\n\n"
     ]
    }
   ],
   "source": [
    "# sort by median price and retrieve just 10\n",
    "bottom_10_price=refined_Y1617.sort_values(by=['y16_17_price'],ascending=True)\n",
    "bottom_10_price=bottom_10_price.head(10)\n",
    "\n",
    "# format price\n",
    "bottom_10_price[\"y16_17_price\"]=bottom_10_price[\"y16_17_price\"].map(\"{:,}\".format)\n",
    "\n",
    "print(f\"Bottom 10 ranking in median price Suburbs\\n{bottom_10_price}\\n\")"
   ]
  },
  {
   "cell_type": "code",
   "execution_count": 14,
   "metadata": {},
   "outputs": [
    {
     "output_type": "stream",
     "name": "stdout",
     "text": [
      "Top 10 ranking in median price Suburbs\n          Suburb y16_17_price sales_16_17\n445   UNLEY PARK  1,579,500.0          17\n37       AULDANA  1,446,625.0          10\n448     MEDINDIE  1,435,375.0          12\n52      LEABROOK  1,433,125.0          16\n102     TENNYSON  1,426,250.0          15\n440      MALVERN  1,420,272.5          23\n450  WALKERVILLE  1,420,000.0          42\n217    ST PETERS  1,332,625.0          35\n437    HYDE PARK  1,252,000.0          28\n441    MILLSWOOD  1,224,375.0          20\n\n"
     ]
    }
   ],
   "source": [
    "# sort by median price and retrieve just 10\n",
    "top_10_price=refined_Y1617.sort_values(by=['y16_17_price'],ascending=False)\n",
    "top_10_price=top_10_price.head(10)\n",
    "\n",
    "# format price\n",
    "top_10_price[\"y16_17_price\"]=top_10_price[\"y16_17_price\"].map(\"{:,}\".format)\n",
    "\n",
    "print(f\"Top 10 ranking in median price Suburbs\\n{top_10_price}\\n\")"
   ]
  },
  {
   "cell_type": "code",
   "execution_count": null,
   "metadata": {},
   "outputs": [],
   "source": []
  }
 ]
}