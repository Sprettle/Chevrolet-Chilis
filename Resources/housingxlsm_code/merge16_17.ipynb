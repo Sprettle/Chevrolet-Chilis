{
 "metadata": {
  "language_info": {
   "codemirror_mode": {
    "name": "ipython",
    "version": 3
   },
   "file_extension": ".py",
   "mimetype": "text/x-python",
   "name": "python",
   "nbconvert_exporter": "python",
   "pygments_lexer": "ipython3",
   "version": "3.8.5-final"
  },
  "orig_nbformat": 2,
  "kernelspec": {
   "name": "python3",
   "display_name": "Python 3",
   "language": "python"
  }
 },
 "nbformat": 4,
 "nbformat_minor": 2,
 "cells": [
  {
   "cell_type": "code",
   "execution_count": null,
   "metadata": {},
   "outputs": [],
   "source": [
    "import pandas as pd "
   ]
  },
  {
   "cell_type": "code",
   "execution_count": null,
   "metadata": {},
   "outputs": [],
   "source": [
    "q32016 = \"2016q3.xlsx\"\n",
    "df1 = pd.read_excel(q32016)\n",
    "refine1 = df1.drop(['Sales\\n3Q 2015', 'Median\\n3Q 2015', 'Median\\nChange'], axis=1)\n",
    "refine1= refine1.rename(columns={'Sales\\n3Q 2016': 'Sales Q3 2016', 'Median\\nQ3 2016': 'Median Q3 2016'})\n",
    "refine1"
   ]
  },
  {
   "cell_type": "code",
   "execution_count": null,
   "metadata": {},
   "outputs": [],
   "source": [
    "q42016 = \"2016q4.xlsx\"\n",
    "df2 = pd.read_excel(q42016)\n",
    "refine2 = df2.drop(['Sales\\n4Q 2015', 'Median\\n4Q 2015', 'Median\\nChange'], axis=1)\n",
    "refine2 = refine2.rename(columns={'Sales\\n4Q 2016':'Sales Q4 2016', 'Median\\n4Q 2016': 'Median Q4 2016'})\n",
    "refine2"
   ]
  },
  {
   "cell_type": "code",
   "execution_count": null,
   "metadata": {},
   "outputs": [],
   "source": [
    "q12017 = \"2017q1.xlsx\"\n",
    "df3 = pd.read_excel(q12017)\n",
    "refine3 = df3.drop(['Sales\\n1Q 2016', 'Median\\n1Q 2016', 'Median\\nChange'], axis=1)\n",
    "refine3 = refine3.rename(columns={'Sales\\n1Q 2017':'Sales Q1 2017', 'Median\\n1Q 2017': 'Median Q1 2017'})\n",
    "refine3"
   ]
  },
  {
   "cell_type": "code",
   "execution_count": null,
   "metadata": {},
   "outputs": [],
   "source": [
    "q22017 = '2017q2.xlsx'\n",
    "df4 = pd.read_excel(q22017)\n",
    "refine4 = df4.drop(['Sales\\n2Q 2016', 'Median\\n2Q 2016', 'Median\\nChange'], axis=1)\n",
    "refine4 = refine4.rename(columns={'Sales\\n2Q 2017': 'Sales Q2 2017', 'Median\\n2Q 2017': 'Median Q2 2017'})\n",
    "refine4"
   ]
  },
  {
   "cell_type": "code",
   "execution_count": null,
   "metadata": {},
   "outputs": [],
   "source": [
    "merged1 = pd.merge(refine1,refine2)\n",
    "merged2 = pd.merge(refine3,refine4)\n",
    "final = pd.merge(merged1,merged2)\n",
    "final = final.dropna(how='any')\n",
    "final"
   ]
  },
  {
   "cell_type": "code",
   "execution_count": null,
   "metadata": {},
   "outputs": [],
   "source": [
    "final.to_csv(\"y16_17_house.csv\")"
   ]
  }
 ]
}