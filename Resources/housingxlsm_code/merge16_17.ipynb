{
 "metadata": {
  "language_info": {
   "codemirror_mode": {
    "name": "ipython",
    "version": 3
   },
   "file_extension": ".py",
   "mimetype": "text/x-python",
   "name": "python",
   "nbconvert_exporter": "python",
   "pygments_lexer": "ipython3",
   "version": "3.6.10-final"
  },
  "orig_nbformat": 2,
  "kernelspec": {
   "name": "python3",
   "display_name": "Python 3",
   "language": "python"
  }
 },
 "nbformat": 4,
 "nbformat_minor": 2,
 "cells": [
  {
   "cell_type": "code",
   "execution_count": 1,
   "metadata": {},
   "outputs": [
    {
     "output_type": "stream",
     "name": "stdout",
     "text": [
      "Requirement already satisfied: openpyxl in /Users/annabelcheong/opt/anaconda3/envs/PythonData/lib/python3.6/site-packages (3.0.6)\n",
      "Requirement already satisfied: jdcal in /Users/annabelcheong/opt/anaconda3/envs/PythonData/lib/python3.6/site-packages (from openpyxl) (1.4.1)\n",
      "Requirement already satisfied: et-xmlfile in /Users/annabelcheong/opt/anaconda3/envs/PythonData/lib/python3.6/site-packages (from openpyxl) (1.0.1)\n",
      "Note: you may need to restart the kernel to use updated packages.\n"
     ]
    }
   ],
   "source": [
    "pip install openpyxl"
   ]
  },
  {
   "cell_type": "code",
   "execution_count": 2,
   "metadata": {},
   "outputs": [],
   "source": [
    "import pandas as pd "
   ]
  },
  {
   "cell_type": "code",
   "execution_count": 3,
   "metadata": {},
   "outputs": [
    {
     "output_type": "execute_result",
     "data": {
      "text/plain": [
       "               City          Suburb  Sales Q3 2016  Median\\n3Q 2016\n",
       "0          ADELAIDE        ADELAIDE            6.0         747500.0\n",
       "1          ADELAIDE  NORTH ADELAIDE            6.0         932000.0\n",
       "2    ADELAIDE HILLS         ALDGATE           13.0         665000.0\n",
       "3    ADELAIDE HILLS          ASHTON            NaN              NaN\n",
       "4    ADELAIDE HILLS    BASKET RANGE            NaN              NaN\n",
       "..              ...             ...            ...              ...\n",
       "473    WEST TORRENS       THEBARTON            2.0         516000.0\n",
       "474    WEST TORRENS    TORRENSVILLE            6.0         605000.0\n",
       "475    WEST TORRENS       UNDERDALE            6.0         521500.0\n",
       "476    WEST TORRENS      WEST BEACH           18.0         660000.0\n",
       "477    WEST TORRENS   WEST RICHMOND            2.0         468500.0\n",
       "\n",
       "[478 rows x 4 columns]"
      ],
      "text/html": "<div>\n<style scoped>\n    .dataframe tbody tr th:only-of-type {\n        vertical-align: middle;\n    }\n\n    .dataframe tbody tr th {\n        vertical-align: top;\n    }\n\n    .dataframe thead th {\n        text-align: right;\n    }\n</style>\n<table border=\"1\" class=\"dataframe\">\n  <thead>\n    <tr style=\"text-align: right;\">\n      <th></th>\n      <th>City</th>\n      <th>Suburb</th>\n      <th>Sales Q3 2016</th>\n      <th>Median\\n3Q 2016</th>\n    </tr>\n  </thead>\n  <tbody>\n    <tr>\n      <th>0</th>\n      <td>ADELAIDE</td>\n      <td>ADELAIDE</td>\n      <td>6.0</td>\n      <td>747500.0</td>\n    </tr>\n    <tr>\n      <th>1</th>\n      <td>ADELAIDE</td>\n      <td>NORTH ADELAIDE</td>\n      <td>6.0</td>\n      <td>932000.0</td>\n    </tr>\n    <tr>\n      <th>2</th>\n      <td>ADELAIDE HILLS</td>\n      <td>ALDGATE</td>\n      <td>13.0</td>\n      <td>665000.0</td>\n    </tr>\n    <tr>\n      <th>3</th>\n      <td>ADELAIDE HILLS</td>\n      <td>ASHTON</td>\n      <td>NaN</td>\n      <td>NaN</td>\n    </tr>\n    <tr>\n      <th>4</th>\n      <td>ADELAIDE HILLS</td>\n      <td>BASKET RANGE</td>\n      <td>NaN</td>\n      <td>NaN</td>\n    </tr>\n    <tr>\n      <th>...</th>\n      <td>...</td>\n      <td>...</td>\n      <td>...</td>\n      <td>...</td>\n    </tr>\n    <tr>\n      <th>473</th>\n      <td>WEST TORRENS</td>\n      <td>THEBARTON</td>\n      <td>2.0</td>\n      <td>516000.0</td>\n    </tr>\n    <tr>\n      <th>474</th>\n      <td>WEST TORRENS</td>\n      <td>TORRENSVILLE</td>\n      <td>6.0</td>\n      <td>605000.0</td>\n    </tr>\n    <tr>\n      <th>475</th>\n      <td>WEST TORRENS</td>\n      <td>UNDERDALE</td>\n      <td>6.0</td>\n      <td>521500.0</td>\n    </tr>\n    <tr>\n      <th>476</th>\n      <td>WEST TORRENS</td>\n      <td>WEST BEACH</td>\n      <td>18.0</td>\n      <td>660000.0</td>\n    </tr>\n    <tr>\n      <th>477</th>\n      <td>WEST TORRENS</td>\n      <td>WEST RICHMOND</td>\n      <td>2.0</td>\n      <td>468500.0</td>\n    </tr>\n  </tbody>\n</table>\n<p>478 rows × 4 columns</p>\n</div>"
     },
     "metadata": {},
     "execution_count": 3
    }
   ],
   "source": [
    "q32016 = \"../housingcsv/2016q3.xlsx\"\n",
    "df1 = pd.read_excel(q32016,engine='openpyxl')\n",
    "refine1 = df1.drop(['Sales\\n3Q 2015', 'Median\\n3Q 2015', 'Median\\nChange'], axis=1)\n",
    "refine1= refine1.rename(columns={'Sales\\n3Q 2016': 'Sales Q3 2016', 'Median\\nQ3 2016': 'Median Q3 2016'})\n",
    "refine1"
   ]
  },
  {
   "cell_type": "code",
   "execution_count": 4,
   "metadata": {},
   "outputs": [
    {
     "output_type": "execute_result",
     "data": {
      "text/plain": [
       "               City          Suburb  Sales Q4 2016  Median Q4 2016\n",
       "0          ADELAIDE        ADELAIDE            6.0        683000.0\n",
       "1          ADELAIDE  NORTH ADELAIDE            6.0       1231000.0\n",
       "2    ADELAIDE HILLS         ALDGATE           10.0        695000.0\n",
       "3    ADELAIDE HILLS          ASHTON            NaN             NaN\n",
       "4    ADELAIDE HILLS    BASKET RANGE            NaN             NaN\n",
       "..              ...             ...            ...             ...\n",
       "472    WEST TORRENS       THEBARTON            6.0        510000.0\n",
       "473    WEST TORRENS    TORRENSVILLE           10.0        588000.0\n",
       "474    WEST TORRENS       UNDERDALE            4.0        567500.0\n",
       "475    WEST TORRENS      WEST BEACH           11.0        575000.0\n",
       "476    WEST TORRENS   WEST RICHMOND            8.0        417500.0\n",
       "\n",
       "[477 rows x 4 columns]"
      ],
      "text/html": "<div>\n<style scoped>\n    .dataframe tbody tr th:only-of-type {\n        vertical-align: middle;\n    }\n\n    .dataframe tbody tr th {\n        vertical-align: top;\n    }\n\n    .dataframe thead th {\n        text-align: right;\n    }\n</style>\n<table border=\"1\" class=\"dataframe\">\n  <thead>\n    <tr style=\"text-align: right;\">\n      <th></th>\n      <th>City</th>\n      <th>Suburb</th>\n      <th>Sales Q4 2016</th>\n      <th>Median Q4 2016</th>\n    </tr>\n  </thead>\n  <tbody>\n    <tr>\n      <th>0</th>\n      <td>ADELAIDE</td>\n      <td>ADELAIDE</td>\n      <td>6.0</td>\n      <td>683000.0</td>\n    </tr>\n    <tr>\n      <th>1</th>\n      <td>ADELAIDE</td>\n      <td>NORTH ADELAIDE</td>\n      <td>6.0</td>\n      <td>1231000.0</td>\n    </tr>\n    <tr>\n      <th>2</th>\n      <td>ADELAIDE HILLS</td>\n      <td>ALDGATE</td>\n      <td>10.0</td>\n      <td>695000.0</td>\n    </tr>\n    <tr>\n      <th>3</th>\n      <td>ADELAIDE HILLS</td>\n      <td>ASHTON</td>\n      <td>NaN</td>\n      <td>NaN</td>\n    </tr>\n    <tr>\n      <th>4</th>\n      <td>ADELAIDE HILLS</td>\n      <td>BASKET RANGE</td>\n      <td>NaN</td>\n      <td>NaN</td>\n    </tr>\n    <tr>\n      <th>...</th>\n      <td>...</td>\n      <td>...</td>\n      <td>...</td>\n      <td>...</td>\n    </tr>\n    <tr>\n      <th>472</th>\n      <td>WEST TORRENS</td>\n      <td>THEBARTON</td>\n      <td>6.0</td>\n      <td>510000.0</td>\n    </tr>\n    <tr>\n      <th>473</th>\n      <td>WEST TORRENS</td>\n      <td>TORRENSVILLE</td>\n      <td>10.0</td>\n      <td>588000.0</td>\n    </tr>\n    <tr>\n      <th>474</th>\n      <td>WEST TORRENS</td>\n      <td>UNDERDALE</td>\n      <td>4.0</td>\n      <td>567500.0</td>\n    </tr>\n    <tr>\n      <th>475</th>\n      <td>WEST TORRENS</td>\n      <td>WEST BEACH</td>\n      <td>11.0</td>\n      <td>575000.0</td>\n    </tr>\n    <tr>\n      <th>476</th>\n      <td>WEST TORRENS</td>\n      <td>WEST RICHMOND</td>\n      <td>8.0</td>\n      <td>417500.0</td>\n    </tr>\n  </tbody>\n</table>\n<p>477 rows × 4 columns</p>\n</div>"
     },
     "metadata": {},
     "execution_count": 4
    }
   ],
   "source": [
    "q42016 = \"../housingcsv/2016q4.xlsx\"\n",
    "df2 = pd.read_excel(q42016,engine='openpyxl')\n",
    "refine2 = df2.drop(['Sales\\n4Q 2015', 'Median\\n4Q 2015', 'Median\\nChange'], axis=1)\n",
    "refine2 = refine2.rename(columns={'Sales\\n4Q 2016':'Sales Q4 2016', 'Median\\n4Q 2016': 'Median Q4 2016'})\n",
    "refine2"
   ]
  },
  {
   "cell_type": "code",
   "execution_count": 5,
   "metadata": {},
   "outputs": [
    {
     "output_type": "execute_result",
     "data": {
      "text/plain": [
       "               City          Suburb  Sales Q1 2017  Median Q1 2017\n",
       "0          ADELAIDE        ADELAIDE            6.0        627500.0\n",
       "1          ADELAIDE  NORTH ADELAIDE            6.0        992500.0\n",
       "2    ADELAIDE HILLS         ALDGATE           14.0        695000.0\n",
       "3    ADELAIDE HILLS          ASHTON            1.0        415000.0\n",
       "4    ADELAIDE HILLS    BASKET RANGE            1.0        470000.0\n",
       "..              ...             ...            ...             ...\n",
       "473    WEST TORRENS       THEBARTON            3.0        568000.0\n",
       "474    WEST TORRENS    TORRENSVILLE           12.0        532000.0\n",
       "475    WEST TORRENS       UNDERDALE            5.0        540000.0\n",
       "476    WEST TORRENS      WEST BEACH           12.0        670000.0\n",
       "477    WEST TORRENS   WEST RICHMOND            2.0        419600.0\n",
       "\n",
       "[478 rows x 4 columns]"
      ],
      "text/html": "<div>\n<style scoped>\n    .dataframe tbody tr th:only-of-type {\n        vertical-align: middle;\n    }\n\n    .dataframe tbody tr th {\n        vertical-align: top;\n    }\n\n    .dataframe thead th {\n        text-align: right;\n    }\n</style>\n<table border=\"1\" class=\"dataframe\">\n  <thead>\n    <tr style=\"text-align: right;\">\n      <th></th>\n      <th>City</th>\n      <th>Suburb</th>\n      <th>Sales Q1 2017</th>\n      <th>Median Q1 2017</th>\n    </tr>\n  </thead>\n  <tbody>\n    <tr>\n      <th>0</th>\n      <td>ADELAIDE</td>\n      <td>ADELAIDE</td>\n      <td>6.0</td>\n      <td>627500.0</td>\n    </tr>\n    <tr>\n      <th>1</th>\n      <td>ADELAIDE</td>\n      <td>NORTH ADELAIDE</td>\n      <td>6.0</td>\n      <td>992500.0</td>\n    </tr>\n    <tr>\n      <th>2</th>\n      <td>ADELAIDE HILLS</td>\n      <td>ALDGATE</td>\n      <td>14.0</td>\n      <td>695000.0</td>\n    </tr>\n    <tr>\n      <th>3</th>\n      <td>ADELAIDE HILLS</td>\n      <td>ASHTON</td>\n      <td>1.0</td>\n      <td>415000.0</td>\n    </tr>\n    <tr>\n      <th>4</th>\n      <td>ADELAIDE HILLS</td>\n      <td>BASKET RANGE</td>\n      <td>1.0</td>\n      <td>470000.0</td>\n    </tr>\n    <tr>\n      <th>...</th>\n      <td>...</td>\n      <td>...</td>\n      <td>...</td>\n      <td>...</td>\n    </tr>\n    <tr>\n      <th>473</th>\n      <td>WEST TORRENS</td>\n      <td>THEBARTON</td>\n      <td>3.0</td>\n      <td>568000.0</td>\n    </tr>\n    <tr>\n      <th>474</th>\n      <td>WEST TORRENS</td>\n      <td>TORRENSVILLE</td>\n      <td>12.0</td>\n      <td>532000.0</td>\n    </tr>\n    <tr>\n      <th>475</th>\n      <td>WEST TORRENS</td>\n      <td>UNDERDALE</td>\n      <td>5.0</td>\n      <td>540000.0</td>\n    </tr>\n    <tr>\n      <th>476</th>\n      <td>WEST TORRENS</td>\n      <td>WEST BEACH</td>\n      <td>12.0</td>\n      <td>670000.0</td>\n    </tr>\n    <tr>\n      <th>477</th>\n      <td>WEST TORRENS</td>\n      <td>WEST RICHMOND</td>\n      <td>2.0</td>\n      <td>419600.0</td>\n    </tr>\n  </tbody>\n</table>\n<p>478 rows × 4 columns</p>\n</div>"
     },
     "metadata": {},
     "execution_count": 5
    }
   ],
   "source": [
    "q12017 = \"../housingcsv/2017q1.xlsx\"\n",
    "df3 = pd.read_excel(q12017,engine='openpyxl')\n",
    "refine3 = df3.drop(['Sales\\n1Q 2016', 'Median\\n1Q 2016', 'Median\\nChange'], axis=1)\n",
    "refine3 = refine3.rename(columns={'Sales\\n1Q 2017':'Sales Q1 2017', 'Median\\n1Q 2017': 'Median Q1 2017'})\n",
    "refine3"
   ]
  },
  {
   "cell_type": "code",
   "execution_count": 6,
   "metadata": {},
   "outputs": [
    {
     "output_type": "execute_result",
     "data": {
      "text/plain": [
       "               City          Suburb  Sales Q2 2017  Median Q2 2017\n",
       "0          ADELAIDE        ADELAIDE            6.0        900000.0\n",
       "1          ADELAIDE  NORTH ADELAIDE            6.0       1451000.0\n",
       "2    ADELAIDE HILLS         ALDGATE           20.0        756000.0\n",
       "3    ADELAIDE HILLS          ASHTON            NaN             NaN\n",
       "4    ADELAIDE HILLS    BASKET RANGE            2.0        619500.0\n",
       "..              ...             ...            ...             ...\n",
       "473    WEST TORRENS       THEBARTON            3.0        682000.0\n",
       "474    WEST TORRENS    TORRENSVILLE           11.0        597500.0\n",
       "475    WEST TORRENS       UNDERDALE            4.0        737500.0\n",
       "476    WEST TORRENS      WEST BEACH           13.0        740000.0\n",
       "477    WEST TORRENS   WEST RICHMOND            4.0        452500.0\n",
       "\n",
       "[478 rows x 4 columns]"
      ],
      "text/html": "<div>\n<style scoped>\n    .dataframe tbody tr th:only-of-type {\n        vertical-align: middle;\n    }\n\n    .dataframe tbody tr th {\n        vertical-align: top;\n    }\n\n    .dataframe thead th {\n        text-align: right;\n    }\n</style>\n<table border=\"1\" class=\"dataframe\">\n  <thead>\n    <tr style=\"text-align: right;\">\n      <th></th>\n      <th>City</th>\n      <th>Suburb</th>\n      <th>Sales Q2 2017</th>\n      <th>Median Q2 2017</th>\n    </tr>\n  </thead>\n  <tbody>\n    <tr>\n      <th>0</th>\n      <td>ADELAIDE</td>\n      <td>ADELAIDE</td>\n      <td>6.0</td>\n      <td>900000.0</td>\n    </tr>\n    <tr>\n      <th>1</th>\n      <td>ADELAIDE</td>\n      <td>NORTH ADELAIDE</td>\n      <td>6.0</td>\n      <td>1451000.0</td>\n    </tr>\n    <tr>\n      <th>2</th>\n      <td>ADELAIDE HILLS</td>\n      <td>ALDGATE</td>\n      <td>20.0</td>\n      <td>756000.0</td>\n    </tr>\n    <tr>\n      <th>3</th>\n      <td>ADELAIDE HILLS</td>\n      <td>ASHTON</td>\n      <td>NaN</td>\n      <td>NaN</td>\n    </tr>\n    <tr>\n      <th>4</th>\n      <td>ADELAIDE HILLS</td>\n      <td>BASKET RANGE</td>\n      <td>2.0</td>\n      <td>619500.0</td>\n    </tr>\n    <tr>\n      <th>...</th>\n      <td>...</td>\n      <td>...</td>\n      <td>...</td>\n      <td>...</td>\n    </tr>\n    <tr>\n      <th>473</th>\n      <td>WEST TORRENS</td>\n      <td>THEBARTON</td>\n      <td>3.0</td>\n      <td>682000.0</td>\n    </tr>\n    <tr>\n      <th>474</th>\n      <td>WEST TORRENS</td>\n      <td>TORRENSVILLE</td>\n      <td>11.0</td>\n      <td>597500.0</td>\n    </tr>\n    <tr>\n      <th>475</th>\n      <td>WEST TORRENS</td>\n      <td>UNDERDALE</td>\n      <td>4.0</td>\n      <td>737500.0</td>\n    </tr>\n    <tr>\n      <th>476</th>\n      <td>WEST TORRENS</td>\n      <td>WEST BEACH</td>\n      <td>13.0</td>\n      <td>740000.0</td>\n    </tr>\n    <tr>\n      <th>477</th>\n      <td>WEST TORRENS</td>\n      <td>WEST RICHMOND</td>\n      <td>4.0</td>\n      <td>452500.0</td>\n    </tr>\n  </tbody>\n</table>\n<p>478 rows × 4 columns</p>\n</div>"
     },
     "metadata": {},
     "execution_count": 6
    }
   ],
   "source": [
    "q22017 = '../housingcsv/2017q2.xlsx'\n",
    "df4 = pd.read_excel(q22017,engine='openpyxl')\n",
    "refine4 = df4.drop(['Sales\\n2Q 2016', 'Median\\n2Q 2016', 'Median\\nChange'], axis=1)\n",
    "refine4 = refine4.rename(columns={'Sales\\n2Q 2017': 'Sales Q2 2017', 'Median\\n2Q 2017': 'Median Q2 2017'})\n",
    "refine4"
   ]
  },
  {
   "cell_type": "code",
   "execution_count": 7,
   "metadata": {},
   "outputs": [
    {
     "output_type": "execute_result",
     "data": {
      "text/plain": [
       "               City          Suburb  Sales Q3 2016  Median\\n3Q 2016  \\\n",
       "0          ADELAIDE        ADELAIDE            6.0         747500.0   \n",
       "1          ADELAIDE  NORTH ADELAIDE            6.0         932000.0   \n",
       "2    ADELAIDE HILLS         ALDGATE           13.0         665000.0   \n",
       "5    ADELAIDE HILLS          BELAIR            8.0         605000.0   \n",
       "7    ADELAIDE HILLS     BRIDGEWATER           16.0         536250.0   \n",
       "..              ...             ...            ...              ...   \n",
       "472    WEST TORRENS       THEBARTON            2.0         516000.0   \n",
       "473    WEST TORRENS    TORRENSVILLE            6.0         605000.0   \n",
       "474    WEST TORRENS       UNDERDALE            6.0         521500.0   \n",
       "475    WEST TORRENS      WEST BEACH           18.0         660000.0   \n",
       "476    WEST TORRENS   WEST RICHMOND            2.0         468500.0   \n",
       "\n",
       "     Sales Q4 2016  Median Q4 2016  Sales Q1 2017  Median Q1 2017  \\\n",
       "0              6.0        683000.0            6.0        627500.0   \n",
       "1              6.0       1231000.0            6.0        992500.0   \n",
       "2             10.0        695000.0           14.0        695000.0   \n",
       "5             18.0        623000.0           18.0        700000.0   \n",
       "7             12.0        490500.0           18.0        435475.0   \n",
       "..             ...             ...            ...             ...   \n",
       "472            6.0        510000.0            3.0        568000.0   \n",
       "473           10.0        588000.0           12.0        532000.0   \n",
       "474            4.0        567500.0            5.0        540000.0   \n",
       "475           11.0        575000.0           12.0        670000.0   \n",
       "476            8.0        417500.0            2.0        419600.0   \n",
       "\n",
       "     Sales Q2 2017  Median Q2 2017  \n",
       "0              6.0        900000.0  \n",
       "1              6.0       1451000.0  \n",
       "2             20.0        756000.0  \n",
       "5             19.0        658250.0  \n",
       "7             19.0        475000.0  \n",
       "..             ...             ...  \n",
       "472            3.0        682000.0  \n",
       "473           11.0        597500.0  \n",
       "474            4.0        737500.0  \n",
       "475           13.0        740000.0  \n",
       "476            4.0        452500.0  \n",
       "\n",
       "[354 rows x 10 columns]"
      ],
      "text/html": "<div>\n<style scoped>\n    .dataframe tbody tr th:only-of-type {\n        vertical-align: middle;\n    }\n\n    .dataframe tbody tr th {\n        vertical-align: top;\n    }\n\n    .dataframe thead th {\n        text-align: right;\n    }\n</style>\n<table border=\"1\" class=\"dataframe\">\n  <thead>\n    <tr style=\"text-align: right;\">\n      <th></th>\n      <th>City</th>\n      <th>Suburb</th>\n      <th>Sales Q3 2016</th>\n      <th>Median\\n3Q 2016</th>\n      <th>Sales Q4 2016</th>\n      <th>Median Q4 2016</th>\n      <th>Sales Q1 2017</th>\n      <th>Median Q1 2017</th>\n      <th>Sales Q2 2017</th>\n      <th>Median Q2 2017</th>\n    </tr>\n  </thead>\n  <tbody>\n    <tr>\n      <th>0</th>\n      <td>ADELAIDE</td>\n      <td>ADELAIDE</td>\n      <td>6.0</td>\n      <td>747500.0</td>\n      <td>6.0</td>\n      <td>683000.0</td>\n      <td>6.0</td>\n      <td>627500.0</td>\n      <td>6.0</td>\n      <td>900000.0</td>\n    </tr>\n    <tr>\n      <th>1</th>\n      <td>ADELAIDE</td>\n      <td>NORTH ADELAIDE</td>\n      <td>6.0</td>\n      <td>932000.0</td>\n      <td>6.0</td>\n      <td>1231000.0</td>\n      <td>6.0</td>\n      <td>992500.0</td>\n      <td>6.0</td>\n      <td>1451000.0</td>\n    </tr>\n    <tr>\n      <th>2</th>\n      <td>ADELAIDE HILLS</td>\n      <td>ALDGATE</td>\n      <td>13.0</td>\n      <td>665000.0</td>\n      <td>10.0</td>\n      <td>695000.0</td>\n      <td>14.0</td>\n      <td>695000.0</td>\n      <td>20.0</td>\n      <td>756000.0</td>\n    </tr>\n    <tr>\n      <th>5</th>\n      <td>ADELAIDE HILLS</td>\n      <td>BELAIR</td>\n      <td>8.0</td>\n      <td>605000.0</td>\n      <td>18.0</td>\n      <td>623000.0</td>\n      <td>18.0</td>\n      <td>700000.0</td>\n      <td>19.0</td>\n      <td>658250.0</td>\n    </tr>\n    <tr>\n      <th>7</th>\n      <td>ADELAIDE HILLS</td>\n      <td>BRIDGEWATER</td>\n      <td>16.0</td>\n      <td>536250.0</td>\n      <td>12.0</td>\n      <td>490500.0</td>\n      <td>18.0</td>\n      <td>435475.0</td>\n      <td>19.0</td>\n      <td>475000.0</td>\n    </tr>\n    <tr>\n      <th>...</th>\n      <td>...</td>\n      <td>...</td>\n      <td>...</td>\n      <td>...</td>\n      <td>...</td>\n      <td>...</td>\n      <td>...</td>\n      <td>...</td>\n      <td>...</td>\n      <td>...</td>\n    </tr>\n    <tr>\n      <th>472</th>\n      <td>WEST TORRENS</td>\n      <td>THEBARTON</td>\n      <td>2.0</td>\n      <td>516000.0</td>\n      <td>6.0</td>\n      <td>510000.0</td>\n      <td>3.0</td>\n      <td>568000.0</td>\n      <td>3.0</td>\n      <td>682000.0</td>\n    </tr>\n    <tr>\n      <th>473</th>\n      <td>WEST TORRENS</td>\n      <td>TORRENSVILLE</td>\n      <td>6.0</td>\n      <td>605000.0</td>\n      <td>10.0</td>\n      <td>588000.0</td>\n      <td>12.0</td>\n      <td>532000.0</td>\n      <td>11.0</td>\n      <td>597500.0</td>\n    </tr>\n    <tr>\n      <th>474</th>\n      <td>WEST TORRENS</td>\n      <td>UNDERDALE</td>\n      <td>6.0</td>\n      <td>521500.0</td>\n      <td>4.0</td>\n      <td>567500.0</td>\n      <td>5.0</td>\n      <td>540000.0</td>\n      <td>4.0</td>\n      <td>737500.0</td>\n    </tr>\n    <tr>\n      <th>475</th>\n      <td>WEST TORRENS</td>\n      <td>WEST BEACH</td>\n      <td>18.0</td>\n      <td>660000.0</td>\n      <td>11.0</td>\n      <td>575000.0</td>\n      <td>12.0</td>\n      <td>670000.0</td>\n      <td>13.0</td>\n      <td>740000.0</td>\n    </tr>\n    <tr>\n      <th>476</th>\n      <td>WEST TORRENS</td>\n      <td>WEST RICHMOND</td>\n      <td>2.0</td>\n      <td>468500.0</td>\n      <td>8.0</td>\n      <td>417500.0</td>\n      <td>2.0</td>\n      <td>419600.0</td>\n      <td>4.0</td>\n      <td>452500.0</td>\n    </tr>\n  </tbody>\n</table>\n<p>354 rows × 10 columns</p>\n</div>"
     },
     "metadata": {},
     "execution_count": 7
    }
   ],
   "source": [
    "merged1 = pd.merge(refine1,refine2)\n",
    "merged2 = pd.merge(refine3,refine4)\n",
    "final = pd.merge(merged1,merged2)\n",
    "final = final.dropna(how='any')\n",
    "final"
   ]
  },
  {
   "cell_type": "code",
   "execution_count": 8,
   "metadata": {},
   "outputs": [],
   "source": [
    "final.to_csv(\"y16_17_house.csv\")"
   ]
  }
 ]
}