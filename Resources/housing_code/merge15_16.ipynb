{
 "metadata": {
  "language_info": {
   "codemirror_mode": {
    "name": "ipython",
    "version": 3
   },
   "file_extension": ".py",
   "mimetype": "text/x-python",
   "name": "python",
   "nbconvert_exporter": "python",
   "pygments_lexer": "ipython3",
   "version": "3.6.10-final"
  },
  "orig_nbformat": 2,
  "kernelspec": {
   "name": "python3",
   "display_name": "Python 3",
   "language": "python"
  }
 },
 "nbformat": 4,
 "nbformat_minor": 2,
 "cells": [
  {
   "cell_type": "code",
   "execution_count": 1,
   "metadata": {},
   "outputs": [],
   "source": [
    "import pandas as pd"
   ]
  },
  {
   "cell_type": "code",
   "execution_count": 9,
   "metadata": {},
   "outputs": [
    {
     "output_type": "error",
     "ename": "FileNotFoundError",
     "evalue": "[Errno 2] No such file or directory: '2015q3.xlsx'",
     "traceback": [
      "\u001b[0;31m---------------------------------------------------------------------------\u001b[0m",
      "\u001b[0;31mFileNotFoundError\u001b[0m                         Traceback (most recent call last)",
      "\u001b[0;32m<ipython-input-9-60d16c714c7d>\u001b[0m in \u001b[0;36m<module>\u001b[0;34m\u001b[0m\n\u001b[1;32m      1\u001b[0m \u001b[0mq32015\u001b[0m \u001b[0;34m=\u001b[0m \u001b[0;34m\"2015q3.xlsx\"\u001b[0m\u001b[0;34m\u001b[0m\u001b[0;34m\u001b[0m\u001b[0m\n\u001b[0;32m----> 2\u001b[0;31m \u001b[0mdf1\u001b[0m \u001b[0;34m=\u001b[0m \u001b[0mpd\u001b[0m\u001b[0;34m.\u001b[0m\u001b[0mread_excel\u001b[0m\u001b[0;34m(\u001b[0m\u001b[0mq32015\u001b[0m\u001b[0;34m)\u001b[0m\u001b[0;34m\u001b[0m\u001b[0;34m\u001b[0m\u001b[0m\n\u001b[0m\u001b[1;32m      3\u001b[0m \u001b[0mrefine1\u001b[0m \u001b[0;34m=\u001b[0m \u001b[0mdf1\u001b[0m\u001b[0;34m.\u001b[0m\u001b[0mdrop\u001b[0m\u001b[0;34m(\u001b[0m\u001b[0;34m[\u001b[0m\u001b[0;34m'Sales\\n3Q 2014'\u001b[0m\u001b[0;34m,\u001b[0m \u001b[0;34m'Median\\n3Q 2014'\u001b[0m\u001b[0;34m,\u001b[0m \u001b[0;34m'Median\\nChange'\u001b[0m\u001b[0;34m]\u001b[0m\u001b[0;34m,\u001b[0m \u001b[0maxis\u001b[0m\u001b[0;34m=\u001b[0m\u001b[0;36m1\u001b[0m\u001b[0;34m)\u001b[0m\u001b[0;34m\u001b[0m\u001b[0;34m\u001b[0m\u001b[0m\n\u001b[1;32m      4\u001b[0m \u001b[0mrefine1\u001b[0m \u001b[0;34m=\u001b[0m \u001b[0mrefine1\u001b[0m\u001b[0;34m.\u001b[0m\u001b[0mrename\u001b[0m\u001b[0;34m(\u001b[0m\u001b[0mcolumns\u001b[0m\u001b[0;34m=\u001b[0m\u001b[0;34m{\u001b[0m\u001b[0;34m'Sales\\n3Q 2015'\u001b[0m\u001b[0;34m:\u001b[0m \u001b[0;34m'Sales Q3 2015'\u001b[0m\u001b[0;34m,\u001b[0m \u001b[0;34m'Median\\n3Q 2015'\u001b[0m\u001b[0;34m:\u001b[0m \u001b[0;34m'Median Q3 2015'\u001b[0m\u001b[0;34m}\u001b[0m\u001b[0;34m)\u001b[0m\u001b[0;34m\u001b[0m\u001b[0;34m\u001b[0m\u001b[0m\n\u001b[1;32m      5\u001b[0m \u001b[0mrefine1\u001b[0m\u001b[0;34m\u001b[0m\u001b[0;34m\u001b[0m\u001b[0m\n",
      "\u001b[0;32m~/opt/anaconda3/envs/PythonData/lib/python3.6/site-packages/pandas/io/excel/_base.py\u001b[0m in \u001b[0;36mread_excel\u001b[0;34m(io, sheet_name, header, names, index_col, usecols, squeeze, dtype, engine, converters, true_values, false_values, skiprows, nrows, na_values, keep_default_na, verbose, parse_dates, date_parser, thousands, comment, skipfooter, convert_float, mangle_dupe_cols, **kwds)\u001b[0m\n\u001b[1;32m    302\u001b[0m \u001b[0;34m\u001b[0m\u001b[0m\n\u001b[1;32m    303\u001b[0m     \u001b[0;32mif\u001b[0m \u001b[0;32mnot\u001b[0m \u001b[0misinstance\u001b[0m\u001b[0;34m(\u001b[0m\u001b[0mio\u001b[0m\u001b[0;34m,\u001b[0m \u001b[0mExcelFile\u001b[0m\u001b[0;34m)\u001b[0m\u001b[0;34m:\u001b[0m\u001b[0;34m\u001b[0m\u001b[0;34m\u001b[0m\u001b[0m\n\u001b[0;32m--> 304\u001b[0;31m         \u001b[0mio\u001b[0m \u001b[0;34m=\u001b[0m \u001b[0mExcelFile\u001b[0m\u001b[0;34m(\u001b[0m\u001b[0mio\u001b[0m\u001b[0;34m,\u001b[0m \u001b[0mengine\u001b[0m\u001b[0;34m=\u001b[0m\u001b[0mengine\u001b[0m\u001b[0;34m)\u001b[0m\u001b[0;34m\u001b[0m\u001b[0;34m\u001b[0m\u001b[0m\n\u001b[0m\u001b[1;32m    305\u001b[0m     \u001b[0;32melif\u001b[0m \u001b[0mengine\u001b[0m \u001b[0;32mand\u001b[0m \u001b[0mengine\u001b[0m \u001b[0;34m!=\u001b[0m \u001b[0mio\u001b[0m\u001b[0;34m.\u001b[0m\u001b[0mengine\u001b[0m\u001b[0;34m:\u001b[0m\u001b[0;34m\u001b[0m\u001b[0;34m\u001b[0m\u001b[0m\n\u001b[1;32m    306\u001b[0m         raise ValueError(\n",
      "\u001b[0;32m~/opt/anaconda3/envs/PythonData/lib/python3.6/site-packages/pandas/io/excel/_base.py\u001b[0m in \u001b[0;36m__init__\u001b[0;34m(self, io, engine)\u001b[0m\n\u001b[1;32m    822\u001b[0m         \u001b[0mself\u001b[0m\u001b[0;34m.\u001b[0m\u001b[0m_io\u001b[0m \u001b[0;34m=\u001b[0m \u001b[0mstringify_path\u001b[0m\u001b[0;34m(\u001b[0m\u001b[0mio\u001b[0m\u001b[0;34m)\u001b[0m\u001b[0;34m\u001b[0m\u001b[0;34m\u001b[0m\u001b[0m\n\u001b[1;32m    823\u001b[0m \u001b[0;34m\u001b[0m\u001b[0m\n\u001b[0;32m--> 824\u001b[0;31m         \u001b[0mself\u001b[0m\u001b[0;34m.\u001b[0m\u001b[0m_reader\u001b[0m \u001b[0;34m=\u001b[0m \u001b[0mself\u001b[0m\u001b[0;34m.\u001b[0m\u001b[0m_engines\u001b[0m\u001b[0;34m[\u001b[0m\u001b[0mengine\u001b[0m\u001b[0;34m]\u001b[0m\u001b[0;34m(\u001b[0m\u001b[0mself\u001b[0m\u001b[0;34m.\u001b[0m\u001b[0m_io\u001b[0m\u001b[0;34m)\u001b[0m\u001b[0;34m\u001b[0m\u001b[0;34m\u001b[0m\u001b[0m\n\u001b[0m\u001b[1;32m    825\u001b[0m \u001b[0;34m\u001b[0m\u001b[0m\n\u001b[1;32m    826\u001b[0m     \u001b[0;32mdef\u001b[0m \u001b[0m__fspath__\u001b[0m\u001b[0;34m(\u001b[0m\u001b[0mself\u001b[0m\u001b[0;34m)\u001b[0m\u001b[0;34m:\u001b[0m\u001b[0;34m\u001b[0m\u001b[0;34m\u001b[0m\u001b[0m\n",
      "\u001b[0;32m~/opt/anaconda3/envs/PythonData/lib/python3.6/site-packages/pandas/io/excel/_xlrd.py\u001b[0m in \u001b[0;36m__init__\u001b[0;34m(self, filepath_or_buffer)\u001b[0m\n\u001b[1;32m     19\u001b[0m         \u001b[0merr_msg\u001b[0m \u001b[0;34m=\u001b[0m \u001b[0;34m\"Install xlrd >= 1.0.0 for Excel support\"\u001b[0m\u001b[0;34m\u001b[0m\u001b[0;34m\u001b[0m\u001b[0m\n\u001b[1;32m     20\u001b[0m         \u001b[0mimport_optional_dependency\u001b[0m\u001b[0;34m(\u001b[0m\u001b[0;34m\"xlrd\"\u001b[0m\u001b[0;34m,\u001b[0m \u001b[0mextra\u001b[0m\u001b[0;34m=\u001b[0m\u001b[0merr_msg\u001b[0m\u001b[0;34m)\u001b[0m\u001b[0;34m\u001b[0m\u001b[0;34m\u001b[0m\u001b[0m\n\u001b[0;32m---> 21\u001b[0;31m         \u001b[0msuper\u001b[0m\u001b[0;34m(\u001b[0m\u001b[0;34m)\u001b[0m\u001b[0;34m.\u001b[0m\u001b[0m__init__\u001b[0m\u001b[0;34m(\u001b[0m\u001b[0mfilepath_or_buffer\u001b[0m\u001b[0;34m)\u001b[0m\u001b[0;34m\u001b[0m\u001b[0;34m\u001b[0m\u001b[0m\n\u001b[0m\u001b[1;32m     22\u001b[0m \u001b[0;34m\u001b[0m\u001b[0m\n\u001b[1;32m     23\u001b[0m     \u001b[0;34m@\u001b[0m\u001b[0mproperty\u001b[0m\u001b[0;34m\u001b[0m\u001b[0;34m\u001b[0m\u001b[0m\n",
      "\u001b[0;32m~/opt/anaconda3/envs/PythonData/lib/python3.6/site-packages/pandas/io/excel/_base.py\u001b[0m in \u001b[0;36m__init__\u001b[0;34m(self, filepath_or_buffer)\u001b[0m\n\u001b[1;32m    351\u001b[0m             \u001b[0mself\u001b[0m\u001b[0;34m.\u001b[0m\u001b[0mbook\u001b[0m \u001b[0;34m=\u001b[0m \u001b[0mself\u001b[0m\u001b[0;34m.\u001b[0m\u001b[0mload_workbook\u001b[0m\u001b[0;34m(\u001b[0m\u001b[0mfilepath_or_buffer\u001b[0m\u001b[0;34m)\u001b[0m\u001b[0;34m\u001b[0m\u001b[0;34m\u001b[0m\u001b[0m\n\u001b[1;32m    352\u001b[0m         \u001b[0;32melif\u001b[0m \u001b[0misinstance\u001b[0m\u001b[0;34m(\u001b[0m\u001b[0mfilepath_or_buffer\u001b[0m\u001b[0;34m,\u001b[0m \u001b[0mstr\u001b[0m\u001b[0;34m)\u001b[0m\u001b[0;34m:\u001b[0m\u001b[0;34m\u001b[0m\u001b[0;34m\u001b[0m\u001b[0m\n\u001b[0;32m--> 353\u001b[0;31m             \u001b[0mself\u001b[0m\u001b[0;34m.\u001b[0m\u001b[0mbook\u001b[0m \u001b[0;34m=\u001b[0m \u001b[0mself\u001b[0m\u001b[0;34m.\u001b[0m\u001b[0mload_workbook\u001b[0m\u001b[0;34m(\u001b[0m\u001b[0mfilepath_or_buffer\u001b[0m\u001b[0;34m)\u001b[0m\u001b[0;34m\u001b[0m\u001b[0;34m\u001b[0m\u001b[0m\n\u001b[0m\u001b[1;32m    354\u001b[0m         \u001b[0;32melif\u001b[0m \u001b[0misinstance\u001b[0m\u001b[0;34m(\u001b[0m\u001b[0mfilepath_or_buffer\u001b[0m\u001b[0;34m,\u001b[0m \u001b[0mbytes\u001b[0m\u001b[0;34m)\u001b[0m\u001b[0;34m:\u001b[0m\u001b[0;34m\u001b[0m\u001b[0;34m\u001b[0m\u001b[0m\n\u001b[1;32m    355\u001b[0m             \u001b[0mself\u001b[0m\u001b[0;34m.\u001b[0m\u001b[0mbook\u001b[0m \u001b[0;34m=\u001b[0m \u001b[0mself\u001b[0m\u001b[0;34m.\u001b[0m\u001b[0mload_workbook\u001b[0m\u001b[0;34m(\u001b[0m\u001b[0mBytesIO\u001b[0m\u001b[0;34m(\u001b[0m\u001b[0mfilepath_or_buffer\u001b[0m\u001b[0;34m)\u001b[0m\u001b[0;34m)\u001b[0m\u001b[0;34m\u001b[0m\u001b[0;34m\u001b[0m\u001b[0m\n",
      "\u001b[0;32m~/opt/anaconda3/envs/PythonData/lib/python3.6/site-packages/pandas/io/excel/_xlrd.py\u001b[0m in \u001b[0;36mload_workbook\u001b[0;34m(self, filepath_or_buffer)\u001b[0m\n\u001b[1;32m     34\u001b[0m             \u001b[0;32mreturn\u001b[0m \u001b[0mopen_workbook\u001b[0m\u001b[0;34m(\u001b[0m\u001b[0mfile_contents\u001b[0m\u001b[0;34m=\u001b[0m\u001b[0mdata\u001b[0m\u001b[0;34m)\u001b[0m\u001b[0;34m\u001b[0m\u001b[0;34m\u001b[0m\u001b[0m\n\u001b[1;32m     35\u001b[0m         \u001b[0;32melse\u001b[0m\u001b[0;34m:\u001b[0m\u001b[0;34m\u001b[0m\u001b[0;34m\u001b[0m\u001b[0m\n\u001b[0;32m---> 36\u001b[0;31m             \u001b[0;32mreturn\u001b[0m \u001b[0mopen_workbook\u001b[0m\u001b[0;34m(\u001b[0m\u001b[0mfilepath_or_buffer\u001b[0m\u001b[0;34m)\u001b[0m\u001b[0;34m\u001b[0m\u001b[0;34m\u001b[0m\u001b[0m\n\u001b[0m\u001b[1;32m     37\u001b[0m \u001b[0;34m\u001b[0m\u001b[0m\n\u001b[1;32m     38\u001b[0m     \u001b[0;34m@\u001b[0m\u001b[0mproperty\u001b[0m\u001b[0;34m\u001b[0m\u001b[0;34m\u001b[0m\u001b[0m\n",
      "\u001b[0;32m~/opt/anaconda3/envs/PythonData/lib/python3.6/site-packages/xlrd/__init__.py\u001b[0m in \u001b[0;36mopen_workbook\u001b[0;34m(filename, logfile, verbosity, use_mmap, file_contents, encoding_override, formatting_info, on_demand, ragged_rows, ignore_workbook_corruption)\u001b[0m\n\u001b[1;32m    164\u001b[0m     \"\"\"\n\u001b[1;32m    165\u001b[0m \u001b[0;34m\u001b[0m\u001b[0m\n\u001b[0;32m--> 166\u001b[0;31m     \u001b[0mfile_format\u001b[0m \u001b[0;34m=\u001b[0m \u001b[0minspect_format\u001b[0m\u001b[0;34m(\u001b[0m\u001b[0mfilename\u001b[0m\u001b[0;34m,\u001b[0m \u001b[0mfile_contents\u001b[0m\u001b[0;34m)\u001b[0m\u001b[0;34m\u001b[0m\u001b[0;34m\u001b[0m\u001b[0m\n\u001b[0m\u001b[1;32m    167\u001b[0m     \u001b[0;31m# We have to let unknown file formats pass through here, as some ancient\u001b[0m\u001b[0;34m\u001b[0m\u001b[0;34m\u001b[0m\u001b[0;34m\u001b[0m\u001b[0m\n\u001b[1;32m    168\u001b[0m     \u001b[0;31m# files that xlrd can parse don't start with the expected signature.\u001b[0m\u001b[0;34m\u001b[0m\u001b[0;34m\u001b[0m\u001b[0;34m\u001b[0m\u001b[0m\n",
      "\u001b[0;32m~/opt/anaconda3/envs/PythonData/lib/python3.6/site-packages/xlrd/__init__.py\u001b[0m in \u001b[0;36minspect_format\u001b[0;34m(path, content)\u001b[0m\n\u001b[1;32m     58\u001b[0m     \u001b[0;32melse\u001b[0m\u001b[0;34m:\u001b[0m\u001b[0;34m\u001b[0m\u001b[0;34m\u001b[0m\u001b[0m\n\u001b[1;32m     59\u001b[0m         \u001b[0mpath\u001b[0m \u001b[0;34m=\u001b[0m \u001b[0mos\u001b[0m\u001b[0;34m.\u001b[0m\u001b[0mpath\u001b[0m\u001b[0;34m.\u001b[0m\u001b[0mexpanduser\u001b[0m\u001b[0;34m(\u001b[0m\u001b[0mpath\u001b[0m\u001b[0;34m)\u001b[0m\u001b[0;34m\u001b[0m\u001b[0;34m\u001b[0m\u001b[0m\n\u001b[0;32m---> 60\u001b[0;31m         \u001b[0;32mwith\u001b[0m \u001b[0mopen\u001b[0m\u001b[0;34m(\u001b[0m\u001b[0mpath\u001b[0m\u001b[0;34m,\u001b[0m \u001b[0;34m\"rb\"\u001b[0m\u001b[0;34m)\u001b[0m \u001b[0;32mas\u001b[0m \u001b[0mf\u001b[0m\u001b[0;34m:\u001b[0m\u001b[0;34m\u001b[0m\u001b[0;34m\u001b[0m\u001b[0m\n\u001b[0m\u001b[1;32m     61\u001b[0m             \u001b[0mpeek\u001b[0m \u001b[0;34m=\u001b[0m \u001b[0mf\u001b[0m\u001b[0;34m.\u001b[0m\u001b[0mread\u001b[0m\u001b[0;34m(\u001b[0m\u001b[0mPEEK_SIZE\u001b[0m\u001b[0;34m)\u001b[0m\u001b[0;34m\u001b[0m\u001b[0;34m\u001b[0m\u001b[0m\n\u001b[1;32m     62\u001b[0m \u001b[0;34m\u001b[0m\u001b[0m\n",
      "\u001b[0;31mFileNotFoundError\u001b[0m: [Errno 2] No such file or directory: '2015q3.xlsx'"
     ]
    }
   ],
   "source": [
    "q32015 = \"2015q3.xlsx\"\n",
    "df1 = pd.read_excel(q32015)\n",
    "refine1 = df1.drop(['Sales\\n3Q 2014', 'Median\\n3Q 2014', 'Median\\nChange'], axis=1)\n",
    "refine1 = refine1.rename(columns={'Sales\\n3Q 2015': 'Sales Q3 2015', 'Median\\n3Q 2015': 'Median Q3 2015'})\n",
    "refine1"
   ]
  },
  {
   "cell_type": "code",
   "execution_count": 4,
   "metadata": {},
   "outputs": [
    {
     "output_type": "execute_result",
     "data": {
      "text/plain": [
       "               City          Suburb  Sales Q4 2015  Median Q4 2015\n",
       "0          ADELAIDE        ADELAIDE            5.0        320000.0\n",
       "1          ADELAIDE  NORTH ADELAIDE            4.0       1300000.0\n",
       "2    ADELAIDE HILLS         ALDGATE            7.0        668750.0\n",
       "3    ADELAIDE HILLS          ASHTON            NaN             NaN\n",
       "4    ADELAIDE HILLS    BASKET RANGE            NaN             NaN\n",
       "..              ...             ...            ...             ...\n",
       "472    WEST TORRENS       THEBARTON            6.0        509170.0\n",
       "473    WEST TORRENS    TORRENSVILLE           10.0        576250.0\n",
       "474    WEST TORRENS       UNDERDALE            3.0        511000.0\n",
       "475    WEST TORRENS      WEST BEACH            8.0        633500.0\n",
       "476    WEST TORRENS   WEST RICHMOND            4.0        353000.0\n",
       "\n",
       "[477 rows x 4 columns]"
      ],
      "text/html": "<div>\n<style scoped>\n    .dataframe tbody tr th:only-of-type {\n        vertical-align: middle;\n    }\n\n    .dataframe tbody tr th {\n        vertical-align: top;\n    }\n\n    .dataframe thead th {\n        text-align: right;\n    }\n</style>\n<table border=\"1\" class=\"dataframe\">\n  <thead>\n    <tr style=\"text-align: right;\">\n      <th></th>\n      <th>City</th>\n      <th>Suburb</th>\n      <th>Sales Q4 2015</th>\n      <th>Median Q4 2015</th>\n    </tr>\n  </thead>\n  <tbody>\n    <tr>\n      <th>0</th>\n      <td>ADELAIDE</td>\n      <td>ADELAIDE</td>\n      <td>5.0</td>\n      <td>320000.0</td>\n    </tr>\n    <tr>\n      <th>1</th>\n      <td>ADELAIDE</td>\n      <td>NORTH ADELAIDE</td>\n      <td>4.0</td>\n      <td>1300000.0</td>\n    </tr>\n    <tr>\n      <th>2</th>\n      <td>ADELAIDE HILLS</td>\n      <td>ALDGATE</td>\n      <td>7.0</td>\n      <td>668750.0</td>\n    </tr>\n    <tr>\n      <th>3</th>\n      <td>ADELAIDE HILLS</td>\n      <td>ASHTON</td>\n      <td>NaN</td>\n      <td>NaN</td>\n    </tr>\n    <tr>\n      <th>4</th>\n      <td>ADELAIDE HILLS</td>\n      <td>BASKET RANGE</td>\n      <td>NaN</td>\n      <td>NaN</td>\n    </tr>\n    <tr>\n      <th>...</th>\n      <td>...</td>\n      <td>...</td>\n      <td>...</td>\n      <td>...</td>\n    </tr>\n    <tr>\n      <th>472</th>\n      <td>WEST TORRENS</td>\n      <td>THEBARTON</td>\n      <td>6.0</td>\n      <td>509170.0</td>\n    </tr>\n    <tr>\n      <th>473</th>\n      <td>WEST TORRENS</td>\n      <td>TORRENSVILLE</td>\n      <td>10.0</td>\n      <td>576250.0</td>\n    </tr>\n    <tr>\n      <th>474</th>\n      <td>WEST TORRENS</td>\n      <td>UNDERDALE</td>\n      <td>3.0</td>\n      <td>511000.0</td>\n    </tr>\n    <tr>\n      <th>475</th>\n      <td>WEST TORRENS</td>\n      <td>WEST BEACH</td>\n      <td>8.0</td>\n      <td>633500.0</td>\n    </tr>\n    <tr>\n      <th>476</th>\n      <td>WEST TORRENS</td>\n      <td>WEST RICHMOND</td>\n      <td>4.0</td>\n      <td>353000.0</td>\n    </tr>\n  </tbody>\n</table>\n<p>477 rows × 4 columns</p>\n</div>"
     },
     "metadata": {},
     "execution_count": 4
    }
   ],
   "source": [
    "q42015 = '2015q4.xlsx'\n",
    "df2 = pd.read_excel(q42015)\n",
    "refine2 = df2.drop(['Sales\\n4Q 2014', 'Median\\n4Q 2014', 'Median\\nChange'], axis=1)\n",
    "refine2 = refine2.rename(columns={'Sales\\n4Q 2015': 'Sales Q4 2015', 'Median\\n4Q 2015': 'Median Q4 2015'})\n",
    "refine2"
   ]
  },
  {
   "cell_type": "code",
   "execution_count": 5,
   "metadata": {},
   "outputs": [
    {
     "output_type": "execute_result",
     "data": {
      "text/plain": [
       "               City          Suburb  Sales Q1 2016  Median Q1 2016\n",
       "0          ADELAIDE        ADELAIDE            3.0        750000.0\n",
       "1          ADELAIDE  NORTH ADELAIDE           10.0        900500.0\n",
       "2    ADELAIDE HILLS         ALDGATE           13.0        715000.0\n",
       "3    ADELAIDE HILLS          ASHTON            NaN             NaN\n",
       "4    ADELAIDE HILLS    BASKET RANGE            NaN             NaN\n",
       "..              ...             ...            ...             ...\n",
       "472    WEST TORRENS       THEBARTON            NaN             NaN\n",
       "473    WEST TORRENS    TORRENSVILLE            7.0        537500.0\n",
       "474    WEST TORRENS       UNDERDALE            3.0        533000.0\n",
       "475    WEST TORRENS      WEST BEACH            7.0        825000.0\n",
       "476    WEST TORRENS   WEST RICHMOND            3.0        410000.0\n",
       "\n",
       "[477 rows x 4 columns]"
      ],
      "text/html": "<div>\n<style scoped>\n    .dataframe tbody tr th:only-of-type {\n        vertical-align: middle;\n    }\n\n    .dataframe tbody tr th {\n        vertical-align: top;\n    }\n\n    .dataframe thead th {\n        text-align: right;\n    }\n</style>\n<table border=\"1\" class=\"dataframe\">\n  <thead>\n    <tr style=\"text-align: right;\">\n      <th></th>\n      <th>City</th>\n      <th>Suburb</th>\n      <th>Sales Q1 2016</th>\n      <th>Median Q1 2016</th>\n    </tr>\n  </thead>\n  <tbody>\n    <tr>\n      <th>0</th>\n      <td>ADELAIDE</td>\n      <td>ADELAIDE</td>\n      <td>3.0</td>\n      <td>750000.0</td>\n    </tr>\n    <tr>\n      <th>1</th>\n      <td>ADELAIDE</td>\n      <td>NORTH ADELAIDE</td>\n      <td>10.0</td>\n      <td>900500.0</td>\n    </tr>\n    <tr>\n      <th>2</th>\n      <td>ADELAIDE HILLS</td>\n      <td>ALDGATE</td>\n      <td>13.0</td>\n      <td>715000.0</td>\n    </tr>\n    <tr>\n      <th>3</th>\n      <td>ADELAIDE HILLS</td>\n      <td>ASHTON</td>\n      <td>NaN</td>\n      <td>NaN</td>\n    </tr>\n    <tr>\n      <th>4</th>\n      <td>ADELAIDE HILLS</td>\n      <td>BASKET RANGE</td>\n      <td>NaN</td>\n      <td>NaN</td>\n    </tr>\n    <tr>\n      <th>...</th>\n      <td>...</td>\n      <td>...</td>\n      <td>...</td>\n      <td>...</td>\n    </tr>\n    <tr>\n      <th>472</th>\n      <td>WEST TORRENS</td>\n      <td>THEBARTON</td>\n      <td>NaN</td>\n      <td>NaN</td>\n    </tr>\n    <tr>\n      <th>473</th>\n      <td>WEST TORRENS</td>\n      <td>TORRENSVILLE</td>\n      <td>7.0</td>\n      <td>537500.0</td>\n    </tr>\n    <tr>\n      <th>474</th>\n      <td>WEST TORRENS</td>\n      <td>UNDERDALE</td>\n      <td>3.0</td>\n      <td>533000.0</td>\n    </tr>\n    <tr>\n      <th>475</th>\n      <td>WEST TORRENS</td>\n      <td>WEST BEACH</td>\n      <td>7.0</td>\n      <td>825000.0</td>\n    </tr>\n    <tr>\n      <th>476</th>\n      <td>WEST TORRENS</td>\n      <td>WEST RICHMOND</td>\n      <td>3.0</td>\n      <td>410000.0</td>\n    </tr>\n  </tbody>\n</table>\n<p>477 rows × 4 columns</p>\n</div>"
     },
     "metadata": {},
     "execution_count": 5
    }
   ],
   "source": [
    "q12016 = '2016q1.xlsx'\n",
    "df3 = pd.read_excel(q12016)\n",
    "refine3 = df3.drop(['Sales\\n1Q 2015', 'Median\\n1Q 2015', 'Median\\nChange'], axis=1)\n",
    "refine3 = refine3.rename(columns={'Sales\\n1Q 2016': 'Sales Q1 2016', 'Median\\n1Q 2016': 'Median Q1 2016'})\n",
    "refine3"
   ]
  },
  {
   "cell_type": "code",
   "execution_count": 6,
   "metadata": {},
   "outputs": [
    {
     "output_type": "execute_result",
     "data": {
      "text/plain": [
       "               City          Suburb  Sales Q2 2016  Median Q2 2016\n",
       "0          ADELAIDE        ADELAIDE            NaN             NaN\n",
       "1          ADELAIDE  NORTH ADELAIDE           14.0        892500.0\n",
       "2    ADELAIDE HILLS         ALDGATE           16.0        750000.0\n",
       "3    ADELAIDE HILLS          ASHTON            NaN             NaN\n",
       "4    ADELAIDE HILLS    BASKET RANGE            NaN             NaN\n",
       "..              ...             ...            ...             ...\n",
       "473    WEST TORRENS       THEBARTON            6.0        498750.0\n",
       "474    WEST TORRENS    TORRENSVILLE            7.0        627500.0\n",
       "475    WEST TORRENS       UNDERDALE            8.0        529000.0\n",
       "476    WEST TORRENS      WEST BEACH            7.0        706000.0\n",
       "477    WEST TORRENS   WEST RICHMOND            1.0        390000.0\n",
       "\n",
       "[478 rows x 4 columns]"
      ],
      "text/html": "<div>\n<style scoped>\n    .dataframe tbody tr th:only-of-type {\n        vertical-align: middle;\n    }\n\n    .dataframe tbody tr th {\n        vertical-align: top;\n    }\n\n    .dataframe thead th {\n        text-align: right;\n    }\n</style>\n<table border=\"1\" class=\"dataframe\">\n  <thead>\n    <tr style=\"text-align: right;\">\n      <th></th>\n      <th>City</th>\n      <th>Suburb</th>\n      <th>Sales Q2 2016</th>\n      <th>Median Q2 2016</th>\n    </tr>\n  </thead>\n  <tbody>\n    <tr>\n      <th>0</th>\n      <td>ADELAIDE</td>\n      <td>ADELAIDE</td>\n      <td>NaN</td>\n      <td>NaN</td>\n    </tr>\n    <tr>\n      <th>1</th>\n      <td>ADELAIDE</td>\n      <td>NORTH ADELAIDE</td>\n      <td>14.0</td>\n      <td>892500.0</td>\n    </tr>\n    <tr>\n      <th>2</th>\n      <td>ADELAIDE HILLS</td>\n      <td>ALDGATE</td>\n      <td>16.0</td>\n      <td>750000.0</td>\n    </tr>\n    <tr>\n      <th>3</th>\n      <td>ADELAIDE HILLS</td>\n      <td>ASHTON</td>\n      <td>NaN</td>\n      <td>NaN</td>\n    </tr>\n    <tr>\n      <th>4</th>\n      <td>ADELAIDE HILLS</td>\n      <td>BASKET RANGE</td>\n      <td>NaN</td>\n      <td>NaN</td>\n    </tr>\n    <tr>\n      <th>...</th>\n      <td>...</td>\n      <td>...</td>\n      <td>...</td>\n      <td>...</td>\n    </tr>\n    <tr>\n      <th>473</th>\n      <td>WEST TORRENS</td>\n      <td>THEBARTON</td>\n      <td>6.0</td>\n      <td>498750.0</td>\n    </tr>\n    <tr>\n      <th>474</th>\n      <td>WEST TORRENS</td>\n      <td>TORRENSVILLE</td>\n      <td>7.0</td>\n      <td>627500.0</td>\n    </tr>\n    <tr>\n      <th>475</th>\n      <td>WEST TORRENS</td>\n      <td>UNDERDALE</td>\n      <td>8.0</td>\n      <td>529000.0</td>\n    </tr>\n    <tr>\n      <th>476</th>\n      <td>WEST TORRENS</td>\n      <td>WEST BEACH</td>\n      <td>7.0</td>\n      <td>706000.0</td>\n    </tr>\n    <tr>\n      <th>477</th>\n      <td>WEST TORRENS</td>\n      <td>WEST RICHMOND</td>\n      <td>1.0</td>\n      <td>390000.0</td>\n    </tr>\n  </tbody>\n</table>\n<p>478 rows × 4 columns</p>\n</div>"
     },
     "metadata": {},
     "execution_count": 6
    }
   ],
   "source": [
    "q22016 = '2016q2.xlsx'\n",
    "df4 = pd.read_excel(q22016)\n",
    "refine4 = df4.drop(['Sales\\n2Q 2015', 'Median\\n2Q 2015', 'Median\\nChange'], axis=1)\n",
    "refine4 = refine4.rename(columns={'Sales\\n2Q 2016': 'Sales Q2 2016', 'Median\\n2Q 2016': 'Median Q2 2016'})\n",
    "refine4"
   ]
  },
  {
   "cell_type": "code",
   "execution_count": 7,
   "metadata": {},
   "outputs": [
    {
     "output_type": "execute_result",
     "data": {
      "text/plain": [
       "               City          Suburb  Sales Q3 2015  Median Q3 2015  \\\n",
       "1          ADELAIDE  NORTH ADELAIDE            6.0       1370000.0   \n",
       "2    ADELAIDE HILLS         ALDGATE            6.0        802500.0   \n",
       "5    ADELAIDE HILLS          BELAIR           23.0        540000.0   \n",
       "7    ADELAIDE HILLS     BRIDGEWATER           16.0        465000.0   \n",
       "12   ADELAIDE HILLS         CRAFERS            7.0        617500.0   \n",
       "..              ...             ...            ...             ...   \n",
       "471    WEST TORRENS        RICHMOND            9.0        420000.0   \n",
       "473    WEST TORRENS    TORRENSVILLE           12.0        602500.0   \n",
       "474    WEST TORRENS       UNDERDALE            7.0        580000.0   \n",
       "475    WEST TORRENS      WEST BEACH            8.0        728000.0   \n",
       "476    WEST TORRENS   WEST RICHMOND            3.0        392500.0   \n",
       "\n",
       "     Sales Q4 2015  Median Q4 2015  Sales Q1 2016  Median Q1 2016  \\\n",
       "1              4.0       1300000.0           10.0        900500.0   \n",
       "2              7.0        668750.0           13.0        715000.0   \n",
       "5             16.0        550000.0           13.0        577500.0   \n",
       "7             12.0        477000.0           16.0        475000.0   \n",
       "12             3.0        678250.0            8.0        640500.0   \n",
       "..             ...             ...            ...             ...   \n",
       "471            4.0        526500.0           11.0        456500.0   \n",
       "473           10.0        576250.0            7.0        537500.0   \n",
       "474            3.0        511000.0            3.0        533000.0   \n",
       "475            8.0        633500.0            7.0        825000.0   \n",
       "476            4.0        353000.0            3.0        410000.0   \n",
       "\n",
       "     Sales Q2 2016  Median Q2 2016  \n",
       "1             14.0        892500.0  \n",
       "2             16.0        750000.0  \n",
       "5             15.0        561000.0  \n",
       "7             18.0        432000.0  \n",
       "12             3.0        537000.0  \n",
       "..             ...             ...  \n",
       "471           10.0        546000.0  \n",
       "473            7.0        627500.0  \n",
       "474            8.0        529000.0  \n",
       "475            7.0        706000.0  \n",
       "476            1.0        390000.0  \n",
       "\n",
       "[327 rows x 10 columns]"
      ],
      "text/html": "<div>\n<style scoped>\n    .dataframe tbody tr th:only-of-type {\n        vertical-align: middle;\n    }\n\n    .dataframe tbody tr th {\n        vertical-align: top;\n    }\n\n    .dataframe thead th {\n        text-align: right;\n    }\n</style>\n<table border=\"1\" class=\"dataframe\">\n  <thead>\n    <tr style=\"text-align: right;\">\n      <th></th>\n      <th>City</th>\n      <th>Suburb</th>\n      <th>Sales Q3 2015</th>\n      <th>Median Q3 2015</th>\n      <th>Sales Q4 2015</th>\n      <th>Median Q4 2015</th>\n      <th>Sales Q1 2016</th>\n      <th>Median Q1 2016</th>\n      <th>Sales Q2 2016</th>\n      <th>Median Q2 2016</th>\n    </tr>\n  </thead>\n  <tbody>\n    <tr>\n      <th>1</th>\n      <td>ADELAIDE</td>\n      <td>NORTH ADELAIDE</td>\n      <td>6.0</td>\n      <td>1370000.0</td>\n      <td>4.0</td>\n      <td>1300000.0</td>\n      <td>10.0</td>\n      <td>900500.0</td>\n      <td>14.0</td>\n      <td>892500.0</td>\n    </tr>\n    <tr>\n      <th>2</th>\n      <td>ADELAIDE HILLS</td>\n      <td>ALDGATE</td>\n      <td>6.0</td>\n      <td>802500.0</td>\n      <td>7.0</td>\n      <td>668750.0</td>\n      <td>13.0</td>\n      <td>715000.0</td>\n      <td>16.0</td>\n      <td>750000.0</td>\n    </tr>\n    <tr>\n      <th>5</th>\n      <td>ADELAIDE HILLS</td>\n      <td>BELAIR</td>\n      <td>23.0</td>\n      <td>540000.0</td>\n      <td>16.0</td>\n      <td>550000.0</td>\n      <td>13.0</td>\n      <td>577500.0</td>\n      <td>15.0</td>\n      <td>561000.0</td>\n    </tr>\n    <tr>\n      <th>7</th>\n      <td>ADELAIDE HILLS</td>\n      <td>BRIDGEWATER</td>\n      <td>16.0</td>\n      <td>465000.0</td>\n      <td>12.0</td>\n      <td>477000.0</td>\n      <td>16.0</td>\n      <td>475000.0</td>\n      <td>18.0</td>\n      <td>432000.0</td>\n    </tr>\n    <tr>\n      <th>12</th>\n      <td>ADELAIDE HILLS</td>\n      <td>CRAFERS</td>\n      <td>7.0</td>\n      <td>617500.0</td>\n      <td>3.0</td>\n      <td>678250.0</td>\n      <td>8.0</td>\n      <td>640500.0</td>\n      <td>3.0</td>\n      <td>537000.0</td>\n    </tr>\n    <tr>\n      <th>...</th>\n      <td>...</td>\n      <td>...</td>\n      <td>...</td>\n      <td>...</td>\n      <td>...</td>\n      <td>...</td>\n      <td>...</td>\n      <td>...</td>\n      <td>...</td>\n      <td>...</td>\n    </tr>\n    <tr>\n      <th>471</th>\n      <td>WEST TORRENS</td>\n      <td>RICHMOND</td>\n      <td>9.0</td>\n      <td>420000.0</td>\n      <td>4.0</td>\n      <td>526500.0</td>\n      <td>11.0</td>\n      <td>456500.0</td>\n      <td>10.0</td>\n      <td>546000.0</td>\n    </tr>\n    <tr>\n      <th>473</th>\n      <td>WEST TORRENS</td>\n      <td>TORRENSVILLE</td>\n      <td>12.0</td>\n      <td>602500.0</td>\n      <td>10.0</td>\n      <td>576250.0</td>\n      <td>7.0</td>\n      <td>537500.0</td>\n      <td>7.0</td>\n      <td>627500.0</td>\n    </tr>\n    <tr>\n      <th>474</th>\n      <td>WEST TORRENS</td>\n      <td>UNDERDALE</td>\n      <td>7.0</td>\n      <td>580000.0</td>\n      <td>3.0</td>\n      <td>511000.0</td>\n      <td>3.0</td>\n      <td>533000.0</td>\n      <td>8.0</td>\n      <td>529000.0</td>\n    </tr>\n    <tr>\n      <th>475</th>\n      <td>WEST TORRENS</td>\n      <td>WEST BEACH</td>\n      <td>8.0</td>\n      <td>728000.0</td>\n      <td>8.0</td>\n      <td>633500.0</td>\n      <td>7.0</td>\n      <td>825000.0</td>\n      <td>7.0</td>\n      <td>706000.0</td>\n    </tr>\n    <tr>\n      <th>476</th>\n      <td>WEST TORRENS</td>\n      <td>WEST RICHMOND</td>\n      <td>3.0</td>\n      <td>392500.0</td>\n      <td>4.0</td>\n      <td>353000.0</td>\n      <td>3.0</td>\n      <td>410000.0</td>\n      <td>1.0</td>\n      <td>390000.0</td>\n    </tr>\n  </tbody>\n</table>\n<p>327 rows × 10 columns</p>\n</div>"
     },
     "metadata": {},
     "execution_count": 7
    }
   ],
   "source": [
    "merged1 = pd.merge(refine1,refine2)\n",
    "merged2 = pd.merge(refine3,refine4)\n",
    "final = pd.merge(merged1,merged2)\n",
    "final = final.dropna(how='any')\n",
    "final"
   ]
  },
  {
   "cell_type": "code",
   "execution_count": 8,
   "metadata": {},
   "outputs": [],
   "source": [
    "final.to_csv(\"y15_16_house.csv\")"
   ]
  }
 ]
}