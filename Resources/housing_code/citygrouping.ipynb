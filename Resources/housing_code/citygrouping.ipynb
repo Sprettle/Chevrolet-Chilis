{
 "metadata": {
  "language_info": {
   "codemirror_mode": {
    "name": "ipython",
    "version": 3
   },
   "file_extension": ".py",
   "mimetype": "text/x-python",
   "name": "python",
   "nbconvert_exporter": "python",
   "pygments_lexer": "ipython3",
   "version": "3.6.10-final"
  },
  "orig_nbformat": 2,
  "kernelspec": {
   "name": "python3",
   "display_name": "Python 3",
   "language": "python"
  }
 },
 "nbformat": 4,
 "nbformat_minor": 2,
 "cells": [
  {
   "cell_type": "code",
   "execution_count": 1,
   "metadata": {},
   "outputs": [],
   "source": [
    "#The following are the finalised dataframe names for each of the five financial years \n",
    "#   adl15_16\n",
    "#   adl16_17\n",
    "#   adl17_18\n",
    "#   adl18_19\n",
    "#   adl19_20 \n",
    "\n",
    "#the code used to create these dataframes can be found below "
   ]
  },
  {
   "cell_type": "code",
   "execution_count": 2,
   "metadata": {},
   "outputs": [],
   "source": [
    "import pandas as pd"
   ]
  },
  {
   "cell_type": "code",
   "execution_count": 3,
   "metadata": {},
   "outputs": [],
   "source": [
    "#Source the dataframe\n",
    "y15_16 = pd.read_csv(\"../housingcsv/y15_16_house.csv\")"
   ]
  },
  {
   "cell_type": "code",
   "execution_count": 2,
   "metadata": {},
   "outputs": [
    {
     "output_type": "error",
     "ename": "NameError",
     "evalue": "name 'y15_16' is not defined",
     "traceback": [
      "\u001b[0;31m---------------------------------------------------------------------------\u001b[0m",
      "\u001b[0;31mNameError\u001b[0m                                 Traceback (most recent call last)",
      "\u001b[0;32m<ipython-input-2-a922bc54450c>\u001b[0m in \u001b[0;36m<module>\u001b[0;34m\u001b[0m\n\u001b[1;32m      4\u001b[0m \u001b[0;34m\u001b[0m\u001b[0m\n\u001b[1;32m      5\u001b[0m \u001b[0;31m#Collect relevant columns from the source for sales and create a new dataframe\u001b[0m\u001b[0;34m\u001b[0m\u001b[0;34m\u001b[0m\u001b[0;34m\u001b[0m\u001b[0m\n\u001b[0;32m----> 6\u001b[0;31m dfsales1 = y15_16[[\n\u001b[0m\u001b[1;32m      7\u001b[0m     \u001b[0;34m'City'\u001b[0m\u001b[0;34m,\u001b[0m\u001b[0;34m\u001b[0m\u001b[0;34m\u001b[0m\u001b[0m\n\u001b[1;32m      8\u001b[0m     \u001b[0;34m'Sales Q3 2015'\u001b[0m\u001b[0;34m,\u001b[0m\u001b[0;34m\u001b[0m\u001b[0;34m\u001b[0m\u001b[0m\n",
      "\u001b[0;31mNameError\u001b[0m: name 'y15_16' is not defined"
     ]
    }
   ],
   "source": [
    "#Collecting the average median price and total price for each city will require to split the above data frame into two parts (\"sales\" and \"median\") and then merging them together for the final data frame\n",
    "\n",
    "#the below is how this is going to be achieved \n",
    "\n",
    "#Collect relevant columns from the source for sales and create a new dataframe \n",
    "dfsales1 = y15_16[[\n",
    "    'City', \n",
    "    'Sales Q3 2015', \n",
    "    'Sales Q4 2015', \n",
    "    'Sales Q1 2016', \n",
    "    'Sales Q2 2016'\n",
    "    ]]\n",
    "#Perform the groupby function to collect all the unique cities \n",
    "groupedsales1 = dfsales1.groupby(by='City')\n",
    "#The \".sum\" will add the total sales for each city in each quarter \n",
    "sales_df1 = groupedsales1.sum([\n",
    "    'Sales Q3 2015',\n",
    "    'Sales Q4 2015', \n",
    "    'Sales Q1 2016', \n",
    "    'Sales Q2 2016'\n",
    "    ])\n",
    "#\"sales_df1\" is the variable assigned to the first dataframe of two \n",
    "\n",
    "#Collect the relevant columns for median price and create a new dataframe \n",
    "dfmedian1 = y15_16[[\n",
    "    'City', \n",
    "    'Median Q3 2015', \n",
    "    'Median Q4 2015', \n",
    "    'Median Q1 2016', \n",
    "    'Median Q2 2016'\n",
    "    ]]\n",
    "#Perform the gorupby function to collect all the unique cities \n",
    "groupedmedian1 = dfmedian1.groupby(by='City')\n",
    "#The \".mean\" will find the median price for each city in each quarter \n",
    "median_df1 = groupedmedian1.mean([\n",
    "    'Median Q3 2015', \n",
    "    'Median Q4 2015', \n",
    "    'Median Q1 2016', \n",
    "    'Median Q2'\n",
    "    ])\n",
    "#\"median_df1\" is the variable assigned to the second dataframe of two \n",
    "\n",
    "#Because the average was found from the median renaming the \"median ___\" columns to \"average median ___\" is a better label for the data \n",
    "median_df1 = median_df1.rename(columns={\n",
    "    'Median Q3 2015': 'Average Median Q3 2015', \n",
    "    'Median Q4 2015': \"Average Median Q4 2015\", \n",
    "    'Median Q1 2016': \"Average Median Q1 2016\", \n",
    "    'Median Q2 2016': 'Average Median Q2 2016'\n",
    "    })\n",
    "\n",
    "#merge the two dataframes together to get the final result \n",
    "adl15_16 = pd.merge(sales_df1, median_df1, on='City')"
   ]
  },
  {
   "cell_type": "code",
   "execution_count": 1,
   "metadata": {},
   "outputs": [
    {
     "output_type": "error",
     "ename": "NameError",
     "evalue": "name 'pd' is not defined",
     "traceback": [
      "\u001b[0;31m---------------------------------------------------------------------------\u001b[0m",
      "\u001b[0;31mNameError\u001b[0m                                 Traceback (most recent call last)",
      "\u001b[0;32m<ipython-input-1-d47d27a73575>\u001b[0m in \u001b[0;36m<module>\u001b[0;34m\u001b[0m\n\u001b[1;32m      1\u001b[0m \u001b[0;31m#The above code is repeated here for the y16_17 csv\u001b[0m\u001b[0;34m\u001b[0m\u001b[0;34m\u001b[0m\u001b[0;34m\u001b[0m\u001b[0m\n\u001b[0;32m----> 2\u001b[0;31m \u001b[0my16_17\u001b[0m \u001b[0;34m=\u001b[0m \u001b[0mpd\u001b[0m\u001b[0;34m.\u001b[0m\u001b[0mread_csv\u001b[0m\u001b[0;34m(\u001b[0m\u001b[0;34m\"../housingcsv/y16_17_house.csv\"\u001b[0m\u001b[0;34m)\u001b[0m\u001b[0;34m\u001b[0m\u001b[0;34m\u001b[0m\u001b[0m\n\u001b[0m\u001b[1;32m      3\u001b[0m \u001b[0mdfsales2\u001b[0m \u001b[0;34m=\u001b[0m \u001b[0my16_17\u001b[0m\u001b[0;34m[\u001b[0m\u001b[0;34m[\u001b[0m\u001b[0;34m'City'\u001b[0m\u001b[0;34m,\u001b[0m \u001b[0;34m'Sales Q3 2016'\u001b[0m\u001b[0;34m,\u001b[0m \u001b[0;34m'Sales Q4 2016'\u001b[0m\u001b[0;34m,\u001b[0m \u001b[0;34m'Sales Q1 2017'\u001b[0m\u001b[0;34m,\u001b[0m \u001b[0;34m'Sales Q2 2017'\u001b[0m\u001b[0;34m]\u001b[0m\u001b[0;34m]\u001b[0m\u001b[0;34m\u001b[0m\u001b[0;34m\u001b[0m\u001b[0m\n\u001b[1;32m      4\u001b[0m \u001b[0mgroupedsales2\u001b[0m \u001b[0;34m=\u001b[0m \u001b[0mdfsales2\u001b[0m\u001b[0;34m.\u001b[0m\u001b[0mgroupby\u001b[0m\u001b[0;34m(\u001b[0m\u001b[0mby\u001b[0m\u001b[0;34m=\u001b[0m\u001b[0;34m'City'\u001b[0m\u001b[0;34m)\u001b[0m\u001b[0;34m\u001b[0m\u001b[0;34m\u001b[0m\u001b[0m\n\u001b[1;32m      5\u001b[0m \u001b[0msales_df2\u001b[0m \u001b[0;34m=\u001b[0m \u001b[0mgroupedsales2\u001b[0m\u001b[0;34m.\u001b[0m\u001b[0msum\u001b[0m\u001b[0;34m(\u001b[0m\u001b[0;34m[\u001b[0m\u001b[0;34m'Sales Q3 2016'\u001b[0m\u001b[0;34m,\u001b[0m \u001b[0;34m'Sales Q4 2016'\u001b[0m\u001b[0;34m,\u001b[0m \u001b[0;34m'Sales Q1 2017'\u001b[0m\u001b[0;34m,\u001b[0m \u001b[0;34m'Sales Q2 2017'\u001b[0m\u001b[0;34m]\u001b[0m\u001b[0;34m)\u001b[0m\u001b[0;34m\u001b[0m\u001b[0;34m\u001b[0m\u001b[0m\n",
      "\u001b[0;31mNameError\u001b[0m: name 'pd' is not defined"
     ]
    }
   ],
   "source": [
    "#The above code is repeated here for the y16_17 csv\n",
    "y16_17 = pd.read_csv(\"../housingcsv/y16_17_house.csv\")\n",
    "dfsales2 = y16_17[['City', 'Sales Q3 2016', 'Sales Q4 2016', 'Sales Q1 2017', 'Sales Q2 2017']]\n",
    "groupedsales2 = dfsales2.groupby(by='City')\n",
    "sales_df2 = groupedsales2.sum(['Sales Q3 2016', 'Sales Q4 2016', 'Sales Q1 2017', 'Sales Q2 2017'])\n",
    "dfmedian2 = y16_17[['City', 'Median\\n3Q 2016', 'Median Q4 2016', 'Median Q1 2017', 'Median Q2 2017']]\n",
    "groupedmedian2 = dfmedian2.groupby(by='City')\n",
    "median_df2 = groupedmedian2.mean(['Median Q3 2016', 'Median Q4 2016', 'Median Q1 2017', 'Median Q2 2017'])\n",
    "median_df2 = median_df2.rename(columns={'Median\\n3Q 2016': 'Average Median Q3 2016', 'Median Q4 2016': \"Average Median Q4 2016\", 'Median Q1 2017': \"Average Median Q1 2017\", 'Median Q2 2017': 'Average Median Q2 2017'})\n",
    "adl16_17 = pd.merge(sales_df2, median_df2, on='City')"
   ]
  },
  {
   "cell_type": "code",
   "execution_count": 30,
   "metadata": {},
   "outputs": [],
   "source": [
    "y17_18 = pd.read_csv(\"../housingcsv/y17_18_house.csv\")\n",
    "dfsales3 = y17_18[['City', 'Sales Q3 2017', 'Sales Q4 2017', 'Sales Q1 2018', 'Sales Q2 2018']]\n",
    "groupedsales3 = dfsales3.groupby(by='City')\n",
    "sales_df3 = groupedsales3.sum(['Sales Q3 2017', 'Sales Q4 2017', 'Sales Q1 2018', 'Sales Q2 2018'])\n",
    "dfmedian3 = y17_18[['City', 'Median\\n3Q 2017', 'Median Q4 2017', 'Median Q1 2018', 'Median Q2 2018']]\n",
    "groupedmedian3 = dfmedian3.groupby(by='City')\n",
    "median_df3 = groupedmedian3.mean(['Median\\nQ3 2017', 'Median Q4 2017', 'Median Q1 2018', 'Median Q2 2018'])\n",
    "median_df3 = median_df3.rename(columns={'Median\\n3Q 2017': 'Average Median Q3 2017', 'Median Q4 2017': \"Average Median Q4 2017\", 'Median Q1 2018': \"Average Median Q1 2018\", 'Median Q2 2018': 'Average Median Q2 2018'})\n",
    "adl17_18 = pd.merge(sales_df3, median_df3, on='City')"
   ]
  },
  {
   "cell_type": "code",
   "execution_count": 31,
   "metadata": {},
   "outputs": [],
   "source": [
    "y18_19 = pd.read_csv(\"../housingcsv/y18_19_house.csv\")\n",
    "dfsales4 = y18_19[['City', 'Sales Q3 2018', 'Sales Q4 2018', 'Sales Q1 2019', 'Sales Q2 2019']]\n",
    "groupedsales4 = dfsales4.groupby(by='City')\n",
    "sales_df4 = groupedsales4.sum(['Sales Q3 2018', 'Sales Q4 2018', 'Sales Q1 2019', 'Sales Q2 2019'])\n",
    "dfmedian4 = y18_19[['City', 'Median\\n3Q 2018', 'Median Q4 2018', 'Median Q1 2019', 'Median Q2 2019']]\n",
    "groupedmedian4 = dfmedian4.groupby(by='City')\n",
    "median_df4 = groupedmedian4.mean(['Median\\nQ3 2018', 'Median Q4 2018', 'Median Q1 2019', 'Median Q2 2019'])\n",
    "median_df4 = median_df4.rename(columns={'Median\\n3Q 2018': 'Average Median Q3 2018', 'Median Q4 2018': \"Average Median Q4 2018\", 'Median Q1 2019': \"Average Median Q1 2019\", 'Median Q2 2019': 'Average Median Q2 2019'})\n",
    "adl18_19 = pd.merge(sales_df4, median_df4, on='City')"
   ]
  },
  {
   "cell_type": "code",
   "execution_count": 5,
   "metadata": {},
   "outputs": [
    {
     "output_type": "error",
     "ename": "TypeError",
     "evalue": "f() takes 1 positional argument but 2 were given",
     "traceback": [
      "\u001b[0;31m---------------------------------------------------------------------------\u001b[0m",
      "\u001b[0;31mTypeError\u001b[0m                                 Traceback (most recent call last)",
      "\u001b[0;32m<ipython-input-5-64bd0060ce8b>\u001b[0m in \u001b[0;36m<module>\u001b[0;34m\u001b[0m\n\u001b[1;32m      2\u001b[0m \u001b[0mdfsales5\u001b[0m \u001b[0;34m=\u001b[0m \u001b[0my19_20\u001b[0m\u001b[0;34m[\u001b[0m\u001b[0;34m[\u001b[0m\u001b[0;34m'City'\u001b[0m\u001b[0;34m,\u001b[0m \u001b[0;34m'Sales Q3 2019'\u001b[0m\u001b[0;34m,\u001b[0m \u001b[0;34m'Sales Q4 2019'\u001b[0m\u001b[0;34m,\u001b[0m \u001b[0;34m'Sales Q1 2020'\u001b[0m\u001b[0;34m,\u001b[0m \u001b[0;34m'Sales Q2 2020'\u001b[0m\u001b[0;34m]\u001b[0m\u001b[0;34m]\u001b[0m\u001b[0;34m\u001b[0m\u001b[0;34m\u001b[0m\u001b[0m\n\u001b[1;32m      3\u001b[0m \u001b[0mgroupedsales5\u001b[0m \u001b[0;34m=\u001b[0m \u001b[0mdfsales5\u001b[0m\u001b[0;34m.\u001b[0m\u001b[0mgroupby\u001b[0m\u001b[0;34m(\u001b[0m\u001b[0mby\u001b[0m\u001b[0;34m=\u001b[0m\u001b[0;34m'City'\u001b[0m\u001b[0;34m)\u001b[0m\u001b[0;34m\u001b[0m\u001b[0;34m\u001b[0m\u001b[0m\n\u001b[0;32m----> 4\u001b[0;31m \u001b[0msales_df5\u001b[0m \u001b[0;34m=\u001b[0m \u001b[0mgroupedsales5\u001b[0m\u001b[0;34m.\u001b[0m\u001b[0msum\u001b[0m\u001b[0;34m(\u001b[0m\u001b[0;34m[\u001b[0m\u001b[0;34m'Sales Q3 2019'\u001b[0m\u001b[0;34m,\u001b[0m \u001b[0;34m'Sales Q4 2019'\u001b[0m\u001b[0;34m,\u001b[0m \u001b[0;34m'Sales Q1 2020'\u001b[0m\u001b[0;34m,\u001b[0m \u001b[0;34m'Sales Q2 2020'\u001b[0m\u001b[0;34m]\u001b[0m\u001b[0;34m)\u001b[0m\u001b[0;34m\u001b[0m\u001b[0;34m\u001b[0m\u001b[0m\n\u001b[0m\u001b[1;32m      5\u001b[0m \u001b[0mdfmedian5\u001b[0m \u001b[0;34m=\u001b[0m \u001b[0my19_20\u001b[0m\u001b[0;34m[\u001b[0m\u001b[0;34m[\u001b[0m\u001b[0;34m'City'\u001b[0m\u001b[0;34m,\u001b[0m \u001b[0;34m'Median\\n3Q 2019'\u001b[0m\u001b[0;34m,\u001b[0m \u001b[0;34m'Median Q4 2019'\u001b[0m\u001b[0;34m,\u001b[0m \u001b[0;34m'Median Q1 2020'\u001b[0m\u001b[0;34m,\u001b[0m \u001b[0;34m'Median Q2 2020'\u001b[0m\u001b[0;34m]\u001b[0m\u001b[0;34m]\u001b[0m\u001b[0;34m\u001b[0m\u001b[0;34m\u001b[0m\u001b[0m\n\u001b[1;32m      6\u001b[0m \u001b[0mgroupedmedian5\u001b[0m \u001b[0;34m=\u001b[0m \u001b[0mdfmedian5\u001b[0m\u001b[0;34m.\u001b[0m\u001b[0mgroupby\u001b[0m\u001b[0;34m(\u001b[0m\u001b[0mby\u001b[0m\u001b[0;34m=\u001b[0m\u001b[0;34m'City'\u001b[0m\u001b[0;34m)\u001b[0m\u001b[0;34m\u001b[0m\u001b[0;34m\u001b[0m\u001b[0m\n",
      "\u001b[0;31mTypeError\u001b[0m: f() takes 1 positional argument but 2 were given"
     ]
    }
   ],
   "source": [
    "y19_20 = pd.read_csv(\"../housingcsv/y19_20_house.csv\")\n",
    "dfsales5 = y19_20[['City', 'Sales Q3 2019', 'Sales Q4 2019', 'Sales Q1 2020', 'Sales Q2 2020']]\n",
    "groupedsales5 = dfsales5.groupby(by='City')\n",
    "sales_df5 = groupedsales5.sum(['Sales Q3 2019', 'Sales Q4 2019', 'Sales Q1 2020', 'Sales Q2 2020'])\n",
    "dfmedian5 = y19_20[['City', 'Median\\n3Q 2019', 'Median Q4 2019', 'Median Q1 2020', 'Median Q2 2020']]\n",
    "groupedmedian5 = dfmedian5.groupby(by='City')\n",
    "median_df5 = groupedmedian5.mean(['Median\\nQ3 2019', 'Median Q4 2019', 'Median Q1 2020', 'Median Q2 2020'])\n",
    "median_df4 = median_df4.rename(columns={'Median\\n3Q 2019': 'Average Median Q3 2019', 'Median Q4 2019': \"Average Median Q4 2019\", 'Median Q1 2020': \"Average Median Q1 2020\", 'Median Q2 2020': 'Average Median Q2 2020'})\n",
    "adl19_20 = pd.merge(sales_df4, median_df4, on='City')"
   ]
  },
  {
   "cell_type": "code",
   "execution_count": 36,
   "metadata": {},
   "outputs": [],
   "source": [
    "#creating csv files for the finalised data \n",
    "adl15_16.to_csv(\"adl15_16.csv\")\n",
    "adl16_17.to_csv(\"adl16_17.csv\")\n",
    "adl17_18.to_csv(\"adl17_18.csv\")\n",
    "adl18_19.to_csv(\"adl18_19.csv\")\n",
    "adl19_20.to_csv(\"adl19_20.csv\")"
   ]
  }
 ]
}