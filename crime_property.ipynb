{
 "metadata": {
  "language_info": {
   "codemirror_mode": {
    "name": "ipython",
    "version": 3
   },
   "file_extension": ".py",
   "mimetype": "text/x-python",
   "name": "python",
   "nbconvert_exporter": "python",
   "pygments_lexer": "ipython3",
   "version": "3.6.10-final"
  },
  "orig_nbformat": 2,
  "kernelspec": {
   "name": "python3",
   "display_name": "Python 3",
   "language": "python"
  }
 },
 "nbformat": 4,
 "nbformat_minor": 2,
 "cells": [
  {
   "source": [
    "South Australian Crime Data Vs Median Property Prices (BY SUBURB)"
   ],
   "cell_type": "markdown",
   "metadata": {}
  },
  {
   "cell_type": "code",
   "execution_count": 1,
   "metadata": {},
   "outputs": [
    {
     "output_type": "stream",
     "name": "stdout",
     "text": [
      "Requirement already satisfied: datetime in /Users/annabelcheong/opt/anaconda3/envs/PythonData/lib/python3.6/site-packages (4.3)\nRequirement already satisfied: zope.interface in /Users/annabelcheong/opt/anaconda3/envs/PythonData/lib/python3.6/site-packages (from datetime) (5.2.0)\nRequirement already satisfied: pytz in /Users/annabelcheong/opt/anaconda3/envs/PythonData/lib/python3.6/site-packages (from datetime) (2020.1)\nRequirement already satisfied: setuptools in /Users/annabelcheong/opt/anaconda3/envs/PythonData/lib/python3.6/site-packages (from zope.interface->datetime) (47.1.1.post20200604)\n"
     ]
    }
   ],
   "source": [
    "!pip install datetime"
   ]
  },
  {
   "cell_type": "code",
   "execution_count": 2,
   "metadata": {},
   "outputs": [],
   "source": [
    "#Dependencies\n",
    "import pandas as pd\n",
    "import matplotlib.pyplot as plt\n",
    "import numpy as np\n",
    "from datetime import datetime as dt\n"
   ]
  },
  {
   "cell_type": "code",
   "execution_count": 3,
   "metadata": {},
   "outputs": [
    {
     "output_type": "execute_result",
     "data": {
      "text/plain": [
       "  Reported Date Suburb - Incident Postcode - Incident  \\\n",
       "0    01/07/2019          ADELAIDE                5000   \n",
       "1    01/07/2019          ADELAIDE                5000   \n",
       "2    01/07/2019          ADELAIDE                5000   \n",
       "3    01/07/2019          ADELAIDE                5000   \n",
       "4    01/07/2019          ADELAIDE                5000   \n",
       "\n",
       "  Offence Level 1 Description           Offence Level 2 Description  \\\n",
       "0   OFFENCES AGAINST PROPERTY  FRAUD DECEPTION AND RELATED OFFENCES   \n",
       "1   OFFENCES AGAINST PROPERTY  FRAUD DECEPTION AND RELATED OFFENCES   \n",
       "2   OFFENCES AGAINST PROPERTY     PROPERTY DAMAGE AND ENVIRONMENTAL   \n",
       "3   OFFENCES AGAINST PROPERTY     PROPERTY DAMAGE AND ENVIRONMENTAL   \n",
       "4   OFFENCES AGAINST PROPERTY            THEFT AND RELATED OFFENCES   \n",
       "\n",
       "                   Offence Level 3 Description  Offence count  \n",
       "0                  Obtain benefit by deception              1  \n",
       "1  Other fraud, deception and related offences              1  \n",
       "2                                     Graffiti              1  \n",
       "3      Other property damage and environmental              2  \n",
       "4                                  Other theft              6  "
      ],
      "text/html": "<div>\n<style scoped>\n    .dataframe tbody tr th:only-of-type {\n        vertical-align: middle;\n    }\n\n    .dataframe tbody tr th {\n        vertical-align: top;\n    }\n\n    .dataframe thead th {\n        text-align: right;\n    }\n</style>\n<table border=\"1\" class=\"dataframe\">\n  <thead>\n    <tr style=\"text-align: right;\">\n      <th></th>\n      <th>Reported Date</th>\n      <th>Suburb - Incident</th>\n      <th>Postcode - Incident</th>\n      <th>Offence Level 1 Description</th>\n      <th>Offence Level 2 Description</th>\n      <th>Offence Level 3 Description</th>\n      <th>Offence count</th>\n    </tr>\n  </thead>\n  <tbody>\n    <tr>\n      <th>0</th>\n      <td>01/07/2019</td>\n      <td>ADELAIDE</td>\n      <td>5000</td>\n      <td>OFFENCES AGAINST PROPERTY</td>\n      <td>FRAUD DECEPTION AND RELATED OFFENCES</td>\n      <td>Obtain benefit by deception</td>\n      <td>1</td>\n    </tr>\n    <tr>\n      <th>1</th>\n      <td>01/07/2019</td>\n      <td>ADELAIDE</td>\n      <td>5000</td>\n      <td>OFFENCES AGAINST PROPERTY</td>\n      <td>FRAUD DECEPTION AND RELATED OFFENCES</td>\n      <td>Other fraud, deception and related offences</td>\n      <td>1</td>\n    </tr>\n    <tr>\n      <th>2</th>\n      <td>01/07/2019</td>\n      <td>ADELAIDE</td>\n      <td>5000</td>\n      <td>OFFENCES AGAINST PROPERTY</td>\n      <td>PROPERTY DAMAGE AND ENVIRONMENTAL</td>\n      <td>Graffiti</td>\n      <td>1</td>\n    </tr>\n    <tr>\n      <th>3</th>\n      <td>01/07/2019</td>\n      <td>ADELAIDE</td>\n      <td>5000</td>\n      <td>OFFENCES AGAINST PROPERTY</td>\n      <td>PROPERTY DAMAGE AND ENVIRONMENTAL</td>\n      <td>Other property damage and environmental</td>\n      <td>2</td>\n    </tr>\n    <tr>\n      <th>4</th>\n      <td>01/07/2019</td>\n      <td>ADELAIDE</td>\n      <td>5000</td>\n      <td>OFFENCES AGAINST PROPERTY</td>\n      <td>THEFT AND RELATED OFFENCES</td>\n      <td>Other theft</td>\n      <td>6</td>\n    </tr>\n  </tbody>\n</table>\n</div>"
     },
     "metadata": {},
     "execution_count": 3
    }
   ],
   "source": [
    "## MERGE 5 financial year csvs (July 2014 to June 2020)\n",
    "# 2015-16_crime.csv\n",
    "# 2016-17_crime.csv\n",
    "# 2017-18_crime.csv\n",
    "# 2018-19_crime.csv\n",
    "# 2019-20_crime.csv\n",
    "\n",
    "#Read csv \"2015-16_crime.csv\"\n",
    "y15_crime=pd.read_csv(\"Resources/2015-16_crime.csv\")\n",
    "y15_crime.head()\n",
    "\n",
    "#Read csv \"2016-17_crime.csv\"\n",
    "y16_crime=pd.read_csv(\"Resources/2016-17_crime.csv\")\n",
    "y16_crime.head()\n",
    "\n",
    "#Read csv \"2017-18_crime.csv\"\n",
    "y17_crime=pd.read_csv(\"Resources/2017-18_crime.csv\")\n",
    "y17_crime.head()\n",
    "\n",
    "#Read csv \"2018-19_crime.csv\"\n",
    "y18_crime=pd.read_csv(\"Resources/2018-19_crime.csv\")\n",
    "y18_crime.head()\n",
    "\n",
    "#Read csv \"2019-20_crime.csv\"\n",
    "y19_crime=pd.read_csv(\"Resources/2019-20_crime.csv\")\n",
    "y19_crime.head()"
   ]
  },
  {
   "cell_type": "code",
   "execution_count": 4,
   "metadata": {},
   "outputs": [
    {
     "output_type": "execute_result",
     "data": {
      "text/plain": [
       "      Reported Date Suburb - Incident Postcode - Incident  \\\n",
       "0         1/07/2015    ABERFOYLE PARK                5159   \n",
       "1         1/07/2015          ADELAIDE                5000   \n",
       "2         1/07/2015          ADELAIDE                5000   \n",
       "3         1/07/2015          ADELAIDE                5000   \n",
       "4         1/07/2015          ADELAIDE                5000   \n",
       "...             ...               ...                 ...   \n",
       "95697    30/06/2020        WEST LAKES                5021   \n",
       "95698    30/06/2020    WHYALLA NORRIE                5608   \n",
       "95699    30/06/2020   WOODVILLE NORTH                5012   \n",
       "95700    30/06/2020               NaN                 NaN   \n",
       "95701    30/06/2020               NaN                 NaN   \n",
       "\n",
       "       Offence Level 1 Description           Offence Level 2 Description  \\\n",
       "0        OFFENCES AGAINST PROPERTY             SERIOUS CRIMINAL TRESPASS   \n",
       "1        OFFENCES AGAINST PROPERTY  FRAUD DECEPTION AND RELATED OFFENCES   \n",
       "2        OFFENCES AGAINST PROPERTY     PROPERTY DAMAGE AND ENVIRONMENTAL   \n",
       "3        OFFENCES AGAINST PROPERTY            THEFT AND RELATED OFFENCES   \n",
       "4        OFFENCES AGAINST PROPERTY            THEFT AND RELATED OFFENCES   \n",
       "...                            ...                                   ...   \n",
       "95697    OFFENCES AGAINST PROPERTY             SERIOUS CRIMINAL TRESPASS   \n",
       "95698    OFFENCES AGAINST PROPERTY            THEFT AND RELATED OFFENCES   \n",
       "95699  OFFENCES AGAINST THE PERSON         ACTS INTENDED TO CAUSE INJURY   \n",
       "95700    OFFENCES AGAINST PROPERTY             SERIOUS CRIMINAL TRESPASS   \n",
       "95701    OFFENCES AGAINST PROPERTY            THEFT AND RELATED OFFENCES   \n",
       "\n",
       "                   Offence Level 3 Description  Offence count  \n",
       "0                          SCT - Non Residence            2.0  \n",
       "1                  Obtain benefit by deception            1.0  \n",
       "2      Other property damage and environmental            2.0  \n",
       "3                                  Other theft            9.0  \n",
       "4                     Theft from motor vehicle            1.0  \n",
       "...                                        ...            ...  \n",
       "95697                          SCT - Residence            1.0  \n",
       "95698                          Theft from shop            1.0  \n",
       "95699  Serious Assault not resulting in injury            2.0  \n",
       "95700                      SCT - Non Residence            1.0  \n",
       "95701      Receive or handle proceeds of crime            1.0  \n",
       "\n",
       "[465147 rows x 7 columns]"
      ],
      "text/html": "<div>\n<style scoped>\n    .dataframe tbody tr th:only-of-type {\n        vertical-align: middle;\n    }\n\n    .dataframe tbody tr th {\n        vertical-align: top;\n    }\n\n    .dataframe thead th {\n        text-align: right;\n    }\n</style>\n<table border=\"1\" class=\"dataframe\">\n  <thead>\n    <tr style=\"text-align: right;\">\n      <th></th>\n      <th>Reported Date</th>\n      <th>Suburb - Incident</th>\n      <th>Postcode - Incident</th>\n      <th>Offence Level 1 Description</th>\n      <th>Offence Level 2 Description</th>\n      <th>Offence Level 3 Description</th>\n      <th>Offence count</th>\n    </tr>\n  </thead>\n  <tbody>\n    <tr>\n      <th>0</th>\n      <td>1/07/2015</td>\n      <td>ABERFOYLE PARK</td>\n      <td>5159</td>\n      <td>OFFENCES AGAINST PROPERTY</td>\n      <td>SERIOUS CRIMINAL TRESPASS</td>\n      <td>SCT - Non Residence</td>\n      <td>2.0</td>\n    </tr>\n    <tr>\n      <th>1</th>\n      <td>1/07/2015</td>\n      <td>ADELAIDE</td>\n      <td>5000</td>\n      <td>OFFENCES AGAINST PROPERTY</td>\n      <td>FRAUD DECEPTION AND RELATED OFFENCES</td>\n      <td>Obtain benefit by deception</td>\n      <td>1.0</td>\n    </tr>\n    <tr>\n      <th>2</th>\n      <td>1/07/2015</td>\n      <td>ADELAIDE</td>\n      <td>5000</td>\n      <td>OFFENCES AGAINST PROPERTY</td>\n      <td>PROPERTY DAMAGE AND ENVIRONMENTAL</td>\n      <td>Other property damage and environmental</td>\n      <td>2.0</td>\n    </tr>\n    <tr>\n      <th>3</th>\n      <td>1/07/2015</td>\n      <td>ADELAIDE</td>\n      <td>5000</td>\n      <td>OFFENCES AGAINST PROPERTY</td>\n      <td>THEFT AND RELATED OFFENCES</td>\n      <td>Other theft</td>\n      <td>9.0</td>\n    </tr>\n    <tr>\n      <th>4</th>\n      <td>1/07/2015</td>\n      <td>ADELAIDE</td>\n      <td>5000</td>\n      <td>OFFENCES AGAINST PROPERTY</td>\n      <td>THEFT AND RELATED OFFENCES</td>\n      <td>Theft from motor vehicle</td>\n      <td>1.0</td>\n    </tr>\n    <tr>\n      <th>...</th>\n      <td>...</td>\n      <td>...</td>\n      <td>...</td>\n      <td>...</td>\n      <td>...</td>\n      <td>...</td>\n      <td>...</td>\n    </tr>\n    <tr>\n      <th>95697</th>\n      <td>30/06/2020</td>\n      <td>WEST LAKES</td>\n      <td>5021</td>\n      <td>OFFENCES AGAINST PROPERTY</td>\n      <td>SERIOUS CRIMINAL TRESPASS</td>\n      <td>SCT - Residence</td>\n      <td>1.0</td>\n    </tr>\n    <tr>\n      <th>95698</th>\n      <td>30/06/2020</td>\n      <td>WHYALLA NORRIE</td>\n      <td>5608</td>\n      <td>OFFENCES AGAINST PROPERTY</td>\n      <td>THEFT AND RELATED OFFENCES</td>\n      <td>Theft from shop</td>\n      <td>1.0</td>\n    </tr>\n    <tr>\n      <th>95699</th>\n      <td>30/06/2020</td>\n      <td>WOODVILLE NORTH</td>\n      <td>5012</td>\n      <td>OFFENCES AGAINST THE PERSON</td>\n      <td>ACTS INTENDED TO CAUSE INJURY</td>\n      <td>Serious Assault not resulting in injury</td>\n      <td>2.0</td>\n    </tr>\n    <tr>\n      <th>95700</th>\n      <td>30/06/2020</td>\n      <td>NaN</td>\n      <td>NaN</td>\n      <td>OFFENCES AGAINST PROPERTY</td>\n      <td>SERIOUS CRIMINAL TRESPASS</td>\n      <td>SCT - Non Residence</td>\n      <td>1.0</td>\n    </tr>\n    <tr>\n      <th>95701</th>\n      <td>30/06/2020</td>\n      <td>NaN</td>\n      <td>NaN</td>\n      <td>OFFENCES AGAINST PROPERTY</td>\n      <td>THEFT AND RELATED OFFENCES</td>\n      <td>Receive or handle proceeds of crime</td>\n      <td>1.0</td>\n    </tr>\n  </tbody>\n</table>\n<p>465147 rows × 7 columns</p>\n</div>"
     },
     "metadata": {},
     "execution_count": 4
    }
   ],
   "source": [
    "#Concatonate all the 5 csv files for 5 consecutive years \n",
    "y15_16_crime=pd.concat([y15_crime, y16_crime], sort=False)\n",
    "y15_16_crime\n",
    "\n",
    "y15_16_17_crime=pd.concat([y15_16_crime, y17_crime], sort=False)\n",
    "y15_16_17_crime\n",
    "\n",
    "y15_16_17_18_crime=pd.concat([y15_16_17_crime, y18_crime], sort=False)\n",
    "y15_16_17_18_crime\n",
    "\n",
    "y15_16_17_18_19_crime=pd.concat([y15_16_17_18_crime, y19_crime], sort=False)\n",
    "y15_16_17_18_19_crime\n",
    "\n",
    "#Crime Data Merged, dataframe: \"crime_data\"\n",
    "crime_data=y15_16_17_18_19_crime\n",
    "crime_data"
   ]
  },
  {
   "cell_type": "code",
   "execution_count": 5,
   "metadata": {},
   "outputs": [
    {
     "output_type": "execute_result",
     "data": {
      "text/plain": [
       "      Reported Date Suburb - Incident Postcode - Incident  \\\n",
       "0         1/07/2015    ABERFOYLE PARK                5159   \n",
       "1         1/07/2015          ADELAIDE                5000   \n",
       "2         1/07/2015          ADELAIDE                5000   \n",
       "3         1/07/2015          ADELAIDE                5000   \n",
       "4         1/07/2015          ADELAIDE                5000   \n",
       "...             ...               ...                 ...   \n",
       "95695    30/06/2020   WESTBOURNE PARK                5041   \n",
       "95696    30/06/2020    WEST HINDMARSH                5007   \n",
       "95697    30/06/2020        WEST LAKES                5021   \n",
       "95698    30/06/2020    WHYALLA NORRIE                5608   \n",
       "95699    30/06/2020   WOODVILLE NORTH                5012   \n",
       "\n",
       "       Offence Level 1 Description           Offence Level 2 Description  \\\n",
       "0        OFFENCES AGAINST PROPERTY             SERIOUS CRIMINAL TRESPASS   \n",
       "1        OFFENCES AGAINST PROPERTY  FRAUD DECEPTION AND RELATED OFFENCES   \n",
       "2        OFFENCES AGAINST PROPERTY     PROPERTY DAMAGE AND ENVIRONMENTAL   \n",
       "3        OFFENCES AGAINST PROPERTY            THEFT AND RELATED OFFENCES   \n",
       "4        OFFENCES AGAINST PROPERTY            THEFT AND RELATED OFFENCES   \n",
       "...                            ...                                   ...   \n",
       "95695    OFFENCES AGAINST PROPERTY             SERIOUS CRIMINAL TRESPASS   \n",
       "95696    OFFENCES AGAINST PROPERTY     PROPERTY DAMAGE AND ENVIRONMENTAL   \n",
       "95697    OFFENCES AGAINST PROPERTY             SERIOUS CRIMINAL TRESPASS   \n",
       "95698    OFFENCES AGAINST PROPERTY            THEFT AND RELATED OFFENCES   \n",
       "95699  OFFENCES AGAINST THE PERSON         ACTS INTENDED TO CAUSE INJURY   \n",
       "\n",
       "                   Offence Level 3 Description  Offence count  \n",
       "0                          SCT - Non Residence            2.0  \n",
       "1                  Obtain benefit by deception            1.0  \n",
       "2      Other property damage and environmental            2.0  \n",
       "3                                  Other theft            9.0  \n",
       "4                     Theft from motor vehicle            1.0  \n",
       "...                                        ...            ...  \n",
       "95695                      SCT - Non Residence            1.0  \n",
       "95696  Other property damage and environmental            1.0  \n",
       "95697                          SCT - Residence            1.0  \n",
       "95698                          Theft from shop            1.0  \n",
       "95699  Serious Assault not resulting in injury            2.0  \n",
       "\n",
       "[463192 rows x 7 columns]"
      ],
      "text/html": "<div>\n<style scoped>\n    .dataframe tbody tr th:only-of-type {\n        vertical-align: middle;\n    }\n\n    .dataframe tbody tr th {\n        vertical-align: top;\n    }\n\n    .dataframe thead th {\n        text-align: right;\n    }\n</style>\n<table border=\"1\" class=\"dataframe\">\n  <thead>\n    <tr style=\"text-align: right;\">\n      <th></th>\n      <th>Reported Date</th>\n      <th>Suburb - Incident</th>\n      <th>Postcode - Incident</th>\n      <th>Offence Level 1 Description</th>\n      <th>Offence Level 2 Description</th>\n      <th>Offence Level 3 Description</th>\n      <th>Offence count</th>\n    </tr>\n  </thead>\n  <tbody>\n    <tr>\n      <th>0</th>\n      <td>1/07/2015</td>\n      <td>ABERFOYLE PARK</td>\n      <td>5159</td>\n      <td>OFFENCES AGAINST PROPERTY</td>\n      <td>SERIOUS CRIMINAL TRESPASS</td>\n      <td>SCT - Non Residence</td>\n      <td>2.0</td>\n    </tr>\n    <tr>\n      <th>1</th>\n      <td>1/07/2015</td>\n      <td>ADELAIDE</td>\n      <td>5000</td>\n      <td>OFFENCES AGAINST PROPERTY</td>\n      <td>FRAUD DECEPTION AND RELATED OFFENCES</td>\n      <td>Obtain benefit by deception</td>\n      <td>1.0</td>\n    </tr>\n    <tr>\n      <th>2</th>\n      <td>1/07/2015</td>\n      <td>ADELAIDE</td>\n      <td>5000</td>\n      <td>OFFENCES AGAINST PROPERTY</td>\n      <td>PROPERTY DAMAGE AND ENVIRONMENTAL</td>\n      <td>Other property damage and environmental</td>\n      <td>2.0</td>\n    </tr>\n    <tr>\n      <th>3</th>\n      <td>1/07/2015</td>\n      <td>ADELAIDE</td>\n      <td>5000</td>\n      <td>OFFENCES AGAINST PROPERTY</td>\n      <td>THEFT AND RELATED OFFENCES</td>\n      <td>Other theft</td>\n      <td>9.0</td>\n    </tr>\n    <tr>\n      <th>4</th>\n      <td>1/07/2015</td>\n      <td>ADELAIDE</td>\n      <td>5000</td>\n      <td>OFFENCES AGAINST PROPERTY</td>\n      <td>THEFT AND RELATED OFFENCES</td>\n      <td>Theft from motor vehicle</td>\n      <td>1.0</td>\n    </tr>\n    <tr>\n      <th>...</th>\n      <td>...</td>\n      <td>...</td>\n      <td>...</td>\n      <td>...</td>\n      <td>...</td>\n      <td>...</td>\n      <td>...</td>\n    </tr>\n    <tr>\n      <th>95695</th>\n      <td>30/06/2020</td>\n      <td>WESTBOURNE PARK</td>\n      <td>5041</td>\n      <td>OFFENCES AGAINST PROPERTY</td>\n      <td>SERIOUS CRIMINAL TRESPASS</td>\n      <td>SCT - Non Residence</td>\n      <td>1.0</td>\n    </tr>\n    <tr>\n      <th>95696</th>\n      <td>30/06/2020</td>\n      <td>WEST HINDMARSH</td>\n      <td>5007</td>\n      <td>OFFENCES AGAINST PROPERTY</td>\n      <td>PROPERTY DAMAGE AND ENVIRONMENTAL</td>\n      <td>Other property damage and environmental</td>\n      <td>1.0</td>\n    </tr>\n    <tr>\n      <th>95697</th>\n      <td>30/06/2020</td>\n      <td>WEST LAKES</td>\n      <td>5021</td>\n      <td>OFFENCES AGAINST PROPERTY</td>\n      <td>SERIOUS CRIMINAL TRESPASS</td>\n      <td>SCT - Residence</td>\n      <td>1.0</td>\n    </tr>\n    <tr>\n      <th>95698</th>\n      <td>30/06/2020</td>\n      <td>WHYALLA NORRIE</td>\n      <td>5608</td>\n      <td>OFFENCES AGAINST PROPERTY</td>\n      <td>THEFT AND RELATED OFFENCES</td>\n      <td>Theft from shop</td>\n      <td>1.0</td>\n    </tr>\n    <tr>\n      <th>95699</th>\n      <td>30/06/2020</td>\n      <td>WOODVILLE NORTH</td>\n      <td>5012</td>\n      <td>OFFENCES AGAINST THE PERSON</td>\n      <td>ACTS INTENDED TO CAUSE INJURY</td>\n      <td>Serious Assault not resulting in injury</td>\n      <td>2.0</td>\n    </tr>\n  </tbody>\n</table>\n<p>463192 rows × 7 columns</p>\n</div>"
     },
     "metadata": {},
     "execution_count": 5
    }
   ],
   "source": [
    "#Drop NaN rows\n",
    "crime_data=crime_data.dropna()\n",
    "crime_data"
   ]
  },
  {
   "cell_type": "code",
   "execution_count": 6,
   "metadata": {},
   "outputs": [
    {
     "output_type": "execute_result",
     "data": {
      "text/plain": [
       "array(['OFFENCES AGAINST PROPERTY', 'OFFENCES AGAINST THE PERSON'],\n",
       "      dtype=object)"
      ]
     },
     "metadata": {},
     "execution_count": 6
    }
   ],
   "source": [
    "#Check unique descriptionws for 'Offence Level 1 Description'\n",
    "crime_data[\"Offence Level 1 Description\"].unique()"
   ]
  },
  {
   "cell_type": "code",
   "execution_count": 7,
   "metadata": {},
   "outputs": [
    {
     "output_type": "execute_result",
     "data": {
      "text/plain": [
       "      Reported Date Suburb - Incident Postcode - Incident  \\\n",
       "0         1/07/2015    ABERFOYLE PARK                5159   \n",
       "1         1/07/2015          ADELAIDE                5000   \n",
       "2         1/07/2015          ADELAIDE                5000   \n",
       "3         1/07/2015          ADELAIDE                5000   \n",
       "4         1/07/2015          ADELAIDE                5000   \n",
       "...             ...               ...                 ...   \n",
       "95694    30/06/2020         WARRADALE                5046   \n",
       "95695    30/06/2020   WESTBOURNE PARK                5041   \n",
       "95696    30/06/2020    WEST HINDMARSH                5007   \n",
       "95697    30/06/2020        WEST LAKES                5021   \n",
       "95698    30/06/2020    WHYALLA NORRIE                5608   \n",
       "\n",
       "      Offence Level 1 Description           Offence Level 2 Description  \\\n",
       "0       OFFENCES AGAINST PROPERTY             SERIOUS CRIMINAL TRESPASS   \n",
       "1       OFFENCES AGAINST PROPERTY  FRAUD DECEPTION AND RELATED OFFENCES   \n",
       "2       OFFENCES AGAINST PROPERTY     PROPERTY DAMAGE AND ENVIRONMENTAL   \n",
       "3       OFFENCES AGAINST PROPERTY            THEFT AND RELATED OFFENCES   \n",
       "4       OFFENCES AGAINST PROPERTY            THEFT AND RELATED OFFENCES   \n",
       "...                           ...                                   ...   \n",
       "95694   OFFENCES AGAINST PROPERTY            THEFT AND RELATED OFFENCES   \n",
       "95695   OFFENCES AGAINST PROPERTY             SERIOUS CRIMINAL TRESPASS   \n",
       "95696   OFFENCES AGAINST PROPERTY     PROPERTY DAMAGE AND ENVIRONMENTAL   \n",
       "95697   OFFENCES AGAINST PROPERTY             SERIOUS CRIMINAL TRESPASS   \n",
       "95698   OFFENCES AGAINST PROPERTY            THEFT AND RELATED OFFENCES   \n",
       "\n",
       "                   Offence Level 3 Description  Offence count  \n",
       "0                          SCT - Non Residence            2.0  \n",
       "1                  Obtain benefit by deception            1.0  \n",
       "2      Other property damage and environmental            2.0  \n",
       "3                                  Other theft            9.0  \n",
       "4                     Theft from motor vehicle            1.0  \n",
       "...                                        ...            ...  \n",
       "95694                              Other theft            2.0  \n",
       "95695                      SCT - Non Residence            1.0  \n",
       "95696  Other property damage and environmental            1.0  \n",
       "95697                          SCT - Residence            1.0  \n",
       "95698                          Theft from shop            1.0  \n",
       "\n",
       "[369863 rows x 7 columns]"
      ],
      "text/html": "<div>\n<style scoped>\n    .dataframe tbody tr th:only-of-type {\n        vertical-align: middle;\n    }\n\n    .dataframe tbody tr th {\n        vertical-align: top;\n    }\n\n    .dataframe thead th {\n        text-align: right;\n    }\n</style>\n<table border=\"1\" class=\"dataframe\">\n  <thead>\n    <tr style=\"text-align: right;\">\n      <th></th>\n      <th>Reported Date</th>\n      <th>Suburb - Incident</th>\n      <th>Postcode - Incident</th>\n      <th>Offence Level 1 Description</th>\n      <th>Offence Level 2 Description</th>\n      <th>Offence Level 3 Description</th>\n      <th>Offence count</th>\n    </tr>\n  </thead>\n  <tbody>\n    <tr>\n      <th>0</th>\n      <td>1/07/2015</td>\n      <td>ABERFOYLE PARK</td>\n      <td>5159</td>\n      <td>OFFENCES AGAINST PROPERTY</td>\n      <td>SERIOUS CRIMINAL TRESPASS</td>\n      <td>SCT - Non Residence</td>\n      <td>2.0</td>\n    </tr>\n    <tr>\n      <th>1</th>\n      <td>1/07/2015</td>\n      <td>ADELAIDE</td>\n      <td>5000</td>\n      <td>OFFENCES AGAINST PROPERTY</td>\n      <td>FRAUD DECEPTION AND RELATED OFFENCES</td>\n      <td>Obtain benefit by deception</td>\n      <td>1.0</td>\n    </tr>\n    <tr>\n      <th>2</th>\n      <td>1/07/2015</td>\n      <td>ADELAIDE</td>\n      <td>5000</td>\n      <td>OFFENCES AGAINST PROPERTY</td>\n      <td>PROPERTY DAMAGE AND ENVIRONMENTAL</td>\n      <td>Other property damage and environmental</td>\n      <td>2.0</td>\n    </tr>\n    <tr>\n      <th>3</th>\n      <td>1/07/2015</td>\n      <td>ADELAIDE</td>\n      <td>5000</td>\n      <td>OFFENCES AGAINST PROPERTY</td>\n      <td>THEFT AND RELATED OFFENCES</td>\n      <td>Other theft</td>\n      <td>9.0</td>\n    </tr>\n    <tr>\n      <th>4</th>\n      <td>1/07/2015</td>\n      <td>ADELAIDE</td>\n      <td>5000</td>\n      <td>OFFENCES AGAINST PROPERTY</td>\n      <td>THEFT AND RELATED OFFENCES</td>\n      <td>Theft from motor vehicle</td>\n      <td>1.0</td>\n    </tr>\n    <tr>\n      <th>...</th>\n      <td>...</td>\n      <td>...</td>\n      <td>...</td>\n      <td>...</td>\n      <td>...</td>\n      <td>...</td>\n      <td>...</td>\n    </tr>\n    <tr>\n      <th>95694</th>\n      <td>30/06/2020</td>\n      <td>WARRADALE</td>\n      <td>5046</td>\n      <td>OFFENCES AGAINST PROPERTY</td>\n      <td>THEFT AND RELATED OFFENCES</td>\n      <td>Other theft</td>\n      <td>2.0</td>\n    </tr>\n    <tr>\n      <th>95695</th>\n      <td>30/06/2020</td>\n      <td>WESTBOURNE PARK</td>\n      <td>5041</td>\n      <td>OFFENCES AGAINST PROPERTY</td>\n      <td>SERIOUS CRIMINAL TRESPASS</td>\n      <td>SCT - Non Residence</td>\n      <td>1.0</td>\n    </tr>\n    <tr>\n      <th>95696</th>\n      <td>30/06/2020</td>\n      <td>WEST HINDMARSH</td>\n      <td>5007</td>\n      <td>OFFENCES AGAINST PROPERTY</td>\n      <td>PROPERTY DAMAGE AND ENVIRONMENTAL</td>\n      <td>Other property damage and environmental</td>\n      <td>1.0</td>\n    </tr>\n    <tr>\n      <th>95697</th>\n      <td>30/06/2020</td>\n      <td>WEST LAKES</td>\n      <td>5021</td>\n      <td>OFFENCES AGAINST PROPERTY</td>\n      <td>SERIOUS CRIMINAL TRESPASS</td>\n      <td>SCT - Residence</td>\n      <td>1.0</td>\n    </tr>\n    <tr>\n      <th>95698</th>\n      <td>30/06/2020</td>\n      <td>WHYALLA NORRIE</td>\n      <td>5608</td>\n      <td>OFFENCES AGAINST PROPERTY</td>\n      <td>THEFT AND RELATED OFFENCES</td>\n      <td>Theft from shop</td>\n      <td>1.0</td>\n    </tr>\n  </tbody>\n</table>\n<p>369863 rows × 7 columns</p>\n</div>"
     },
     "metadata": {},
     "execution_count": 7
    }
   ],
   "source": [
    "#Removing rows which contains \"OFFENCES AGAINST THE PERSON\" in Offence Level 1 Description\n",
    "\n",
    "crime_data = crime_data[~crime_data[\"Offence Level 1 Description\"].isin(['OFFENCES AGAINST THE PERSON'])]\n",
    "crime_data"
   ]
  },
  {
   "cell_type": "code",
   "execution_count": 8,
   "metadata": {},
   "outputs": [],
   "source": [
    "#Bin dataframe 'crime_data' by following groups\n",
    "#  y16_17\n",
    "#  y17_18\n",
    "#  y18_19\n",
    "#  y19_20\n",
    "\n",
    "# #Binning Spending Ranges per Student\n",
    "# bins=[xxxx,629,644,675]\n",
    "# group_names=[\"<$584\",\"$585-629\",\"$630-644\",\"$645-675\"]\n",
    "\n",
    "# avg_complete_df[\"Spending Range Group\"]=pd.cut(avg_complete_df[\"budget per student\"], bins, labels=group_names, include_lowest=True)\n",
    "# #Groupby the Spending Range Group\n",
    "# avg_complete_df=avg_complete_df.groupby([\"Spending Range Group\"])\n",
    "# avg_complete_df=avg_complete_df.mean()\n",
    "\n",
    "# dates=pd.to_datetime(crime_data[\"Reported Date\"], format='%m/%d/%y')\n",
    "# dates\n",
    "\n",
    "# starting_hour = (df[df.type=='LOW'].head(1).event_date - dt.timedelta(hours=12)).item()\n",
    "# intervals = pd.cut(df.event_date, pd.date_range(start=starting_hour , freq='30T', periods=49))"
   ]
  },
  {
   "cell_type": "code",
   "execution_count": 9,
   "metadata": {},
   "outputs": [
    {
     "output_type": "stream",
     "name": "stdout",
     "text": [
      "<class 'pandas.core.frame.DataFrame'>\nInt64Index: 369863 entries, 0 to 95698\nData columns (total 7 columns):\n #   Column                       Non-Null Count   Dtype  \n---  ------                       --------------   -----  \n 0   Reported Date                369863 non-null  object \n 1   Suburb - Incident            369863 non-null  object \n 2   Postcode - Incident          369863 non-null  object \n 3   Offence Level 1 Description  369863 non-null  object \n 4   Offence Level 2 Description  369863 non-null  object \n 5   Offence Level 3 Description  369863 non-null  object \n 6   Offence count                369863 non-null  float64\ndtypes: float64(1), object(6)\nmemory usage: 22.6+ MB\n"
     ]
    }
   ],
   "source": [
    "crime_data.info()"
   ]
  },
  {
   "cell_type": "code",
   "execution_count": 89,
   "metadata": {},
   "outputs": [
    {
     "output_type": "stream",
     "name": "stdout",
     "text": [
      "<class 'pandas.core.frame.DataFrame'>\nInt64Index: 369863 entries, 0 to 95698\nData columns (total 9 columns):\n #   Column                       Non-Null Count   Dtype         \n---  ------                       --------------   -----         \n 0   Reported Date                369863 non-null  object        \n 1   Suburb - Incident            369863 non-null  object        \n 2   Postcode - Incident          369863 non-null  object        \n 3   Offence Level 1 Description  369863 non-null  object        \n 4   Offence Level 2 Description  369863 non-null  object        \n 5   Offence Level 3 Description  369863 non-null  object        \n 6   Offence count                369863 non-null  float64       \n 7   Formatted Date               369863 non-null  datetime64[ns]\n 8   finan_yr                     0 non-null       category      \ndtypes: category(1), datetime64[ns](1), float64(1), object(6)\nmemory usage: 25.7+ MB\n"
     ]
    },
    {
     "output_type": "execute_result",
     "data": {
      "text/plain": [
       "      Reported Date Suburb - Incident Postcode - Incident  \\\n",
       "0         1/07/2015    ABERFOYLE PARK                5159   \n",
       "1         1/07/2015          ADELAIDE                5000   \n",
       "2         1/07/2015          ADELAIDE                5000   \n",
       "3         1/07/2015          ADELAIDE                5000   \n",
       "4         1/07/2015          ADELAIDE                5000   \n",
       "...             ...               ...                 ...   \n",
       "95694    30/06/2020         WARRADALE                5046   \n",
       "95695    30/06/2020   WESTBOURNE PARK                5041   \n",
       "95696    30/06/2020    WEST HINDMARSH                5007   \n",
       "95697    30/06/2020        WEST LAKES                5021   \n",
       "95698    30/06/2020    WHYALLA NORRIE                5608   \n",
       "\n",
       "      Offence Level 1 Description           Offence Level 2 Description  \\\n",
       "0       OFFENCES AGAINST PROPERTY             SERIOUS CRIMINAL TRESPASS   \n",
       "1       OFFENCES AGAINST PROPERTY  FRAUD DECEPTION AND RELATED OFFENCES   \n",
       "2       OFFENCES AGAINST PROPERTY     PROPERTY DAMAGE AND ENVIRONMENTAL   \n",
       "3       OFFENCES AGAINST PROPERTY            THEFT AND RELATED OFFENCES   \n",
       "4       OFFENCES AGAINST PROPERTY            THEFT AND RELATED OFFENCES   \n",
       "...                           ...                                   ...   \n",
       "95694   OFFENCES AGAINST PROPERTY            THEFT AND RELATED OFFENCES   \n",
       "95695   OFFENCES AGAINST PROPERTY             SERIOUS CRIMINAL TRESPASS   \n",
       "95696   OFFENCES AGAINST PROPERTY     PROPERTY DAMAGE AND ENVIRONMENTAL   \n",
       "95697   OFFENCES AGAINST PROPERTY             SERIOUS CRIMINAL TRESPASS   \n",
       "95698   OFFENCES AGAINST PROPERTY            THEFT AND RELATED OFFENCES   \n",
       "\n",
       "                   Offence Level 3 Description  Offence count Formatted Date  \\\n",
       "0                          SCT - Non Residence            2.0     2015-07-01   \n",
       "1                  Obtain benefit by deception            1.0     2015-07-01   \n",
       "2      Other property damage and environmental            2.0     2015-07-01   \n",
       "3                                  Other theft            9.0     2015-07-01   \n",
       "4                     Theft from motor vehicle            1.0     2015-07-01   \n",
       "...                                        ...            ...            ...   \n",
       "95694                              Other theft            2.0     2020-06-30   \n",
       "95695                      SCT - Non Residence            1.0     2020-06-30   \n",
       "95696  Other property damage and environmental            1.0     2020-06-30   \n",
       "95697                          SCT - Residence            1.0     2020-06-30   \n",
       "95698                          Theft from shop            1.0     2020-06-30   \n",
       "\n",
       "      finan_yr  \n",
       "0          NaN  \n",
       "1          NaN  \n",
       "2          NaN  \n",
       "3          NaN  \n",
       "4          NaN  \n",
       "...        ...  \n",
       "95694      NaN  \n",
       "95695      NaN  \n",
       "95696      NaN  \n",
       "95697      NaN  \n",
       "95698      NaN  \n",
       "\n",
       "[369863 rows x 9 columns]"
      ],
      "text/html": "<div>\n<style scoped>\n    .dataframe tbody tr th:only-of-type {\n        vertical-align: middle;\n    }\n\n    .dataframe tbody tr th {\n        vertical-align: top;\n    }\n\n    .dataframe thead th {\n        text-align: right;\n    }\n</style>\n<table border=\"1\" class=\"dataframe\">\n  <thead>\n    <tr style=\"text-align: right;\">\n      <th></th>\n      <th>Reported Date</th>\n      <th>Suburb - Incident</th>\n      <th>Postcode - Incident</th>\n      <th>Offence Level 1 Description</th>\n      <th>Offence Level 2 Description</th>\n      <th>Offence Level 3 Description</th>\n      <th>Offence count</th>\n      <th>Formatted Date</th>\n      <th>finan_yr</th>\n    </tr>\n  </thead>\n  <tbody>\n    <tr>\n      <th>0</th>\n      <td>1/07/2015</td>\n      <td>ABERFOYLE PARK</td>\n      <td>5159</td>\n      <td>OFFENCES AGAINST PROPERTY</td>\n      <td>SERIOUS CRIMINAL TRESPASS</td>\n      <td>SCT - Non Residence</td>\n      <td>2.0</td>\n      <td>2015-07-01</td>\n      <td>NaN</td>\n    </tr>\n    <tr>\n      <th>1</th>\n      <td>1/07/2015</td>\n      <td>ADELAIDE</td>\n      <td>5000</td>\n      <td>OFFENCES AGAINST PROPERTY</td>\n      <td>FRAUD DECEPTION AND RELATED OFFENCES</td>\n      <td>Obtain benefit by deception</td>\n      <td>1.0</td>\n      <td>2015-07-01</td>\n      <td>NaN</td>\n    </tr>\n    <tr>\n      <th>2</th>\n      <td>1/07/2015</td>\n      <td>ADELAIDE</td>\n      <td>5000</td>\n      <td>OFFENCES AGAINST PROPERTY</td>\n      <td>PROPERTY DAMAGE AND ENVIRONMENTAL</td>\n      <td>Other property damage and environmental</td>\n      <td>2.0</td>\n      <td>2015-07-01</td>\n      <td>NaN</td>\n    </tr>\n    <tr>\n      <th>3</th>\n      <td>1/07/2015</td>\n      <td>ADELAIDE</td>\n      <td>5000</td>\n      <td>OFFENCES AGAINST PROPERTY</td>\n      <td>THEFT AND RELATED OFFENCES</td>\n      <td>Other theft</td>\n      <td>9.0</td>\n      <td>2015-07-01</td>\n      <td>NaN</td>\n    </tr>\n    <tr>\n      <th>4</th>\n      <td>1/07/2015</td>\n      <td>ADELAIDE</td>\n      <td>5000</td>\n      <td>OFFENCES AGAINST PROPERTY</td>\n      <td>THEFT AND RELATED OFFENCES</td>\n      <td>Theft from motor vehicle</td>\n      <td>1.0</td>\n      <td>2015-07-01</td>\n      <td>NaN</td>\n    </tr>\n    <tr>\n      <th>...</th>\n      <td>...</td>\n      <td>...</td>\n      <td>...</td>\n      <td>...</td>\n      <td>...</td>\n      <td>...</td>\n      <td>...</td>\n      <td>...</td>\n      <td>...</td>\n    </tr>\n    <tr>\n      <th>95694</th>\n      <td>30/06/2020</td>\n      <td>WARRADALE</td>\n      <td>5046</td>\n      <td>OFFENCES AGAINST PROPERTY</td>\n      <td>THEFT AND RELATED OFFENCES</td>\n      <td>Other theft</td>\n      <td>2.0</td>\n      <td>2020-06-30</td>\n      <td>NaN</td>\n    </tr>\n    <tr>\n      <th>95695</th>\n      <td>30/06/2020</td>\n      <td>WESTBOURNE PARK</td>\n      <td>5041</td>\n      <td>OFFENCES AGAINST PROPERTY</td>\n      <td>SERIOUS CRIMINAL TRESPASS</td>\n      <td>SCT - Non Residence</td>\n      <td>1.0</td>\n      <td>2020-06-30</td>\n      <td>NaN</td>\n    </tr>\n    <tr>\n      <th>95696</th>\n      <td>30/06/2020</td>\n      <td>WEST HINDMARSH</td>\n      <td>5007</td>\n      <td>OFFENCES AGAINST PROPERTY</td>\n      <td>PROPERTY DAMAGE AND ENVIRONMENTAL</td>\n      <td>Other property damage and environmental</td>\n      <td>1.0</td>\n      <td>2020-06-30</td>\n      <td>NaN</td>\n    </tr>\n    <tr>\n      <th>95697</th>\n      <td>30/06/2020</td>\n      <td>WEST LAKES</td>\n      <td>5021</td>\n      <td>OFFENCES AGAINST PROPERTY</td>\n      <td>SERIOUS CRIMINAL TRESPASS</td>\n      <td>SCT - Residence</td>\n      <td>1.0</td>\n      <td>2020-06-30</td>\n      <td>NaN</td>\n    </tr>\n    <tr>\n      <th>95698</th>\n      <td>30/06/2020</td>\n      <td>WHYALLA NORRIE</td>\n      <td>5608</td>\n      <td>OFFENCES AGAINST PROPERTY</td>\n      <td>THEFT AND RELATED OFFENCES</td>\n      <td>Theft from shop</td>\n      <td>1.0</td>\n      <td>2020-06-30</td>\n      <td>NaN</td>\n    </tr>\n  </tbody>\n</table>\n<p>369863 rows × 9 columns</p>\n</div>"
     },
     "metadata": {},
     "execution_count": 89
    }
   ],
   "source": [
    "#Converts Reported Date column dtype from 'object' to 'datetime65[ns]'. Create a new column 'Formatted Date' of these dates\n",
    "crime_data[\"Formatted Date\"]=pd.to_datetime(crime_data[\"Reported Date\"],format=\"%d/%m/%Y\")\n",
    "#Check dtype info\n",
    "crime_data.info()\n",
    "\n",
    "crime_data\n",
    "# Create sample dataframe\n",
    "# fake = Faker()\n",
    "#start = dt(2015,6,30,00,00,00)\n",
    "#end = dt(2020,7,1,23,59,59)\n",
    "# df = pd.DataFrame({\"datetime\": [fake.date_time_between(start_date=start, end_date=end) for _ in range(n)]})\n",
    "\n",
    "# Create bins\n",
    "# bins = pd.date_range(start, end, periods=6, closed=None)\n",
    "bins = pd.date_range(start=2015-6-30, periods=5, freq='Y',normalize=True)\n",
    "crime_data[\"finan_yr\"] = pd.cut(crime_data[\"Formatted Date\"], bins=bins)\n",
    "crime_data\n",
    "# crime_data[\"Formatted Date\"].unique()\n",
    "\n",
    "# # Count grouped observations\n",
    "# df.groupby(\"finan_yr\").count().rename(columns={\"datetime\": \"counts\"})"
   ]
  },
  {
   "cell_type": "code",
   "execution_count": 11,
   "metadata": {},
   "outputs": [
    {
     "output_type": "execute_result",
     "data": {
      "text/plain": [
       "array(['SERIOUS CRIMINAL TRESPASS',\n",
       "       'FRAUD DECEPTION AND RELATED OFFENCES',\n",
       "       'PROPERTY DAMAGE AND ENVIRONMENTAL', 'THEFT AND RELATED OFFENCES'],\n",
       "      dtype=object)"
      ]
     },
     "metadata": {},
     "execution_count": 11
    }
   ],
   "source": [
    "#Check unique descriptionws for 'Offence Level 2 Description'\n",
    "crime_data[\"Offence Level 2 Description\"].unique()"
   ]
  },
  {
   "cell_type": "code",
   "execution_count": 12,
   "metadata": {},
   "outputs": [
    {
     "output_type": "execute_result",
     "data": {
      "text/plain": [
       "Other theft                                    90985\n",
       "Other property damage and environmental        75303\n",
       "Theft from motor vehicle                       41808\n",
       "SCT - Residence                                36044\n",
       "Theft from shop                                35125\n",
       "SCT - Non Residence                            21139\n",
       "Theft/Illegal Use of MV                        16883\n",
       "Other unlawful entry with intent               15091\n",
       "Obtain benefit by deception                    11548\n",
       "Graffiti                                        8722\n",
       "Property damage by fire or explosion            7044\n",
       "Receive or handle proceeds of crime             6813\n",
       "Other fraud, deception and related offences     3358\n",
       "Name: Offence Level 3 Description, dtype: int64"
      ]
     },
     "metadata": {},
     "execution_count": 12
    }
   ],
   "source": [
    "#Check unique descriptionws for 'Offence Level 3 Description'\n",
    "crime_data[\"Offence Level 3 Description\"].unique()\n",
    "crime_data[\"Offence Level 3 Description\"].value_counts()\n",
    "#1. Other theft : Description: Theft except motor vehicles\n",
    "#2. Theft from motor vehicle\n",
    "#3. SCT - Residence\n",
    "# - DELETE: Theft from shop\n",
    "# - DELETE: SCT - Non Residence\n",
    "#4. Theft/Illegal Use of MV\n",
    "#5. Other property damage and environmental\n"
   ]
  },
  {
   "cell_type": "code",
   "execution_count": 13,
   "metadata": {},
   "outputs": [
    {
     "output_type": "execute_result",
     "data": {
      "text/plain": [
       "ADELAIDE         10079\n",
       "MORPHETT VALE     4943\n",
       "MURRAY BRIDGE     4504\n",
       "SALISBURY         4284\n",
       "PORT AUGUSTA      4082\n",
       "                 ...  \n",
       "ROCHESTER            1\n",
       "PORTER LAGOON        1\n",
       "SHAUGH               1\n",
       "WOODLANE             1\n",
       "MORTANA              1\n",
       "Name: Suburb - Incident, Length: 1552, dtype: int64"
      ]
     },
     "metadata": {},
     "execution_count": 13
    }
   ],
   "source": [
    "crime_data[\"Suburb - Incident\"].value_counts()"
   ]
  },
  {
   "cell_type": "code",
   "execution_count": null,
   "metadata": {},
   "outputs": [],
   "source": []
  }
 ]
}