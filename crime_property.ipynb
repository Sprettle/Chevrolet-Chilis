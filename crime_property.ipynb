{
 "metadata": {
  "language_info": {
   "codemirror_mode": {
    "name": "ipython",
    "version": 3
   },
   "file_extension": ".py",
   "mimetype": "text/x-python",
   "name": "python",
   "nbconvert_exporter": "python",
   "pygments_lexer": "ipython3",
   "version": "3.6.10-final"
  },
  "orig_nbformat": 2,
  "kernelspec": {
   "name": "python3",
   "display_name": "Python 3",
   "language": "python"
  }
 },
 "nbformat": 4,
 "nbformat_minor": 2,
 "cells": [
  {
   "source": [
    "South Australian Crime Data Vs Median Property Prices (BY SUBURB)"
   ],
   "cell_type": "markdown",
   "metadata": {}
  },
  {
   "cell_type": "code",
   "execution_count": 1,
   "metadata": {},
   "outputs": [],
   "source": [
    "#Dependencies\n",
    "import pandas as pd\n",
    "import matplotlib.pyplot as plt\n",
    "import numpy as np\n",
    "\n"
   ]
  },
  {
   "cell_type": "code",
   "execution_count": 2,
   "metadata": {},
   "outputs": [
    {
     "output_type": "execute_result",
     "data": {
      "text/plain": [
       "  Reported Date Suburb - Incident Postcode - Incident  \\\n",
       "0    01/07/2019          ADELAIDE                5000   \n",
       "1    01/07/2019          ADELAIDE                5000   \n",
       "2    01/07/2019          ADELAIDE                5000   \n",
       "3    01/07/2019          ADELAIDE                5000   \n",
       "4    01/07/2019          ADELAIDE                5000   \n",
       "\n",
       "  Offence Level 1 Description           Offence Level 2 Description  \\\n",
       "0   OFFENCES AGAINST PROPERTY  FRAUD DECEPTION AND RELATED OFFENCES   \n",
       "1   OFFENCES AGAINST PROPERTY  FRAUD DECEPTION AND RELATED OFFENCES   \n",
       "2   OFFENCES AGAINST PROPERTY     PROPERTY DAMAGE AND ENVIRONMENTAL   \n",
       "3   OFFENCES AGAINST PROPERTY     PROPERTY DAMAGE AND ENVIRONMENTAL   \n",
       "4   OFFENCES AGAINST PROPERTY            THEFT AND RELATED OFFENCES   \n",
       "\n",
       "                   Offence Level 3 Description  Offence count  \n",
       "0                  Obtain benefit by deception              1  \n",
       "1  Other fraud, deception and related offences              1  \n",
       "2                                     Graffiti              1  \n",
       "3      Other property damage and environmental              2  \n",
       "4                                  Other theft              6  "
      ],
      "text/html": "<div>\n<style scoped>\n    .dataframe tbody tr th:only-of-type {\n        vertical-align: middle;\n    }\n\n    .dataframe tbody tr th {\n        vertical-align: top;\n    }\n\n    .dataframe thead th {\n        text-align: right;\n    }\n</style>\n<table border=\"1\" class=\"dataframe\">\n  <thead>\n    <tr style=\"text-align: right;\">\n      <th></th>\n      <th>Reported Date</th>\n      <th>Suburb - Incident</th>\n      <th>Postcode - Incident</th>\n      <th>Offence Level 1 Description</th>\n      <th>Offence Level 2 Description</th>\n      <th>Offence Level 3 Description</th>\n      <th>Offence count</th>\n    </tr>\n  </thead>\n  <tbody>\n    <tr>\n      <th>0</th>\n      <td>01/07/2019</td>\n      <td>ADELAIDE</td>\n      <td>5000</td>\n      <td>OFFENCES AGAINST PROPERTY</td>\n      <td>FRAUD DECEPTION AND RELATED OFFENCES</td>\n      <td>Obtain benefit by deception</td>\n      <td>1</td>\n    </tr>\n    <tr>\n      <th>1</th>\n      <td>01/07/2019</td>\n      <td>ADELAIDE</td>\n      <td>5000</td>\n      <td>OFFENCES AGAINST PROPERTY</td>\n      <td>FRAUD DECEPTION AND RELATED OFFENCES</td>\n      <td>Other fraud, deception and related offences</td>\n      <td>1</td>\n    </tr>\n    <tr>\n      <th>2</th>\n      <td>01/07/2019</td>\n      <td>ADELAIDE</td>\n      <td>5000</td>\n      <td>OFFENCES AGAINST PROPERTY</td>\n      <td>PROPERTY DAMAGE AND ENVIRONMENTAL</td>\n      <td>Graffiti</td>\n      <td>1</td>\n    </tr>\n    <tr>\n      <th>3</th>\n      <td>01/07/2019</td>\n      <td>ADELAIDE</td>\n      <td>5000</td>\n      <td>OFFENCES AGAINST PROPERTY</td>\n      <td>PROPERTY DAMAGE AND ENVIRONMENTAL</td>\n      <td>Other property damage and environmental</td>\n      <td>2</td>\n    </tr>\n    <tr>\n      <th>4</th>\n      <td>01/07/2019</td>\n      <td>ADELAIDE</td>\n      <td>5000</td>\n      <td>OFFENCES AGAINST PROPERTY</td>\n      <td>THEFT AND RELATED OFFENCES</td>\n      <td>Other theft</td>\n      <td>6</td>\n    </tr>\n  </tbody>\n</table>\n</div>"
     },
     "metadata": {},
     "execution_count": 2
    }
   ],
   "source": [
    "## MERGE 5 financial year csvs (July 2014 to June 2020)\n",
    "# 2015-16_crime.csv\n",
    "# 2016-17_crime.csv\n",
    "# 2017-18_crime.csv\n",
    "# 2018-19_crime.csv\n",
    "# 2019-20_crime.csv\n",
    "\n",
    "#Read csv \"2015-16_crime.csv\"\n",
    "y15_crime=pd.read_csv(\"Resources/2015-16_crime.csv\")\n",
    "y15_crime.head()\n",
    "\n",
    "#Read csv \"2016-17_crime.csv\"\n",
    "y16_crime=pd.read_csv(\"Resources/2016-17_crime.csv\")\n",
    "y16_crime.head()\n",
    "\n",
    "#Read csv \"2017-18_crime.csv\"\n",
    "y17_crime=pd.read_csv(\"Resources/2017-18_crime.csv\")\n",
    "y17_crime.head()\n",
    "\n",
    "#Read csv \"2018-19_crime.csv\"\n",
    "y18_crime=pd.read_csv(\"Resources/2018-19_crime.csv\")\n",
    "y18_crime.head()\n",
    "\n",
    "#Read csv \"2019-20_crime.csv\"\n",
    "y19_crime=pd.read_csv(\"Resources/2019-20_crime.csv\")\n",
    "y19_crime.head()"
   ]
  },
  {
   "cell_type": "code",
   "execution_count": 6,
   "metadata": {},
   "outputs": [
    {
     "output_type": "execute_result",
     "data": {
      "text/plain": [
       "      Reported Date Suburb - Incident Postcode - Incident  \\\n",
       "0         1/07/2015    ABERFOYLE PARK                5159   \n",
       "1         1/07/2015          ADELAIDE                5000   \n",
       "2         1/07/2015          ADELAIDE                5000   \n",
       "3         1/07/2015          ADELAIDE                5000   \n",
       "4         1/07/2015          ADELAIDE                5000   \n",
       "...             ...               ...                 ...   \n",
       "95697    30/06/2020        WEST LAKES                5021   \n",
       "95698    30/06/2020    WHYALLA NORRIE                5608   \n",
       "95699    30/06/2020   WOODVILLE NORTH                5012   \n",
       "95700    30/06/2020               NaN                 NaN   \n",
       "95701    30/06/2020               NaN                 NaN   \n",
       "\n",
       "       Offence Level 1 Description           Offence Level 2 Description  \\\n",
       "0        OFFENCES AGAINST PROPERTY             SERIOUS CRIMINAL TRESPASS   \n",
       "1        OFFENCES AGAINST PROPERTY  FRAUD DECEPTION AND RELATED OFFENCES   \n",
       "2        OFFENCES AGAINST PROPERTY     PROPERTY DAMAGE AND ENVIRONMENTAL   \n",
       "3        OFFENCES AGAINST PROPERTY            THEFT AND RELATED OFFENCES   \n",
       "4        OFFENCES AGAINST PROPERTY            THEFT AND RELATED OFFENCES   \n",
       "...                            ...                                   ...   \n",
       "95697    OFFENCES AGAINST PROPERTY             SERIOUS CRIMINAL TRESPASS   \n",
       "95698    OFFENCES AGAINST PROPERTY            THEFT AND RELATED OFFENCES   \n",
       "95699  OFFENCES AGAINST THE PERSON         ACTS INTENDED TO CAUSE INJURY   \n",
       "95700    OFFENCES AGAINST PROPERTY             SERIOUS CRIMINAL TRESPASS   \n",
       "95701    OFFENCES AGAINST PROPERTY            THEFT AND RELATED OFFENCES   \n",
       "\n",
       "                   Offence Level 3 Description  Offence count  \n",
       "0                          SCT - Non Residence            2.0  \n",
       "1                  Obtain benefit by deception            1.0  \n",
       "2      Other property damage and environmental            2.0  \n",
       "3                                  Other theft            9.0  \n",
       "4                     Theft from motor vehicle            1.0  \n",
       "...                                        ...            ...  \n",
       "95697                          SCT - Residence            1.0  \n",
       "95698                          Theft from shop            1.0  \n",
       "95699  Serious Assault not resulting in injury            2.0  \n",
       "95700                      SCT - Non Residence            1.0  \n",
       "95701      Receive or handle proceeds of crime            1.0  \n",
       "\n",
       "[465147 rows x 7 columns]"
      ],
      "text/html": "<div>\n<style scoped>\n    .dataframe tbody tr th:only-of-type {\n        vertical-align: middle;\n    }\n\n    .dataframe tbody tr th {\n        vertical-align: top;\n    }\n\n    .dataframe thead th {\n        text-align: right;\n    }\n</style>\n<table border=\"1\" class=\"dataframe\">\n  <thead>\n    <tr style=\"text-align: right;\">\n      <th></th>\n      <th>Reported Date</th>\n      <th>Suburb - Incident</th>\n      <th>Postcode - Incident</th>\n      <th>Offence Level 1 Description</th>\n      <th>Offence Level 2 Description</th>\n      <th>Offence Level 3 Description</th>\n      <th>Offence count</th>\n    </tr>\n  </thead>\n  <tbody>\n    <tr>\n      <th>0</th>\n      <td>1/07/2015</td>\n      <td>ABERFOYLE PARK</td>\n      <td>5159</td>\n      <td>OFFENCES AGAINST PROPERTY</td>\n      <td>SERIOUS CRIMINAL TRESPASS</td>\n      <td>SCT - Non Residence</td>\n      <td>2.0</td>\n    </tr>\n    <tr>\n      <th>1</th>\n      <td>1/07/2015</td>\n      <td>ADELAIDE</td>\n      <td>5000</td>\n      <td>OFFENCES AGAINST PROPERTY</td>\n      <td>FRAUD DECEPTION AND RELATED OFFENCES</td>\n      <td>Obtain benefit by deception</td>\n      <td>1.0</td>\n    </tr>\n    <tr>\n      <th>2</th>\n      <td>1/07/2015</td>\n      <td>ADELAIDE</td>\n      <td>5000</td>\n      <td>OFFENCES AGAINST PROPERTY</td>\n      <td>PROPERTY DAMAGE AND ENVIRONMENTAL</td>\n      <td>Other property damage and environmental</td>\n      <td>2.0</td>\n    </tr>\n    <tr>\n      <th>3</th>\n      <td>1/07/2015</td>\n      <td>ADELAIDE</td>\n      <td>5000</td>\n      <td>OFFENCES AGAINST PROPERTY</td>\n      <td>THEFT AND RELATED OFFENCES</td>\n      <td>Other theft</td>\n      <td>9.0</td>\n    </tr>\n    <tr>\n      <th>4</th>\n      <td>1/07/2015</td>\n      <td>ADELAIDE</td>\n      <td>5000</td>\n      <td>OFFENCES AGAINST PROPERTY</td>\n      <td>THEFT AND RELATED OFFENCES</td>\n      <td>Theft from motor vehicle</td>\n      <td>1.0</td>\n    </tr>\n    <tr>\n      <th>...</th>\n      <td>...</td>\n      <td>...</td>\n      <td>...</td>\n      <td>...</td>\n      <td>...</td>\n      <td>...</td>\n      <td>...</td>\n    </tr>\n    <tr>\n      <th>95697</th>\n      <td>30/06/2020</td>\n      <td>WEST LAKES</td>\n      <td>5021</td>\n      <td>OFFENCES AGAINST PROPERTY</td>\n      <td>SERIOUS CRIMINAL TRESPASS</td>\n      <td>SCT - Residence</td>\n      <td>1.0</td>\n    </tr>\n    <tr>\n      <th>95698</th>\n      <td>30/06/2020</td>\n      <td>WHYALLA NORRIE</td>\n      <td>5608</td>\n      <td>OFFENCES AGAINST PROPERTY</td>\n      <td>THEFT AND RELATED OFFENCES</td>\n      <td>Theft from shop</td>\n      <td>1.0</td>\n    </tr>\n    <tr>\n      <th>95699</th>\n      <td>30/06/2020</td>\n      <td>WOODVILLE NORTH</td>\n      <td>5012</td>\n      <td>OFFENCES AGAINST THE PERSON</td>\n      <td>ACTS INTENDED TO CAUSE INJURY</td>\n      <td>Serious Assault not resulting in injury</td>\n      <td>2.0</td>\n    </tr>\n    <tr>\n      <th>95700</th>\n      <td>30/06/2020</td>\n      <td>NaN</td>\n      <td>NaN</td>\n      <td>OFFENCES AGAINST PROPERTY</td>\n      <td>SERIOUS CRIMINAL TRESPASS</td>\n      <td>SCT - Non Residence</td>\n      <td>1.0</td>\n    </tr>\n    <tr>\n      <th>95701</th>\n      <td>30/06/2020</td>\n      <td>NaN</td>\n      <td>NaN</td>\n      <td>OFFENCES AGAINST PROPERTY</td>\n      <td>THEFT AND RELATED OFFENCES</td>\n      <td>Receive or handle proceeds of crime</td>\n      <td>1.0</td>\n    </tr>\n  </tbody>\n</table>\n<p>465147 rows × 7 columns</p>\n</div>"
     },
     "metadata": {},
     "execution_count": 6
    }
   ],
   "source": [
    "#Concatonate all the 5 csv files for 5 consecutive years \n",
    "y15_16_crime=pd.concat([y15_crime, y16_crime], sort=False)\n",
    "y15_16_crime\n",
    "\n",
    "y15_16_17_crime=pd.concat([y15_16_crime, y17_crime], sort=False)\n",
    "y15_16_17_crime\n",
    "\n",
    "y15_16_17_18_crime=pd.concat([y15_16_17_crime, y18_crime], sort=False)\n",
    "y15_16_17_18_crime\n",
    "\n",
    "y15_16_17_18_19_crime=pd.concat([y15_16_17_18_crime, y19_crime], sort=False)\n",
    "y15_16_17_18_19_crime\n",
    "\n",
    "#Crime Data Merged, dataframe: \"crime_data\"\n",
    "crime_data=y15_16_17_18_19_crime\n",
    "crime_data"
   ]
  },
  {
   "cell_type": "code",
   "execution_count": 11,
   "metadata": {},
   "outputs": [
    {
     "output_type": "execute_result",
     "data": {
      "text/plain": [
       "      Reported Date Suburb - Incident Postcode - Incident  \\\n",
       "0         1/07/2015    ABERFOYLE PARK                5159   \n",
       "1         1/07/2015          ADELAIDE                5000   \n",
       "2         1/07/2015          ADELAIDE                5000   \n",
       "3         1/07/2015          ADELAIDE                5000   \n",
       "4         1/07/2015          ADELAIDE                5000   \n",
       "...             ...               ...                 ...   \n",
       "95695    30/06/2020   WESTBOURNE PARK                5041   \n",
       "95696    30/06/2020    WEST HINDMARSH                5007   \n",
       "95697    30/06/2020        WEST LAKES                5021   \n",
       "95698    30/06/2020    WHYALLA NORRIE                5608   \n",
       "95699    30/06/2020   WOODVILLE NORTH                5012   \n",
       "\n",
       "       Offence Level 1 Description           Offence Level 2 Description  \\\n",
       "0        OFFENCES AGAINST PROPERTY             SERIOUS CRIMINAL TRESPASS   \n",
       "1        OFFENCES AGAINST PROPERTY  FRAUD DECEPTION AND RELATED OFFENCES   \n",
       "2        OFFENCES AGAINST PROPERTY     PROPERTY DAMAGE AND ENVIRONMENTAL   \n",
       "3        OFFENCES AGAINST PROPERTY            THEFT AND RELATED OFFENCES   \n",
       "4        OFFENCES AGAINST PROPERTY            THEFT AND RELATED OFFENCES   \n",
       "...                            ...                                   ...   \n",
       "95695    OFFENCES AGAINST PROPERTY             SERIOUS CRIMINAL TRESPASS   \n",
       "95696    OFFENCES AGAINST PROPERTY     PROPERTY DAMAGE AND ENVIRONMENTAL   \n",
       "95697    OFFENCES AGAINST PROPERTY             SERIOUS CRIMINAL TRESPASS   \n",
       "95698    OFFENCES AGAINST PROPERTY            THEFT AND RELATED OFFENCES   \n",
       "95699  OFFENCES AGAINST THE PERSON         ACTS INTENDED TO CAUSE INJURY   \n",
       "\n",
       "                   Offence Level 3 Description  Offence count  \n",
       "0                          SCT - Non Residence            2.0  \n",
       "1                  Obtain benefit by deception            1.0  \n",
       "2      Other property damage and environmental            2.0  \n",
       "3                                  Other theft            9.0  \n",
       "4                     Theft from motor vehicle            1.0  \n",
       "...                                        ...            ...  \n",
       "95695                      SCT - Non Residence            1.0  \n",
       "95696  Other property damage and environmental            1.0  \n",
       "95697                          SCT - Residence            1.0  \n",
       "95698                          Theft from shop            1.0  \n",
       "95699  Serious Assault not resulting in injury            2.0  \n",
       "\n",
       "[463192 rows x 7 columns]"
      ],
      "text/html": "<div>\n<style scoped>\n    .dataframe tbody tr th:only-of-type {\n        vertical-align: middle;\n    }\n\n    .dataframe tbody tr th {\n        vertical-align: top;\n    }\n\n    .dataframe thead th {\n        text-align: right;\n    }\n</style>\n<table border=\"1\" class=\"dataframe\">\n  <thead>\n    <tr style=\"text-align: right;\">\n      <th></th>\n      <th>Reported Date</th>\n      <th>Suburb - Incident</th>\n      <th>Postcode - Incident</th>\n      <th>Offence Level 1 Description</th>\n      <th>Offence Level 2 Description</th>\n      <th>Offence Level 3 Description</th>\n      <th>Offence count</th>\n    </tr>\n  </thead>\n  <tbody>\n    <tr>\n      <th>0</th>\n      <td>1/07/2015</td>\n      <td>ABERFOYLE PARK</td>\n      <td>5159</td>\n      <td>OFFENCES AGAINST PROPERTY</td>\n      <td>SERIOUS CRIMINAL TRESPASS</td>\n      <td>SCT - Non Residence</td>\n      <td>2.0</td>\n    </tr>\n    <tr>\n      <th>1</th>\n      <td>1/07/2015</td>\n      <td>ADELAIDE</td>\n      <td>5000</td>\n      <td>OFFENCES AGAINST PROPERTY</td>\n      <td>FRAUD DECEPTION AND RELATED OFFENCES</td>\n      <td>Obtain benefit by deception</td>\n      <td>1.0</td>\n    </tr>\n    <tr>\n      <th>2</th>\n      <td>1/07/2015</td>\n      <td>ADELAIDE</td>\n      <td>5000</td>\n      <td>OFFENCES AGAINST PROPERTY</td>\n      <td>PROPERTY DAMAGE AND ENVIRONMENTAL</td>\n      <td>Other property damage and environmental</td>\n      <td>2.0</td>\n    </tr>\n    <tr>\n      <th>3</th>\n      <td>1/07/2015</td>\n      <td>ADELAIDE</td>\n      <td>5000</td>\n      <td>OFFENCES AGAINST PROPERTY</td>\n      <td>THEFT AND RELATED OFFENCES</td>\n      <td>Other theft</td>\n      <td>9.0</td>\n    </tr>\n    <tr>\n      <th>4</th>\n      <td>1/07/2015</td>\n      <td>ADELAIDE</td>\n      <td>5000</td>\n      <td>OFFENCES AGAINST PROPERTY</td>\n      <td>THEFT AND RELATED OFFENCES</td>\n      <td>Theft from motor vehicle</td>\n      <td>1.0</td>\n    </tr>\n    <tr>\n      <th>...</th>\n      <td>...</td>\n      <td>...</td>\n      <td>...</td>\n      <td>...</td>\n      <td>...</td>\n      <td>...</td>\n      <td>...</td>\n    </tr>\n    <tr>\n      <th>95695</th>\n      <td>30/06/2020</td>\n      <td>WESTBOURNE PARK</td>\n      <td>5041</td>\n      <td>OFFENCES AGAINST PROPERTY</td>\n      <td>SERIOUS CRIMINAL TRESPASS</td>\n      <td>SCT - Non Residence</td>\n      <td>1.0</td>\n    </tr>\n    <tr>\n      <th>95696</th>\n      <td>30/06/2020</td>\n      <td>WEST HINDMARSH</td>\n      <td>5007</td>\n      <td>OFFENCES AGAINST PROPERTY</td>\n      <td>PROPERTY DAMAGE AND ENVIRONMENTAL</td>\n      <td>Other property damage and environmental</td>\n      <td>1.0</td>\n    </tr>\n    <tr>\n      <th>95697</th>\n      <td>30/06/2020</td>\n      <td>WEST LAKES</td>\n      <td>5021</td>\n      <td>OFFENCES AGAINST PROPERTY</td>\n      <td>SERIOUS CRIMINAL TRESPASS</td>\n      <td>SCT - Residence</td>\n      <td>1.0</td>\n    </tr>\n    <tr>\n      <th>95698</th>\n      <td>30/06/2020</td>\n      <td>WHYALLA NORRIE</td>\n      <td>5608</td>\n      <td>OFFENCES AGAINST PROPERTY</td>\n      <td>THEFT AND RELATED OFFENCES</td>\n      <td>Theft from shop</td>\n      <td>1.0</td>\n    </tr>\n    <tr>\n      <th>95699</th>\n      <td>30/06/2020</td>\n      <td>WOODVILLE NORTH</td>\n      <td>5012</td>\n      <td>OFFENCES AGAINST THE PERSON</td>\n      <td>ACTS INTENDED TO CAUSE INJURY</td>\n      <td>Serious Assault not resulting in injury</td>\n      <td>2.0</td>\n    </tr>\n  </tbody>\n</table>\n<p>463192 rows × 7 columns</p>\n</div>"
     },
     "metadata": {},
     "execution_count": 11
    }
   ],
   "source": [
    "#Drop NaN rows\n",
    "crime_data=crime_data.dropna()\n",
    "crime_data"
   ]
  },
  {
   "cell_type": "code",
   "execution_count": 12,
   "metadata": {},
   "outputs": [
    {
     "output_type": "execute_result",
     "data": {
      "text/plain": [
       "array(['OFFENCES AGAINST PROPERTY', 'OFFENCES AGAINST THE PERSON'],\n",
       "      dtype=object)"
      ]
     },
     "metadata": {},
     "execution_count": 12
    }
   ],
   "source": [
    "#Check unique descriptionws for 'Offence Level 1 Description'\n",
    "crime_data[\"Offence Level 1 Description\"].unique()"
   ]
  },
  {
   "cell_type": "code",
   "execution_count": 16,
   "metadata": {},
   "outputs": [
    {
     "output_type": "error",
     "ename": "SyntaxError",
     "evalue": "invalid syntax (<ipython-input-16-e6498cec15e0>, line 1)",
     "traceback": [
      "\u001b[0;36m  File \u001b[0;32m\"<ipython-input-16-e6498cec15e0>\"\u001b[0;36m, line \u001b[0;32m1\u001b[0m\n\u001b[0;31m    crime_data=crime_data[crime_data.Offence Level 1 Description.str.contains(\"OFFENCES AGAINST PROPERTY\")]\u001b[0m\n\u001b[0m                                                 ^\u001b[0m\n\u001b[0;31mSyntaxError\u001b[0m\u001b[0;31m:\u001b[0m invalid syntax\n"
     ]
    }
   ],
   "source": [
    "crime_data=crime_data[crime_data.Offence Level 1 Description.str.contains(\"OFFENCES AGAINST PROPERTY\")]\n",
    "\n",
    "crime_data = crime_data[~crime_data[\"Offence Level 1 Description\"].isin(['OFFENCES AGAINST THE PERSON'])]\n",
    "crime_data"
   ]
  },
  {
   "cell_type": "code",
   "execution_count": null,
   "metadata": {},
   "outputs": [],
   "source": []
  }
 ]
}