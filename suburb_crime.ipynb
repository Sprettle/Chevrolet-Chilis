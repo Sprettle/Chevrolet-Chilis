{
 "metadata": {
  "language_info": {
   "codemirror_mode": {
    "name": "ipython",
    "version": 3
   },
   "file_extension": ".py",
   "mimetype": "text/x-python",
   "name": "python",
   "nbconvert_exporter": "python",
   "pygments_lexer": "ipython3",
   "version": "3.6.10-final"
  },
  "orig_nbformat": 2,
  "kernelspec": {
   "name": "python3",
   "display_name": "Python 3",
   "language": "python"
  }
 },
 "nbformat": 4,
 "nbformat_minor": 2,
 "cells": [
  {
   "source": [
    "South Australian Crime Data Vs Median Property Prices (BY SUBURB)"
   ],
   "cell_type": "markdown",
   "metadata": {}
  },
  {
   "cell_type": "code",
   "execution_count": 1,
   "metadata": {},
   "outputs": [
    {
     "output_type": "stream",
     "name": "stdout",
     "text": [
      "Requirement already satisfied: datetime in /Users/annabelcheong/opt/anaconda3/envs/PythonData/lib/python3.6/site-packages (4.3)\n",
      "Requirement already satisfied: pytz in /Users/annabelcheong/opt/anaconda3/envs/PythonData/lib/python3.6/site-packages (from datetime) (2020.1)\n",
      "Requirement already satisfied: zope.interface in /Users/annabelcheong/opt/anaconda3/envs/PythonData/lib/python3.6/site-packages (from datetime) (5.2.0)\n",
      "Requirement already satisfied: setuptools in /Users/annabelcheong/opt/anaconda3/envs/PythonData/lib/python3.6/site-packages (from zope.interface->datetime) (47.1.1.post20200604)\n"
     ]
    }
   ],
   "source": [
    "!pip install datetime"
   ]
  },
  {
   "cell_type": "code",
   "execution_count": 2,
   "metadata": {},
   "outputs": [],
   "source": [
    "#Dependencies\n",
    "import pandas as pd\n",
    "import matplotlib.pyplot as plt\n",
    "import numpy as np\n",
    "from datetime import datetime as dt\n"
   ]
  },
  {
   "cell_type": "code",
   "execution_count": 3,
   "metadata": {},
   "outputs": [
    {
     "output_type": "execute_result",
     "data": {
      "text/plain": [
       "  Reported Date Suburb - Incident Postcode - Incident  \\\n",
       "0    01/07/2019          ADELAIDE                5000   \n",
       "1    01/07/2019          ADELAIDE                5000   \n",
       "2    01/07/2019          ADELAIDE                5000   \n",
       "3    01/07/2019          ADELAIDE                5000   \n",
       "4    01/07/2019          ADELAIDE                5000   \n",
       "\n",
       "  Offence Level 1 Description           Offence Level 2 Description  \\\n",
       "0   OFFENCES AGAINST PROPERTY  FRAUD DECEPTION AND RELATED OFFENCES   \n",
       "1   OFFENCES AGAINST PROPERTY  FRAUD DECEPTION AND RELATED OFFENCES   \n",
       "2   OFFENCES AGAINST PROPERTY     PROPERTY DAMAGE AND ENVIRONMENTAL   \n",
       "3   OFFENCES AGAINST PROPERTY     PROPERTY DAMAGE AND ENVIRONMENTAL   \n",
       "4   OFFENCES AGAINST PROPERTY            THEFT AND RELATED OFFENCES   \n",
       "\n",
       "                   Offence Level 3 Description  Offence count  \n",
       "0                  Obtain benefit by deception              1  \n",
       "1  Other fraud, deception and related offences              1  \n",
       "2                                     Graffiti              1  \n",
       "3      Other property damage and environmental              2  \n",
       "4                                  Other theft              6  "
      ],
      "text/html": "<div>\n<style scoped>\n    .dataframe tbody tr th:only-of-type {\n        vertical-align: middle;\n    }\n\n    .dataframe tbody tr th {\n        vertical-align: top;\n    }\n\n    .dataframe thead th {\n        text-align: right;\n    }\n</style>\n<table border=\"1\" class=\"dataframe\">\n  <thead>\n    <tr style=\"text-align: right;\">\n      <th></th>\n      <th>Reported Date</th>\n      <th>Suburb - Incident</th>\n      <th>Postcode - Incident</th>\n      <th>Offence Level 1 Description</th>\n      <th>Offence Level 2 Description</th>\n      <th>Offence Level 3 Description</th>\n      <th>Offence count</th>\n    </tr>\n  </thead>\n  <tbody>\n    <tr>\n      <th>0</th>\n      <td>01/07/2019</td>\n      <td>ADELAIDE</td>\n      <td>5000</td>\n      <td>OFFENCES AGAINST PROPERTY</td>\n      <td>FRAUD DECEPTION AND RELATED OFFENCES</td>\n      <td>Obtain benefit by deception</td>\n      <td>1</td>\n    </tr>\n    <tr>\n      <th>1</th>\n      <td>01/07/2019</td>\n      <td>ADELAIDE</td>\n      <td>5000</td>\n      <td>OFFENCES AGAINST PROPERTY</td>\n      <td>FRAUD DECEPTION AND RELATED OFFENCES</td>\n      <td>Other fraud, deception and related offences</td>\n      <td>1</td>\n    </tr>\n    <tr>\n      <th>2</th>\n      <td>01/07/2019</td>\n      <td>ADELAIDE</td>\n      <td>5000</td>\n      <td>OFFENCES AGAINST PROPERTY</td>\n      <td>PROPERTY DAMAGE AND ENVIRONMENTAL</td>\n      <td>Graffiti</td>\n      <td>1</td>\n    </tr>\n    <tr>\n      <th>3</th>\n      <td>01/07/2019</td>\n      <td>ADELAIDE</td>\n      <td>5000</td>\n      <td>OFFENCES AGAINST PROPERTY</td>\n      <td>PROPERTY DAMAGE AND ENVIRONMENTAL</td>\n      <td>Other property damage and environmental</td>\n      <td>2</td>\n    </tr>\n    <tr>\n      <th>4</th>\n      <td>01/07/2019</td>\n      <td>ADELAIDE</td>\n      <td>5000</td>\n      <td>OFFENCES AGAINST PROPERTY</td>\n      <td>THEFT AND RELATED OFFENCES</td>\n      <td>Other theft</td>\n      <td>6</td>\n    </tr>\n  </tbody>\n</table>\n</div>"
     },
     "metadata": {},
     "execution_count": 3
    }
   ],
   "source": [
    "## MERGE 5 financial year csvs (July 2014 to June 2020)\n",
    "# 2015-16_crime.csv\n",
    "# 2016-17_crime.csv\n",
    "# 2017-18_crime.csv\n",
    "# 2018-19_crime.csv\n",
    "# 2019-20_crime.csv\n",
    "\n",
    "#Read csv \"2015-16_crime.csv\"\n",
    "y15_crime=pd.read_csv(\"Resources/2015-16_crime.csv\")\n",
    "y15_crime.head()\n",
    "\n",
    "#Read csv \"2016-17_crime.csv\"\n",
    "y16_crime=pd.read_csv(\"Resources/2016-17_crime.csv\")\n",
    "y16_crime.head()\n",
    "\n",
    "#Read csv \"2017-18_crime.csv\"\n",
    "y17_crime=pd.read_csv(\"Resources/2017-18_crime.csv\")\n",
    "y17_crime.head()\n",
    "\n",
    "#Read csv \"2018-19_crime.csv\"\n",
    "y18_crime=pd.read_csv(\"Resources/2018-19_crime.csv\")\n",
    "y18_crime.head()\n",
    "\n",
    "#Read csv \"2019-20_crime.csv\"\n",
    "y19_crime=pd.read_csv(\"Resources/2019-20_crime.csv\")\n",
    "y19_crime.head()"
   ]
  },
  {
   "cell_type": "code",
   "execution_count": 4,
   "metadata": {},
   "outputs": [
    {
     "output_type": "execute_result",
     "data": {
      "text/plain": [
       "      Reported Date Suburb - Incident Postcode - Incident  \\\n",
       "0         1/07/2015    ABERFOYLE PARK                5159   \n",
       "1         1/07/2015          ADELAIDE                5000   \n",
       "2         1/07/2015          ADELAIDE                5000   \n",
       "3         1/07/2015          ADELAIDE                5000   \n",
       "4         1/07/2015          ADELAIDE                5000   \n",
       "...             ...               ...                 ...   \n",
       "95697    30/06/2020        WEST LAKES                5021   \n",
       "95698    30/06/2020    WHYALLA NORRIE                5608   \n",
       "95699    30/06/2020   WOODVILLE NORTH                5012   \n",
       "95700    30/06/2020               NaN                 NaN   \n",
       "95701    30/06/2020               NaN                 NaN   \n",
       "\n",
       "       Offence Level 1 Description           Offence Level 2 Description  \\\n",
       "0        OFFENCES AGAINST PROPERTY             SERIOUS CRIMINAL TRESPASS   \n",
       "1        OFFENCES AGAINST PROPERTY  FRAUD DECEPTION AND RELATED OFFENCES   \n",
       "2        OFFENCES AGAINST PROPERTY     PROPERTY DAMAGE AND ENVIRONMENTAL   \n",
       "3        OFFENCES AGAINST PROPERTY            THEFT AND RELATED OFFENCES   \n",
       "4        OFFENCES AGAINST PROPERTY            THEFT AND RELATED OFFENCES   \n",
       "...                            ...                                   ...   \n",
       "95697    OFFENCES AGAINST PROPERTY             SERIOUS CRIMINAL TRESPASS   \n",
       "95698    OFFENCES AGAINST PROPERTY            THEFT AND RELATED OFFENCES   \n",
       "95699  OFFENCES AGAINST THE PERSON         ACTS INTENDED TO CAUSE INJURY   \n",
       "95700    OFFENCES AGAINST PROPERTY             SERIOUS CRIMINAL TRESPASS   \n",
       "95701    OFFENCES AGAINST PROPERTY            THEFT AND RELATED OFFENCES   \n",
       "\n",
       "                   Offence Level 3 Description  Offence count  \n",
       "0                          SCT - Non Residence            2.0  \n",
       "1                  Obtain benefit by deception            1.0  \n",
       "2      Other property damage and environmental            2.0  \n",
       "3                                  Other theft            9.0  \n",
       "4                     Theft from motor vehicle            1.0  \n",
       "...                                        ...            ...  \n",
       "95697                          SCT - Residence            1.0  \n",
       "95698                          Theft from shop            1.0  \n",
       "95699  Serious Assault not resulting in injury            2.0  \n",
       "95700                      SCT - Non Residence            1.0  \n",
       "95701      Receive or handle proceeds of crime            1.0  \n",
       "\n",
       "[465147 rows x 7 columns]"
      ],
      "text/html": "<div>\n<style scoped>\n    .dataframe tbody tr th:only-of-type {\n        vertical-align: middle;\n    }\n\n    .dataframe tbody tr th {\n        vertical-align: top;\n    }\n\n    .dataframe thead th {\n        text-align: right;\n    }\n</style>\n<table border=\"1\" class=\"dataframe\">\n  <thead>\n    <tr style=\"text-align: right;\">\n      <th></th>\n      <th>Reported Date</th>\n      <th>Suburb - Incident</th>\n      <th>Postcode - Incident</th>\n      <th>Offence Level 1 Description</th>\n      <th>Offence Level 2 Description</th>\n      <th>Offence Level 3 Description</th>\n      <th>Offence count</th>\n    </tr>\n  </thead>\n  <tbody>\n    <tr>\n      <th>0</th>\n      <td>1/07/2015</td>\n      <td>ABERFOYLE PARK</td>\n      <td>5159</td>\n      <td>OFFENCES AGAINST PROPERTY</td>\n      <td>SERIOUS CRIMINAL TRESPASS</td>\n      <td>SCT - Non Residence</td>\n      <td>2.0</td>\n    </tr>\n    <tr>\n      <th>1</th>\n      <td>1/07/2015</td>\n      <td>ADELAIDE</td>\n      <td>5000</td>\n      <td>OFFENCES AGAINST PROPERTY</td>\n      <td>FRAUD DECEPTION AND RELATED OFFENCES</td>\n      <td>Obtain benefit by deception</td>\n      <td>1.0</td>\n    </tr>\n    <tr>\n      <th>2</th>\n      <td>1/07/2015</td>\n      <td>ADELAIDE</td>\n      <td>5000</td>\n      <td>OFFENCES AGAINST PROPERTY</td>\n      <td>PROPERTY DAMAGE AND ENVIRONMENTAL</td>\n      <td>Other property damage and environmental</td>\n      <td>2.0</td>\n    </tr>\n    <tr>\n      <th>3</th>\n      <td>1/07/2015</td>\n      <td>ADELAIDE</td>\n      <td>5000</td>\n      <td>OFFENCES AGAINST PROPERTY</td>\n      <td>THEFT AND RELATED OFFENCES</td>\n      <td>Other theft</td>\n      <td>9.0</td>\n    </tr>\n    <tr>\n      <th>4</th>\n      <td>1/07/2015</td>\n      <td>ADELAIDE</td>\n      <td>5000</td>\n      <td>OFFENCES AGAINST PROPERTY</td>\n      <td>THEFT AND RELATED OFFENCES</td>\n      <td>Theft from motor vehicle</td>\n      <td>1.0</td>\n    </tr>\n    <tr>\n      <th>...</th>\n      <td>...</td>\n      <td>...</td>\n      <td>...</td>\n      <td>...</td>\n      <td>...</td>\n      <td>...</td>\n      <td>...</td>\n    </tr>\n    <tr>\n      <th>95697</th>\n      <td>30/06/2020</td>\n      <td>WEST LAKES</td>\n      <td>5021</td>\n      <td>OFFENCES AGAINST PROPERTY</td>\n      <td>SERIOUS CRIMINAL TRESPASS</td>\n      <td>SCT - Residence</td>\n      <td>1.0</td>\n    </tr>\n    <tr>\n      <th>95698</th>\n      <td>30/06/2020</td>\n      <td>WHYALLA NORRIE</td>\n      <td>5608</td>\n      <td>OFFENCES AGAINST PROPERTY</td>\n      <td>THEFT AND RELATED OFFENCES</td>\n      <td>Theft from shop</td>\n      <td>1.0</td>\n    </tr>\n    <tr>\n      <th>95699</th>\n      <td>30/06/2020</td>\n      <td>WOODVILLE NORTH</td>\n      <td>5012</td>\n      <td>OFFENCES AGAINST THE PERSON</td>\n      <td>ACTS INTENDED TO CAUSE INJURY</td>\n      <td>Serious Assault not resulting in injury</td>\n      <td>2.0</td>\n    </tr>\n    <tr>\n      <th>95700</th>\n      <td>30/06/2020</td>\n      <td>NaN</td>\n      <td>NaN</td>\n      <td>OFFENCES AGAINST PROPERTY</td>\n      <td>SERIOUS CRIMINAL TRESPASS</td>\n      <td>SCT - Non Residence</td>\n      <td>1.0</td>\n    </tr>\n    <tr>\n      <th>95701</th>\n      <td>30/06/2020</td>\n      <td>NaN</td>\n      <td>NaN</td>\n      <td>OFFENCES AGAINST PROPERTY</td>\n      <td>THEFT AND RELATED OFFENCES</td>\n      <td>Receive or handle proceeds of crime</td>\n      <td>1.0</td>\n    </tr>\n  </tbody>\n</table>\n<p>465147 rows × 7 columns</p>\n</div>"
     },
     "metadata": {},
     "execution_count": 4
    }
   ],
   "source": [
    "#Concatonate all the 5 csv files for 5 consecutive years \n",
    "y15_16_crime=pd.concat([y15_crime, y16_crime], sort=False)\n",
    "y15_16_crime\n",
    "\n",
    "y15_16_17_crime=pd.concat([y15_16_crime, y17_crime], sort=False)\n",
    "y15_16_17_crime\n",
    "\n",
    "y15_16_17_18_crime=pd.concat([y15_16_17_crime, y18_crime], sort=False)\n",
    "y15_16_17_18_crime\n",
    "\n",
    "y15_16_17_18_19_crime=pd.concat([y15_16_17_18_crime, y19_crime], sort=False)\n",
    "y15_16_17_18_19_crime\n",
    "\n",
    "#Crime Data Merged, dataframe: \"crime_data\"\n",
    "crime_data=y15_16_17_18_19_crime\n",
    "crime_data"
   ]
  },
  {
   "cell_type": "code",
   "execution_count": 5,
   "metadata": {},
   "outputs": [
    {
     "output_type": "execute_result",
     "data": {
      "text/plain": [
       "      Reported Date Suburb - Incident Postcode - Incident  \\\n",
       "0         1/07/2015    ABERFOYLE PARK                5159   \n",
       "1         1/07/2015          ADELAIDE                5000   \n",
       "2         1/07/2015          ADELAIDE                5000   \n",
       "3         1/07/2015          ADELAIDE                5000   \n",
       "4         1/07/2015          ADELAIDE                5000   \n",
       "...             ...               ...                 ...   \n",
       "95695    30/06/2020   WESTBOURNE PARK                5041   \n",
       "95696    30/06/2020    WEST HINDMARSH                5007   \n",
       "95697    30/06/2020        WEST LAKES                5021   \n",
       "95698    30/06/2020    WHYALLA NORRIE                5608   \n",
       "95699    30/06/2020   WOODVILLE NORTH                5012   \n",
       "\n",
       "       Offence Level 1 Description           Offence Level 2 Description  \\\n",
       "0        OFFENCES AGAINST PROPERTY             SERIOUS CRIMINAL TRESPASS   \n",
       "1        OFFENCES AGAINST PROPERTY  FRAUD DECEPTION AND RELATED OFFENCES   \n",
       "2        OFFENCES AGAINST PROPERTY     PROPERTY DAMAGE AND ENVIRONMENTAL   \n",
       "3        OFFENCES AGAINST PROPERTY            THEFT AND RELATED OFFENCES   \n",
       "4        OFFENCES AGAINST PROPERTY            THEFT AND RELATED OFFENCES   \n",
       "...                            ...                                   ...   \n",
       "95695    OFFENCES AGAINST PROPERTY             SERIOUS CRIMINAL TRESPASS   \n",
       "95696    OFFENCES AGAINST PROPERTY     PROPERTY DAMAGE AND ENVIRONMENTAL   \n",
       "95697    OFFENCES AGAINST PROPERTY             SERIOUS CRIMINAL TRESPASS   \n",
       "95698    OFFENCES AGAINST PROPERTY            THEFT AND RELATED OFFENCES   \n",
       "95699  OFFENCES AGAINST THE PERSON         ACTS INTENDED TO CAUSE INJURY   \n",
       "\n",
       "                   Offence Level 3 Description  Offence count  \n",
       "0                          SCT - Non Residence            2.0  \n",
       "1                  Obtain benefit by deception            1.0  \n",
       "2      Other property damage and environmental            2.0  \n",
       "3                                  Other theft            9.0  \n",
       "4                     Theft from motor vehicle            1.0  \n",
       "...                                        ...            ...  \n",
       "95695                      SCT - Non Residence            1.0  \n",
       "95696  Other property damage and environmental            1.0  \n",
       "95697                          SCT - Residence            1.0  \n",
       "95698                          Theft from shop            1.0  \n",
       "95699  Serious Assault not resulting in injury            2.0  \n",
       "\n",
       "[463192 rows x 7 columns]"
      ],
      "text/html": "<div>\n<style scoped>\n    .dataframe tbody tr th:only-of-type {\n        vertical-align: middle;\n    }\n\n    .dataframe tbody tr th {\n        vertical-align: top;\n    }\n\n    .dataframe thead th {\n        text-align: right;\n    }\n</style>\n<table border=\"1\" class=\"dataframe\">\n  <thead>\n    <tr style=\"text-align: right;\">\n      <th></th>\n      <th>Reported Date</th>\n      <th>Suburb - Incident</th>\n      <th>Postcode - Incident</th>\n      <th>Offence Level 1 Description</th>\n      <th>Offence Level 2 Description</th>\n      <th>Offence Level 3 Description</th>\n      <th>Offence count</th>\n    </tr>\n  </thead>\n  <tbody>\n    <tr>\n      <th>0</th>\n      <td>1/07/2015</td>\n      <td>ABERFOYLE PARK</td>\n      <td>5159</td>\n      <td>OFFENCES AGAINST PROPERTY</td>\n      <td>SERIOUS CRIMINAL TRESPASS</td>\n      <td>SCT - Non Residence</td>\n      <td>2.0</td>\n    </tr>\n    <tr>\n      <th>1</th>\n      <td>1/07/2015</td>\n      <td>ADELAIDE</td>\n      <td>5000</td>\n      <td>OFFENCES AGAINST PROPERTY</td>\n      <td>FRAUD DECEPTION AND RELATED OFFENCES</td>\n      <td>Obtain benefit by deception</td>\n      <td>1.0</td>\n    </tr>\n    <tr>\n      <th>2</th>\n      <td>1/07/2015</td>\n      <td>ADELAIDE</td>\n      <td>5000</td>\n      <td>OFFENCES AGAINST PROPERTY</td>\n      <td>PROPERTY DAMAGE AND ENVIRONMENTAL</td>\n      <td>Other property damage and environmental</td>\n      <td>2.0</td>\n    </tr>\n    <tr>\n      <th>3</th>\n      <td>1/07/2015</td>\n      <td>ADELAIDE</td>\n      <td>5000</td>\n      <td>OFFENCES AGAINST PROPERTY</td>\n      <td>THEFT AND RELATED OFFENCES</td>\n      <td>Other theft</td>\n      <td>9.0</td>\n    </tr>\n    <tr>\n      <th>4</th>\n      <td>1/07/2015</td>\n      <td>ADELAIDE</td>\n      <td>5000</td>\n      <td>OFFENCES AGAINST PROPERTY</td>\n      <td>THEFT AND RELATED OFFENCES</td>\n      <td>Theft from motor vehicle</td>\n      <td>1.0</td>\n    </tr>\n    <tr>\n      <th>...</th>\n      <td>...</td>\n      <td>...</td>\n      <td>...</td>\n      <td>...</td>\n      <td>...</td>\n      <td>...</td>\n      <td>...</td>\n    </tr>\n    <tr>\n      <th>95695</th>\n      <td>30/06/2020</td>\n      <td>WESTBOURNE PARK</td>\n      <td>5041</td>\n      <td>OFFENCES AGAINST PROPERTY</td>\n      <td>SERIOUS CRIMINAL TRESPASS</td>\n      <td>SCT - Non Residence</td>\n      <td>1.0</td>\n    </tr>\n    <tr>\n      <th>95696</th>\n      <td>30/06/2020</td>\n      <td>WEST HINDMARSH</td>\n      <td>5007</td>\n      <td>OFFENCES AGAINST PROPERTY</td>\n      <td>PROPERTY DAMAGE AND ENVIRONMENTAL</td>\n      <td>Other property damage and environmental</td>\n      <td>1.0</td>\n    </tr>\n    <tr>\n      <th>95697</th>\n      <td>30/06/2020</td>\n      <td>WEST LAKES</td>\n      <td>5021</td>\n      <td>OFFENCES AGAINST PROPERTY</td>\n      <td>SERIOUS CRIMINAL TRESPASS</td>\n      <td>SCT - Residence</td>\n      <td>1.0</td>\n    </tr>\n    <tr>\n      <th>95698</th>\n      <td>30/06/2020</td>\n      <td>WHYALLA NORRIE</td>\n      <td>5608</td>\n      <td>OFFENCES AGAINST PROPERTY</td>\n      <td>THEFT AND RELATED OFFENCES</td>\n      <td>Theft from shop</td>\n      <td>1.0</td>\n    </tr>\n    <tr>\n      <th>95699</th>\n      <td>30/06/2020</td>\n      <td>WOODVILLE NORTH</td>\n      <td>5012</td>\n      <td>OFFENCES AGAINST THE PERSON</td>\n      <td>ACTS INTENDED TO CAUSE INJURY</td>\n      <td>Serious Assault not resulting in injury</td>\n      <td>2.0</td>\n    </tr>\n  </tbody>\n</table>\n<p>463192 rows × 7 columns</p>\n</div>"
     },
     "metadata": {},
     "execution_count": 5
    }
   ],
   "source": [
    "#Drop NaN rows\n",
    "crime_data=crime_data.dropna()\n",
    "crime_data"
   ]
  },
  {
   "cell_type": "code",
   "execution_count": 6,
   "metadata": {},
   "outputs": [
    {
     "output_type": "execute_result",
     "data": {
      "text/plain": [
       "array(['OFFENCES AGAINST PROPERTY', 'OFFENCES AGAINST THE PERSON'],\n",
       "      dtype=object)"
      ]
     },
     "metadata": {},
     "execution_count": 6
    }
   ],
   "source": [
    "#Check unique descriptionws for 'Offence Level 1 Description'\n",
    "crime_data[\"Offence Level 1 Description\"].unique()"
   ]
  },
  {
   "cell_type": "code",
   "execution_count": 7,
   "metadata": {},
   "outputs": [
    {
     "output_type": "execute_result",
     "data": {
      "text/plain": [
       "      Reported Date Suburb - Incident Postcode - Incident  \\\n",
       "0         1/07/2015    ABERFOYLE PARK                5159   \n",
       "1         1/07/2015          ADELAIDE                5000   \n",
       "2         1/07/2015          ADELAIDE                5000   \n",
       "3         1/07/2015          ADELAIDE                5000   \n",
       "4         1/07/2015          ADELAIDE                5000   \n",
       "...             ...               ...                 ...   \n",
       "95694    30/06/2020         WARRADALE                5046   \n",
       "95695    30/06/2020   WESTBOURNE PARK                5041   \n",
       "95696    30/06/2020    WEST HINDMARSH                5007   \n",
       "95697    30/06/2020        WEST LAKES                5021   \n",
       "95698    30/06/2020    WHYALLA NORRIE                5608   \n",
       "\n",
       "      Offence Level 1 Description           Offence Level 2 Description  \\\n",
       "0       OFFENCES AGAINST PROPERTY             SERIOUS CRIMINAL TRESPASS   \n",
       "1       OFFENCES AGAINST PROPERTY  FRAUD DECEPTION AND RELATED OFFENCES   \n",
       "2       OFFENCES AGAINST PROPERTY     PROPERTY DAMAGE AND ENVIRONMENTAL   \n",
       "3       OFFENCES AGAINST PROPERTY            THEFT AND RELATED OFFENCES   \n",
       "4       OFFENCES AGAINST PROPERTY            THEFT AND RELATED OFFENCES   \n",
       "...                           ...                                   ...   \n",
       "95694   OFFENCES AGAINST PROPERTY            THEFT AND RELATED OFFENCES   \n",
       "95695   OFFENCES AGAINST PROPERTY             SERIOUS CRIMINAL TRESPASS   \n",
       "95696   OFFENCES AGAINST PROPERTY     PROPERTY DAMAGE AND ENVIRONMENTAL   \n",
       "95697   OFFENCES AGAINST PROPERTY             SERIOUS CRIMINAL TRESPASS   \n",
       "95698   OFFENCES AGAINST PROPERTY            THEFT AND RELATED OFFENCES   \n",
       "\n",
       "                   Offence Level 3 Description  Offence count  \n",
       "0                          SCT - Non Residence            2.0  \n",
       "1                  Obtain benefit by deception            1.0  \n",
       "2      Other property damage and environmental            2.0  \n",
       "3                                  Other theft            9.0  \n",
       "4                     Theft from motor vehicle            1.0  \n",
       "...                                        ...            ...  \n",
       "95694                              Other theft            2.0  \n",
       "95695                      SCT - Non Residence            1.0  \n",
       "95696  Other property damage and environmental            1.0  \n",
       "95697                          SCT - Residence            1.0  \n",
       "95698                          Theft from shop            1.0  \n",
       "\n",
       "[369863 rows x 7 columns]"
      ],
      "text/html": "<div>\n<style scoped>\n    .dataframe tbody tr th:only-of-type {\n        vertical-align: middle;\n    }\n\n    .dataframe tbody tr th {\n        vertical-align: top;\n    }\n\n    .dataframe thead th {\n        text-align: right;\n    }\n</style>\n<table border=\"1\" class=\"dataframe\">\n  <thead>\n    <tr style=\"text-align: right;\">\n      <th></th>\n      <th>Reported Date</th>\n      <th>Suburb - Incident</th>\n      <th>Postcode - Incident</th>\n      <th>Offence Level 1 Description</th>\n      <th>Offence Level 2 Description</th>\n      <th>Offence Level 3 Description</th>\n      <th>Offence count</th>\n    </tr>\n  </thead>\n  <tbody>\n    <tr>\n      <th>0</th>\n      <td>1/07/2015</td>\n      <td>ABERFOYLE PARK</td>\n      <td>5159</td>\n      <td>OFFENCES AGAINST PROPERTY</td>\n      <td>SERIOUS CRIMINAL TRESPASS</td>\n      <td>SCT - Non Residence</td>\n      <td>2.0</td>\n    </tr>\n    <tr>\n      <th>1</th>\n      <td>1/07/2015</td>\n      <td>ADELAIDE</td>\n      <td>5000</td>\n      <td>OFFENCES AGAINST PROPERTY</td>\n      <td>FRAUD DECEPTION AND RELATED OFFENCES</td>\n      <td>Obtain benefit by deception</td>\n      <td>1.0</td>\n    </tr>\n    <tr>\n      <th>2</th>\n      <td>1/07/2015</td>\n      <td>ADELAIDE</td>\n      <td>5000</td>\n      <td>OFFENCES AGAINST PROPERTY</td>\n      <td>PROPERTY DAMAGE AND ENVIRONMENTAL</td>\n      <td>Other property damage and environmental</td>\n      <td>2.0</td>\n    </tr>\n    <tr>\n      <th>3</th>\n      <td>1/07/2015</td>\n      <td>ADELAIDE</td>\n      <td>5000</td>\n      <td>OFFENCES AGAINST PROPERTY</td>\n      <td>THEFT AND RELATED OFFENCES</td>\n      <td>Other theft</td>\n      <td>9.0</td>\n    </tr>\n    <tr>\n      <th>4</th>\n      <td>1/07/2015</td>\n      <td>ADELAIDE</td>\n      <td>5000</td>\n      <td>OFFENCES AGAINST PROPERTY</td>\n      <td>THEFT AND RELATED OFFENCES</td>\n      <td>Theft from motor vehicle</td>\n      <td>1.0</td>\n    </tr>\n    <tr>\n      <th>...</th>\n      <td>...</td>\n      <td>...</td>\n      <td>...</td>\n      <td>...</td>\n      <td>...</td>\n      <td>...</td>\n      <td>...</td>\n    </tr>\n    <tr>\n      <th>95694</th>\n      <td>30/06/2020</td>\n      <td>WARRADALE</td>\n      <td>5046</td>\n      <td>OFFENCES AGAINST PROPERTY</td>\n      <td>THEFT AND RELATED OFFENCES</td>\n      <td>Other theft</td>\n      <td>2.0</td>\n    </tr>\n    <tr>\n      <th>95695</th>\n      <td>30/06/2020</td>\n      <td>WESTBOURNE PARK</td>\n      <td>5041</td>\n      <td>OFFENCES AGAINST PROPERTY</td>\n      <td>SERIOUS CRIMINAL TRESPASS</td>\n      <td>SCT - Non Residence</td>\n      <td>1.0</td>\n    </tr>\n    <tr>\n      <th>95696</th>\n      <td>30/06/2020</td>\n      <td>WEST HINDMARSH</td>\n      <td>5007</td>\n      <td>OFFENCES AGAINST PROPERTY</td>\n      <td>PROPERTY DAMAGE AND ENVIRONMENTAL</td>\n      <td>Other property damage and environmental</td>\n      <td>1.0</td>\n    </tr>\n    <tr>\n      <th>95697</th>\n      <td>30/06/2020</td>\n      <td>WEST LAKES</td>\n      <td>5021</td>\n      <td>OFFENCES AGAINST PROPERTY</td>\n      <td>SERIOUS CRIMINAL TRESPASS</td>\n      <td>SCT - Residence</td>\n      <td>1.0</td>\n    </tr>\n    <tr>\n      <th>95698</th>\n      <td>30/06/2020</td>\n      <td>WHYALLA NORRIE</td>\n      <td>5608</td>\n      <td>OFFENCES AGAINST PROPERTY</td>\n      <td>THEFT AND RELATED OFFENCES</td>\n      <td>Theft from shop</td>\n      <td>1.0</td>\n    </tr>\n  </tbody>\n</table>\n<p>369863 rows × 7 columns</p>\n</div>"
     },
     "metadata": {},
     "execution_count": 7
    }
   ],
   "source": [
    "#Removing rows which contains \"OFFENCES AGAINST THE PERSON\" in Offence Level 1 Description\n",
    "\n",
    "crime_data = crime_data[~crime_data[\"Offence Level 1 Description\"].isin(['OFFENCES AGAINST THE PERSON'])]\n",
    "crime_data"
   ]
  },
  {
   "cell_type": "code",
   "execution_count": 8,
   "metadata": {},
   "outputs": [
    {
     "output_type": "execute_result",
     "data": {
      "text/plain": [
       "array(['SERIOUS CRIMINAL TRESPASS',\n",
       "       'FRAUD DECEPTION AND RELATED OFFENCES',\n",
       "       'PROPERTY DAMAGE AND ENVIRONMENTAL', 'THEFT AND RELATED OFFENCES'],\n",
       "      dtype=object)"
      ]
     },
     "metadata": {},
     "execution_count": 8
    }
   ],
   "source": [
    "#Check unique descriptionws for 'Offence Level 2 Description'\n",
    "crime_data[\"Offence Level 2 Description\"].unique()"
   ]
  },
  {
   "cell_type": "code",
   "execution_count": 9,
   "metadata": {},
   "outputs": [
    {
     "output_type": "stream",
     "name": "stdout",
     "text": [
      "Other theft                                    90985\nOther property damage and environmental        75303\nTheft from motor vehicle                       41808\nSCT - Residence                                36044\nTheft from shop                                35125\nSCT - Non Residence                            21139\nTheft/Illegal Use of MV                        16883\nOther unlawful entry with intent               15091\nObtain benefit by deception                    11548\nGraffiti                                        8722\nProperty damage by fire or explosion            7044\nReceive or handle proceeds of crime             6813\nOther fraud, deception and related offences     3358\nName: Offence Level 3 Description, dtype: int64\n      Reported Date Suburb - Incident Postcode - Incident  \\\n2         1/07/2015          ADELAIDE                5000   \n3         1/07/2015          ADELAIDE                5000   \n4         1/07/2015          ADELAIDE                5000   \n8         1/07/2015          ALBERTON                5014   \n9         1/07/2015       ALBERT PARK                5014   \n...             ...               ...                 ...   \n95692    30/06/2020   WALKLEY HEIGHTS                5098   \n95693    30/06/2020    WANDEARAH EAST                5523   \n95694    30/06/2020         WARRADALE                5046   \n95696    30/06/2020    WEST HINDMARSH                5007   \n95697    30/06/2020        WEST LAKES                5021   \n\n      Offence Level 1 Description        Offence Level 2 Description  \\\n2       OFFENCES AGAINST PROPERTY  PROPERTY DAMAGE AND ENVIRONMENTAL   \n3       OFFENCES AGAINST PROPERTY         THEFT AND RELATED OFFENCES   \n4       OFFENCES AGAINST PROPERTY         THEFT AND RELATED OFFENCES   \n8       OFFENCES AGAINST PROPERTY          SERIOUS CRIMINAL TRESPASS   \n9       OFFENCES AGAINST PROPERTY         THEFT AND RELATED OFFENCES   \n...                           ...                                ...   \n95692   OFFENCES AGAINST PROPERTY         THEFT AND RELATED OFFENCES   \n95693   OFFENCES AGAINST PROPERTY         THEFT AND RELATED OFFENCES   \n95694   OFFENCES AGAINST PROPERTY         THEFT AND RELATED OFFENCES   \n95696   OFFENCES AGAINST PROPERTY  PROPERTY DAMAGE AND ENVIRONMENTAL   \n95697   OFFENCES AGAINST PROPERTY          SERIOUS CRIMINAL TRESPASS   \n\n                   Offence Level 3 Description  Offence count  \n2      Other property damage and environmental            2.0  \n3                                  Other theft            9.0  \n4                     Theft from motor vehicle            1.0  \n8                              SCT - Residence            1.0  \n9                                  Other theft            1.0  \n...                                        ...            ...  \n95692                 Theft from motor vehicle            2.0  \n95693                              Other theft            1.0  \n95694                              Other theft            2.0  \n95696  Other property damage and environmental            1.0  \n95697                          SCT - Residence            1.0  \n\n[261023 rows x 7 columns]\nOther theft                                90985\nOther property damage and environmental    75303\nTheft from motor vehicle                   41808\nSCT - Residence                            36044\nTheft/Illegal Use of MV                    16883\nName: Offence Level 3 Description, dtype: int64\n"
     ]
    }
   ],
   "source": [
    "#Check unique descriptions for 'Offence Level 3 Description'\n",
    "crime_data[\"Offence Level 3 Description\"].unique()\n",
    "print(crime_data[\"Offence Level 3 Description\"].value_counts())\n",
    "#1. Other theft : Description: Theft except motor vehicles\n",
    "#2. Other property damage and environmental\n",
    "#3. Theft from motor vehicle\n",
    "#4. SCT - Residence\n",
    "#5. Theft/Illegal Use of MV\n",
    "# - DELETE: Theft from shop\n",
    "# - DELETE: SCT - Non Residence\n",
    "\n",
    "#Removing rows which are not intended to be analysed in Offence Level 3 Description\n",
    "#List out categories keeping in '.isin'\n",
    "crime_data = crime_data[crime_data[\"Offence Level 3 Description\"].isin([\"Other theft\",\"Other property damage and environmental\",\"Theft from motor vehicle\",\"SCT - Residence\",\"Theft/Illegal Use of MV\"])]\n",
    "print(crime_data)\n",
    "print(crime_data[\"Offence Level 3 Description\"].value_counts())"
   ]
  },
  {
   "source": [
    "Binning by Financial Year"
   ],
   "cell_type": "markdown",
   "metadata": {}
  },
  {
   "cell_type": "code",
   "execution_count": 10,
   "metadata": {},
   "outputs": [
    {
     "output_type": "execute_result",
     "data": {
      "text/plain": [
       "      Reported Date Suburb - Incident Postcode - Incident  \\\n",
       "2         1/07/2015          ADELAIDE                5000   \n",
       "3         1/07/2015          ADELAIDE                5000   \n",
       "4         1/07/2015          ADELAIDE                5000   \n",
       "8         1/07/2015          ALBERTON                5014   \n",
       "9         1/07/2015       ALBERT PARK                5014   \n",
       "...             ...               ...                 ...   \n",
       "95692    30/06/2020   WALKLEY HEIGHTS                5098   \n",
       "95693    30/06/2020    WANDEARAH EAST                5523   \n",
       "95694    30/06/2020         WARRADALE                5046   \n",
       "95696    30/06/2020    WEST HINDMARSH                5007   \n",
       "95697    30/06/2020        WEST LAKES                5021   \n",
       "\n",
       "      Offence Level 1 Description        Offence Level 2 Description  \\\n",
       "2       OFFENCES AGAINST PROPERTY  PROPERTY DAMAGE AND ENVIRONMENTAL   \n",
       "3       OFFENCES AGAINST PROPERTY         THEFT AND RELATED OFFENCES   \n",
       "4       OFFENCES AGAINST PROPERTY         THEFT AND RELATED OFFENCES   \n",
       "8       OFFENCES AGAINST PROPERTY          SERIOUS CRIMINAL TRESPASS   \n",
       "9       OFFENCES AGAINST PROPERTY         THEFT AND RELATED OFFENCES   \n",
       "...                           ...                                ...   \n",
       "95692   OFFENCES AGAINST PROPERTY         THEFT AND RELATED OFFENCES   \n",
       "95693   OFFENCES AGAINST PROPERTY         THEFT AND RELATED OFFENCES   \n",
       "95694   OFFENCES AGAINST PROPERTY         THEFT AND RELATED OFFENCES   \n",
       "95696   OFFENCES AGAINST PROPERTY  PROPERTY DAMAGE AND ENVIRONMENTAL   \n",
       "95697   OFFENCES AGAINST PROPERTY          SERIOUS CRIMINAL TRESPASS   \n",
       "\n",
       "                   Offence Level 3 Description  Offence count Formatted Date  \\\n",
       "2      Other property damage and environmental            2.0     2015-07-01   \n",
       "3                                  Other theft            9.0     2015-07-01   \n",
       "4                     Theft from motor vehicle            1.0     2015-07-01   \n",
       "8                              SCT - Residence            1.0     2015-07-01   \n",
       "9                                  Other theft            1.0     2015-07-01   \n",
       "...                                        ...            ...            ...   \n",
       "95692                 Theft from motor vehicle            2.0     2020-06-30   \n",
       "95693                              Other theft            1.0     2020-06-30   \n",
       "95694                              Other theft            2.0     2020-06-30   \n",
       "95696  Other property damage and environmental            1.0     2020-06-30   \n",
       "95697                          SCT - Residence            1.0     2020-06-30   \n",
       "\n",
       "                       finan_yr  \n",
       "2      (2015-06-30, 2016-06-30]  \n",
       "3      (2015-06-30, 2016-06-30]  \n",
       "4      (2015-06-30, 2016-06-30]  \n",
       "8      (2015-06-30, 2016-06-30]  \n",
       "9      (2015-06-30, 2016-06-30]  \n",
       "...                         ...  \n",
       "95692  (2019-06-30, 2020-06-30]  \n",
       "95693  (2019-06-30, 2020-06-30]  \n",
       "95694  (2019-06-30, 2020-06-30]  \n",
       "95696  (2019-06-30, 2020-06-30]  \n",
       "95697  (2019-06-30, 2020-06-30]  \n",
       "\n",
       "[261023 rows x 9 columns]"
      ],
      "text/html": "<div>\n<style scoped>\n    .dataframe tbody tr th:only-of-type {\n        vertical-align: middle;\n    }\n\n    .dataframe tbody tr th {\n        vertical-align: top;\n    }\n\n    .dataframe thead th {\n        text-align: right;\n    }\n</style>\n<table border=\"1\" class=\"dataframe\">\n  <thead>\n    <tr style=\"text-align: right;\">\n      <th></th>\n      <th>Reported Date</th>\n      <th>Suburb - Incident</th>\n      <th>Postcode - Incident</th>\n      <th>Offence Level 1 Description</th>\n      <th>Offence Level 2 Description</th>\n      <th>Offence Level 3 Description</th>\n      <th>Offence count</th>\n      <th>Formatted Date</th>\n      <th>finan_yr</th>\n    </tr>\n  </thead>\n  <tbody>\n    <tr>\n      <th>2</th>\n      <td>1/07/2015</td>\n      <td>ADELAIDE</td>\n      <td>5000</td>\n      <td>OFFENCES AGAINST PROPERTY</td>\n      <td>PROPERTY DAMAGE AND ENVIRONMENTAL</td>\n      <td>Other property damage and environmental</td>\n      <td>2.0</td>\n      <td>2015-07-01</td>\n      <td>(2015-06-30, 2016-06-30]</td>\n    </tr>\n    <tr>\n      <th>3</th>\n      <td>1/07/2015</td>\n      <td>ADELAIDE</td>\n      <td>5000</td>\n      <td>OFFENCES AGAINST PROPERTY</td>\n      <td>THEFT AND RELATED OFFENCES</td>\n      <td>Other theft</td>\n      <td>9.0</td>\n      <td>2015-07-01</td>\n      <td>(2015-06-30, 2016-06-30]</td>\n    </tr>\n    <tr>\n      <th>4</th>\n      <td>1/07/2015</td>\n      <td>ADELAIDE</td>\n      <td>5000</td>\n      <td>OFFENCES AGAINST PROPERTY</td>\n      <td>THEFT AND RELATED OFFENCES</td>\n      <td>Theft from motor vehicle</td>\n      <td>1.0</td>\n      <td>2015-07-01</td>\n      <td>(2015-06-30, 2016-06-30]</td>\n    </tr>\n    <tr>\n      <th>8</th>\n      <td>1/07/2015</td>\n      <td>ALBERTON</td>\n      <td>5014</td>\n      <td>OFFENCES AGAINST PROPERTY</td>\n      <td>SERIOUS CRIMINAL TRESPASS</td>\n      <td>SCT - Residence</td>\n      <td>1.0</td>\n      <td>2015-07-01</td>\n      <td>(2015-06-30, 2016-06-30]</td>\n    </tr>\n    <tr>\n      <th>9</th>\n      <td>1/07/2015</td>\n      <td>ALBERT PARK</td>\n      <td>5014</td>\n      <td>OFFENCES AGAINST PROPERTY</td>\n      <td>THEFT AND RELATED OFFENCES</td>\n      <td>Other theft</td>\n      <td>1.0</td>\n      <td>2015-07-01</td>\n      <td>(2015-06-30, 2016-06-30]</td>\n    </tr>\n    <tr>\n      <th>...</th>\n      <td>...</td>\n      <td>...</td>\n      <td>...</td>\n      <td>...</td>\n      <td>...</td>\n      <td>...</td>\n      <td>...</td>\n      <td>...</td>\n      <td>...</td>\n    </tr>\n    <tr>\n      <th>95692</th>\n      <td>30/06/2020</td>\n      <td>WALKLEY HEIGHTS</td>\n      <td>5098</td>\n      <td>OFFENCES AGAINST PROPERTY</td>\n      <td>THEFT AND RELATED OFFENCES</td>\n      <td>Theft from motor vehicle</td>\n      <td>2.0</td>\n      <td>2020-06-30</td>\n      <td>(2019-06-30, 2020-06-30]</td>\n    </tr>\n    <tr>\n      <th>95693</th>\n      <td>30/06/2020</td>\n      <td>WANDEARAH EAST</td>\n      <td>5523</td>\n      <td>OFFENCES AGAINST PROPERTY</td>\n      <td>THEFT AND RELATED OFFENCES</td>\n      <td>Other theft</td>\n      <td>1.0</td>\n      <td>2020-06-30</td>\n      <td>(2019-06-30, 2020-06-30]</td>\n    </tr>\n    <tr>\n      <th>95694</th>\n      <td>30/06/2020</td>\n      <td>WARRADALE</td>\n      <td>5046</td>\n      <td>OFFENCES AGAINST PROPERTY</td>\n      <td>THEFT AND RELATED OFFENCES</td>\n      <td>Other theft</td>\n      <td>2.0</td>\n      <td>2020-06-30</td>\n      <td>(2019-06-30, 2020-06-30]</td>\n    </tr>\n    <tr>\n      <th>95696</th>\n      <td>30/06/2020</td>\n      <td>WEST HINDMARSH</td>\n      <td>5007</td>\n      <td>OFFENCES AGAINST PROPERTY</td>\n      <td>PROPERTY DAMAGE AND ENVIRONMENTAL</td>\n      <td>Other property damage and environmental</td>\n      <td>1.0</td>\n      <td>2020-06-30</td>\n      <td>(2019-06-30, 2020-06-30]</td>\n    </tr>\n    <tr>\n      <th>95697</th>\n      <td>30/06/2020</td>\n      <td>WEST LAKES</td>\n      <td>5021</td>\n      <td>OFFENCES AGAINST PROPERTY</td>\n      <td>SERIOUS CRIMINAL TRESPASS</td>\n      <td>SCT - Residence</td>\n      <td>1.0</td>\n      <td>2020-06-30</td>\n      <td>(2019-06-30, 2020-06-30]</td>\n    </tr>\n  </tbody>\n</table>\n<p>261023 rows × 9 columns</p>\n</div>"
     },
     "metadata": {},
     "execution_count": 10
    }
   ],
   "source": [
    "#Check dtype info\n",
    "#crime_data.info()\n",
    "#Reported Date column has dtype:object. Need to convert to a dtype: datetime64[ns]\n",
    "\n",
    "#Converts Reported Date column dtype from 'object' to 'datetime65[ns]'. Create a new column 'Formatted Date' to save the date in required format (for binning)\n",
    "crime_data[\"Formatted Date\"]=pd.to_datetime(crime_data[\"Reported Date\"],format=\"%d/%m/%Y\")\n",
    "#crime_data.info()\n",
    "\n",
    "###### Binning each row (crime) into the specific financial year #### \n",
    "#Ensure the start and end dates cover the range of all the data. \n",
    "start = '2014/6/30'\n",
    "end='2021/6/30'\n",
    "\n",
    "# Create bins\n",
    "#Note: closed=right indicates the start date (left) is not included, but the end date (right) is included.\n",
    "bins = pd.date_range(start=start, end=end, normalize=True, freq=pd.offsets.MonthEnd(12), closed='right')\n",
    "crime_data[\"finan_yr\"] = pd.cut(crime_data[\"Formatted Date\"], bins=bins)\n",
    "crime_data"
   ]
  },
  {
   "cell_type": "code",
   "execution_count": 11,
   "metadata": {},
   "outputs": [
    {
     "output_type": "execute_result",
     "data": {
      "text/plain": [
       "[(2015-06-30, 2016-06-30], (2016-06-30, 2017-06-30], (2017-06-30, 2018-06-30], (2018-06-30, 2019-06-30], (2019-06-30, 2020-06-30]]\n",
       "Categories (5, interval[datetime64[ns]]): [(2015-06-30, 2016-06-30] < (2016-06-30, 2017-06-30] < (2017-06-30, 2018-06-30] < (2018-06-30, 2019-06-30] < (2019-06-30, 2020-06-30]]"
      ]
     },
     "metadata": {},
     "execution_count": 11
    }
   ],
   "source": [
    "#Check that there are 5 bins (ie. 5 financial years) in the finan_yr column.\n",
    "crime_data[\"finan_yr\"].unique()"
   ]
  },
  {
   "source": [
    "CLEAN DATAFRAME: crime_data1 \n",
    "- Financial year column: finan_yr\n",
    "- Only showing relevant Offence Level 3 Description categories for project: \n",
    "#1. Other theft (Theft not including motor vehicles and commercial shops)\n",
    "#2. Other property damage and environmental\n",
    "#3. Theft from motor vehicle\n",
    "#4. SCT - Residence\n",
    "#5. Theft/Illegal Use of MV"
   ],
   "cell_type": "markdown",
   "metadata": {}
  },
  {
   "cell_type": "code",
   "execution_count": 12,
   "metadata": {},
   "outputs": [
    {
     "output_type": "execute_result",
     "data": {
      "text/plain": [
       "                       finan_yr Formatted Date Suburb - Incident  \\\n",
       "2      (2015-06-30, 2016-06-30]     2015-07-01          ADELAIDE   \n",
       "3      (2015-06-30, 2016-06-30]     2015-07-01          ADELAIDE   \n",
       "4      (2015-06-30, 2016-06-30]     2015-07-01          ADELAIDE   \n",
       "8      (2015-06-30, 2016-06-30]     2015-07-01          ALBERTON   \n",
       "9      (2015-06-30, 2016-06-30]     2015-07-01       ALBERT PARK   \n",
       "...                         ...            ...               ...   \n",
       "95692  (2019-06-30, 2020-06-30]     2020-06-30   WALKLEY HEIGHTS   \n",
       "95693  (2019-06-30, 2020-06-30]     2020-06-30    WANDEARAH EAST   \n",
       "95694  (2019-06-30, 2020-06-30]     2020-06-30         WARRADALE   \n",
       "95696  (2019-06-30, 2020-06-30]     2020-06-30    WEST HINDMARSH   \n",
       "95697  (2019-06-30, 2020-06-30]     2020-06-30        WEST LAKES   \n",
       "\n",
       "                   Offence Level 3 Description  Offence count  \n",
       "2      Other property damage and environmental            2.0  \n",
       "3                                  Other theft            9.0  \n",
       "4                     Theft from motor vehicle            1.0  \n",
       "8                              SCT - Residence            1.0  \n",
       "9                                  Other theft            1.0  \n",
       "...                                        ...            ...  \n",
       "95692                 Theft from motor vehicle            2.0  \n",
       "95693                              Other theft            1.0  \n",
       "95694                              Other theft            2.0  \n",
       "95696  Other property damage and environmental            1.0  \n",
       "95697                          SCT - Residence            1.0  \n",
       "\n",
       "[261023 rows x 5 columns]"
      ],
      "text/html": "<div>\n<style scoped>\n    .dataframe tbody tr th:only-of-type {\n        vertical-align: middle;\n    }\n\n    .dataframe tbody tr th {\n        vertical-align: top;\n    }\n\n    .dataframe thead th {\n        text-align: right;\n    }\n</style>\n<table border=\"1\" class=\"dataframe\">\n  <thead>\n    <tr style=\"text-align: right;\">\n      <th></th>\n      <th>finan_yr</th>\n      <th>Formatted Date</th>\n      <th>Suburb - Incident</th>\n      <th>Offence Level 3 Description</th>\n      <th>Offence count</th>\n    </tr>\n  </thead>\n  <tbody>\n    <tr>\n      <th>2</th>\n      <td>(2015-06-30, 2016-06-30]</td>\n      <td>2015-07-01</td>\n      <td>ADELAIDE</td>\n      <td>Other property damage and environmental</td>\n      <td>2.0</td>\n    </tr>\n    <tr>\n      <th>3</th>\n      <td>(2015-06-30, 2016-06-30]</td>\n      <td>2015-07-01</td>\n      <td>ADELAIDE</td>\n      <td>Other theft</td>\n      <td>9.0</td>\n    </tr>\n    <tr>\n      <th>4</th>\n      <td>(2015-06-30, 2016-06-30]</td>\n      <td>2015-07-01</td>\n      <td>ADELAIDE</td>\n      <td>Theft from motor vehicle</td>\n      <td>1.0</td>\n    </tr>\n    <tr>\n      <th>8</th>\n      <td>(2015-06-30, 2016-06-30]</td>\n      <td>2015-07-01</td>\n      <td>ALBERTON</td>\n      <td>SCT - Residence</td>\n      <td>1.0</td>\n    </tr>\n    <tr>\n      <th>9</th>\n      <td>(2015-06-30, 2016-06-30]</td>\n      <td>2015-07-01</td>\n      <td>ALBERT PARK</td>\n      <td>Other theft</td>\n      <td>1.0</td>\n    </tr>\n    <tr>\n      <th>...</th>\n      <td>...</td>\n      <td>...</td>\n      <td>...</td>\n      <td>...</td>\n      <td>...</td>\n    </tr>\n    <tr>\n      <th>95692</th>\n      <td>(2019-06-30, 2020-06-30]</td>\n      <td>2020-06-30</td>\n      <td>WALKLEY HEIGHTS</td>\n      <td>Theft from motor vehicle</td>\n      <td>2.0</td>\n    </tr>\n    <tr>\n      <th>95693</th>\n      <td>(2019-06-30, 2020-06-30]</td>\n      <td>2020-06-30</td>\n      <td>WANDEARAH EAST</td>\n      <td>Other theft</td>\n      <td>1.0</td>\n    </tr>\n    <tr>\n      <th>95694</th>\n      <td>(2019-06-30, 2020-06-30]</td>\n      <td>2020-06-30</td>\n      <td>WARRADALE</td>\n      <td>Other theft</td>\n      <td>2.0</td>\n    </tr>\n    <tr>\n      <th>95696</th>\n      <td>(2019-06-30, 2020-06-30]</td>\n      <td>2020-06-30</td>\n      <td>WEST HINDMARSH</td>\n      <td>Other property damage and environmental</td>\n      <td>1.0</td>\n    </tr>\n    <tr>\n      <th>95697</th>\n      <td>(2019-06-30, 2020-06-30]</td>\n      <td>2020-06-30</td>\n      <td>WEST LAKES</td>\n      <td>SCT - Residence</td>\n      <td>1.0</td>\n    </tr>\n  </tbody>\n</table>\n<p>261023 rows × 5 columns</p>\n</div>"
     },
     "metadata": {},
     "execution_count": 12
    }
   ],
   "source": [
    "#Final cleaned up dataframe: crime_data1\n",
    "crime_data1 = crime_data[['finan_yr','Formatted Date','Suburb - Incident','Offence Level 3 Description','Offence count']]\n",
    "crime_data1"
   ]
  },
  {
   "source": [
    "DATAFRAMES BY FINANCIAL YEAR"
   ],
   "cell_type": "markdown",
   "metadata": {}
  },
  {
   "cell_type": "code",
   "execution_count": 13,
   "metadata": {},
   "outputs": [
    {
     "output_type": "stream",
     "name": "stdout",
     "text": [
      "<class 'pandas.core.frame.DataFrame'>\n",
      "Int64Index: 261023 entries, 2 to 95697\n",
      "Data columns (total 5 columns):\n",
      " #   Column                       Non-Null Count   Dtype         \n",
      "---  ------                       --------------   -----         \n",
      " 0   finan_yr                     261023 non-null  category      \n",
      " 1   Formatted Date               261023 non-null  datetime64[ns]\n",
      " 2   Suburb - Incident            261023 non-null  object        \n",
      " 3   Offence Level 3 Description  261023 non-null  object        \n",
      " 4   Offence count                261023 non-null  float64       \n",
      "dtypes: category(1), datetime64[ns](1), float64(1), object(2)\n",
      "memory usage: 10.2+ MB\n",
      "<class 'pandas.core.frame.DataFrame'>\n",
      "Int64Index: 261023 entries, 2 to 95697\n",
      "Data columns (total 5 columns):\n",
      " #   Column                       Non-Null Count   Dtype         \n",
      "---  ------                       --------------   -----         \n",
      " 0   finan_yr                     261023 non-null  object        \n",
      " 1   Formatted Date               261023 non-null  datetime64[ns]\n",
      " 2   Suburb - Incident            261023 non-null  object        \n",
      " 3   Offence Level 3 Description  261023 non-null  object        \n",
      " 4   Offence count                261023 non-null  float64       \n",
      "dtypes: datetime64[ns](1), float64(1), object(3)\n",
      "memory usage: 11.9+ MB\n"
     ]
    }
   ],
   "source": [
    "# Filtered for finan_yr, dataframe: y15_16, y16_17, y17_18, y18_19 y19_20\n",
    "\n",
    "#See dtypes for dataframe\n",
    "crime_data1.info()\n",
    "\n",
    "#Cast column finan_yr's dtype from category to string for dataframe (to be able to filter later on)\n",
    "crime_data1[\"finan_yr\"]=crime_data1[\"finan_yr\"].astype(str)\n",
    "\n",
    "# Check dtype for finan_yr has changed to object (string)\n",
    "crime_data1.info()\n",
    "\n",
    "#Create dataframes by financial year (5 financial years total)\n",
    "y15_16 = crime_data1[crime_data1[\"finan_yr\"].isin(['(2015-06-30, 2016-06-30]'])]\n",
    "y16_17 = crime_data1[crime_data1[\"finan_yr\"].isin(['(2016-06-30, 2017-06-30]'])]\n",
    "y17_18 = crime_data1[crime_data1[\"finan_yr\"].isin(['(2017-06-30, 2018-06-30]'])]\n",
    "y18_19 = crime_data1[crime_data1[\"finan_yr\"].isin(['(2018-06-30, 2019-06-30]'])]\n",
    "y19_20 = crime_data1[crime_data1[\"finan_yr\"].isin(['(2019-06-30, 2020-06-30]'])]"
   ]
  },
  {
   "source": [
    "ANALYSIS OF DATAFRAME RESULTS"
   ],
   "cell_type": "markdown",
   "metadata": {}
  },
  {
   "source": [
    "Overall Results"
   ],
   "cell_type": "markdown",
   "metadata": {}
  },
  {
   "source": [
    "#TOP 20 SUBURBS (CHRONOLOGICALLY) WITH HIGHEST CRIME RATES (OF THE FILTERED CATEGORIES GROUP IS ANALYSING)\n",
    "#ie. Out of the categories analysed in our project, these are the suburbs with the highest offence counts. \n",
    "top20_crime_suburbs=crime_data[\"Suburb - Incident\"].value_counts().head(20)\n",
    "print(f\"Top 20 Crime Suburbs\\n{top20_crime_suburbs}\\n\")\n",
    "#BOTTOM 20 SUBURBS (CHRONOLOGICALLY) WITH HIGHEST CRIME RATES (OF THE FILTERED CATEGORIES GROUP IS ANALYSING)\n",
    "#ie. Out of the categories analysed in our project, these are the suburbs with the lowest offence counts. \n",
    "bot20_crime_suburbs=crime_data[\"Suburb - Incident\"].value_counts().tail(20)\n",
    "print(f\"Bottom 20 Crime Suburbs\\n{bot20_crime_suburbs}\\n\")\n"
   ],
   "cell_type": "code",
   "metadata": {},
   "execution_count": 16,
   "outputs": []
  },
  {
   "cell_type": "code",
   "execution_count": 15,
   "metadata": {},
   "outputs": [
    {
     "output_type": "stream",
     "name": "stdout",
     "text": [
      "TOP CRIME TYPE OFFENCE COUNT BY SUBURB\nSuburb - Incident  Offence Level 3 Description            \nADELAIDE           Other theft                                1796\n                   Other property damage and environmental    1537\nPORT AUGUSTA       Other property damage and environmental    1176\nMORPHETT VALE      Other property damage and environmental    1087\nMURRAY BRIDGE      Other property damage and environmental    1049\nPORT LINCOLN       Other property damage and environmental    1040\nSALISBURY          Other theft                                1039\nMORPHETT VALE      Other theft                                 996\nMOUNT GAMBIER      Other property damage and environmental     989\nMAWSON LAKES       Other theft                                 956\nName: Offence count, dtype: int64\n\nBOTTOM CRIME TYPE OFFENCE COUNT BY SUBURB\nSuburb - Incident  Offence Level 3 Description            \nALAWOONA           Other property damage and environmental    1\n                   Theft from motor vehicle                   1\nALFORD             Theft from motor vehicle                   1\nALICE SPRINGS      Theft/Illegal Use of MV                    1\nALLENDALE EAST     SCT - Residence                            1\nALLENDALE NORTH    SCT - Residence                            1\nALMA               SCT - Residence                            1\n                   Theft from motor vehicle                   1\nALTONA             Other property damage and environmental    1\n                   Other theft                                1\nName: Offence count, dtype: int64\n\n"
     ]
    }
   ],
   "source": [
    "## ANALYSIS OF LEVEL 3 CRIME TYPES (COLLECTIVELY FOR ALL SUBURBS) ####\n",
    "\n",
    "#Crime Offence Count by Suburb and Crime Type (Level 3 description)\n",
    "suburb_crime_group=crime_data1.groupby([\"Suburb - Incident\",\"Offence Level 3 Description\"])\n",
    "suburb_crime_cat_count=suburb_crime_group.count()[\"Offence count\"]\n",
    "suburb_crime_cat_count\n",
    "#Top crime and Bottom Crime offence count by Level 3 Ofence Type\n",
    "print(f\"TOP CRIME TYPE OFFENCE COUNT BY SUBURB\\n{suburb_crime_cat_count.nlargest(10)}\\n\")\n",
    "print(f\"BOTTOM CRIME TYPE OFFENCE COUNT BY SUBURB\\n{suburb_crime_cat_count.nsmallest(10)}\\n\")"
   ]
  },
  {
   "source": [
    "Results by Financial Year\n",
    "\n",
    "y15_16 \n",
    "\n",
    "y16_17 \n",
    "\n",
    "y17_18 \n",
    "\n",
    "y18_19 \n",
    "\n",
    "y19_20"
   ],
   "cell_type": "markdown",
   "metadata": {}
  },
  {
   "cell_type": "code",
   "execution_count": 18,
   "metadata": {},
   "outputs": [
    {
     "output_type": "stream",
     "name": "stdout",
     "text": [
      "Top 20 Crime Suburbs\nADELAIDE             917\nMORPHETT VALE        634\nMOUNT GAMBIER        631\nPORT AUGUSTA         611\nSALISBURY            566\nPORT LINCOLN         562\nDAVOREN PARK         538\nMURRAY BRIDGE        527\nPARAFIELD GARDENS    480\nMAWSON LAKES         459\nPARALOWIE            459\nWHYALLA STUART       452\nELIZABETH            426\nSALISBURY NORTH      413\nPROSPECT             405\nWHYALLA NORRIE       401\nSEATON               371\nMOUNT BARKER         357\nPOORAKA              352\nKILBURN              338\nName: Suburb - Incident, dtype: int64\n\nBottom 20 Crime Suburbs\nROGUES POINT          1\nBULL CREEK            1\nREDBANKS              1\nCHAIN OF PONDS        1\nHYNAM                 1\nKESWICK TERMINAL      1\nPAGES FLAT            1\nAVENUE RANGE          1\nPINE POINT            1\nMOUNT BRYAN EAST      1\nYANINEE               1\nPERNATTY              1\nHOPE FOREST           1\nPARACOMBE             1\nNARRUNG               1\nBUMBUNGA              1\nPARHAM                1\nCOLES                 1\nBLACKFELLOWS CREEK    1\nCULBURRA              1\nName: Suburb - Incident, dtype: int64\n\nTOP CRIME TYPE OFFENCE COUNT BY SUBURB\nSuburb - Incident  Offence Level 3 Description            \nADELAIDE           Other theft                                359\n                   Other property damage and environmental    290\nPORT AUGUSTA       Other property damage and environmental    241\nPORT LINCOLN       Other property damage and environmental    239\nMOUNT GAMBIER      Other property damage and environmental    223\nMORPHETT VALE      Other property damage and environmental    212\nMURRAY BRIDGE      Other property damage and environmental    202\nELIZABETH          Other theft                                198\nSALISBURY          Other theft                                196\nWHYALLA STUART     Other property damage and environmental    189\nName: Offence count, dtype: int64\n\nBOTTOM CRIME TYPE OFFENCE COUNT BY SUBURB\nSuburb - Incident  Offence Level 3 Description            \nALAWOONA           Other property damage and environmental    1\nALDGATE            Theft/Illegal Use of MV                    1\nALDINGA            SCT - Residence                            1\nALFORD             Other theft                                1\n                   Theft/Illegal Use of MV                    1\nALLENDALE EAST     Other property damage and environmental    1\n                   Theft from motor vehicle                   1\n                   Theft/Illegal Use of MV                    1\nALTONA             SCT - Residence                            1\nAMATA              Theft/Illegal Use of MV                    1\nName: Offence count, dtype: int64\n\n"
     ]
    }
   ],
   "source": [
    "#Financial Yr Dataframe: y15_16\n",
    "## ANALYSIS OF LEVEL 3 CRIME TYPES (FOR ALL SUBURBS BY FINANCIAL YEAR) ####\n",
    "y15_16\n",
    "\n",
    "#ie. Out of the categories analysed in our project, these are the suburbs with the highest offence counts. \n",
    "y15_16_top20_crime_suburbs=y15_16[\"Suburb - Incident\"].value_counts().head(20)\n",
    "print(f\"Top 20 Crime Suburbs\\n{y15_16_top20_crime_suburbs}\\n\")\n",
    "#BOTTOM 20 SUBURBS (CHRONOLOGICALLY) WITH HIGHEST CRIME RATES (OF THE FILTERED CATEGORIES GROUP IS ANALYSING)\n",
    "#ie. Out of the categories analysed in our project, these are the suburbs with the lowest offence counts. \n",
    "y15_16_bot20_crime_suburbs=y15_16[\"Suburb - Incident\"].value_counts().tail(20)\n",
    "print(f\"Bottom 20 Crime Suburbs\\n{y15_16_bot20_crime_suburbs}\\n\")\n",
    "\n",
    "#--------------------------------------------\n",
    "#Crime Offence Count by Suburb and Crime Type (Level 3 description)\n",
    "y15_16_suburb_crime_group=y15_16.groupby([\"Suburb - Incident\",\"Offence Level 3 Description\"])\n",
    "y15_16_suburb_crime_cat_count=y15_16_suburb_crime_group.count()[\"Offence count\"]\n",
    "y15_16_suburb_crime_cat_count\n",
    "#Top crime and Bottom Crime offence count by Level 3 Ofence Type\n",
    "print(f\"TOP CRIME TYPE OFFENCE COUNT BY SUBURB\\n{y15_16_suburb_crime_cat_count.nlargest(10)}\\n\")\n",
    "print(f\"BOTTOM CRIME TYPE OFFENCE COUNT BY SUBURB\\n{y15_16_suburb_crime_cat_count.nsmallest(10)}\\n\")"
   ]
  },
  {
   "cell_type": "code",
   "execution_count": 19,
   "metadata": {},
   "outputs": [
    {
     "output_type": "stream",
     "name": "stdout",
     "text": [
      "Top 20 Crime Suburbs\nADELAIDE             926\nMURRAY BRIDGE        616\nMORPHETT VALE        613\nPORT AUGUSTA         592\nMOUNT GAMBIER        575\nSALISBURY            501\nMAWSON LAKES         481\nPARAFIELD GARDENS    477\nPORT LINCOLN         466\nDAVOREN PARK         453\nPARALOWIE            442\nELIZABETH            427\nWHYALLA STUART       424\nSALISBURY NORTH      394\nPROSPECT             374\nMUNNO PARA           357\nSEATON               355\nWHYALLA NORRIE       351\nKILBURN              346\nPOORAKA              342\nName: Suburb - Incident, dtype: int64\n\nBottom 20 Crime Suburbs\nYUMALI             1\nPOINT BOSTON       1\nCHINAMAN WELLS     1\nSTONE HUT          1\nBILLIATT           1\nBEETALOO VALLEY    1\nHARROGATE          1\nDUCK PONDS         1\nFURNER             1\nWEEROONA ISLAND    1\nTICKERA            1\nVEITCH             1\nNGAPALA            1\nPORT KENNY         1\nWARBURTO           1\nBLAKISTON          1\nHARDWICKE BAY      1\nBOOBOROWIE         1\nJUPITER CREEK      1\nNARRIDY            1\nName: Suburb - Incident, dtype: int64\n\nTOP CRIME TYPE OFFENCE COUNT BY SUBURB\nSuburb - Incident  Offence Level 3 Description            \nADELAIDE           Other theft                                356\n                   Other property damage and environmental    294\nPORT AUGUSTA       Other property damage and environmental    269\nMURRAY BRIDGE      Other property damage and environmental    226\nMOUNT GAMBIER      Other property damage and environmental    213\nSALISBURY          Other theft                                208\nMORPHETT VALE      Other property damage and environmental    194\nMAWSON LAKES       Other theft                                192\nPORT LINCOLN       Other property damage and environmental    189\nMURRAY BRIDGE      Other theft                                188\nName: Offence count, dtype: int64\n\nBOTTOM CRIME TYPE OFFENCE COUNT BY SUBURB\nSuburb - Incident  Offence Level 3 Description            \nAGERY              Theft/Illegal Use of MV                    1\nALDGATE            Theft/Illegal Use of MV                    1\nALDINGA            Theft/Illegal Use of MV                    1\nALLENDALE EAST     Other property damage and environmental    1\n                   SCT - Residence                            1\n                   Theft from motor vehicle                   1\n                   Theft/Illegal Use of MV                    1\nALMA               Other theft                                1\n                   Theft from motor vehicle                   1\nAMERICAN RIVER     SCT - Residence                            1\nName: Offence count, dtype: int64\n\n"
     ]
    }
   ],
   "source": [
    "#Financial Yr Dataframe: y16_17\n",
    "## ANALYSIS OF LEVEL 3 CRIME TYPES (FOR ALL SUBURBS BY FINANCIAL YEAR) ####\n",
    "y16_17\n",
    "\n",
    "#ie. Out of the categories analysed in our project, these are the suburbs with the highest offence counts. \n",
    "y16_17_top20_crime_suburbs=y16_17[\"Suburb - Incident\"].value_counts().head(20)\n",
    "print(f\"Top 20 Crime Suburbs\\n{y16_17_top20_crime_suburbs}\\n\")\n",
    "#BOTTOM 20 SUBURBS (CHRONOLOGICALLY) WITH HIGHEST CRIME RATES (OF THE FILTERED CATEGORIES GROUP IS ANALYSING)\n",
    "#ie. Out of the categories analysed in our project, these are the suburbs with the lowest offence counts. \n",
    "y16_17_bot20_crime_suburbs=y16_17[\"Suburb - Incident\"].value_counts().tail(20)\n",
    "print(f\"Bottom 20 Crime Suburbs\\n{y16_17_bot20_crime_suburbs}\\n\")\n",
    "\n",
    "#--------------------------------------------\n",
    "#Crime Offence Count by Suburb and Crime Type (Level 3 description)\n",
    "y16_17_suburb_crime_group=y16_17.groupby([\"Suburb - Incident\",\"Offence Level 3 Description\"])\n",
    "y16_17_suburb_crime_cat_count=y16_17_suburb_crime_group.count()[\"Offence count\"]\n",
    "y16_17_suburb_crime_cat_count\n",
    "#Top crime and Bottom Crime offence count by Level 3 Ofence Type\n",
    "print(f\"TOP CRIME TYPE OFFENCE COUNT BY SUBURB\\n{y16_17_suburb_crime_cat_count.nlargest(10)}\\n\")\n",
    "print(f\"BOTTOM CRIME TYPE OFFENCE COUNT BY SUBURB\\n{y16_17_suburb_crime_cat_count.nsmallest(10)}\\n\")"
   ]
  },
  {
   "cell_type": "code",
   "execution_count": 20,
   "metadata": {},
   "outputs": [
    {
     "output_type": "stream",
     "name": "stdout",
     "text": [
      "Top 20 Crime Suburbs\nADELAIDE             963\nMORPHETT VALE        711\nMURRAY BRIDGE        650\nSALISBURY            534\nMOUNT GAMBIER        527\nPORT AUGUSTA         522\nMAWSON LAKES         519\nPARAFIELD GARDENS    510\nPORT LINCOLN         473\nDAVOREN PARK         470\nPARALOWIE            446\nPROSPECT             416\nWHYALLA STUART       394\nSALISBURY NORTH      391\nELIZABETH            371\nCHRISTIE DOWNS       366\nCHRISTIES BEACH      355\nKILBURN              354\nSEATON               354\nOAKLANDS PARK        339\nName: Suburb - Incident, dtype: int64\n\nBottom 20 Crime Suburbs\nTOTHILL CREEK       1\nTOTHILL BELT        1\nDUTTON EAST         1\nBOWHILL             1\nNORTH BOOBOROWIE    1\nLOCHABER            1\nROCKY CAMP          1\nMITCHELLVILLE       1\nPORT CLINTON        1\nNALYAPPA            1\nWELLINGTON          1\nHARTLEY             1\nMURDINGA            1\nPATA                1\nHUDDLESTON          1\nYORKE VALLEY        1\nSHEA-OAK LOG        1\nCAROLINE            1\nCONMURRA            1\nLEAWOOD GARDENS     1\nName: Suburb - Incident, dtype: int64\n\nTOP CRIME TYPE OFFENCE COUNT BY SUBURB\nSuburb - Incident  Offence Level 3 Description            \nADELAIDE           Other theft                                356\n                   Other property damage and environmental    315\nMORPHETT VALE      Other property damage and environmental    236\nMURRAY BRIDGE      Other property damage and environmental    234\nPORT AUGUSTA       Other property damage and environmental    228\nSALISBURY          Other theft                                215\nMAWSON LAKES       Other theft                                214\nMORPHETT VALE      Other theft                                211\nBOLIVAR            Other theft                                198\nPORT LINCOLN       Other property damage and environmental    194\nName: Offence count, dtype: int64\n\nBOTTOM CRIME TYPE OFFENCE COUNT BY SUBURB\nSuburb - Incident  Offence Level 3 Description            \nALAWOONA           Theft from motor vehicle                   1\nALDGATE            SCT - Residence                            1\nALFORD             Other property damage and environmental    1\n                   Other theft                                1\n                   Theft from motor vehicle                   1\n                   Theft/Illegal Use of MV                    1\nALLENDALE EAST     Other property damage and environmental    1\n                   Other theft                                1\n                   Theft from motor vehicle                   1\nALMA               SCT - Residence                            1\nName: Offence count, dtype: int64\n\n"
     ]
    }
   ],
   "source": [
    "#Financial Yr Dataframe: y17_18\n",
    "## ANALYSIS OF LEVEL 3 CRIME TYPES (FOR ALL SUBURBS BY FINANCIAL YEAR) ####\n",
    "y17_18\n",
    "\n",
    "#ie. Out of the categories analysed in our project, these are the suburbs with the highest offence counts. \n",
    "y17_18_top20_crime_suburbs=y17_18[\"Suburb - Incident\"].value_counts().head(20)\n",
    "print(f\"Top 20 Crime Suburbs\\n{y17_18_top20_crime_suburbs}\\n\")\n",
    "#BOTTOM 20 SUBURBS (CHRONOLOGICALLY) WITH HIGHEST CRIME RATES (OF THE FILTERED CATEGORIES GROUP IS ANALYSING)\n",
    "#ie. Out of the categories analysed in our project, these are the suburbs with the lowest offence counts. \n",
    "y17_18_bot20_crime_suburbs=y17_18[\"Suburb - Incident\"].value_counts().tail(20)\n",
    "print(f\"Bottom 20 Crime Suburbs\\n{y17_18_bot20_crime_suburbs}\\n\")\n",
    "\n",
    "#--------------------------------------------\n",
    "#Crime Offence Count by Suburb and Crime Type (Level 3 description)\n",
    "y17_18_suburb_crime_group=y17_18.groupby([\"Suburb - Incident\",\"Offence Level 3 Description\"])\n",
    "y17_18_suburb_crime_cat_count=y17_18_suburb_crime_group.count()[\"Offence count\"]\n",
    "y17_18_suburb_crime_cat_count\n",
    "#Top crime and Bottom Crime offence count by Level 3 Ofence Type\n",
    "print(f\"TOP CRIME TYPE OFFENCE COUNT BY SUBURB\\n{y17_18_suburb_crime_cat_count.nlargest(10)}\\n\")\n",
    "print(f\"BOTTOM CRIME TYPE OFFENCE COUNT BY SUBURB\\n{y17_18_suburb_crime_cat_count.nsmallest(10)}\\n\")"
   ]
  },
  {
   "cell_type": "code",
   "execution_count": 23,
   "metadata": {},
   "outputs": [
    {
     "output_type": "stream",
     "name": "stdout",
     "text": [
      "Top 20 Crime Suburbs\nADELAIDE             1024\nMORPHETT VALE         731\nMURRAY BRIDGE         559\nPORT LINCOLN          516\nSALISBURY             511\nMAWSON LAKES          509\nWHYALLA NORRIE        483\nPORT AUGUSTA          480\nMOUNT GAMBIER         465\nPARAFIELD GARDENS     460\nDAVOREN PARK          449\nPROSPECT              432\nELIZABETH             412\nPARALOWIE             399\nOAKLANDS PARK         385\nWHYALLA STUART        385\nSALISBURY NORTH       383\nKILBURN               382\nMODBURY               365\nPOORAKA               360\nName: Suburb - Incident, dtype: int64\n\nBottom 20 Crime Suburbs\nVARSITY LAKES        1\nBRADBURY             1\nSWEDE FLAT           1\nPORT KENNY           1\nKYBYBOLITE           1\nBLANCHE HARBOR       1\nKONGAL               1\nMINGBOOL             1\nBLAKISTON            1\nMANNANARIE           1\nWALTOWA              1\nDUDLEY EAST          1\nDISMAL SWAMP         1\nCALOMBA              1\nMARAMA               1\nCAURNAMONT           1\nCHILPENUNDA          1\nPOLISH HILL RIVER    1\nMUNDULLA WEST        1\nSHERLOCK             1\nName: Suburb - Incident, dtype: int64\n\nTOP CRIME TYPE OFFENCE COUNT BY SUBURB\nSuburb - Incident  Offence Level 3 Description            \nADELAIDE           Other theft                                362\n                   Other property damage and environmental    319\nMORPHETT VALE      Other property damage and environmental    223\n                   Other theft                                222\nSALISBURY          Other theft                                216\nWHYALLA NORRIE     Other property damage and environmental    215\nPORT AUGUSTA       Other property damage and environmental    214\nSMITHFIELD         Other theft                                209\nPORT LINCOLN       Other property damage and environmental    207\nMAWSON LAKES       Other theft                                193\nName: Offence count, dtype: int64\n\nBOTTOM CRIME TYPE OFFENCE COUNT BY SUBURB\nSuburb - Incident  Offence Level 3 Description            \nALDGATE            SCT - Residence                            1\nALDINGA            SCT - Residence                            1\nALFORD             SCT - Residence                            1\nALLENDALE EAST     Other property damage and environmental    1\n                   Other theft                                1\n                   Theft from motor vehicle                   1\nALLENDALE NORTH    Other theft                                1\nALMA               Other theft                                1\nALTONA             Other property damage and environmental    1\n                   Other theft                                1\nName: Offence count, dtype: int64\n\n"
     ]
    }
   ],
   "source": [
    "#Financial Yr Dataframe: y18_19\n",
    "## ANALYSIS OF LEVEL 3 CRIME TYPES (FOR ALL SUBURBS BY FINANCIAL YEAR) ####\n",
    "y18_19\n",
    "\n",
    "#ie. Out of the categories analysed in our project, these are the suburbs with the highest offence counts. \n",
    "y18_19_top20_crime_suburbs=y18_19[\"Suburb - Incident\"].value_counts().head(20)\n",
    "print(f\"Top 20 Crime Suburbs\\n{y18_19_top20_crime_suburbs}\\n\")\n",
    "#BOTTOM 20 SUBURBS (CHRONOLOGICALLY) WITH HIGHEST CRIME RATES (OF THE FILTERED CATEGORIES GROUP IS ANALYSING)\n",
    "#ie. Out of the categories analysed in our project, these are the suburbs with the lowest offence counts. \n",
    "y18_19_bot20_crime_suburbs=y18_19[\"Suburb - Incident\"].value_counts().tail(20)\n",
    "print(f\"Bottom 20 Crime Suburbs\\n{y18_19_bot20_crime_suburbs}\\n\")\n",
    "\n",
    "#--------------------------------------------\n",
    "#Crime Offence Count by Suburb and Crime Type (Level 3 description)\n",
    "y18_19_suburb_crime_group=y18_19.groupby([\"Suburb - Incident\",\"Offence Level 3 Description\"])\n",
    "y18_19_suburb_crime_cat_count=y18_19_suburb_crime_group.count()[\"Offence count\"]\n",
    "y18_19_suburb_crime_cat_count\n",
    "#Top crime and Bottom Crime offence count by Level 3 Ofence Type\n",
    "print(f\"TOP CRIME TYPE OFFENCE COUNT BY SUBURB\\n{y18_19_suburb_crime_cat_count.nlargest(10)}\\n\")\n",
    "print(f\"BOTTOM CRIME TYPE OFFENCE COUNT BY SUBURB\\n{y18_19_suburb_crime_cat_count.nsmallest(10)}\\n\")"
   ]
  },
  {
   "cell_type": "code",
   "execution_count": 27,
   "metadata": {},
   "outputs": [
    {
     "output_type": "stream",
     "name": "stdout",
     "text": [
      "Top 20 Crime Suburbs\nADELAIDE             1085\nMORPHETT VALE         681\nPORT LINCOLN          559\nMOUNT GAMBIER         558\nMURRAY BRIDGE         549\nSALISBURY             544\nMAWSON LAKES          537\nPROSPECT              512\nPORT AUGUSTA          508\nWHYALLA NORRIE        498\nDAVOREN PARK          461\nPARAFIELD GARDENS     449\nSMITHFIELD            434\nPARALOWIE             428\nKILBURN               427\nWHYALLA STUART        408\nELIZABETH             407\nSEATON                369\nPOORAKA               367\nELIZABETH SOUTH       364\nName: Suburb - Incident, dtype: int64\n\nBottom 20 Crime Suburbs\nBOOKABIE              1\nVIVONNE BAY           1\nHYNAM                 1\nYONGALA               1\nPERNATTY              1\nCRESCENT              1\nLOWER INMAN VALLEY    1\nSTOCKYARD PLAIN       1\nMOSQUITO HILL         1\nLAKE PLAINS           1\nHOPE FOREST           1\nCEDUNA WATERS         1\nPORT DAVIS            1\nBUCKINGHAM            1\nCALOOTE               1\nBLAKISTON             1\nBLACKFORD             1\nTHRINGTON             1\nMOUNT WEDGE           1\nGILLENTOWN            1\nName: Suburb - Incident, dtype: int64\n\nTOP CRIME TYPE OFFENCE COUNT BY SUBURB\nSuburb - Incident  Offence Level 3 Description            \nADELAIDE           Other theft                                363\n                   Other property damage and environmental    319\nPORT AUGUSTA       Other property damage and environmental    224\nMORPHETT VALE      Other property damage and environmental    222\nPORT LINCOLN       Other property damage and environmental    211\nMORPHETT VALE      Other theft                                209\nSMITHFIELD         Other theft                                209\nSALISBURY          Other theft                                204\nWHYALLA NORRIE     Other property damage and environmental    199\nMURRAY BRIDGE      Other property damage and environmental    195\nName: Offence count, dtype: int64\n\nBOTTOM CRIME TYPE OFFENCE COUNT BY SUBURB\nSuburb - Incident                       Offence Level 3 Description\nALDGATE                                 Theft/Illegal Use of MV        1\nALDINGA                                 Theft/Illegal Use of MV        1\nALICE SPRINGS                           Theft/Illegal Use of MV        1\nALLENDALE NORTH                         SCT - Residence                1\nANANGU PITJANTJATJARA YANKUNYTJATJARA   Other theft                    1\nANANGU PITJANTJATJARA YANKUNYTJATJATRA  Other theft                    1\nANGAS PLAINS                            Theft/Illegal Use of MV        1\nANGAS VALLEY                            Other theft                    1\nANGASTON                                SCT - Residence                1\n                                        Theft/Illegal Use of MV        1\nName: Offence count, dtype: int64\n\n"
     ]
    }
   ],
   "source": [
    "#Financial Yr Dataframe: y19_20\n",
    "## ANALYSIS OF LEVEL 3 CRIME TYPES (FOR ALL SUBURBS BY FINANCIAL YEAR) ####\n",
    "y19_20\n",
    "\n",
    "#ie. Out of the categories analysed in our project, these are the suburbs with the highest offence counts. \n",
    "y19_20_top20_crime_suburbs=y19_20[\"Suburb - Incident\"].value_counts().head(20)\n",
    "print(f\"Top 20 Crime Suburbs\\n{y19_20_top20_crime_suburbs}\\n\")\n",
    "#BOTTOM 20 SUBURBS (CHRONOLOGICALLY) WITH HIGHEST CRIME RATES (OF THE FILTERED CATEGORIES GROUP IS ANALYSING)\n",
    "#ie. Out of the categories analysed in our project, these are the suburbs with the lowest offence counts. \n",
    "y19_20_bot20_crime_suburbs=y19_20[\"Suburb - Incident\"].value_counts().tail(20)\n",
    "print(f\"Bottom 20 Crime Suburbs\\n{y19_20_bot20_crime_suburbs}\\n\")\n",
    "\n",
    "#--------------------------------------------\n",
    "#Crime Offence Count by Suburb and Crime Type (Level 3 description)\n",
    "y19_20_suburb_crime_group=y19_20.groupby([\"Suburb - Incident\",\"Offence Level 3 Description\"])\n",
    "y19_20_suburb_crime_cat_count=y19_20_suburb_crime_group.count()[\"Offence count\"]\n",
    "y19_20_suburb_crime_cat_count\n",
    "#Top crime and Bottom Crime offence count by Level 3 Ofence Type\n",
    "print(f\"TOP CRIME TYPE OFFENCE COUNT BY SUBURB\\n{y19_20_suburb_crime_cat_count.nlargest(10)}\\n\")\n",
    "print(f\"BOTTOM CRIME TYPE OFFENCE COUNT BY SUBURB\\n{y19_20_suburb_crime_cat_count.nsmallest(10)}\\n\")"
   ]
  }
 ]
}